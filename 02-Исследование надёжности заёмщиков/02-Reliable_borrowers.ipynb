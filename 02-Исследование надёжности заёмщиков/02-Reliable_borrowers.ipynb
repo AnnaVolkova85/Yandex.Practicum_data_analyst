{
 "cells": [
  {
   "cell_type": "markdown",
   "id": "b6dc1ec2",
   "metadata": {},
   "source": [
    "# Исследование надежности заемщиков."
   ]
  },
  {
   "cell_type": "markdown",
   "id": "6cf7c817",
   "metadata": {},
   "source": [
    "Заказчик — кредитный отдел банка. Нужно разобраться, влияет ли семейное положение и количество детей клиента на факт погашения кредита в срок. Входные данные от банка — статистика о платёжеспособности клиентов.\n",
    "Результаты исследования будут учтены при построении модели кредитного скоринга — специальной системы, которая оценивает способность потенциального заёмщика вернуть кредит банку."
   ]
  },
  {
   "cell_type": "markdown",
   "id": "856b5296",
   "metadata": {},
   "source": [
    "### Шаг 1. Обзор данных"
   ]
  },
  {
   "cell_type": "markdown",
   "id": "99cf10e9",
   "metadata": {},
   "source": [
    "Откроем таблицу и посмотрим на ее содержимое."
   ]
  },
  {
   "cell_type": "code",
   "execution_count": 1,
   "id": "4b926502",
   "metadata": {
    "scrolled": false
   },
   "outputs": [
    {
     "data": {
      "text/html": [
       "<div>\n",
       "<style scoped>\n",
       "    .dataframe tbody tr th:only-of-type {\n",
       "        vertical-align: middle;\n",
       "    }\n",
       "\n",
       "    .dataframe tbody tr th {\n",
       "        vertical-align: top;\n",
       "    }\n",
       "\n",
       "    .dataframe thead th {\n",
       "        text-align: right;\n",
       "    }\n",
       "</style>\n",
       "<table border=\"1\" class=\"dataframe\">\n",
       "  <thead>\n",
       "    <tr style=\"text-align: right;\">\n",
       "      <th></th>\n",
       "      <th>children</th>\n",
       "      <th>days_employed</th>\n",
       "      <th>dob_years</th>\n",
       "      <th>education</th>\n",
       "      <th>education_id</th>\n",
       "      <th>family_status</th>\n",
       "      <th>family_status_id</th>\n",
       "      <th>gender</th>\n",
       "      <th>income_type</th>\n",
       "      <th>debt</th>\n",
       "      <th>total_income</th>\n",
       "      <th>purpose</th>\n",
       "    </tr>\n",
       "  </thead>\n",
       "  <tbody>\n",
       "    <tr>\n",
       "      <th>0</th>\n",
       "      <td>1</td>\n",
       "      <td>-8437.673028</td>\n",
       "      <td>42</td>\n",
       "      <td>высшее</td>\n",
       "      <td>0</td>\n",
       "      <td>женат / замужем</td>\n",
       "      <td>0</td>\n",
       "      <td>F</td>\n",
       "      <td>сотрудник</td>\n",
       "      <td>0</td>\n",
       "      <td>253875.639453</td>\n",
       "      <td>покупка жилья</td>\n",
       "    </tr>\n",
       "    <tr>\n",
       "      <th>1</th>\n",
       "      <td>1</td>\n",
       "      <td>-4024.803754</td>\n",
       "      <td>36</td>\n",
       "      <td>среднее</td>\n",
       "      <td>1</td>\n",
       "      <td>женат / замужем</td>\n",
       "      <td>0</td>\n",
       "      <td>F</td>\n",
       "      <td>сотрудник</td>\n",
       "      <td>0</td>\n",
       "      <td>112080.014102</td>\n",
       "      <td>приобретение автомобиля</td>\n",
       "    </tr>\n",
       "    <tr>\n",
       "      <th>2</th>\n",
       "      <td>0</td>\n",
       "      <td>-5623.422610</td>\n",
       "      <td>33</td>\n",
       "      <td>Среднее</td>\n",
       "      <td>1</td>\n",
       "      <td>женат / замужем</td>\n",
       "      <td>0</td>\n",
       "      <td>M</td>\n",
       "      <td>сотрудник</td>\n",
       "      <td>0</td>\n",
       "      <td>145885.952297</td>\n",
       "      <td>покупка жилья</td>\n",
       "    </tr>\n",
       "    <tr>\n",
       "      <th>3</th>\n",
       "      <td>3</td>\n",
       "      <td>-4124.747207</td>\n",
       "      <td>32</td>\n",
       "      <td>среднее</td>\n",
       "      <td>1</td>\n",
       "      <td>женат / замужем</td>\n",
       "      <td>0</td>\n",
       "      <td>M</td>\n",
       "      <td>сотрудник</td>\n",
       "      <td>0</td>\n",
       "      <td>267628.550329</td>\n",
       "      <td>дополнительное образование</td>\n",
       "    </tr>\n",
       "    <tr>\n",
       "      <th>4</th>\n",
       "      <td>0</td>\n",
       "      <td>340266.072047</td>\n",
       "      <td>53</td>\n",
       "      <td>среднее</td>\n",
       "      <td>1</td>\n",
       "      <td>гражданский брак</td>\n",
       "      <td>1</td>\n",
       "      <td>F</td>\n",
       "      <td>пенсионер</td>\n",
       "      <td>0</td>\n",
       "      <td>158616.077870</td>\n",
       "      <td>сыграть свадьбу</td>\n",
       "    </tr>\n",
       "  </tbody>\n",
       "</table>\n",
       "</div>"
      ],
      "text/plain": [
       "   children  days_employed  dob_years education  education_id  \\\n",
       "0         1   -8437.673028         42    высшее             0   \n",
       "1         1   -4024.803754         36   среднее             1   \n",
       "2         0   -5623.422610         33   Среднее             1   \n",
       "3         3   -4124.747207         32   среднее             1   \n",
       "4         0  340266.072047         53   среднее             1   \n",
       "\n",
       "      family_status  family_status_id gender income_type  debt   total_income  \\\n",
       "0   женат / замужем                 0      F   сотрудник     0  253875.639453   \n",
       "1   женат / замужем                 0      F   сотрудник     0  112080.014102   \n",
       "2   женат / замужем                 0      M   сотрудник     0  145885.952297   \n",
       "3   женат / замужем                 0      M   сотрудник     0  267628.550329   \n",
       "4  гражданский брак                 1      F   пенсионер     0  158616.077870   \n",
       "\n",
       "                      purpose  \n",
       "0               покупка жилья  \n",
       "1     приобретение автомобиля  \n",
       "2               покупка жилья  \n",
       "3  дополнительное образование  \n",
       "4             сыграть свадьбу  "
      ]
     },
     "execution_count": 1,
     "metadata": {},
     "output_type": "execute_result"
    }
   ],
   "source": [
    "import pandas as pd\n",
    "data = pd.read_csv('C:/Users/Anna/Desktop/Обучение/Аналитика Яндекс Практикум/Датасеты/data.csv')\n",
    "data.head()"
   ]
  },
  {
   "cell_type": "markdown",
   "id": "0a4ee4ab",
   "metadata": {},
   "source": [
    "Описание данных:\n",
    "\n",
    "children — количество детей в семье\n",
    "\n",
    "days_employed — общий трудовой стаж в днях\n",
    "\n",
    "dob_years — возраст клиента в годах\n",
    "\n",
    "education — уровень образования клиента\n",
    "\n",
    "education_id — идентификатор уровня образования\n",
    "\n",
    "family_status — семейное положение\n",
    "\n",
    "family_status_id — идентификатор семейного положения\n",
    "\n",
    "gender — пол клиента\n",
    "\n",
    "income_type — тип занятости\n",
    "\n",
    "debt — имел ли задолженность по возврату кредитов\n",
    "\n",
    "total_income — ежемесячный доход\n",
    "\n",
    "purpose — цель получения кредита"
   ]
  },
  {
   "cell_type": "code",
   "execution_count": 2,
   "id": "0c785850",
   "metadata": {
    "scrolled": true
   },
   "outputs": [
    {
     "name": "stdout",
     "output_type": "stream",
     "text": [
      "<class 'pandas.core.frame.DataFrame'>\n",
      "RangeIndex: 21525 entries, 0 to 21524\n",
      "Data columns (total 12 columns):\n",
      " #   Column            Non-Null Count  Dtype  \n",
      "---  ------            --------------  -----  \n",
      " 0   children          21525 non-null  int64  \n",
      " 1   days_employed     19351 non-null  float64\n",
      " 2   dob_years         21525 non-null  int64  \n",
      " 3   education         21525 non-null  object \n",
      " 4   education_id      21525 non-null  int64  \n",
      " 5   family_status     21525 non-null  object \n",
      " 6   family_status_id  21525 non-null  int64  \n",
      " 7   gender            21525 non-null  object \n",
      " 8   income_type       21525 non-null  object \n",
      " 9   debt              21525 non-null  int64  \n",
      " 10  total_income      19351 non-null  float64\n",
      " 11  purpose           21525 non-null  object \n",
      "dtypes: float64(2), int64(5), object(5)\n",
      "memory usage: 2.0+ MB\n"
     ]
    }
   ],
   "source": [
    "data.info() #посмотрим на общую информацию о таблице."
   ]
  },
  {
   "cell_type": "markdown",
   "id": "4c86b246",
   "metadata": {},
   "source": [
    "В двух столбцах есть пропуски. Надо разобраться, почему они могли возникнуть и чем их можно заменить."
   ]
  },
  {
   "cell_type": "markdown",
   "id": "c4088523",
   "metadata": {},
   "source": [
    "### Шаг 2.1 Заполнение пропусков"
   ]
  },
  {
   "cell_type": "code",
   "execution_count": 3,
   "id": "f4e58df8",
   "metadata": {},
   "outputs": [
    {
     "data": {
      "text/plain": [
       "children               0\n",
       "days_employed       2174\n",
       "dob_years              0\n",
       "education              0\n",
       "education_id           0\n",
       "family_status          0\n",
       "family_status_id       0\n",
       "gender                 0\n",
       "income_type            0\n",
       "debt                   0\n",
       "total_income        2174\n",
       "purpose                0\n",
       "dtype: int64"
      ]
     },
     "execution_count": 3,
     "metadata": {},
     "output_type": "execute_result"
    }
   ],
   "source": [
    "data.isna().sum() #находим, в каких столбцах есть пропущенные значения"
   ]
  },
  {
   "cell_type": "markdown",
   "id": "f8598103",
   "metadata": {},
   "source": [
    "Пропущенные значения обнаружились в двух столбцах: days_employed - стаж заёмщика в днях и total_income - доход. \n",
    "Одинаковое количество пропусков может означать, что значения отсутствуют по одним и тем же заёмщикам. Тогда это может говорить о том, что доход не указан именно потому, что человек не работает и никогда не работал. Но это гипотезу стоит проверить."
   ]
  },
  {
   "cell_type": "code",
   "execution_count": 4,
   "id": "b71e0241",
   "metadata": {},
   "outputs": [
    {
     "name": "stdout",
     "output_type": "stream",
     "text": [
      "<class 'pandas.core.frame.DataFrame'>\n",
      "Int64Index: 2174 entries, 12 to 21510\n",
      "Data columns (total 12 columns):\n",
      " #   Column            Non-Null Count  Dtype  \n",
      "---  ------            --------------  -----  \n",
      " 0   children          2174 non-null   int64  \n",
      " 1   days_employed     0 non-null      float64\n",
      " 2   dob_years         2174 non-null   int64  \n",
      " 3   education         2174 non-null   object \n",
      " 4   education_id      2174 non-null   int64  \n",
      " 5   family_status     2174 non-null   object \n",
      " 6   family_status_id  2174 non-null   int64  \n",
      " 7   gender            2174 non-null   object \n",
      " 8   income_type       2174 non-null   object \n",
      " 9   debt              2174 non-null   int64  \n",
      " 10  total_income      0 non-null      float64\n",
      " 11  purpose           2174 non-null   object \n",
      "dtypes: float64(2), int64(5), object(5)\n",
      "memory usage: 220.8+ KB\n"
     ]
    }
   ],
   "source": [
    "data[(data['days_employed'].isnull() == True) & (data['total_income'].isnull() == True)].info() \n",
    "#проверяем, совпадают ли пустые ячейки в двух ранее обозначенных столбцах"
   ]
  },
  {
   "cell_type": "markdown",
   "id": "2f39c1df",
   "metadata": {},
   "source": [
    "Действительно, пустые ячейки в столбце с доходом совпадают с пустыми значениями в колонке со стажем.\n",
    "Проверим, какую долю составляют пропущенные значения по отношению к общему числу значений.\n",
    "Всего в таблице 21525 строк. Из них пустях строк в двух столбцах - 2174."
   ]
  },
  {
   "cell_type": "code",
   "execution_count": 5,
   "id": "145432cb",
   "metadata": {},
   "outputs": [
    {
     "data": {
      "text/plain": [
       "'Доля пустых значений: 10%'"
      ]
     },
     "execution_count": 5,
     "metadata": {},
     "output_type": "execute_result"
    }
   ],
   "source": [
    "total_income_null = data['total_income'].isna().sum() / data['gender'].count()\n",
    "total_income_null\n",
    "'Доля пустых значений: {:.0%}'.format(total_income_null) #находим соотношение пустях строк ко всем стракам датафрейма."
   ]
  },
  {
   "cell_type": "markdown",
   "id": "9276d46a",
   "metadata": {},
   "source": [
    "10% - слишком большая доля, чтобы просто избавиться от этих строк и проводить дальнейший анализ без них.\n",
    "Значения в обоих столбцах с пропусками - количественные. Значит, целесообразно заменить пропуски на среднее значение. Но сначала надо проверить, какие минимальные и максимальные значения присутствуют в колонках с пропусками. Сначала разберемся с колонкой 'days_employed' - трудовой стаж в днях."
   ]
  },
  {
   "cell_type": "code",
   "execution_count": 6,
   "id": "a39deb92",
   "metadata": {
    "scrolled": true
   },
   "outputs": [
    {
     "name": "stdout",
     "output_type": "stream",
     "text": [
      "-50.38068465909146\n",
      "1100.6997273296713\n",
      "172.73013057937976\n",
      "-3.296902818549285\n"
     ]
    }
   ],
   "source": [
    "print(data['days_employed'].min() / 365) #минимальное значение стажа в годах\n",
    "print(data['days_employed'].max() / 365) #максимальное значение стажа в годах\n",
    "print(data['days_employed'].mean() / 365) #среднее арифметическое \n",
    "print(data['days_employed'].median() / 365) #медиана"
   ]
  },
  {
   "cell_type": "markdown",
   "id": "fc9f1b45",
   "metadata": {},
   "source": [
    "Значения очень странные: есть отрицательные значения, максимальное - гораздо больше, чем возможно в реальности. Среднее арифметическое - тоже невозможно. Медиана отрицательная. В реальной практике пришлось бы обратиться к разработчикам и выяснить, откуда в таблице такие данные по стажу. Возможно, выгрузка сделана с ошибкой, либо данные вносились неверно.\n",
    "Такие данные можно считать ошибочными и не обрабатывать их.\n",
    "\n",
    "Теперь посмотрим на данные в столбце total_income."
   ]
  },
  {
   "cell_type": "code",
   "execution_count": 7,
   "id": "b46f112d",
   "metadata": {},
   "outputs": [
    {
     "name": "stdout",
     "output_type": "stream",
     "text": [
      "20667.26379327158\n",
      "2265604.028722744\n",
      "167422.3022081719\n",
      "145017.93753253992\n"
     ]
    }
   ],
   "source": [
    "print(data['total_income'].min()) #минимальное значение дохода\n",
    "print(data['total_income'].max()) #максимальное значение дохода\n",
    "print(data['total_income'].mean()) #среднее арифметическое \n",
    "print(data['total_income'].median()) #медиана"
   ]
  },
  {
   "cell_type": "markdown",
   "id": "d3371f72",
   "metadata": {},
   "source": [
    "Медиана среднемесячного дохода выглядит более реальной, чем среднее арифметическое, но не стоит забывать, что заёмщики имеют разный тип занятости. Возможно, лучше заменить пропущенные значения в столбце с доходом медианным значением по каждому типу отдельно.\n",
    "Посчитаем, сколько уникальных типов занятости у нас в таблице."
   ]
  },
  {
   "cell_type": "code",
   "execution_count": 8,
   "id": "8aed015d",
   "metadata": {
    "scrolled": true
   },
   "outputs": [
    {
     "name": "stdout",
     "output_type": "stream",
     "text": [
      "['сотрудник' 'пенсионер' 'компаньон' 'госслужащий' 'безработный'\n",
      " 'предприниматель' 'студент' 'в декрете']\n"
     ]
    },
    {
     "data": {
      "text/plain": [
       "8"
      ]
     },
     "execution_count": 8,
     "metadata": {},
     "output_type": "execute_result"
    }
   ],
   "source": [
    "print(data['income_type'].unique()) #выведем уникальные значения\n",
    "data['income_type'].nunique() #посчитаем количество значений"
   ]
  },
  {
   "cell_type": "code",
   "execution_count": 9,
   "id": "05714798",
   "metadata": {
    "scrolled": false
   },
   "outputs": [
    {
     "data": {
      "text/html": [
       "<div>\n",
       "<style scoped>\n",
       "    .dataframe tbody tr th:only-of-type {\n",
       "        vertical-align: middle;\n",
       "    }\n",
       "\n",
       "    .dataframe tbody tr th {\n",
       "        vertical-align: top;\n",
       "    }\n",
       "\n",
       "    .dataframe thead th {\n",
       "        text-align: right;\n",
       "    }\n",
       "</style>\n",
       "<table border=\"1\" class=\"dataframe\">\n",
       "  <thead>\n",
       "    <tr style=\"text-align: right;\">\n",
       "      <th></th>\n",
       "      <th>total_income</th>\n",
       "    </tr>\n",
       "    <tr>\n",
       "      <th>income_type</th>\n",
       "      <th></th>\n",
       "    </tr>\n",
       "  </thead>\n",
       "  <tbody>\n",
       "    <tr>\n",
       "      <th>безработный</th>\n",
       "      <td>131339.751676</td>\n",
       "    </tr>\n",
       "    <tr>\n",
       "      <th>в декрете</th>\n",
       "      <td>53829.130729</td>\n",
       "    </tr>\n",
       "    <tr>\n",
       "      <th>госслужащий</th>\n",
       "      <td>150447.935283</td>\n",
       "    </tr>\n",
       "    <tr>\n",
       "      <th>компаньон</th>\n",
       "      <td>172357.950966</td>\n",
       "    </tr>\n",
       "    <tr>\n",
       "      <th>пенсионер</th>\n",
       "      <td>118514.486412</td>\n",
       "    </tr>\n",
       "    <tr>\n",
       "      <th>предприниматель</th>\n",
       "      <td>499163.144947</td>\n",
       "    </tr>\n",
       "    <tr>\n",
       "      <th>сотрудник</th>\n",
       "      <td>142594.396847</td>\n",
       "    </tr>\n",
       "    <tr>\n",
       "      <th>студент</th>\n",
       "      <td>98201.625314</td>\n",
       "    </tr>\n",
       "  </tbody>\n",
       "</table>\n",
       "</div>"
      ],
      "text/plain": [
       "                  total_income\n",
       "income_type                   \n",
       "безработный      131339.751676\n",
       "в декрете         53829.130729\n",
       "госслужащий      150447.935283\n",
       "компаньон        172357.950966\n",
       "пенсионер        118514.486412\n",
       "предприниматель  499163.144947\n",
       "сотрудник        142594.396847\n",
       "студент           98201.625314"
      ]
     },
     "execution_count": 9,
     "metadata": {},
     "output_type": "execute_result"
    }
   ],
   "source": [
    "data_grouped = data.groupby(['income_type']).agg({'total_income':'median'}) #выведем медиану по группам занятости\n",
    "data_grouped"
   ]
  },
  {
   "cell_type": "code",
   "execution_count": 10,
   "id": "c8baf452",
   "metadata": {
    "scrolled": true
   },
   "outputs": [],
   "source": [
    "data['total_income'] = data.groupby(['income_type',], sort=False)['total_income'].apply(lambda x: x.fillna(x.median()))\n",
    "#Заменим пропуски в столбце с доходом медианным значением, группируя по типу занятости."
   ]
  },
  {
   "cell_type": "code",
   "execution_count": 11,
   "id": "0eb3bcb0",
   "metadata": {
    "scrolled": true
   },
   "outputs": [
    {
     "name": "stdout",
     "output_type": "stream",
     "text": [
      "<class 'pandas.core.frame.DataFrame'>\n",
      "RangeIndex: 21525 entries, 0 to 21524\n",
      "Data columns (total 12 columns):\n",
      " #   Column            Non-Null Count  Dtype  \n",
      "---  ------            --------------  -----  \n",
      " 0   children          21525 non-null  int64  \n",
      " 1   days_employed     19351 non-null  float64\n",
      " 2   dob_years         21525 non-null  int64  \n",
      " 3   education         21525 non-null  object \n",
      " 4   education_id      21525 non-null  int64  \n",
      " 5   family_status     21525 non-null  object \n",
      " 6   family_status_id  21525 non-null  int64  \n",
      " 7   gender            21525 non-null  object \n",
      " 8   income_type       21525 non-null  object \n",
      " 9   debt              21525 non-null  int64  \n",
      " 10  total_income      21525 non-null  float64\n",
      " 11  purpose           21525 non-null  object \n",
      "dtypes: float64(2), int64(5), object(5)\n",
      "memory usage: 2.0+ MB\n"
     ]
    }
   ],
   "source": [
    "data.info() #проверим, заменились ли пропуски в столбце total_income"
   ]
  },
  {
   "cell_type": "markdown",
   "id": "db688be4",
   "metadata": {},
   "source": [
    "\n",
    "Пропуски в столбце с доходом были заменены на медианные значения по типу занятости заёмщиков, так статистическая погрешность сводится к минимуму.\n",
    "\n",
    "Пропуски в столбце days_employed остались без изменений, т.к. значения явно ошибочные, а в дальнейшем анализе не пригодятся.\n",
    "\n",
    "Тот факт, что пропуски в двух столбцах находятся в одних и тех же строках, может говорить о том, что эти заёмщики не имеют официального дохода, т.к. не трудоустроены официально."
   ]
  },
  {
   "cell_type": "markdown",
   "id": "b55d53e0",
   "metadata": {},
   "source": [
    "### Шаг 2.2 Проверка данных на аномалии и исправления."
   ]
  },
  {
   "cell_type": "markdown",
   "id": "0b46ad12",
   "metadata": {},
   "source": [
    "Мы уже выяснили, что в столбце days_employed присутствуют аномальные значения (отрицательные, а также неправдоподобно большие, сильно превышающие не только максимально возможный стаж, но и продолжительность жизни).\n",
    "\n",
    "Проверим, есть ли аномальные значения в других столбцах.\n",
    "Начнём со столбца children - количество детей.\n"
   ]
  },
  {
   "cell_type": "code",
   "execution_count": 12,
   "id": "bc8951d9",
   "metadata": {
    "scrolled": true
   },
   "outputs": [
    {
     "name": "stdout",
     "output_type": "stream",
     "text": [
      "[ 1  0  3  2 -1  4 20  5]\n"
     ]
    },
    {
     "data": {
      "text/plain": [
       "8"
      ]
     },
     "execution_count": 12,
     "metadata": {},
     "output_type": "execute_result"
    }
   ],
   "source": [
    "print(data['children'].unique())\n",
    "data['children'].nunique()"
   ]
  },
  {
   "cell_type": "markdown",
   "id": "6d3d2e1f",
   "metadata": {},
   "source": [
    "В столбце с количеством детей обнаружились две аномалии: отрицательное значение и слишком большое значение.\n",
    "Проверим, сколько таких значений в таблице."
   ]
  },
  {
   "cell_type": "code",
   "execution_count": 13,
   "id": "6c7054f3",
   "metadata": {
    "scrolled": true
   },
   "outputs": [
    {
     "data": {
      "text/plain": [
       "47"
      ]
     },
     "execution_count": 13,
     "metadata": {},
     "output_type": "execute_result"
    }
   ],
   "source": [
    "sum(data['children'] == -1)"
   ]
  },
  {
   "cell_type": "code",
   "execution_count": 14,
   "id": "80b7dedc",
   "metadata": {
    "scrolled": true
   },
   "outputs": [
    {
     "data": {
      "text/plain": [
       "76"
      ]
     },
     "execution_count": 14,
     "metadata": {},
     "output_type": "execute_result"
    }
   ],
   "source": [
    "sum(data['children'] == 20)"
   ]
  },
  {
   "cell_type": "markdown",
   "id": "2583d69b",
   "metadata": {},
   "source": [
    "Итого в таблице 47 сток со значением детей -1 и 76 строк со значением 20.\n",
    "Количество небольшое, поэтому будем считать такие значения ошибочными и заменим -1 на 1, а 20 на 2."
   ]
  },
  {
   "cell_type": "code",
   "execution_count": 15,
   "id": "755a4906",
   "metadata": {},
   "outputs": [],
   "source": [
    "data.loc[data['children'] == -1, 'children'] = 1 #заменим значение -1 на 1"
   ]
  },
  {
   "cell_type": "code",
   "execution_count": 16,
   "id": "766c24f4",
   "metadata": {},
   "outputs": [
    {
     "data": {
      "text/plain": [
       "0"
      ]
     },
     "execution_count": 16,
     "metadata": {},
     "output_type": "execute_result"
    }
   ],
   "source": [
    "sum(data['children'] == -1) #проверим, что значения -1 больше нет в таблице"
   ]
  },
  {
   "cell_type": "code",
   "execution_count": 17,
   "id": "7004284e",
   "metadata": {},
   "outputs": [],
   "source": [
    "data.loc[data['children'] == 20, 'children'] = 2 #заменим значение 20 на 2"
   ]
  },
  {
   "cell_type": "code",
   "execution_count": 18,
   "id": "c550ff5a",
   "metadata": {},
   "outputs": [
    {
     "data": {
      "text/plain": [
       "0"
      ]
     },
     "execution_count": 18,
     "metadata": {},
     "output_type": "execute_result"
    }
   ],
   "source": [
    "sum(data['children'] == 20) #проверим, что значения 20 больше нет в таблице"
   ]
  },
  {
   "cell_type": "markdown",
   "id": "1fe64878",
   "metadata": {},
   "source": [
    "С количеством детей разобрались, переходим к следующему столбцу.\n",
    "Проверим данные в столбце dob_years - возраст клиента в годах."
   ]
  },
  {
   "cell_type": "code",
   "execution_count": 19,
   "id": "6d314ec4",
   "metadata": {
    "scrolled": true
   },
   "outputs": [
    {
     "name": "stdout",
     "output_type": "stream",
     "text": [
      "0\n",
      "75\n"
     ]
    }
   ],
   "source": [
    "print(data['dob_years'].min()) #минимальное значение возраста\n",
    "print(data['dob_years'].max()) #максимальное значение возраста"
   ]
  },
  {
   "cell_type": "markdown",
   "id": "441b02c5",
   "metadata": {},
   "source": [
    "Максимальный возраст выглядит нормально, а вот минимальный - 0, это аномалия. Проверим, сколько в столбце нулевых значений."
   ]
  },
  {
   "cell_type": "code",
   "execution_count": 20,
   "id": "4d06d44e",
   "metadata": {},
   "outputs": [
    {
     "data": {
      "text/plain": [
       "101"
      ]
     },
     "execution_count": 20,
     "metadata": {},
     "output_type": "execute_result"
    }
   ],
   "source": [
    "sum(data['dob_years'] == 0)"
   ]
  },
  {
   "cell_type": "markdown",
   "id": "95232fc0",
   "metadata": {},
   "source": [
    "А теперь посмотрим, сколько значений больше 0, но меньше 18."
   ]
  },
  {
   "cell_type": "code",
   "execution_count": 21,
   "id": "561b9d01",
   "metadata": {},
   "outputs": [
    {
     "data": {
      "text/plain": [
       "0"
      ]
     },
     "execution_count": 21,
     "metadata": {},
     "output_type": "execute_result"
    }
   ],
   "source": [
    "sum((data['dob_years'] > 0) & (data['dob_years'] < 18))"
   ]
  },
  {
   "cell_type": "markdown",
   "id": "c43ff6e5",
   "metadata": {},
   "source": [
    "Таких нет. Значит, нужно заменить возраст на средний возраст заёмщика. Нулевых значений всего 101, диапазон возрастов ограничен (от 18 до 75 лет), заменим 0 на медианное значение по всей таблице, не разделя на категории."
   ]
  },
  {
   "cell_type": "code",
   "execution_count": 22,
   "id": "c28c7a4a",
   "metadata": {},
   "outputs": [
    {
     "data": {
      "text/plain": [
       "42.0"
      ]
     },
     "execution_count": 22,
     "metadata": {},
     "output_type": "execute_result"
    }
   ],
   "source": [
    "data['dob_years'].median() #узнаем медианное значение по столбцу \"возраст заёмщика\"\n"
   ]
  },
  {
   "cell_type": "code",
   "execution_count": 23,
   "id": "405d7441",
   "metadata": {},
   "outputs": [],
   "source": [
    "data.loc[data['dob_years'] == 0, 'dob_years'] = data['dob_years'].median() #заменим нулевые значения на медианное"
   ]
  },
  {
   "cell_type": "code",
   "execution_count": 24,
   "id": "4c1f0de4",
   "metadata": {},
   "outputs": [
    {
     "data": {
      "text/plain": [
       "0"
      ]
     },
     "execution_count": 24,
     "metadata": {},
     "output_type": "execute_result"
    }
   ],
   "source": [
    "sum(data['dob_years'] == 0) #проверим, что нулевые значения исчезли."
   ]
  },
  {
   "cell_type": "markdown",
   "id": "8e6a1497",
   "metadata": {},
   "source": [
    "Теперь проверим столбец \"education\" -  уровень образования клиента. Посмотрим, какие уникальные значения содержит этот столбец."
   ]
  },
  {
   "cell_type": "code",
   "execution_count": 25,
   "id": "2cf665d2",
   "metadata": {
    "scrolled": true
   },
   "outputs": [
    {
     "name": "stdout",
     "output_type": "stream",
     "text": [
      "['высшее' 'среднее' 'Среднее' 'СРЕДНЕЕ' 'ВЫСШЕЕ' 'неоконченное высшее'\n",
      " 'начальное' 'Высшее' 'НЕОКОНЧЕННОЕ ВЫСШЕЕ' 'Неоконченное высшее'\n",
      " 'НАЧАЛЬНОЕ' 'Начальное' 'Ученая степень' 'УЧЕНАЯ СТЕПЕНЬ'\n",
      " 'ученая степень']\n"
     ]
    },
    {
     "data": {
      "text/plain": [
       "15"
      ]
     },
     "execution_count": 25,
     "metadata": {},
     "output_type": "execute_result"
    }
   ],
   "source": [
    "print(data['education'].unique())\n",
    "data['education'].nunique()"
   ]
  },
  {
   "cell_type": "markdown",
   "id": "384dbfcf",
   "metadata": {},
   "source": [
    "В столбце с уровнем образования значения введены с использованием как верхнего, так и нижнего регистров.\n",
    "Приведём все значения к нижнему регистру и проверим, сколько теперь уникальных значений."
   ]
  },
  {
   "cell_type": "code",
   "execution_count": 26,
   "id": "dc53d570",
   "metadata": {
    "scrolled": true
   },
   "outputs": [],
   "source": [
    "data['education'] = data['education'].str.lower()\n"
   ]
  },
  {
   "cell_type": "code",
   "execution_count": 27,
   "id": "121a081b",
   "metadata": {},
   "outputs": [
    {
     "name": "stdout",
     "output_type": "stream",
     "text": [
      "['высшее' 'среднее' 'неоконченное высшее' 'начальное' 'ученая степень']\n"
     ]
    },
    {
     "data": {
      "text/plain": [
       "5"
      ]
     },
     "execution_count": 27,
     "metadata": {},
     "output_type": "execute_result"
    }
   ],
   "source": [
    "print(data['education'].unique())\n",
    "data['education'].nunique()"
   ]
  },
  {
   "cell_type": "markdown",
   "id": "ba5159af",
   "metadata": {},
   "source": [
    "Теперь всё правильно.\n",
    "На всякий случай проверим столбец education_id.\n"
   ]
  },
  {
   "cell_type": "code",
   "execution_count": 28,
   "id": "f35e6ddb",
   "metadata": {
    "scrolled": true
   },
   "outputs": [
    {
     "name": "stdout",
     "output_type": "stream",
     "text": [
      "[0 1 2 3 4]\n"
     ]
    },
    {
     "data": {
      "text/plain": [
       "5"
      ]
     },
     "execution_count": 28,
     "metadata": {},
     "output_type": "execute_result"
    }
   ],
   "source": [
    "print(data['education_id'].unique())\n",
    "data['education_id'].nunique()"
   ]
  },
  {
   "cell_type": "markdown",
   "id": "7e0ef2ac",
   "metadata": {},
   "source": [
    "Тоже 5 значений, всё верно."
   ]
  },
  {
   "cell_type": "markdown",
   "id": "da0bc899",
   "metadata": {},
   "source": [
    "Проверим столбец family_status - семейное положение."
   ]
  },
  {
   "cell_type": "code",
   "execution_count": 29,
   "id": "8bdcd616",
   "metadata": {},
   "outputs": [
    {
     "name": "stdout",
     "output_type": "stream",
     "text": [
      "['женат / замужем' 'гражданский брак' 'вдовец / вдова' 'в разводе'\n",
      " 'Не женат / не замужем']\n"
     ]
    },
    {
     "data": {
      "text/plain": [
       "5"
      ]
     },
     "execution_count": 29,
     "metadata": {},
     "output_type": "execute_result"
    }
   ],
   "source": [
    "print(data['family_status'].unique())\n",
    "data['family_status'].nunique()"
   ]
  },
  {
   "cell_type": "markdown",
   "id": "793bdaef",
   "metadata": {},
   "source": [
    "В этом столбце значения корректные."
   ]
  },
  {
   "cell_type": "markdown",
   "id": "95d60f4b",
   "metadata": {},
   "source": [
    "Проверим столбец gender - пол заёмщика."
   ]
  },
  {
   "cell_type": "code",
   "execution_count": 30,
   "id": "714aa371",
   "metadata": {},
   "outputs": [
    {
     "name": "stdout",
     "output_type": "stream",
     "text": [
      "['F' 'M' 'XNA']\n"
     ]
    },
    {
     "data": {
      "text/plain": [
       "3"
      ]
     },
     "execution_count": 30,
     "metadata": {},
     "output_type": "execute_result"
    }
   ],
   "source": [
    "print(data['gender'].unique())\n",
    "data['gender'].nunique()"
   ]
  },
  {
   "cell_type": "markdown",
   "id": "d3a784e6",
   "metadata": {},
   "source": [
    "Есть строки со значением пола 'XNA'.\n",
    "Посмотрим, сколько таких строк."
   ]
  },
  {
   "cell_type": "code",
   "execution_count": 31,
   "id": "46262b96",
   "metadata": {},
   "outputs": [
    {
     "data": {
      "text/plain": [
       "1"
      ]
     },
     "execution_count": 31,
     "metadata": {},
     "output_type": "execute_result"
    }
   ],
   "source": [
    "sum(data['gender'] == 'XNA')"
   ]
  },
  {
   "cell_type": "markdown",
   "id": "51065835",
   "metadata": {},
   "source": [
    "Всего одно значение. По остальным колонкам в датафрейме невозможно определить пол. Удалим эту строку, т.к. на анализ одна строка сильно не повлияет."
   ]
  },
  {
   "cell_type": "code",
   "execution_count": 32,
   "id": "d49681ea",
   "metadata": {},
   "outputs": [
    {
     "data": {
      "text/plain": [
       "array(['F', 'M'], dtype=object)"
      ]
     },
     "execution_count": 32,
     "metadata": {},
     "output_type": "execute_result"
    }
   ],
   "source": [
    "data = data.loc[data['gender'] != 'XNA'] #удаляем из датафрейма строку с неопределенным полом\n",
    "data['gender'].unique() #проверяем, что осталось только два значения в колонке 'gender'"
   ]
  },
  {
   "cell_type": "markdown",
   "id": "d751ef0b",
   "metadata": {},
   "source": [
    "Осталось проверить колонку \"purpose\" - цель получения кредита"
   ]
  },
  {
   "cell_type": "code",
   "execution_count": 33,
   "id": "710f7423",
   "metadata": {},
   "outputs": [
    {
     "name": "stdout",
     "output_type": "stream",
     "text": [
      "['покупка жилья' 'приобретение автомобиля' 'дополнительное образование'\n",
      " 'сыграть свадьбу' 'операции с жильем' 'образование'\n",
      " 'на проведение свадьбы' 'покупка жилья для семьи' 'покупка недвижимости'\n",
      " 'покупка коммерческой недвижимости' 'покупка жилой недвижимости'\n",
      " 'строительство собственной недвижимости' 'недвижимость'\n",
      " 'строительство недвижимости' 'на покупку подержанного автомобиля'\n",
      " 'на покупку своего автомобиля' 'операции с коммерческой недвижимостью'\n",
      " 'строительство жилой недвижимости' 'жилье'\n",
      " 'операции со своей недвижимостью' 'автомобили' 'заняться образованием'\n",
      " 'сделка с подержанным автомобилем' 'получение образования' 'автомобиль'\n",
      " 'свадьба' 'получение дополнительного образования' 'покупка своего жилья'\n",
      " 'операции с недвижимостью' 'получение высшего образования'\n",
      " 'свой автомобиль' 'сделка с автомобилем' 'профильное образование'\n",
      " 'высшее образование' 'покупка жилья для сдачи' 'на покупку автомобиля'\n",
      " 'ремонт жилью' 'заняться высшим образованием']\n"
     ]
    },
    {
     "data": {
      "text/plain": [
       "38"
      ]
     },
     "execution_count": 33,
     "metadata": {},
     "output_type": "execute_result"
    }
   ],
   "source": [
    "print(data['purpose'].unique())\n",
    "data['purpose'].nunique()"
   ]
  },
  {
   "cell_type": "markdown",
   "id": "927a9db3",
   "metadata": {},
   "source": [
    "В столбце 38 уникальных целей. Многие наименования - аналоги, можно \"укрупнить\" категории.\n",
    "Возможно, заполнение этого поля лучше было бы организовать через выпадающий список из заранее заведенных категорий, а не через ручной ввод произвольных значений."
   ]
  },
  {
   "cell_type": "markdown",
   "id": "0e0368b3",
   "metadata": {},
   "source": [
    "### Шаг 2.3. Изменение типов данных."
   ]
  },
  {
   "cell_type": "markdown",
   "id": "ce7b205e",
   "metadata": {},
   "source": [
    "Для упрощения работы с многозначными числами заменим тип данных в столбце total_income на целочисленный."
   ]
  },
  {
   "cell_type": "code",
   "execution_count": 34,
   "id": "5bd4bc32",
   "metadata": {},
   "outputs": [
    {
     "data": {
      "text/plain": [
       "dtype('int32')"
      ]
     },
     "execution_count": 34,
     "metadata": {},
     "output_type": "execute_result"
    }
   ],
   "source": [
    "data['total_income'] = data['total_income'].astype(int) #заменим тип данных на целочисленный\n",
    "data['total_income'].dtypes #проверим, что тип изменился\n"
   ]
  },
  {
   "cell_type": "markdown",
   "id": "fa841df1",
   "metadata": {},
   "source": [
    "### Шаг 2.4. Удаление дубликатов."
   ]
  },
  {
   "cell_type": "markdown",
   "id": "c2861792",
   "metadata": {},
   "source": [
    "Проверим таблицу на наличие строк-дубликатов."
   ]
  },
  {
   "cell_type": "code",
   "execution_count": 35,
   "id": "46f6a397",
   "metadata": {},
   "outputs": [
    {
     "data": {
      "text/plain": [
       "72"
      ]
     },
     "execution_count": 35,
     "metadata": {},
     "output_type": "execute_result"
    }
   ],
   "source": [
    "data.duplicated().sum() #посчитаем, сколько дубликатов в датафрейме"
   ]
  },
  {
   "cell_type": "code",
   "execution_count": 36,
   "id": "a706ab9e",
   "metadata": {},
   "outputs": [
    {
     "data": {
      "text/html": [
       "<div>\n",
       "<style scoped>\n",
       "    .dataframe tbody tr th:only-of-type {\n",
       "        vertical-align: middle;\n",
       "    }\n",
       "\n",
       "    .dataframe tbody tr th {\n",
       "        vertical-align: top;\n",
       "    }\n",
       "\n",
       "    .dataframe thead th {\n",
       "        text-align: right;\n",
       "    }\n",
       "</style>\n",
       "<table border=\"1\" class=\"dataframe\">\n",
       "  <thead>\n",
       "    <tr style=\"text-align: right;\">\n",
       "      <th></th>\n",
       "      <th>children</th>\n",
       "      <th>days_employed</th>\n",
       "      <th>dob_years</th>\n",
       "      <th>education</th>\n",
       "      <th>education_id</th>\n",
       "      <th>family_status</th>\n",
       "      <th>family_status_id</th>\n",
       "      <th>gender</th>\n",
       "      <th>income_type</th>\n",
       "      <th>debt</th>\n",
       "      <th>total_income</th>\n",
       "      <th>purpose</th>\n",
       "    </tr>\n",
       "  </thead>\n",
       "  <tbody>\n",
       "    <tr>\n",
       "      <th>2849</th>\n",
       "      <td>0</td>\n",
       "      <td>NaN</td>\n",
       "      <td>41</td>\n",
       "      <td>среднее</td>\n",
       "      <td>1</td>\n",
       "      <td>женат / замужем</td>\n",
       "      <td>0</td>\n",
       "      <td>F</td>\n",
       "      <td>сотрудник</td>\n",
       "      <td>0</td>\n",
       "      <td>142594</td>\n",
       "      <td>покупка жилья для семьи</td>\n",
       "    </tr>\n",
       "    <tr>\n",
       "      <th>3290</th>\n",
       "      <td>0</td>\n",
       "      <td>NaN</td>\n",
       "      <td>58</td>\n",
       "      <td>среднее</td>\n",
       "      <td>1</td>\n",
       "      <td>гражданский брак</td>\n",
       "      <td>1</td>\n",
       "      <td>F</td>\n",
       "      <td>пенсионер</td>\n",
       "      <td>0</td>\n",
       "      <td>118514</td>\n",
       "      <td>сыграть свадьбу</td>\n",
       "    </tr>\n",
       "    <tr>\n",
       "      <th>4182</th>\n",
       "      <td>1</td>\n",
       "      <td>NaN</td>\n",
       "      <td>34</td>\n",
       "      <td>высшее</td>\n",
       "      <td>0</td>\n",
       "      <td>гражданский брак</td>\n",
       "      <td>1</td>\n",
       "      <td>F</td>\n",
       "      <td>сотрудник</td>\n",
       "      <td>0</td>\n",
       "      <td>142594</td>\n",
       "      <td>свадьба</td>\n",
       "    </tr>\n",
       "    <tr>\n",
       "      <th>4851</th>\n",
       "      <td>0</td>\n",
       "      <td>NaN</td>\n",
       "      <td>60</td>\n",
       "      <td>среднее</td>\n",
       "      <td>1</td>\n",
       "      <td>гражданский брак</td>\n",
       "      <td>1</td>\n",
       "      <td>F</td>\n",
       "      <td>пенсионер</td>\n",
       "      <td>0</td>\n",
       "      <td>118514</td>\n",
       "      <td>свадьба</td>\n",
       "    </tr>\n",
       "    <tr>\n",
       "      <th>5557</th>\n",
       "      <td>0</td>\n",
       "      <td>NaN</td>\n",
       "      <td>58</td>\n",
       "      <td>среднее</td>\n",
       "      <td>1</td>\n",
       "      <td>гражданский брак</td>\n",
       "      <td>1</td>\n",
       "      <td>F</td>\n",
       "      <td>пенсионер</td>\n",
       "      <td>0</td>\n",
       "      <td>118514</td>\n",
       "      <td>сыграть свадьбу</td>\n",
       "    </tr>\n",
       "  </tbody>\n",
       "</table>\n",
       "</div>"
      ],
      "text/plain": [
       "      children  days_employed  dob_years education  education_id  \\\n",
       "2849         0            NaN         41   среднее             1   \n",
       "3290         0            NaN         58   среднее             1   \n",
       "4182         1            NaN         34    высшее             0   \n",
       "4851         0            NaN         60   среднее             1   \n",
       "5557         0            NaN         58   среднее             1   \n",
       "\n",
       "         family_status  family_status_id gender income_type  debt  \\\n",
       "2849   женат / замужем                 0      F   сотрудник     0   \n",
       "3290  гражданский брак                 1      F   пенсионер     0   \n",
       "4182  гражданский брак                 1      F   сотрудник     0   \n",
       "4851  гражданский брак                 1      F   пенсионер     0   \n",
       "5557  гражданский брак                 1      F   пенсионер     0   \n",
       "\n",
       "      total_income                  purpose  \n",
       "2849        142594  покупка жилья для семьи  \n",
       "3290        118514          сыграть свадьбу  \n",
       "4182        142594                  свадьба  \n",
       "4851        118514                  свадьба  \n",
       "5557        118514          сыграть свадьбу  "
      ]
     },
     "execution_count": 36,
     "metadata": {},
     "output_type": "execute_result"
    }
   ],
   "source": [
    "duplicated_data = data[data.duplicated()].head() #посмотрим на дубликаты\n",
    "duplicated_data"
   ]
  },
  {
   "cell_type": "code",
   "execution_count": 37,
   "id": "70c11b0c",
   "metadata": {},
   "outputs": [],
   "source": [
    "data = data.drop_duplicates().reset_index(drop=True) #удалим строки с дубликатами\n"
   ]
  },
  {
   "cell_type": "code",
   "execution_count": 38,
   "id": "ed6a011f",
   "metadata": {
    "scrolled": false
   },
   "outputs": [
    {
     "name": "stdout",
     "output_type": "stream",
     "text": [
      "0\n",
      "<class 'pandas.core.frame.DataFrame'>\n",
      "RangeIndex: 21452 entries, 0 to 21451\n",
      "Data columns (total 12 columns):\n",
      " #   Column            Non-Null Count  Dtype  \n",
      "---  ------            --------------  -----  \n",
      " 0   children          21452 non-null  int64  \n",
      " 1   days_employed     19350 non-null  float64\n",
      " 2   dob_years         21452 non-null  int64  \n",
      " 3   education         21452 non-null  object \n",
      " 4   education_id      21452 non-null  int64  \n",
      " 5   family_status     21452 non-null  object \n",
      " 6   family_status_id  21452 non-null  int64  \n",
      " 7   gender            21452 non-null  object \n",
      " 8   income_type       21452 non-null  object \n",
      " 9   debt              21452 non-null  int64  \n",
      " 10  total_income      21452 non-null  int32  \n",
      " 11  purpose           21452 non-null  object \n",
      "dtypes: float64(1), int32(1), int64(5), object(5)\n",
      "memory usage: 1.9+ MB\n"
     ]
    }
   ],
   "source": [
    "print(data.duplicated().sum())\n",
    "data.info() # проверим, что дубликаты удалены, а количество строк уменьшилось"
   ]
  },
  {
   "cell_type": "markdown",
   "id": "ea8f2ae5",
   "metadata": {},
   "source": [
    "Неявные дубликаты в столбце \"education\" - уровень образования клиента - были заменены ранее, в ходе поиска аномальных значений.\n",
    "Такие дубликаты могли возникнуть из-за того, что поле \"образование\" заполняется вручную, а не выбирается из заранее заданных категорий - как и поле \"цель кредита\"."
   ]
  },
  {
   "cell_type": "markdown",
   "id": "0fe317fc",
   "metadata": {},
   "source": [
    "### Шаг 2.5. Формирование дополнительных датафреймов словарей, декомпозиция исходного датафрейма."
   ]
  },
  {
   "cell_type": "markdown",
   "id": "bdf601b1",
   "metadata": {},
   "source": [
    "Создадим дополнительный датафрейм education_df, который будет содержать уровень образования клиента и идентификатор уровня образования."
   ]
  },
  {
   "cell_type": "code",
   "execution_count": 39,
   "id": "26559d99",
   "metadata": {
    "scrolled": true
   },
   "outputs": [
    {
     "data": {
      "text/html": [
       "<div>\n",
       "<style scoped>\n",
       "    .dataframe tbody tr th:only-of-type {\n",
       "        vertical-align: middle;\n",
       "    }\n",
       "\n",
       "    .dataframe tbody tr th {\n",
       "        vertical-align: top;\n",
       "    }\n",
       "\n",
       "    .dataframe thead th {\n",
       "        text-align: right;\n",
       "    }\n",
       "</style>\n",
       "<table border=\"1\" class=\"dataframe\">\n",
       "  <thead>\n",
       "    <tr style=\"text-align: right;\">\n",
       "      <th></th>\n",
       "      <th>education_id</th>\n",
       "      <th>education</th>\n",
       "    </tr>\n",
       "  </thead>\n",
       "  <tbody>\n",
       "    <tr>\n",
       "      <th>0</th>\n",
       "      <td>0</td>\n",
       "      <td>высшее</td>\n",
       "    </tr>\n",
       "    <tr>\n",
       "      <th>1</th>\n",
       "      <td>1</td>\n",
       "      <td>среднее</td>\n",
       "    </tr>\n",
       "    <tr>\n",
       "      <th>2</th>\n",
       "      <td>1</td>\n",
       "      <td>среднее</td>\n",
       "    </tr>\n",
       "    <tr>\n",
       "      <th>3</th>\n",
       "      <td>1</td>\n",
       "      <td>среднее</td>\n",
       "    </tr>\n",
       "    <tr>\n",
       "      <th>4</th>\n",
       "      <td>1</td>\n",
       "      <td>среднее</td>\n",
       "    </tr>\n",
       "    <tr>\n",
       "      <th>5</th>\n",
       "      <td>0</td>\n",
       "      <td>высшее</td>\n",
       "    </tr>\n",
       "    <tr>\n",
       "      <th>6</th>\n",
       "      <td>0</td>\n",
       "      <td>высшее</td>\n",
       "    </tr>\n",
       "    <tr>\n",
       "      <th>7</th>\n",
       "      <td>1</td>\n",
       "      <td>среднее</td>\n",
       "    </tr>\n",
       "    <tr>\n",
       "      <th>8</th>\n",
       "      <td>0</td>\n",
       "      <td>высшее</td>\n",
       "    </tr>\n",
       "    <tr>\n",
       "      <th>9</th>\n",
       "      <td>1</td>\n",
       "      <td>среднее</td>\n",
       "    </tr>\n",
       "  </tbody>\n",
       "</table>\n",
       "</div>"
      ],
      "text/plain": [
       "   education_id education\n",
       "0             0    высшее\n",
       "1             1   среднее\n",
       "2             1   среднее\n",
       "3             1   среднее\n",
       "4             1   среднее\n",
       "5             0    высшее\n",
       "6             0    высшее\n",
       "7             1   среднее\n",
       "8             0    высшее\n",
       "9             1   среднее"
      ]
     },
     "execution_count": 39,
     "metadata": {},
     "output_type": "execute_result"
    }
   ],
   "source": [
    "education_df = data[['education_id','education']]\n",
    "education_df.head(10) "
   ]
  },
  {
   "cell_type": "markdown",
   "id": "68a8a611",
   "metadata": {},
   "source": [
    "Уберём дубликаты."
   ]
  },
  {
   "cell_type": "code",
   "execution_count": 40,
   "id": "91481628",
   "metadata": {},
   "outputs": [
    {
     "data": {
      "text/html": [
       "<div>\n",
       "<style scoped>\n",
       "    .dataframe tbody tr th:only-of-type {\n",
       "        vertical-align: middle;\n",
       "    }\n",
       "\n",
       "    .dataframe tbody tr th {\n",
       "        vertical-align: top;\n",
       "    }\n",
       "\n",
       "    .dataframe thead th {\n",
       "        text-align: right;\n",
       "    }\n",
       "</style>\n",
       "<table border=\"1\" class=\"dataframe\">\n",
       "  <thead>\n",
       "    <tr style=\"text-align: right;\">\n",
       "      <th></th>\n",
       "      <th>education_id</th>\n",
       "      <th>education</th>\n",
       "    </tr>\n",
       "  </thead>\n",
       "  <tbody>\n",
       "    <tr>\n",
       "      <th>0</th>\n",
       "      <td>0</td>\n",
       "      <td>высшее</td>\n",
       "    </tr>\n",
       "    <tr>\n",
       "      <th>1</th>\n",
       "      <td>1</td>\n",
       "      <td>среднее</td>\n",
       "    </tr>\n",
       "    <tr>\n",
       "      <th>2</th>\n",
       "      <td>2</td>\n",
       "      <td>неоконченное высшее</td>\n",
       "    </tr>\n",
       "    <tr>\n",
       "      <th>3</th>\n",
       "      <td>3</td>\n",
       "      <td>начальное</td>\n",
       "    </tr>\n",
       "    <tr>\n",
       "      <th>4</th>\n",
       "      <td>4</td>\n",
       "      <td>ученая степень</td>\n",
       "    </tr>\n",
       "  </tbody>\n",
       "</table>\n",
       "</div>"
      ],
      "text/plain": [
       "   education_id            education\n",
       "0             0               высшее\n",
       "1             1              среднее\n",
       "2             2  неоконченное высшее\n",
       "3             3            начальное\n",
       "4             4       ученая степень"
      ]
     },
     "execution_count": 40,
     "metadata": {},
     "output_type": "execute_result"
    }
   ],
   "source": [
    "education_df = education_df.drop_duplicates().reset_index(drop=True)\n",
    "education_df.head() "
   ]
  },
  {
   "cell_type": "markdown",
   "id": "d47bb991",
   "metadata": {},
   "source": [
    "Также создадим датафрейм из столбцов семейное положение и идентификатор семейного положения"
   ]
  },
  {
   "cell_type": "code",
   "execution_count": 41,
   "id": "177e30dc",
   "metadata": {
    "scrolled": true
   },
   "outputs": [
    {
     "data": {
      "text/html": [
       "<div>\n",
       "<style scoped>\n",
       "    .dataframe tbody tr th:only-of-type {\n",
       "        vertical-align: middle;\n",
       "    }\n",
       "\n",
       "    .dataframe tbody tr th {\n",
       "        vertical-align: top;\n",
       "    }\n",
       "\n",
       "    .dataframe thead th {\n",
       "        text-align: right;\n",
       "    }\n",
       "</style>\n",
       "<table border=\"1\" class=\"dataframe\">\n",
       "  <thead>\n",
       "    <tr style=\"text-align: right;\">\n",
       "      <th></th>\n",
       "      <th>family_status_id</th>\n",
       "      <th>family_status</th>\n",
       "    </tr>\n",
       "  </thead>\n",
       "  <tbody>\n",
       "    <tr>\n",
       "      <th>0</th>\n",
       "      <td>0</td>\n",
       "      <td>женат / замужем</td>\n",
       "    </tr>\n",
       "    <tr>\n",
       "      <th>1</th>\n",
       "      <td>0</td>\n",
       "      <td>женат / замужем</td>\n",
       "    </tr>\n",
       "    <tr>\n",
       "      <th>2</th>\n",
       "      <td>0</td>\n",
       "      <td>женат / замужем</td>\n",
       "    </tr>\n",
       "    <tr>\n",
       "      <th>3</th>\n",
       "      <td>0</td>\n",
       "      <td>женат / замужем</td>\n",
       "    </tr>\n",
       "    <tr>\n",
       "      <th>4</th>\n",
       "      <td>1</td>\n",
       "      <td>гражданский брак</td>\n",
       "    </tr>\n",
       "    <tr>\n",
       "      <th>5</th>\n",
       "      <td>1</td>\n",
       "      <td>гражданский брак</td>\n",
       "    </tr>\n",
       "    <tr>\n",
       "      <th>6</th>\n",
       "      <td>0</td>\n",
       "      <td>женат / замужем</td>\n",
       "    </tr>\n",
       "    <tr>\n",
       "      <th>7</th>\n",
       "      <td>0</td>\n",
       "      <td>женат / замужем</td>\n",
       "    </tr>\n",
       "    <tr>\n",
       "      <th>8</th>\n",
       "      <td>1</td>\n",
       "      <td>гражданский брак</td>\n",
       "    </tr>\n",
       "    <tr>\n",
       "      <th>9</th>\n",
       "      <td>0</td>\n",
       "      <td>женат / замужем</td>\n",
       "    </tr>\n",
       "  </tbody>\n",
       "</table>\n",
       "</div>"
      ],
      "text/plain": [
       "   family_status_id     family_status\n",
       "0                 0   женат / замужем\n",
       "1                 0   женат / замужем\n",
       "2                 0   женат / замужем\n",
       "3                 0   женат / замужем\n",
       "4                 1  гражданский брак\n",
       "5                 1  гражданский брак\n",
       "6                 0   женат / замужем\n",
       "7                 0   женат / замужем\n",
       "8                 1  гражданский брак\n",
       "9                 0   женат / замужем"
      ]
     },
     "execution_count": 41,
     "metadata": {},
     "output_type": "execute_result"
    }
   ],
   "source": [
    "family_df = data[['family_status_id','family_status']]\n",
    "family_df.head(10) "
   ]
  },
  {
   "cell_type": "markdown",
   "id": "014a2289",
   "metadata": {},
   "source": [
    "Уберем дубликаты."
   ]
  },
  {
   "cell_type": "code",
   "execution_count": 42,
   "id": "c971f1e5",
   "metadata": {},
   "outputs": [
    {
     "data": {
      "text/html": [
       "<div>\n",
       "<style scoped>\n",
       "    .dataframe tbody tr th:only-of-type {\n",
       "        vertical-align: middle;\n",
       "    }\n",
       "\n",
       "    .dataframe tbody tr th {\n",
       "        vertical-align: top;\n",
       "    }\n",
       "\n",
       "    .dataframe thead th {\n",
       "        text-align: right;\n",
       "    }\n",
       "</style>\n",
       "<table border=\"1\" class=\"dataframe\">\n",
       "  <thead>\n",
       "    <tr style=\"text-align: right;\">\n",
       "      <th></th>\n",
       "      <th>family_status_id</th>\n",
       "      <th>family_status</th>\n",
       "    </tr>\n",
       "  </thead>\n",
       "  <tbody>\n",
       "    <tr>\n",
       "      <th>0</th>\n",
       "      <td>0</td>\n",
       "      <td>женат / замужем</td>\n",
       "    </tr>\n",
       "    <tr>\n",
       "      <th>1</th>\n",
       "      <td>1</td>\n",
       "      <td>гражданский брак</td>\n",
       "    </tr>\n",
       "    <tr>\n",
       "      <th>2</th>\n",
       "      <td>2</td>\n",
       "      <td>вдовец / вдова</td>\n",
       "    </tr>\n",
       "    <tr>\n",
       "      <th>3</th>\n",
       "      <td>3</td>\n",
       "      <td>в разводе</td>\n",
       "    </tr>\n",
       "    <tr>\n",
       "      <th>4</th>\n",
       "      <td>4</td>\n",
       "      <td>Не женат / не замужем</td>\n",
       "    </tr>\n",
       "  </tbody>\n",
       "</table>\n",
       "</div>"
      ],
      "text/plain": [
       "   family_status_id          family_status\n",
       "0                 0        женат / замужем\n",
       "1                 1       гражданский брак\n",
       "2                 2         вдовец / вдова\n",
       "3                 3              в разводе\n",
       "4                 4  Не женат / не замужем"
      ]
     },
     "execution_count": 42,
     "metadata": {},
     "output_type": "execute_result"
    }
   ],
   "source": [
    "family_df = family_df.drop_duplicates().reset_index(drop=True)\n",
    "family_df.head() "
   ]
  },
  {
   "cell_type": "markdown",
   "id": "b0d7d565",
   "metadata": {},
   "source": [
    "Теперь из основного датафрейма можно удалить столбцы education и family_status, оставив их идентификаторы, \n",
    "к которым будем обращаться в дальнейшем."
   ]
  },
  {
   "cell_type": "code",
   "execution_count": 43,
   "id": "0ffb6ad6",
   "metadata": {},
   "outputs": [
    {
     "name": "stderr",
     "output_type": "stream",
     "text": [
      "C:\\Users\\Anna\\AppData\\Local\\Temp\\ipykernel_9868\\2261613360.py:1: FutureWarning: In a future version of pandas all arguments of DataFrame.drop except for the argument 'labels' will be keyword-only.\n",
      "  data = data.drop('education', 1)\n"
     ]
    }
   ],
   "source": [
    "data = data.drop('education', 1)\n"
   ]
  },
  {
   "cell_type": "code",
   "execution_count": 44,
   "id": "0abdd266",
   "metadata": {},
   "outputs": [
    {
     "name": "stderr",
     "output_type": "stream",
     "text": [
      "C:\\Users\\Anna\\AppData\\Local\\Temp\\ipykernel_9868\\3523860935.py:1: FutureWarning: In a future version of pandas all arguments of DataFrame.drop except for the argument 'labels' will be keyword-only.\n",
      "  data = data.drop('family_status', 1)\n"
     ]
    }
   ],
   "source": [
    "data = data.drop('family_status', 1)"
   ]
  },
  {
   "cell_type": "code",
   "execution_count": 45,
   "id": "eaa07cc6",
   "metadata": {
    "scrolled": true
   },
   "outputs": [
    {
     "data": {
      "text/html": [
       "<div>\n",
       "<style scoped>\n",
       "    .dataframe tbody tr th:only-of-type {\n",
       "        vertical-align: middle;\n",
       "    }\n",
       "\n",
       "    .dataframe tbody tr th {\n",
       "        vertical-align: top;\n",
       "    }\n",
       "\n",
       "    .dataframe thead th {\n",
       "        text-align: right;\n",
       "    }\n",
       "</style>\n",
       "<table border=\"1\" class=\"dataframe\">\n",
       "  <thead>\n",
       "    <tr style=\"text-align: right;\">\n",
       "      <th></th>\n",
       "      <th>children</th>\n",
       "      <th>days_employed</th>\n",
       "      <th>dob_years</th>\n",
       "      <th>education_id</th>\n",
       "      <th>family_status_id</th>\n",
       "      <th>gender</th>\n",
       "      <th>income_type</th>\n",
       "      <th>debt</th>\n",
       "      <th>total_income</th>\n",
       "      <th>purpose</th>\n",
       "    </tr>\n",
       "  </thead>\n",
       "  <tbody>\n",
       "    <tr>\n",
       "      <th>0</th>\n",
       "      <td>1</td>\n",
       "      <td>-8437.673028</td>\n",
       "      <td>42</td>\n",
       "      <td>0</td>\n",
       "      <td>0</td>\n",
       "      <td>F</td>\n",
       "      <td>сотрудник</td>\n",
       "      <td>0</td>\n",
       "      <td>253875</td>\n",
       "      <td>покупка жилья</td>\n",
       "    </tr>\n",
       "    <tr>\n",
       "      <th>1</th>\n",
       "      <td>1</td>\n",
       "      <td>-4024.803754</td>\n",
       "      <td>36</td>\n",
       "      <td>1</td>\n",
       "      <td>0</td>\n",
       "      <td>F</td>\n",
       "      <td>сотрудник</td>\n",
       "      <td>0</td>\n",
       "      <td>112080</td>\n",
       "      <td>приобретение автомобиля</td>\n",
       "    </tr>\n",
       "    <tr>\n",
       "      <th>2</th>\n",
       "      <td>0</td>\n",
       "      <td>-5623.422610</td>\n",
       "      <td>33</td>\n",
       "      <td>1</td>\n",
       "      <td>0</td>\n",
       "      <td>M</td>\n",
       "      <td>сотрудник</td>\n",
       "      <td>0</td>\n",
       "      <td>145885</td>\n",
       "      <td>покупка жилья</td>\n",
       "    </tr>\n",
       "    <tr>\n",
       "      <th>3</th>\n",
       "      <td>3</td>\n",
       "      <td>-4124.747207</td>\n",
       "      <td>32</td>\n",
       "      <td>1</td>\n",
       "      <td>0</td>\n",
       "      <td>M</td>\n",
       "      <td>сотрудник</td>\n",
       "      <td>0</td>\n",
       "      <td>267628</td>\n",
       "      <td>дополнительное образование</td>\n",
       "    </tr>\n",
       "    <tr>\n",
       "      <th>4</th>\n",
       "      <td>0</td>\n",
       "      <td>340266.072047</td>\n",
       "      <td>53</td>\n",
       "      <td>1</td>\n",
       "      <td>1</td>\n",
       "      <td>F</td>\n",
       "      <td>пенсионер</td>\n",
       "      <td>0</td>\n",
       "      <td>158616</td>\n",
       "      <td>сыграть свадьбу</td>\n",
       "    </tr>\n",
       "  </tbody>\n",
       "</table>\n",
       "</div>"
      ],
      "text/plain": [
       "   children  days_employed  dob_years  education_id  family_status_id gender  \\\n",
       "0         1   -8437.673028         42             0                 0      F   \n",
       "1         1   -4024.803754         36             1                 0      F   \n",
       "2         0   -5623.422610         33             1                 0      M   \n",
       "3         3   -4124.747207         32             1                 0      M   \n",
       "4         0  340266.072047         53             1                 1      F   \n",
       "\n",
       "  income_type  debt  total_income                     purpose  \n",
       "0   сотрудник     0        253875               покупка жилья  \n",
       "1   сотрудник     0        112080     приобретение автомобиля  \n",
       "2   сотрудник     0        145885               покупка жилья  \n",
       "3   сотрудник     0        267628  дополнительное образование  \n",
       "4   пенсионер     0        158616             сыграть свадьбу  "
      ]
     },
     "execution_count": 45,
     "metadata": {},
     "output_type": "execute_result"
    }
   ],
   "source": [
    "data.head()"
   ]
  },
  {
   "cell_type": "markdown",
   "id": "f5e225d9",
   "metadata": {},
   "source": [
    "Создадим сводную таблицу, чтобы посмотреть, как распределяются случаи невозврата кредита в срок в зависимости от семейного положения. Частоту невозврата определим с помощью среднего арифметического по колонке \"debt\" - 0 означает возврат кредита в строк, 1 - случай невозврата."
   ]
  },
  {
   "cell_type": "code",
   "execution_count": 46,
   "id": "8b536cd2",
   "metadata": {},
   "outputs": [
    {
     "data": {
      "text/html": [
       "<div>\n",
       "<style scoped>\n",
       "    .dataframe tbody tr th:only-of-type {\n",
       "        vertical-align: middle;\n",
       "    }\n",
       "\n",
       "    .dataframe tbody tr th {\n",
       "        vertical-align: top;\n",
       "    }\n",
       "\n",
       "    .dataframe thead tr th {\n",
       "        text-align: left;\n",
       "    }\n",
       "\n",
       "    .dataframe thead tr:last-of-type th {\n",
       "        text-align: right;\n",
       "    }\n",
       "</style>\n",
       "<table border=\"1\" class=\"dataframe\">\n",
       "  <thead>\n",
       "    <tr>\n",
       "      <th></th>\n",
       "      <th>sum</th>\n",
       "      <th>count</th>\n",
       "      <th>mean</th>\n",
       "    </tr>\n",
       "    <tr>\n",
       "      <th></th>\n",
       "      <th>debt</th>\n",
       "      <th>debt</th>\n",
       "      <th>debt</th>\n",
       "    </tr>\n",
       "    <tr>\n",
       "      <th>family_status_id</th>\n",
       "      <th></th>\n",
       "      <th></th>\n",
       "      <th></th>\n",
       "    </tr>\n",
       "  </thead>\n",
       "  <tbody>\n",
       "    <tr>\n",
       "      <th>2</th>\n",
       "      <td>63</td>\n",
       "      <td>959</td>\n",
       "      <td>0.065693</td>\n",
       "    </tr>\n",
       "    <tr>\n",
       "      <th>3</th>\n",
       "      <td>85</td>\n",
       "      <td>1195</td>\n",
       "      <td>0.071130</td>\n",
       "    </tr>\n",
       "    <tr>\n",
       "      <th>0</th>\n",
       "      <td>931</td>\n",
       "      <td>12339</td>\n",
       "      <td>0.075452</td>\n",
       "    </tr>\n",
       "    <tr>\n",
       "      <th>1</th>\n",
       "      <td>388</td>\n",
       "      <td>4149</td>\n",
       "      <td>0.093517</td>\n",
       "    </tr>\n",
       "    <tr>\n",
       "      <th>4</th>\n",
       "      <td>274</td>\n",
       "      <td>2810</td>\n",
       "      <td>0.097509</td>\n",
       "    </tr>\n",
       "  </tbody>\n",
       "</table>\n",
       "</div>"
      ],
      "text/plain": [
       "                  sum  count      mean\n",
       "                 debt   debt      debt\n",
       "family_status_id                      \n",
       "2                  63    959  0.065693\n",
       "3                  85   1195  0.071130\n",
       "0                 931  12339  0.075452\n",
       "1                 388   4149  0.093517\n",
       "4                 274   2810  0.097509"
      ]
     },
     "execution_count": 46,
     "metadata": {},
     "output_type": "execute_result"
    }
   ],
   "source": [
    "data_pivot_status = data.pivot_table(index=['family_status_id'], values=[\"debt\"], aggfunc=['sum', 'count', 'mean'])\n",
    "data_pivot_status = data_pivot_status.sort_values(by=('mean', 'debt'))\n",
    "data_pivot_status"
   ]
  },
  {
   "cell_type": "markdown",
   "id": "a5bfad5e",
   "metadata": {},
   "source": [
    "Самые ответственные заёмщики - вдовцы и разведенные. Больше всего должников среди заёмщиков в гражданском браке и не в браке.\n"
   ]
  },
  {
   "cell_type": "markdown",
   "id": "58093cf0",
   "metadata": {},
   "source": [
    "### Шаг 2.6. Категоризация дохода."
   ]
  },
  {
   "cell_type": "markdown",
   "id": "601ca349",
   "metadata": {},
   "source": [
    "Сгруппируем столбец с доходами заёмщиков по категориям:\n",
    "\n",
    "0–30000 — 'E';\n",
    "\n",
    "30001–50000 — 'D';\n",
    "\n",
    "50001–200000 — 'C';\n",
    "\n",
    "200001–1000000 — 'B';\n",
    "\n",
    "1000001 и выше — 'A'."
   ]
  },
  {
   "cell_type": "code",
   "execution_count": 47,
   "id": "9102ec88",
   "metadata": {},
   "outputs": [],
   "source": [
    "def income_category(total_income): #создадим функцию, в которой распишем доход по категорям\n",
    "    \n",
    "    if total_income <= 30000:\n",
    "        return 'E'\n",
    "    if total_income <= 50000:\n",
    "        return 'D'\n",
    "    if total_income <= 200000:\n",
    "        return 'C'\n",
    "    if total_income <=1000000:\n",
    "        return 'B'\n",
    "    return 'A' "
   ]
  },
  {
   "cell_type": "code",
   "execution_count": 48,
   "id": "2fbab19c",
   "metadata": {},
   "outputs": [
    {
     "data": {
      "text/plain": [
       "'E'"
      ]
     },
     "execution_count": 48,
     "metadata": {},
     "output_type": "execute_result"
    }
   ],
   "source": [
    "income_category(25000) #проверим, что функция работает"
   ]
  },
  {
   "cell_type": "code",
   "execution_count": 49,
   "id": "d1e8a25c",
   "metadata": {},
   "outputs": [
    {
     "data": {
      "text/html": [
       "<div>\n",
       "<style scoped>\n",
       "    .dataframe tbody tr th:only-of-type {\n",
       "        vertical-align: middle;\n",
       "    }\n",
       "\n",
       "    .dataframe tbody tr th {\n",
       "        vertical-align: top;\n",
       "    }\n",
       "\n",
       "    .dataframe thead th {\n",
       "        text-align: right;\n",
       "    }\n",
       "</style>\n",
       "<table border=\"1\" class=\"dataframe\">\n",
       "  <thead>\n",
       "    <tr style=\"text-align: right;\">\n",
       "      <th></th>\n",
       "      <th>children</th>\n",
       "      <th>days_employed</th>\n",
       "      <th>dob_years</th>\n",
       "      <th>education_id</th>\n",
       "      <th>family_status_id</th>\n",
       "      <th>gender</th>\n",
       "      <th>income_type</th>\n",
       "      <th>debt</th>\n",
       "      <th>total_income</th>\n",
       "      <th>purpose</th>\n",
       "      <th>total_income_category</th>\n",
       "    </tr>\n",
       "  </thead>\n",
       "  <tbody>\n",
       "    <tr>\n",
       "      <th>0</th>\n",
       "      <td>1</td>\n",
       "      <td>-8437.673028</td>\n",
       "      <td>42</td>\n",
       "      <td>0</td>\n",
       "      <td>0</td>\n",
       "      <td>F</td>\n",
       "      <td>сотрудник</td>\n",
       "      <td>0</td>\n",
       "      <td>253875</td>\n",
       "      <td>покупка жилья</td>\n",
       "      <td>B</td>\n",
       "    </tr>\n",
       "    <tr>\n",
       "      <th>1</th>\n",
       "      <td>1</td>\n",
       "      <td>-4024.803754</td>\n",
       "      <td>36</td>\n",
       "      <td>1</td>\n",
       "      <td>0</td>\n",
       "      <td>F</td>\n",
       "      <td>сотрудник</td>\n",
       "      <td>0</td>\n",
       "      <td>112080</td>\n",
       "      <td>приобретение автомобиля</td>\n",
       "      <td>C</td>\n",
       "    </tr>\n",
       "    <tr>\n",
       "      <th>2</th>\n",
       "      <td>0</td>\n",
       "      <td>-5623.422610</td>\n",
       "      <td>33</td>\n",
       "      <td>1</td>\n",
       "      <td>0</td>\n",
       "      <td>M</td>\n",
       "      <td>сотрудник</td>\n",
       "      <td>0</td>\n",
       "      <td>145885</td>\n",
       "      <td>покупка жилья</td>\n",
       "      <td>C</td>\n",
       "    </tr>\n",
       "    <tr>\n",
       "      <th>3</th>\n",
       "      <td>3</td>\n",
       "      <td>-4124.747207</td>\n",
       "      <td>32</td>\n",
       "      <td>1</td>\n",
       "      <td>0</td>\n",
       "      <td>M</td>\n",
       "      <td>сотрудник</td>\n",
       "      <td>0</td>\n",
       "      <td>267628</td>\n",
       "      <td>дополнительное образование</td>\n",
       "      <td>B</td>\n",
       "    </tr>\n",
       "    <tr>\n",
       "      <th>4</th>\n",
       "      <td>0</td>\n",
       "      <td>340266.072047</td>\n",
       "      <td>53</td>\n",
       "      <td>1</td>\n",
       "      <td>1</td>\n",
       "      <td>F</td>\n",
       "      <td>пенсионер</td>\n",
       "      <td>0</td>\n",
       "      <td>158616</td>\n",
       "      <td>сыграть свадьбу</td>\n",
       "      <td>C</td>\n",
       "    </tr>\n",
       "    <tr>\n",
       "      <th>5</th>\n",
       "      <td>0</td>\n",
       "      <td>-926.185831</td>\n",
       "      <td>27</td>\n",
       "      <td>0</td>\n",
       "      <td>1</td>\n",
       "      <td>M</td>\n",
       "      <td>компаньон</td>\n",
       "      <td>0</td>\n",
       "      <td>255763</td>\n",
       "      <td>покупка жилья</td>\n",
       "      <td>B</td>\n",
       "    </tr>\n",
       "    <tr>\n",
       "      <th>6</th>\n",
       "      <td>0</td>\n",
       "      <td>-2879.202052</td>\n",
       "      <td>43</td>\n",
       "      <td>0</td>\n",
       "      <td>0</td>\n",
       "      <td>F</td>\n",
       "      <td>компаньон</td>\n",
       "      <td>0</td>\n",
       "      <td>240525</td>\n",
       "      <td>операции с жильем</td>\n",
       "      <td>B</td>\n",
       "    </tr>\n",
       "    <tr>\n",
       "      <th>7</th>\n",
       "      <td>0</td>\n",
       "      <td>-152.779569</td>\n",
       "      <td>50</td>\n",
       "      <td>1</td>\n",
       "      <td>0</td>\n",
       "      <td>M</td>\n",
       "      <td>сотрудник</td>\n",
       "      <td>0</td>\n",
       "      <td>135823</td>\n",
       "      <td>образование</td>\n",
       "      <td>C</td>\n",
       "    </tr>\n",
       "    <tr>\n",
       "      <th>8</th>\n",
       "      <td>2</td>\n",
       "      <td>-6929.865299</td>\n",
       "      <td>35</td>\n",
       "      <td>0</td>\n",
       "      <td>1</td>\n",
       "      <td>F</td>\n",
       "      <td>сотрудник</td>\n",
       "      <td>0</td>\n",
       "      <td>95856</td>\n",
       "      <td>на проведение свадьбы</td>\n",
       "      <td>C</td>\n",
       "    </tr>\n",
       "    <tr>\n",
       "      <th>9</th>\n",
       "      <td>0</td>\n",
       "      <td>-2188.756445</td>\n",
       "      <td>41</td>\n",
       "      <td>1</td>\n",
       "      <td>0</td>\n",
       "      <td>M</td>\n",
       "      <td>сотрудник</td>\n",
       "      <td>0</td>\n",
       "      <td>144425</td>\n",
       "      <td>покупка жилья для семьи</td>\n",
       "      <td>C</td>\n",
       "    </tr>\n",
       "  </tbody>\n",
       "</table>\n",
       "</div>"
      ],
      "text/plain": [
       "   children  days_employed  dob_years  education_id  family_status_id gender  \\\n",
       "0         1   -8437.673028         42             0                 0      F   \n",
       "1         1   -4024.803754         36             1                 0      F   \n",
       "2         0   -5623.422610         33             1                 0      M   \n",
       "3         3   -4124.747207         32             1                 0      M   \n",
       "4         0  340266.072047         53             1                 1      F   \n",
       "5         0    -926.185831         27             0                 1      M   \n",
       "6         0   -2879.202052         43             0                 0      F   \n",
       "7         0    -152.779569         50             1                 0      M   \n",
       "8         2   -6929.865299         35             0                 1      F   \n",
       "9         0   -2188.756445         41             1                 0      M   \n",
       "\n",
       "  income_type  debt  total_income                     purpose  \\\n",
       "0   сотрудник     0        253875               покупка жилья   \n",
       "1   сотрудник     0        112080     приобретение автомобиля   \n",
       "2   сотрудник     0        145885               покупка жилья   \n",
       "3   сотрудник     0        267628  дополнительное образование   \n",
       "4   пенсионер     0        158616             сыграть свадьбу   \n",
       "5   компаньон     0        255763               покупка жилья   \n",
       "6   компаньон     0        240525           операции с жильем   \n",
       "7   сотрудник     0        135823                 образование   \n",
       "8   сотрудник     0         95856       на проведение свадьбы   \n",
       "9   сотрудник     0        144425     покупка жилья для семьи   \n",
       "\n",
       "  total_income_category  \n",
       "0                     B  \n",
       "1                     C  \n",
       "2                     C  \n",
       "3                     B  \n",
       "4                     C  \n",
       "5                     B  \n",
       "6                     B  \n",
       "7                     C  \n",
       "8                     C  \n",
       "9                     C  "
      ]
     },
     "execution_count": 49,
     "metadata": {},
     "output_type": "execute_result"
    }
   ],
   "source": [
    "data['total_income_category'] = data['total_income'].apply(income_category) #применим функцию, чтобы присвоить категории заёмщикам\n",
    "data.head(10) "
   ]
  },
  {
   "cell_type": "code",
   "execution_count": 50,
   "id": "4cab0e99",
   "metadata": {
    "scrolled": true
   },
   "outputs": [
    {
     "data": {
      "text/plain": [
       "C    16014\n",
       "B     5041\n",
       "D      350\n",
       "A       25\n",
       "E       22\n",
       "Name: total_income_category, dtype: int64"
      ]
     },
     "execution_count": 50,
     "metadata": {},
     "output_type": "execute_result"
    }
   ],
   "source": [
    "data['total_income_category'].value_counts() #посмотрим распределение заёмщиков по уровню дохода"
   ]
  },
  {
   "cell_type": "markdown",
   "id": "382b4c2e",
   "metadata": {},
   "source": [
    "Получается, что реже всех берут кредиты клиенты из категорий с самым низким и самым высоким доходом."
   ]
  },
  {
   "cell_type": "markdown",
   "id": "92a10f07",
   "metadata": {},
   "source": [
    "Создадим сводную таблицу, чтобы посмотреть, как заёмщики возвращают кредиты в зависимости от уровня дохода."
   ]
  },
  {
   "cell_type": "code",
   "execution_count": 51,
   "id": "f5963143",
   "metadata": {},
   "outputs": [
    {
     "data": {
      "text/html": [
       "<div>\n",
       "<style scoped>\n",
       "    .dataframe tbody tr th:only-of-type {\n",
       "        vertical-align: middle;\n",
       "    }\n",
       "\n",
       "    .dataframe tbody tr th {\n",
       "        vertical-align: top;\n",
       "    }\n",
       "\n",
       "    .dataframe thead tr th {\n",
       "        text-align: left;\n",
       "    }\n",
       "\n",
       "    .dataframe thead tr:last-of-type th {\n",
       "        text-align: right;\n",
       "    }\n",
       "</style>\n",
       "<table border=\"1\" class=\"dataframe\">\n",
       "  <thead>\n",
       "    <tr>\n",
       "      <th></th>\n",
       "      <th>sum</th>\n",
       "      <th>count</th>\n",
       "      <th>mean</th>\n",
       "    </tr>\n",
       "    <tr>\n",
       "      <th></th>\n",
       "      <th>debt</th>\n",
       "      <th>debt</th>\n",
       "      <th>debt</th>\n",
       "    </tr>\n",
       "    <tr>\n",
       "      <th>total_income_category</th>\n",
       "      <th></th>\n",
       "      <th></th>\n",
       "      <th></th>\n",
       "    </tr>\n",
       "  </thead>\n",
       "  <tbody>\n",
       "    <tr>\n",
       "      <th>D</th>\n",
       "      <td>21</td>\n",
       "      <td>350</td>\n",
       "      <td>0.060000</td>\n",
       "    </tr>\n",
       "    <tr>\n",
       "      <th>B</th>\n",
       "      <td>356</td>\n",
       "      <td>5041</td>\n",
       "      <td>0.070621</td>\n",
       "    </tr>\n",
       "    <tr>\n",
       "      <th>A</th>\n",
       "      <td>2</td>\n",
       "      <td>25</td>\n",
       "      <td>0.080000</td>\n",
       "    </tr>\n",
       "    <tr>\n",
       "      <th>C</th>\n",
       "      <td>1360</td>\n",
       "      <td>16014</td>\n",
       "      <td>0.084926</td>\n",
       "    </tr>\n",
       "    <tr>\n",
       "      <th>E</th>\n",
       "      <td>2</td>\n",
       "      <td>22</td>\n",
       "      <td>0.090909</td>\n",
       "    </tr>\n",
       "  </tbody>\n",
       "</table>\n",
       "</div>"
      ],
      "text/plain": [
       "                        sum  count      mean\n",
       "                       debt   debt      debt\n",
       "total_income_category                       \n",
       "D                        21    350  0.060000\n",
       "B                       356   5041  0.070621\n",
       "A                         2     25  0.080000\n",
       "C                      1360  16014  0.084926\n",
       "E                         2     22  0.090909"
      ]
     },
     "execution_count": 51,
     "metadata": {},
     "output_type": "execute_result"
    }
   ],
   "source": [
    "data_pivot_income = data.pivot_table(index=['total_income_category'], values=[\"debt\"], aggfunc=['sum', 'count', 'mean'])\n",
    "data_pivot_income = data_pivot_income.sort_values(by=('mean', 'debt'))\n",
    "data_pivot_income"
   ]
  },
  {
   "cell_type": "code",
   "execution_count": 52,
   "id": "698e85ec",
   "metadata": {},
   "outputs": [
    {
     "data": {
      "text/html": [
       "<style type=\"text/css\">\n",
       "</style>\n",
       "<table id=\"T_a2a71\">\n",
       "  <thead>\n",
       "    <tr>\n",
       "      <th class=\"blank level0\" >&nbsp;</th>\n",
       "      <th id=\"T_a2a71_level0_col0\" class=\"col_heading level0 col0\" >sum</th>\n",
       "      <th id=\"T_a2a71_level0_col1\" class=\"col_heading level0 col1\" >count</th>\n",
       "      <th id=\"T_a2a71_level0_col2\" class=\"col_heading level0 col2\" >mean</th>\n",
       "    </tr>\n",
       "    <tr>\n",
       "      <th class=\"blank level1\" >&nbsp;</th>\n",
       "      <th id=\"T_a2a71_level1_col0\" class=\"col_heading level1 col0\" >debt</th>\n",
       "      <th id=\"T_a2a71_level1_col1\" class=\"col_heading level1 col1\" >debt</th>\n",
       "      <th id=\"T_a2a71_level1_col2\" class=\"col_heading level1 col2\" >debt</th>\n",
       "    </tr>\n",
       "    <tr>\n",
       "      <th class=\"index_name level0\" >total_income_category</th>\n",
       "      <th class=\"blank col0\" >&nbsp;</th>\n",
       "      <th class=\"blank col1\" >&nbsp;</th>\n",
       "      <th class=\"blank col2\" >&nbsp;</th>\n",
       "    </tr>\n",
       "  </thead>\n",
       "  <tbody>\n",
       "    <tr>\n",
       "      <th id=\"T_a2a71_level0_row0\" class=\"row_heading level0 row0\" >D</th>\n",
       "      <td id=\"T_a2a71_row0_col0\" class=\"data row0 col0\" >21</td>\n",
       "      <td id=\"T_a2a71_row0_col1\" class=\"data row0 col1\" >350</td>\n",
       "      <td id=\"T_a2a71_row0_col2\" class=\"data row0 col2\" >6.00%</td>\n",
       "    </tr>\n",
       "    <tr>\n",
       "      <th id=\"T_a2a71_level0_row1\" class=\"row_heading level0 row1\" >B</th>\n",
       "      <td id=\"T_a2a71_row1_col0\" class=\"data row1 col0\" >356</td>\n",
       "      <td id=\"T_a2a71_row1_col1\" class=\"data row1 col1\" >5041</td>\n",
       "      <td id=\"T_a2a71_row1_col2\" class=\"data row1 col2\" >7.06%</td>\n",
       "    </tr>\n",
       "    <tr>\n",
       "      <th id=\"T_a2a71_level0_row2\" class=\"row_heading level0 row2\" >A</th>\n",
       "      <td id=\"T_a2a71_row2_col0\" class=\"data row2 col0\" >2</td>\n",
       "      <td id=\"T_a2a71_row2_col1\" class=\"data row2 col1\" >25</td>\n",
       "      <td id=\"T_a2a71_row2_col2\" class=\"data row2 col2\" >8.00%</td>\n",
       "    </tr>\n",
       "    <tr>\n",
       "      <th id=\"T_a2a71_level0_row3\" class=\"row_heading level0 row3\" >C</th>\n",
       "      <td id=\"T_a2a71_row3_col0\" class=\"data row3 col0\" >1360</td>\n",
       "      <td id=\"T_a2a71_row3_col1\" class=\"data row3 col1\" >16014</td>\n",
       "      <td id=\"T_a2a71_row3_col2\" class=\"data row3 col2\" >8.49%</td>\n",
       "    </tr>\n",
       "    <tr>\n",
       "      <th id=\"T_a2a71_level0_row4\" class=\"row_heading level0 row4\" >E</th>\n",
       "      <td id=\"T_a2a71_row4_col0\" class=\"data row4 col0\" >2</td>\n",
       "      <td id=\"T_a2a71_row4_col1\" class=\"data row4 col1\" >22</td>\n",
       "      <td id=\"T_a2a71_row4_col2\" class=\"data row4 col2\" >9.09%</td>\n",
       "    </tr>\n",
       "  </tbody>\n",
       "</table>\n"
      ],
      "text/plain": [
       "<pandas.io.formats.style.Styler at 0x132dd5b2280>"
      ]
     },
     "execution_count": 52,
     "metadata": {},
     "output_type": "execute_result"
    }
   ],
   "source": [
    "data_pivot_income.style.format({('mean', 'debt'): '{:.2%}'})"
   ]
  },
  {
   "cell_type": "markdown",
   "id": "82ae0b67",
   "metadata": {},
   "source": [
    "Меньше всего должников в группе с доходом чуть выше минимального. А больше всего - в группе с минимальным доходом. Явной зависимости между уровнем дохода и возвратом кредита в срок не наблюдается."
   ]
  },
  {
   "cell_type": "markdown",
   "id": "292caab4",
   "metadata": {},
   "source": [
    "### Шаг 2.7. Категоризация целей кредита."
   ]
  },
  {
   "cell_type": "markdown",
   "id": "66b1f202",
   "metadata": {},
   "source": [
    "Создадим функцию, которая поможет нам сделать категории целей кредита более крупными, т.к. в соответствующем столбце содержится\n",
    "много похожих названий."
   ]
  },
  {
   "cell_type": "code",
   "execution_count": 53,
   "id": "a4782025",
   "metadata": {},
   "outputs": [],
   "source": [
    "def purpose_group(purpose):\n",
    "    \n",
    "    if ('жилья' in purpose or 'недвижимости' in purpose\n",
    "        or 'недвижимостью' in purpose\n",
    "        or 'недвижимость' in purpose\n",
    "        or 'жилье' in purpose\n",
    "        or 'жилью' in purpose\n",
    "        or 'жильем' in purpose):\n",
    "        return 'операции с недвижимостью'   \n",
    "   \n",
    "    elif ('автомобиля' in purpose or 'автомобилем' in purpose\n",
    "        or 'автомобиль' in purpose\n",
    "        or 'автомобили' in purpose):\n",
    "        return 'операции с автомобилем'\n",
    "    \n",
    "    elif ('образование' in purpose or 'образования' in purpose\n",
    "        or 'образованием' in purpose):\n",
    "        return 'получение образования'\n",
    "        \n",
    "    elif ('свадьбу' in purpose or 'свадьбы' in purpose\n",
    "        or 'свадьба' in purpose):\n",
    "        return 'проведение свадьбы'\n",
    "    "
   ]
  },
  {
   "cell_type": "code",
   "execution_count": 54,
   "id": "72d9b641",
   "metadata": {},
   "outputs": [
    {
     "data": {
      "text/plain": [
       "'проведение свадьбы'"
      ]
     },
     "execution_count": 54,
     "metadata": {},
     "output_type": "execute_result"
    }
   ],
   "source": [
    "purpose_group('свадьба') #проверим, как работает функция"
   ]
  },
  {
   "cell_type": "markdown",
   "id": "bc7d58d7",
   "metadata": {},
   "source": [
    "Создадим новый столбец purpose_category с категориями целей\n",
    "в зависимости от содержания в столбце с целью получения кредита. Это поможет укрупнить категории."
   ]
  },
  {
   "cell_type": "code",
   "execution_count": 55,
   "id": "e28f8e38",
   "metadata": {
    "scrolled": true
   },
   "outputs": [
    {
     "data": {
      "text/html": [
       "<div>\n",
       "<style scoped>\n",
       "    .dataframe tbody tr th:only-of-type {\n",
       "        vertical-align: middle;\n",
       "    }\n",
       "\n",
       "    .dataframe tbody tr th {\n",
       "        vertical-align: top;\n",
       "    }\n",
       "\n",
       "    .dataframe thead th {\n",
       "        text-align: right;\n",
       "    }\n",
       "</style>\n",
       "<table border=\"1\" class=\"dataframe\">\n",
       "  <thead>\n",
       "    <tr style=\"text-align: right;\">\n",
       "      <th></th>\n",
       "      <th>children</th>\n",
       "      <th>days_employed</th>\n",
       "      <th>dob_years</th>\n",
       "      <th>education_id</th>\n",
       "      <th>family_status_id</th>\n",
       "      <th>gender</th>\n",
       "      <th>income_type</th>\n",
       "      <th>debt</th>\n",
       "      <th>total_income</th>\n",
       "      <th>purpose</th>\n",
       "      <th>total_income_category</th>\n",
       "      <th>purpose_category</th>\n",
       "    </tr>\n",
       "  </thead>\n",
       "  <tbody>\n",
       "    <tr>\n",
       "      <th>0</th>\n",
       "      <td>1</td>\n",
       "      <td>-8437.673028</td>\n",
       "      <td>42</td>\n",
       "      <td>0</td>\n",
       "      <td>0</td>\n",
       "      <td>F</td>\n",
       "      <td>сотрудник</td>\n",
       "      <td>0</td>\n",
       "      <td>253875</td>\n",
       "      <td>покупка жилья</td>\n",
       "      <td>B</td>\n",
       "      <td>операции с недвижимостью</td>\n",
       "    </tr>\n",
       "    <tr>\n",
       "      <th>1</th>\n",
       "      <td>1</td>\n",
       "      <td>-4024.803754</td>\n",
       "      <td>36</td>\n",
       "      <td>1</td>\n",
       "      <td>0</td>\n",
       "      <td>F</td>\n",
       "      <td>сотрудник</td>\n",
       "      <td>0</td>\n",
       "      <td>112080</td>\n",
       "      <td>приобретение автомобиля</td>\n",
       "      <td>C</td>\n",
       "      <td>операции с автомобилем</td>\n",
       "    </tr>\n",
       "    <tr>\n",
       "      <th>2</th>\n",
       "      <td>0</td>\n",
       "      <td>-5623.422610</td>\n",
       "      <td>33</td>\n",
       "      <td>1</td>\n",
       "      <td>0</td>\n",
       "      <td>M</td>\n",
       "      <td>сотрудник</td>\n",
       "      <td>0</td>\n",
       "      <td>145885</td>\n",
       "      <td>покупка жилья</td>\n",
       "      <td>C</td>\n",
       "      <td>операции с недвижимостью</td>\n",
       "    </tr>\n",
       "    <tr>\n",
       "      <th>3</th>\n",
       "      <td>3</td>\n",
       "      <td>-4124.747207</td>\n",
       "      <td>32</td>\n",
       "      <td>1</td>\n",
       "      <td>0</td>\n",
       "      <td>M</td>\n",
       "      <td>сотрудник</td>\n",
       "      <td>0</td>\n",
       "      <td>267628</td>\n",
       "      <td>дополнительное образование</td>\n",
       "      <td>B</td>\n",
       "      <td>получение образования</td>\n",
       "    </tr>\n",
       "    <tr>\n",
       "      <th>4</th>\n",
       "      <td>0</td>\n",
       "      <td>340266.072047</td>\n",
       "      <td>53</td>\n",
       "      <td>1</td>\n",
       "      <td>1</td>\n",
       "      <td>F</td>\n",
       "      <td>пенсионер</td>\n",
       "      <td>0</td>\n",
       "      <td>158616</td>\n",
       "      <td>сыграть свадьбу</td>\n",
       "      <td>C</td>\n",
       "      <td>проведение свадьбы</td>\n",
       "    </tr>\n",
       "    <tr>\n",
       "      <th>5</th>\n",
       "      <td>0</td>\n",
       "      <td>-926.185831</td>\n",
       "      <td>27</td>\n",
       "      <td>0</td>\n",
       "      <td>1</td>\n",
       "      <td>M</td>\n",
       "      <td>компаньон</td>\n",
       "      <td>0</td>\n",
       "      <td>255763</td>\n",
       "      <td>покупка жилья</td>\n",
       "      <td>B</td>\n",
       "      <td>операции с недвижимостью</td>\n",
       "    </tr>\n",
       "    <tr>\n",
       "      <th>6</th>\n",
       "      <td>0</td>\n",
       "      <td>-2879.202052</td>\n",
       "      <td>43</td>\n",
       "      <td>0</td>\n",
       "      <td>0</td>\n",
       "      <td>F</td>\n",
       "      <td>компаньон</td>\n",
       "      <td>0</td>\n",
       "      <td>240525</td>\n",
       "      <td>операции с жильем</td>\n",
       "      <td>B</td>\n",
       "      <td>операции с недвижимостью</td>\n",
       "    </tr>\n",
       "    <tr>\n",
       "      <th>7</th>\n",
       "      <td>0</td>\n",
       "      <td>-152.779569</td>\n",
       "      <td>50</td>\n",
       "      <td>1</td>\n",
       "      <td>0</td>\n",
       "      <td>M</td>\n",
       "      <td>сотрудник</td>\n",
       "      <td>0</td>\n",
       "      <td>135823</td>\n",
       "      <td>образование</td>\n",
       "      <td>C</td>\n",
       "      <td>получение образования</td>\n",
       "    </tr>\n",
       "    <tr>\n",
       "      <th>8</th>\n",
       "      <td>2</td>\n",
       "      <td>-6929.865299</td>\n",
       "      <td>35</td>\n",
       "      <td>0</td>\n",
       "      <td>1</td>\n",
       "      <td>F</td>\n",
       "      <td>сотрудник</td>\n",
       "      <td>0</td>\n",
       "      <td>95856</td>\n",
       "      <td>на проведение свадьбы</td>\n",
       "      <td>C</td>\n",
       "      <td>проведение свадьбы</td>\n",
       "    </tr>\n",
       "    <tr>\n",
       "      <th>9</th>\n",
       "      <td>0</td>\n",
       "      <td>-2188.756445</td>\n",
       "      <td>41</td>\n",
       "      <td>1</td>\n",
       "      <td>0</td>\n",
       "      <td>M</td>\n",
       "      <td>сотрудник</td>\n",
       "      <td>0</td>\n",
       "      <td>144425</td>\n",
       "      <td>покупка жилья для семьи</td>\n",
       "      <td>C</td>\n",
       "      <td>операции с недвижимостью</td>\n",
       "    </tr>\n",
       "  </tbody>\n",
       "</table>\n",
       "</div>"
      ],
      "text/plain": [
       "   children  days_employed  dob_years  education_id  family_status_id gender  \\\n",
       "0         1   -8437.673028         42             0                 0      F   \n",
       "1         1   -4024.803754         36             1                 0      F   \n",
       "2         0   -5623.422610         33             1                 0      M   \n",
       "3         3   -4124.747207         32             1                 0      M   \n",
       "4         0  340266.072047         53             1                 1      F   \n",
       "5         0    -926.185831         27             0                 1      M   \n",
       "6         0   -2879.202052         43             0                 0      F   \n",
       "7         0    -152.779569         50             1                 0      M   \n",
       "8         2   -6929.865299         35             0                 1      F   \n",
       "9         0   -2188.756445         41             1                 0      M   \n",
       "\n",
       "  income_type  debt  total_income                     purpose  \\\n",
       "0   сотрудник     0        253875               покупка жилья   \n",
       "1   сотрудник     0        112080     приобретение автомобиля   \n",
       "2   сотрудник     0        145885               покупка жилья   \n",
       "3   сотрудник     0        267628  дополнительное образование   \n",
       "4   пенсионер     0        158616             сыграть свадьбу   \n",
       "5   компаньон     0        255763               покупка жилья   \n",
       "6   компаньон     0        240525           операции с жильем   \n",
       "7   сотрудник     0        135823                 образование   \n",
       "8   сотрудник     0         95856       на проведение свадьбы   \n",
       "9   сотрудник     0        144425     покупка жилья для семьи   \n",
       "\n",
       "  total_income_category          purpose_category  \n",
       "0                     B  операции с недвижимостью  \n",
       "1                     C    операции с автомобилем  \n",
       "2                     C  операции с недвижимостью  \n",
       "3                     B     получение образования  \n",
       "4                     C        проведение свадьбы  \n",
       "5                     B  операции с недвижимостью  \n",
       "6                     B  операции с недвижимостью  \n",
       "7                     C     получение образования  \n",
       "8                     C        проведение свадьбы  \n",
       "9                     C  операции с недвижимостью  "
      ]
     },
     "execution_count": 55,
     "metadata": {},
     "output_type": "execute_result"
    }
   ],
   "source": [
    "data['purpose_category'] = data['purpose'].apply(purpose_group)\n",
    "data.head(10) "
   ]
  },
  {
   "cell_type": "markdown",
   "id": "e62d503a",
   "metadata": {},
   "source": [
    "Теперь можно проверить, какое количество кредитов берут под конкретную категорию."
   ]
  },
  {
   "cell_type": "code",
   "execution_count": 56,
   "id": "e9a354db",
   "metadata": {},
   "outputs": [
    {
     "data": {
      "text/plain": [
       "операции с недвижимостью    10810\n",
       "операции с автомобилем       4306\n",
       "получение образования        4013\n",
       "проведение свадьбы           2323\n",
       "Name: purpose_category, dtype: int64"
      ]
     },
     "execution_count": 56,
     "metadata": {},
     "output_type": "execute_result"
    }
   ],
   "source": [
    "data['purpose_category'].value_counts()"
   ]
  },
  {
   "cell_type": "markdown",
   "id": "a6229c2f",
   "metadata": {},
   "source": [
    "Наибольшее число кредитов приходится на операции с недвижимостью. Чем дороже стоит достижение цели, тем чаще люди обращаются за кредитом."
   ]
  },
  {
   "cell_type": "code",
   "execution_count": 57,
   "id": "ac972cbd",
   "metadata": {},
   "outputs": [
    {
     "data": {
      "text/html": [
       "<div>\n",
       "<style scoped>\n",
       "    .dataframe tbody tr th:only-of-type {\n",
       "        vertical-align: middle;\n",
       "    }\n",
       "\n",
       "    .dataframe tbody tr th {\n",
       "        vertical-align: top;\n",
       "    }\n",
       "\n",
       "    .dataframe thead tr th {\n",
       "        text-align: left;\n",
       "    }\n",
       "\n",
       "    .dataframe thead tr:last-of-type th {\n",
       "        text-align: right;\n",
       "    }\n",
       "</style>\n",
       "<table border=\"1\" class=\"dataframe\">\n",
       "  <thead>\n",
       "    <tr>\n",
       "      <th></th>\n",
       "      <th>sum</th>\n",
       "      <th>count</th>\n",
       "      <th>mean</th>\n",
       "    </tr>\n",
       "    <tr>\n",
       "      <th></th>\n",
       "      <th>debt</th>\n",
       "      <th>debt</th>\n",
       "      <th>debt</th>\n",
       "    </tr>\n",
       "    <tr>\n",
       "      <th>purpose_category</th>\n",
       "      <th></th>\n",
       "      <th></th>\n",
       "      <th></th>\n",
       "    </tr>\n",
       "  </thead>\n",
       "  <tbody>\n",
       "    <tr>\n",
       "      <th>операции с недвижимостью</th>\n",
       "      <td>782</td>\n",
       "      <td>10810</td>\n",
       "      <td>0.072340</td>\n",
       "    </tr>\n",
       "    <tr>\n",
       "      <th>проведение свадьбы</th>\n",
       "      <td>186</td>\n",
       "      <td>2323</td>\n",
       "      <td>0.080069</td>\n",
       "    </tr>\n",
       "    <tr>\n",
       "      <th>получение образования</th>\n",
       "      <td>370</td>\n",
       "      <td>4013</td>\n",
       "      <td>0.092200</td>\n",
       "    </tr>\n",
       "    <tr>\n",
       "      <th>операции с автомобилем</th>\n",
       "      <td>403</td>\n",
       "      <td>4306</td>\n",
       "      <td>0.093590</td>\n",
       "    </tr>\n",
       "  </tbody>\n",
       "</table>\n",
       "</div>"
      ],
      "text/plain": [
       "                          sum  count      mean\n",
       "                         debt   debt      debt\n",
       "purpose_category                              \n",
       "операции с недвижимостью  782  10810  0.072340\n",
       "проведение свадьбы        186   2323  0.080069\n",
       "получение образования     370   4013  0.092200\n",
       "операции с автомобилем    403   4306  0.093590"
      ]
     },
     "execution_count": 57,
     "metadata": {},
     "output_type": "execute_result"
    }
   ],
   "source": [
    "data_pivot_purpose = data.pivot_table(index=['purpose_category'], values=[\"debt\"], aggfunc=['sum', 'count', 'mean'])\n",
    "data_pivot_purpose = data_pivot_purpose.sort_values(by=('mean', 'debt'))\n",
    "data_pivot_purpose"
   ]
  },
  {
   "cell_type": "markdown",
   "id": "6e388975",
   "metadata": {},
   "source": [
    "Заёмщики, которые берут кредит для осуществления операций с недвижимостью, чаще остальных возвращают кредиты в срок. А больше всего должников среди тех, кто брал кредит под получение образования и операции с автомобилем."
   ]
  },
  {
   "cell_type": "markdown",
   "id": "259270e4",
   "metadata": {},
   "source": [
    "Проанализируем, как часто клиенты возвращают кредит в срок в зависимости от количества детей.\n",
    "Создадим сводную таблицу и проверим тем же методом, что и по другим категориям."
   ]
  },
  {
   "cell_type": "code",
   "execution_count": 58,
   "id": "818b685a",
   "metadata": {},
   "outputs": [
    {
     "data": {
      "text/html": [
       "<div>\n",
       "<style scoped>\n",
       "    .dataframe tbody tr th:only-of-type {\n",
       "        vertical-align: middle;\n",
       "    }\n",
       "\n",
       "    .dataframe tbody tr th {\n",
       "        vertical-align: top;\n",
       "    }\n",
       "\n",
       "    .dataframe thead tr th {\n",
       "        text-align: left;\n",
       "    }\n",
       "\n",
       "    .dataframe thead tr:last-of-type th {\n",
       "        text-align: right;\n",
       "    }\n",
       "</style>\n",
       "<table border=\"1\" class=\"dataframe\">\n",
       "  <thead>\n",
       "    <tr>\n",
       "      <th></th>\n",
       "      <th>sum</th>\n",
       "      <th>count</th>\n",
       "      <th>mean</th>\n",
       "    </tr>\n",
       "    <tr>\n",
       "      <th></th>\n",
       "      <th>debt</th>\n",
       "      <th>debt</th>\n",
       "      <th>debt</th>\n",
       "    </tr>\n",
       "    <tr>\n",
       "      <th>children</th>\n",
       "      <th></th>\n",
       "      <th></th>\n",
       "      <th></th>\n",
       "    </tr>\n",
       "  </thead>\n",
       "  <tbody>\n",
       "    <tr>\n",
       "      <th>5</th>\n",
       "      <td>0</td>\n",
       "      <td>9</td>\n",
       "      <td>0.000000</td>\n",
       "    </tr>\n",
       "    <tr>\n",
       "      <th>0</th>\n",
       "      <td>1063</td>\n",
       "      <td>14089</td>\n",
       "      <td>0.075449</td>\n",
       "    </tr>\n",
       "    <tr>\n",
       "      <th>3</th>\n",
       "      <td>27</td>\n",
       "      <td>330</td>\n",
       "      <td>0.081818</td>\n",
       "    </tr>\n",
       "    <tr>\n",
       "      <th>1</th>\n",
       "      <td>445</td>\n",
       "      <td>4855</td>\n",
       "      <td>0.091658</td>\n",
       "    </tr>\n",
       "    <tr>\n",
       "      <th>2</th>\n",
       "      <td>202</td>\n",
       "      <td>2128</td>\n",
       "      <td>0.094925</td>\n",
       "    </tr>\n",
       "    <tr>\n",
       "      <th>4</th>\n",
       "      <td>4</td>\n",
       "      <td>41</td>\n",
       "      <td>0.097561</td>\n",
       "    </tr>\n",
       "  </tbody>\n",
       "</table>\n",
       "</div>"
      ],
      "text/plain": [
       "           sum  count      mean\n",
       "          debt   debt      debt\n",
       "children                       \n",
       "5            0      9  0.000000\n",
       "0         1063  14089  0.075449\n",
       "3           27    330  0.081818\n",
       "1          445   4855  0.091658\n",
       "2          202   2128  0.094925\n",
       "4            4     41  0.097561"
      ]
     },
     "execution_count": 58,
     "metadata": {},
     "output_type": "execute_result"
    }
   ],
   "source": [
    "data_pivot_children = data.pivot_table(index=['children'], values=[\"debt\"], aggfunc=['sum', 'count', 'mean'])\n",
    "data_pivot_children = data_pivot_children.sort_values(by=('mean', 'debt'))\n",
    "data_pivot_children"
   ]
  },
  {
   "cell_type": "markdown",
   "id": "4de22c0b",
   "metadata": {},
   "source": [
    "Среди заемщиков, у которых 5 детей, должников нет, кредиты возвращены в срок. Но таких всего 9 человек, не слишком большая выборка, чтобы делать устойчивые выводы.\n",
    "Среди тех, у кого нет детей, частота возвратов кредита в срок максимальная, а с увеличением количества детей частота падает, хотя среди заёмщиков с тремя детьми возврат кредита в срок происходит чаще, чем среди тех, у кого один ребенок или их двое."
   ]
  },
  {
   "cell_type": "markdown",
   "id": "f2edf37a",
   "metadata": {},
   "source": [
    "### Ответы на вопросы."
   ]
  },
  {
   "cell_type": "markdown",
   "id": "9eaac247",
   "metadata": {},
   "source": [
    "##### Вопрос 1:\n",
    "Есть ли зависимость между количеством детей и возвратом кредита в срок?\n",
    "##### Вывод 1:\n",
    "Прямой зависимости между количеством детей и возвратом кредита в срок нет, но те не менее, среди заёмщиков без детей средства возвращаются вовремя чаще.\n",
    "\n",
    "##### Вопрос 2:\n",
    "Есть ли зависимость между семейным положением и возвратом кредита в срок?\n",
    "##### Вывод 2:\n",
    "Семейное положение влияет на возврат кредита в срок. Самые ответственные заёмщики - вдовцы и разведенные. Больше всего должников среди заёмщиков в гражданском браке и не в браке.\n",
    "\n",
    "##### Вопрос 3:\n",
    "Есть ли зависимость между уровнем дохода и возвратом кредита в срок?\n",
    "##### Вывод 3:\n",
    "Меньше всего должников в группе с доходом чуть выше минимального. А больше всего - в группе с минимальным доходом. \n",
    "Явной зависимости между уровнем дохода и возвратом кредита в срок не наблюдается, но наиболее рисковая категория - клиенты с низким уровнем дохода.\n",
    "\n",
    "##### Вопрос 4:\n",
    "Как разные цели кредита влияют на его возврат в срок?\n",
    "##### Вывод 4:\n",
    "Заёмщики, которые берут кредит для осуществления операций с недвижимостью, чаще остальных возвращают кредиты в срок. А больше всего должников среди тех, кто брал кредит под получение образования и операции с автомобилем.\n"
   ]
  },
  {
   "cell_type": "markdown",
   "id": "e333e410",
   "metadata": {},
   "source": [
    "## Общий вывод:"
   ]
  },
  {
   "cell_type": "markdown",
   "id": "7f339276",
   "metadata": {},
   "source": [
    "Проанализировав данные от банка, можно прийти к выводам:\n",
    "1. Чаще всего клиенты обращаются за кредитом для проведения операций с недвижимостью.\n",
    "2. Самые частые клиенты - люди в браке и без детей, их доход - средний. Это логично. Молодые семьи стараются обзавестись недвижимостью до рождения ребенка.\n",
    "\n",
    "3. После проведения анализа по возврату кредита в срок в зависимости от нахождения в разных категориях можно нарисовать портрет идеального заёмщика:\n",
    "- нет детей\n",
    "- кредит нужен под операции с недвижимостью\n",
    "- доход - выше среднего (группа B)\n",
    "- статус - вдовцы и разведенные.\n",
    "\n",
    "Неблагоприятный заёмщик:\n",
    "- 4 детей\n",
    "- кредит под операции с автомобилем\n",
    "- минимальный доход (группа Е)\n",
    "- не состоит в браке."
   ]
  },
  {
   "cell_type": "code",
   "execution_count": null,
   "id": "df8e8c01",
   "metadata": {},
   "outputs": [],
   "source": []
  }
 ],
 "metadata": {
  "ExecuteTimeLog": [
   {
    "duration": 621,
    "start_time": "2022-02-27T13:51:31.691Z"
   },
   {
    "duration": 319,
    "start_time": "2022-02-27T13:52:36.464Z"
   },
   {
    "duration": 50,
    "start_time": "2022-02-27T13:52:48.597Z"
   },
   {
    "duration": 11,
    "start_time": "2022-02-27T13:53:59.146Z"
   },
   {
    "duration": 10,
    "start_time": "2022-02-27T14:13:17.689Z"
   },
   {
    "duration": 11,
    "start_time": "2022-02-27T14:20:46.324Z"
   },
   {
    "duration": 10,
    "start_time": "2022-02-27T14:30:39.892Z"
   },
   {
    "duration": 6,
    "start_time": "2022-02-27T14:30:57.552Z"
   },
   {
    "duration": 6,
    "start_time": "2022-02-27T14:32:21.653Z"
   },
   {
    "duration": 6,
    "start_time": "2022-02-27T14:32:34.126Z"
   },
   {
    "duration": 6,
    "start_time": "2022-02-27T14:33:00.109Z"
   },
   {
    "duration": 7,
    "start_time": "2022-02-27T14:33:42.246Z"
   },
   {
    "duration": 5,
    "start_time": "2022-02-27T14:34:07.778Z"
   },
   {
    "duration": 6,
    "start_time": "2022-02-27T14:35:35.108Z"
   },
   {
    "duration": 6,
    "start_time": "2022-02-27T14:35:40.874Z"
   },
   {
    "duration": 4,
    "start_time": "2022-02-27T15:01:23.308Z"
   },
   {
    "duration": 4,
    "start_time": "2022-02-27T15:01:37.391Z"
   },
   {
    "duration": 7,
    "start_time": "2022-02-27T15:01:50.396Z"
   },
   {
    "duration": 6,
    "start_time": "2022-02-27T15:02:17.976Z"
   },
   {
    "duration": 6,
    "start_time": "2022-02-27T15:02:31.791Z"
   },
   {
    "duration": 7,
    "start_time": "2022-02-27T15:02:56.864Z"
   },
   {
    "duration": 7,
    "start_time": "2022-02-27T15:23:34.351Z"
   },
   {
    "duration": 4,
    "start_time": "2022-02-27T15:27:40.978Z"
   },
   {
    "duration": 231,
    "start_time": "2022-02-27T15:27:58.774Z"
   },
   {
    "duration": 7,
    "start_time": "2022-02-27T15:28:08.179Z"
   },
   {
    "duration": 227,
    "start_time": "2022-02-27T15:28:18.370Z"
   },
   {
    "duration": 6,
    "start_time": "2022-02-27T15:29:02.073Z"
   },
   {
    "duration": 7,
    "start_time": "2022-02-27T15:29:14.684Z"
   },
   {
    "duration": 3179,
    "start_time": "2022-02-27T15:31:17.164Z"
   },
   {
    "duration": 269,
    "start_time": "2022-02-27T15:36:05.511Z"
   },
   {
    "duration": 319,
    "start_time": "2022-02-27T15:36:46.518Z"
   },
   {
    "duration": 332,
    "start_time": "2022-02-27T15:36:49.881Z"
   },
   {
    "duration": 227,
    "start_time": "2022-02-27T15:40:24.956Z"
   },
   {
    "duration": 7,
    "start_time": "2022-02-27T15:40:32.983Z"
   },
   {
    "duration": 246,
    "start_time": "2022-02-27T15:40:46.489Z"
   },
   {
    "duration": 224,
    "start_time": "2022-02-27T15:41:00.012Z"
   },
   {
    "duration": 229,
    "start_time": "2022-02-27T15:44:29.619Z"
   },
   {
    "duration": 6,
    "start_time": "2022-02-27T15:44:42.786Z"
   },
   {
    "duration": 6,
    "start_time": "2022-02-27T15:44:46.409Z"
   },
   {
    "duration": 10,
    "start_time": "2022-02-27T15:44:57.532Z"
   },
   {
    "duration": 10,
    "start_time": "2022-02-27T15:45:08.873Z"
   },
   {
    "duration": 22,
    "start_time": "2022-02-27T16:07:21.496Z"
   },
   {
    "duration": 10,
    "start_time": "2022-02-27T16:08:27.896Z"
   },
   {
    "duration": 227,
    "start_time": "2022-02-27T16:11:59.364Z"
   },
   {
    "duration": 52,
    "start_time": "2022-02-27T16:19:37.130Z"
   },
   {
    "duration": 10,
    "start_time": "2022-02-27T16:19:51.171Z"
   },
   {
    "duration": 103,
    "start_time": "2022-02-27T16:44:19.028Z"
   },
   {
    "duration": 11,
    "start_time": "2022-02-27T16:44:30.530Z"
   },
   {
    "duration": 10,
    "start_time": "2022-02-27T16:44:34.250Z"
   },
   {
    "duration": 10,
    "start_time": "2022-02-27T16:44:38.966Z"
   },
   {
    "duration": 5,
    "start_time": "2022-02-27T17:06:21.014Z"
   },
   {
    "duration": 233,
    "start_time": "2022-02-27T17:06:45.098Z"
   },
   {
    "duration": 6,
    "start_time": "2022-02-27T17:07:10.239Z"
   },
   {
    "duration": 5,
    "start_time": "2022-02-27T17:09:28.722Z"
   },
   {
    "duration": 5,
    "start_time": "2022-02-27T17:09:46.693Z"
   },
   {
    "duration": 7,
    "start_time": "2022-02-27T17:10:05.248Z"
   },
   {
    "duration": 4,
    "start_time": "2022-02-27T17:13:01.080Z"
   },
   {
    "duration": 3,
    "start_time": "2022-02-27T17:13:41.034Z"
   },
   {
    "duration": 6,
    "start_time": "2022-02-27T17:13:49.975Z"
   },
   {
    "duration": 5,
    "start_time": "2022-02-27T17:18:12.156Z"
   },
   {
    "duration": 6,
    "start_time": "2022-02-27T17:25:30.215Z"
   },
   {
    "duration": 23,
    "start_time": "2022-02-27T17:27:38.905Z"
   },
   {
    "duration": 7,
    "start_time": "2022-02-27T17:27:52.799Z"
   },
   {
    "duration": 8,
    "start_time": "2022-02-27T17:31:48.788Z"
   },
   {
    "duration": 8,
    "start_time": "2022-02-27T17:31:57.806Z"
   },
   {
    "duration": 593,
    "start_time": "2022-02-27T17:32:07.932Z"
   },
   {
    "duration": 633,
    "start_time": "2022-02-27T17:32:16.869Z"
   },
   {
    "duration": 6,
    "start_time": "2022-02-27T17:32:26.829Z"
   },
   {
    "duration": 7,
    "start_time": "2022-02-27T17:32:51.842Z"
   },
   {
    "duration": 7,
    "start_time": "2022-02-27T17:35:53.424Z"
   },
   {
    "duration": 7,
    "start_time": "2022-02-27T17:35:54.992Z"
   },
   {
    "duration": 5,
    "start_time": "2022-02-27T17:38:47.469Z"
   },
   {
    "duration": 6,
    "start_time": "2022-02-27T17:39:37.802Z"
   },
   {
    "duration": 85,
    "start_time": "2022-02-27T17:42:03.696Z"
   },
   {
    "duration": 84,
    "start_time": "2022-02-27T17:42:07.933Z"
   },
   {
    "duration": 245,
    "start_time": "2022-02-27T17:42:16.786Z"
   },
   {
    "duration": 7,
    "start_time": "2022-02-27T17:42:30.965Z"
   },
   {
    "duration": 7,
    "start_time": "2022-02-27T17:42:55.613Z"
   },
   {
    "duration": 8,
    "start_time": "2022-02-27T17:52:40.057Z"
   },
   {
    "duration": 85,
    "start_time": "2022-02-27T17:53:13.095Z"
   },
   {
    "duration": 5,
    "start_time": "2022-02-27T17:53:27.765Z"
   },
   {
    "duration": 6,
    "start_time": "2022-02-27T17:53:53.266Z"
   },
   {
    "duration": 210,
    "start_time": "2022-02-28T09:39:26.930Z"
   },
   {
    "duration": 620,
    "start_time": "2022-02-28T09:39:36.322Z"
   },
   {
    "duration": 12,
    "start_time": "2022-02-28T09:39:39.762Z"
   },
   {
    "duration": 11,
    "start_time": "2022-02-28T09:39:43.194Z"
   },
   {
    "duration": 10,
    "start_time": "2022-02-28T09:39:48.710Z"
   },
   {
    "duration": 6,
    "start_time": "2022-02-28T09:39:51.212Z"
   },
   {
    "duration": 7,
    "start_time": "2022-02-28T09:39:53.084Z"
   },
   {
    "duration": 6,
    "start_time": "2022-02-28T09:39:55.948Z"
   },
   {
    "duration": 6,
    "start_time": "2022-02-28T09:39:58.117Z"
   },
   {
    "duration": 12,
    "start_time": "2022-02-28T09:40:00.053Z"
   },
   {
    "duration": 15,
    "start_time": "2022-02-28T09:40:02.463Z"
   },
   {
    "duration": 11,
    "start_time": "2022-02-28T09:40:04.149Z"
   },
   {
    "duration": 6,
    "start_time": "2022-02-28T09:40:07.437Z"
   },
   {
    "duration": 7,
    "start_time": "2022-02-28T09:40:09.413Z"
   },
   {
    "duration": 6,
    "start_time": "2022-02-28T09:40:12.070Z"
   },
   {
    "duration": 6,
    "start_time": "2022-02-28T09:40:14.791Z"
   },
   {
    "duration": 6,
    "start_time": "2022-02-28T09:40:15.557Z"
   },
   {
    "duration": 7,
    "start_time": "2022-02-28T09:40:16.236Z"
   },
   {
    "duration": 6,
    "start_time": "2022-02-28T09:40:16.923Z"
   },
   {
    "duration": 53,
    "start_time": "2022-02-28T09:40:17.867Z"
   },
   {
    "duration": 5,
    "start_time": "2022-02-28T09:40:19.258Z"
   },
   {
    "duration": 4,
    "start_time": "2022-02-28T09:40:27.547Z"
   },
   {
    "duration": 6,
    "start_time": "2022-02-28T09:40:30.098Z"
   },
   {
    "duration": 9,
    "start_time": "2022-02-28T09:40:32.621Z"
   },
   {
    "duration": 6,
    "start_time": "2022-02-28T09:40:35.155Z"
   },
   {
    "duration": 7,
    "start_time": "2022-02-28T09:40:36.987Z"
   },
   {
    "duration": 6,
    "start_time": "2022-02-28T09:40:38.771Z"
   },
   {
    "duration": 7,
    "start_time": "2022-02-28T09:40:40.708Z"
   },
   {
    "duration": 190,
    "start_time": "2022-02-28T09:44:17.115Z"
   },
   {
    "duration": 14,
    "start_time": "2022-02-28T09:44:49.108Z"
   },
   {
    "duration": 16,
    "start_time": "2022-02-28T09:45:40.779Z"
   },
   {
    "duration": 13,
    "start_time": "2022-02-28T09:45:55.848Z"
   },
   {
    "duration": 7,
    "start_time": "2022-02-28T09:46:05.530Z"
   },
   {
    "duration": 10,
    "start_time": "2022-02-28T09:47:05.115Z"
   },
   {
    "duration": 9,
    "start_time": "2022-02-28T09:47:07.698Z"
   },
   {
    "duration": 6,
    "start_time": "2022-02-28T09:48:30.944Z"
   },
   {
    "duration": 8,
    "start_time": "2022-02-28T09:50:24.702Z"
   },
   {
    "duration": 6,
    "start_time": "2022-02-28T09:51:27.447Z"
   },
   {
    "duration": 7,
    "start_time": "2022-02-28T09:53:04.133Z"
   },
   {
    "duration": 14,
    "start_time": "2022-02-28T10:02:07.246Z"
   },
   {
    "duration": 263,
    "start_time": "2022-03-01T16:37:34.257Z"
   },
   {
    "duration": 657,
    "start_time": "2022-03-01T16:38:07.750Z"
   },
   {
    "duration": 13,
    "start_time": "2022-03-01T16:38:16.403Z"
   },
   {
    "duration": 11,
    "start_time": "2022-03-01T16:38:19.875Z"
   },
   {
    "duration": 10,
    "start_time": "2022-03-01T16:38:22.318Z"
   },
   {
    "duration": 6,
    "start_time": "2022-03-01T16:38:24.702Z"
   },
   {
    "duration": 7,
    "start_time": "2022-03-01T16:38:26.946Z"
   },
   {
    "duration": 8,
    "start_time": "2022-03-01T16:38:29.427Z"
   },
   {
    "duration": 8,
    "start_time": "2022-03-01T16:38:32.645Z"
   },
   {
    "duration": 9,
    "start_time": "2022-03-01T16:38:35.189Z"
   },
   {
    "duration": 12,
    "start_time": "2022-03-01T16:38:37.601Z"
   },
   {
    "duration": 11,
    "start_time": "2022-03-01T16:38:39.305Z"
   },
   {
    "duration": 6,
    "start_time": "2022-03-01T16:38:43.091Z"
   },
   {
    "duration": 6,
    "start_time": "2022-03-01T16:38:45.351Z"
   },
   {
    "duration": 6,
    "start_time": "2022-03-01T16:38:47.556Z"
   },
   {
    "duration": 6,
    "start_time": "2022-03-01T16:38:49.555Z"
   },
   {
    "duration": 7,
    "start_time": "2022-03-01T16:38:51.140Z"
   },
   {
    "duration": 6,
    "start_time": "2022-03-01T16:38:51.906Z"
   },
   {
    "duration": 7,
    "start_time": "2022-03-01T16:38:52.508Z"
   },
   {
    "duration": 5,
    "start_time": "2022-03-01T16:38:55.429Z"
   },
   {
    "duration": 6,
    "start_time": "2022-03-01T16:38:58.661Z"
   },
   {
    "duration": 8,
    "start_time": "2022-03-01T16:39:01.089Z"
   },
   {
    "duration": 5,
    "start_time": "2022-03-01T16:39:02.994Z"
   },
   {
    "duration": 7,
    "start_time": "2022-03-01T16:39:04.960Z"
   },
   {
    "duration": 8,
    "start_time": "2022-03-01T16:39:05.516Z"
   },
   {
    "duration": 8,
    "start_time": "2022-03-01T16:39:07.514Z"
   },
   {
    "duration": 12,
    "start_time": "2022-03-01T16:39:10.281Z"
   },
   {
    "duration": 11,
    "start_time": "2022-03-01T16:39:10.944Z"
   },
   {
    "duration": 5,
    "start_time": "2022-03-01T16:39:13.630Z"
   },
   {
    "duration": 7,
    "start_time": "2022-03-01T16:39:17.516Z"
   },
   {
    "duration": 7,
    "start_time": "2022-03-01T16:39:19.659Z"
   },
   {
    "duration": 7,
    "start_time": "2022-03-01T16:39:22.365Z"
   },
   {
    "duration": 9,
    "start_time": "2022-03-01T16:39:24.331Z"
   },
   {
    "duration": 17,
    "start_time": "2022-03-01T16:39:34.892Z"
   },
   {
    "duration": 11,
    "start_time": "2022-03-01T16:39:59.681Z"
   },
   {
    "duration": 8,
    "start_time": "2022-03-01T16:43:20.980Z"
   },
   {
    "duration": 259,
    "start_time": "2022-03-01T16:57:18.808Z"
   },
   {
    "duration": 241,
    "start_time": "2022-03-01T16:57:37.912Z"
   },
   {
    "duration": 229,
    "start_time": "2022-03-01T16:57:54.271Z"
   },
   {
    "duration": 225,
    "start_time": "2022-03-01T16:59:29.397Z"
   },
   {
    "duration": 221,
    "start_time": "2022-03-01T17:02:57.470Z"
   },
   {
    "duration": 223,
    "start_time": "2022-03-01T17:03:11.216Z"
   },
   {
    "duration": 6,
    "start_time": "2022-03-01T17:03:27.262Z"
   },
   {
    "duration": 206,
    "start_time": "2022-03-01T17:03:52.326Z"
   },
   {
    "duration": 250,
    "start_time": "2022-03-01T17:06:09.888Z"
   },
   {
    "duration": 215,
    "start_time": "2022-03-01T17:06:24.436Z"
   },
   {
    "duration": 5,
    "start_time": "2022-03-01T17:06:30.180Z"
   },
   {
    "duration": 6,
    "start_time": "2022-03-01T17:07:37.841Z"
   },
   {
    "duration": 8,
    "start_time": "2022-03-01T17:08:15.835Z"
   },
   {
    "duration": 6,
    "start_time": "2022-03-01T17:09:25.588Z"
   },
   {
    "duration": 216,
    "start_time": "2022-03-01T17:28:51.233Z"
   },
   {
    "duration": 19,
    "start_time": "2022-03-01T17:29:07.594Z"
   },
   {
    "duration": 69,
    "start_time": "2022-03-01T17:29:38.061Z"
   },
   {
    "duration": 19,
    "start_time": "2022-03-01T17:31:08.662Z"
   },
   {
    "duration": 202,
    "start_time": "2022-03-01T17:32:37.401Z"
   },
   {
    "duration": 17,
    "start_time": "2022-03-01T17:32:56.715Z"
   },
   {
    "duration": 24,
    "start_time": "2022-03-01T17:43:29.805Z"
   },
   {
    "duration": 28,
    "start_time": "2022-03-01T17:43:57.537Z"
   },
   {
    "duration": 24,
    "start_time": "2022-03-01T17:49:40.925Z"
   },
   {
    "duration": 18,
    "start_time": "2022-03-01T17:49:55.348Z"
   },
   {
    "duration": 43,
    "start_time": "2022-03-01T17:50:00.727Z"
   },
   {
    "duration": 236,
    "start_time": "2022-03-01T17:50:08.068Z"
   },
   {
    "duration": 243,
    "start_time": "2022-03-01T17:50:12.888Z"
   },
   {
    "duration": 232,
    "start_time": "2022-03-01T17:50:22.431Z"
   },
   {
    "duration": 244,
    "start_time": "2022-03-01T17:50:32.401Z"
   },
   {
    "duration": 240,
    "start_time": "2022-03-01T17:50:38.557Z"
   },
   {
    "duration": 230,
    "start_time": "2022-03-01T17:50:45.630Z"
   },
   {
    "duration": 26,
    "start_time": "2022-03-01T17:50:50.552Z"
   },
   {
    "duration": 24,
    "start_time": "2022-03-01T17:51:03.450Z"
   },
   {
    "duration": 21,
    "start_time": "2022-03-01T17:51:06.150Z"
   },
   {
    "duration": 5,
    "start_time": "2022-03-01T17:51:11.357Z"
   },
   {
    "duration": 24,
    "start_time": "2022-03-01T17:51:28.076Z"
   },
   {
    "duration": 5,
    "start_time": "2022-03-01T17:51:41.746Z"
   },
   {
    "duration": 10,
    "start_time": "2022-03-01T17:51:45.755Z"
   },
   {
    "duration": 5,
    "start_time": "2022-03-01T17:51:48.548Z"
   },
   {
    "duration": 27,
    "start_time": "2022-03-01T17:52:07.674Z"
   },
   {
    "duration": 237,
    "start_time": "2022-03-01T17:52:15.241Z"
   },
   {
    "duration": 19,
    "start_time": "2022-03-01T17:52:46.842Z"
   },
   {
    "duration": 19,
    "start_time": "2022-03-01T17:53:03.885Z"
   },
   {
    "duration": 18,
    "start_time": "2022-03-01T17:53:13.389Z"
   },
   {
    "duration": 211,
    "start_time": "2022-03-01T17:54:04.572Z"
   },
   {
    "duration": 59,
    "start_time": "2022-03-01T17:54:19.434Z"
   },
   {
    "duration": 11,
    "start_time": "2022-03-01T17:54:22.888Z"
   },
   {
    "duration": 10,
    "start_time": "2022-03-01T17:54:25.401Z"
   },
   {
    "duration": 10,
    "start_time": "2022-03-01T17:54:27.745Z"
   },
   {
    "duration": 7,
    "start_time": "2022-03-01T17:54:31.961Z"
   },
   {
    "duration": 6,
    "start_time": "2022-03-01T17:54:34.194Z"
   },
   {
    "duration": 6,
    "start_time": "2022-03-01T17:54:36.284Z"
   },
   {
    "duration": 7,
    "start_time": "2022-03-01T17:54:38.266Z"
   },
   {
    "duration": 12,
    "start_time": "2022-03-01T17:54:40.255Z"
   },
   {
    "duration": 13,
    "start_time": "2022-03-01T17:54:42.453Z"
   },
   {
    "duration": 12,
    "start_time": "2022-03-01T17:54:48.302Z"
   },
   {
    "duration": 12,
    "start_time": "2022-03-01T17:54:50.600Z"
   },
   {
    "duration": 6,
    "start_time": "2022-03-01T17:54:54.080Z"
   },
   {
    "duration": 6,
    "start_time": "2022-03-01T17:54:56.887Z"
   },
   {
    "duration": 7,
    "start_time": "2022-03-01T17:54:59.123Z"
   },
   {
    "duration": 7,
    "start_time": "2022-03-01T17:55:01.260Z"
   },
   {
    "duration": 6,
    "start_time": "2022-03-01T17:55:02.881Z"
   },
   {
    "duration": 7,
    "start_time": "2022-03-01T17:55:06.525Z"
   },
   {
    "duration": 7,
    "start_time": "2022-03-01T17:55:07.940Z"
   },
   {
    "duration": 4,
    "start_time": "2022-03-01T17:55:09.937Z"
   },
   {
    "duration": 6,
    "start_time": "2022-03-01T17:55:12.524Z"
   },
   {
    "duration": 8,
    "start_time": "2022-03-01T17:55:14.658Z"
   },
   {
    "duration": 5,
    "start_time": "2022-03-01T17:55:20.763Z"
   },
   {
    "duration": 7,
    "start_time": "2022-03-01T17:55:23.530Z"
   },
   {
    "duration": 7,
    "start_time": "2022-03-01T17:55:25.806Z"
   },
   {
    "duration": 7,
    "start_time": "2022-03-01T17:55:28.266Z"
   },
   {
    "duration": 12,
    "start_time": "2022-03-01T17:55:35.827Z"
   },
   {
    "duration": 10,
    "start_time": "2022-03-01T17:55:37.699Z"
   },
   {
    "duration": 5,
    "start_time": "2022-03-01T17:55:39.942Z"
   },
   {
    "duration": 7,
    "start_time": "2022-03-01T17:55:42.158Z"
   },
   {
    "duration": 7,
    "start_time": "2022-03-01T17:55:45.489Z"
   },
   {
    "duration": 7,
    "start_time": "2022-03-01T17:55:47.862Z"
   },
   {
    "duration": 9,
    "start_time": "2022-03-01T17:55:50.592Z"
   },
   {
    "duration": 8,
    "start_time": "2022-03-01T17:55:52.986Z"
   },
   {
    "duration": 6,
    "start_time": "2022-03-01T17:55:56.421Z"
   },
   {
    "duration": 18,
    "start_time": "2022-03-01T17:56:18.905Z"
   },
   {
    "duration": 17,
    "start_time": "2022-03-01T17:57:00.353Z"
   },
   {
    "duration": 24,
    "start_time": "2022-03-01T17:57:16.707Z"
   },
   {
    "duration": 19,
    "start_time": "2022-03-01T17:57:42.625Z"
   },
   {
    "duration": 21,
    "start_time": "2022-03-01T17:59:05.380Z"
   },
   {
    "duration": 11,
    "start_time": "2022-03-01T18:00:41.366Z"
   },
   {
    "duration": 26,
    "start_time": "2022-03-01T18:01:49.904Z"
   },
   {
    "duration": 25,
    "start_time": "2022-03-01T18:02:04.619Z"
   },
   {
    "duration": 9,
    "start_time": "2022-03-01T18:30:32.107Z"
   },
   {
    "duration": 10,
    "start_time": "2022-03-01T18:39:46.802Z"
   },
   {
    "duration": 9,
    "start_time": "2022-03-01T18:42:53.964Z"
   },
   {
    "duration": 10,
    "start_time": "2022-03-01T18:47:25.693Z"
   },
   {
    "duration": 10,
    "start_time": "2022-03-01T18:48:15.836Z"
   },
   {
    "duration": 101,
    "start_time": "2022-03-01T18:54:45.485Z"
   },
   {
    "duration": 221,
    "start_time": "2022-03-01T18:54:53.682Z"
   },
   {
    "duration": 8,
    "start_time": "2022-03-01T18:54:58.222Z"
   },
   {
    "duration": 14,
    "start_time": "2022-03-01T18:55:06.007Z"
   },
   {
    "duration": 210,
    "start_time": "2022-03-01T18:55:31.223Z"
   },
   {
    "duration": 214,
    "start_time": "2022-03-01T18:55:51.094Z"
   },
   {
    "duration": 205,
    "start_time": "2022-03-01T18:55:55.792Z"
   },
   {
    "duration": 9,
    "start_time": "2022-03-01T18:56:00.938Z"
   },
   {
    "duration": 207,
    "start_time": "2022-03-01T18:56:04.063Z"
   },
   {
    "duration": 9,
    "start_time": "2022-03-01T18:56:11.306Z"
   },
   {
    "duration": 23,
    "start_time": "2022-03-01T18:56:16.848Z"
   },
   {
    "duration": 235,
    "start_time": "2022-03-01T18:56:20.926Z"
   },
   {
    "duration": 57,
    "start_time": "2022-03-01T18:56:26.611Z"
   },
   {
    "duration": 16,
    "start_time": "2022-03-01T18:56:30.193Z"
   },
   {
    "duration": 11,
    "start_time": "2022-03-01T18:56:33.012Z"
   },
   {
    "duration": 11,
    "start_time": "2022-03-01T18:56:36.259Z"
   },
   {
    "duration": 6,
    "start_time": "2022-03-01T18:58:54.215Z"
   },
   {
    "duration": 6,
    "start_time": "2022-03-01T18:58:56.622Z"
   },
   {
    "duration": 5,
    "start_time": "2022-03-01T18:58:58.820Z"
   },
   {
    "duration": 6,
    "start_time": "2022-03-01T18:59:01.573Z"
   },
   {
    "duration": 10,
    "start_time": "2022-03-01T18:59:04.065Z"
   },
   {
    "duration": 12,
    "start_time": "2022-03-01T18:59:06.340Z"
   },
   {
    "duration": 11,
    "start_time": "2022-03-01T18:59:08.677Z"
   },
   {
    "duration": 6,
    "start_time": "2022-03-01T18:59:11.701Z"
   },
   {
    "duration": 6,
    "start_time": "2022-03-01T18:59:14.378Z"
   },
   {
    "duration": 6,
    "start_time": "2022-03-01T18:59:16.969Z"
   },
   {
    "duration": 5,
    "start_time": "2022-03-01T18:59:19.099Z"
   },
   {
    "duration": 6,
    "start_time": "2022-03-01T18:59:20.726Z"
   },
   {
    "duration": 6,
    "start_time": "2022-03-01T18:59:22.561Z"
   },
   {
    "duration": 6,
    "start_time": "2022-03-01T18:59:24.476Z"
   },
   {
    "duration": 5,
    "start_time": "2022-03-01T18:59:26.566Z"
   },
   {
    "duration": 6,
    "start_time": "2022-03-01T18:59:29.497Z"
   },
   {
    "duration": 8,
    "start_time": "2022-03-01T18:59:31.742Z"
   },
   {
    "duration": 6,
    "start_time": "2022-03-01T18:59:34.364Z"
   },
   {
    "duration": 7,
    "start_time": "2022-03-01T18:59:36.764Z"
   },
   {
    "duration": 6,
    "start_time": "2022-03-01T18:59:38.731Z"
   },
   {
    "duration": 8,
    "start_time": "2022-03-01T18:59:41.531Z"
   },
   {
    "duration": 13,
    "start_time": "2022-03-01T18:59:44.587Z"
   },
   {
    "duration": 9,
    "start_time": "2022-03-01T18:59:46.561Z"
   },
   {
    "duration": 6,
    "start_time": "2022-03-01T18:59:56.054Z"
   },
   {
    "duration": 7,
    "start_time": "2022-03-01T18:59:59.248Z"
   },
   {
    "duration": 7,
    "start_time": "2022-03-01T19:00:03.708Z"
   },
   {
    "duration": 7,
    "start_time": "2022-03-01T19:00:06.230Z"
   },
   {
    "duration": 11,
    "start_time": "2022-03-01T19:00:08.773Z"
   },
   {
    "duration": 9,
    "start_time": "2022-03-01T19:00:11.840Z"
   },
   {
    "duration": 7,
    "start_time": "2022-03-01T19:00:14.892Z"
   },
   {
    "duration": 18,
    "start_time": "2022-03-01T19:00:17.622Z"
   },
   {
    "duration": 26,
    "start_time": "2022-03-01T19:00:20.005Z"
   },
   {
    "duration": 20,
    "start_time": "2022-03-01T19:00:23.246Z"
   },
   {
    "duration": 25,
    "start_time": "2022-03-01T19:00:24.001Z"
   },
   {
    "duration": 9,
    "start_time": "2022-03-01T19:00:27.365Z"
   },
   {
    "duration": 11,
    "start_time": "2022-03-01T19:00:30.150Z"
   },
   {
    "duration": 9,
    "start_time": "2022-03-01T19:00:32.564Z"
   },
   {
    "duration": 10,
    "start_time": "2022-03-01T19:00:37.062Z"
   },
   {
    "duration": 8,
    "start_time": "2022-03-01T19:00:43.764Z"
   },
   {
    "duration": 5,
    "start_time": "2022-03-01T19:00:45.858Z"
   },
   {
    "duration": 212,
    "start_time": "2022-03-01T19:01:10.325Z"
   },
   {
    "duration": 211,
    "start_time": "2022-03-01T19:01:16.729Z"
   },
   {
    "duration": 251,
    "start_time": "2022-03-01T19:01:24.019Z"
   },
   {
    "duration": 227,
    "start_time": "2022-03-01T19:01:28.785Z"
   },
   {
    "duration": 21,
    "start_time": "2022-03-01T19:01:36.439Z"
   },
   {
    "duration": 8,
    "start_time": "2022-03-01T19:01:40.889Z"
   },
   {
    "duration": 216,
    "start_time": "2022-03-01T19:01:44.786Z"
   },
   {
    "duration": 61,
    "start_time": "2022-03-01T19:01:50.540Z"
   },
   {
    "duration": 6,
    "start_time": "2022-03-01T19:02:00.949Z"
   },
   {
    "duration": 214,
    "start_time": "2022-03-01T19:02:17.772Z"
   },
   {
    "duration": 216,
    "start_time": "2022-03-01T19:02:24.577Z"
   },
   {
    "duration": 61,
    "start_time": "2022-03-01T19:02:29.640Z"
   },
   {
    "duration": 5,
    "start_time": "2022-03-01T19:02:37.844Z"
   },
   {
    "duration": 6,
    "start_time": "2022-03-01T19:03:01.242Z"
   },
   {
    "duration": 12,
    "start_time": "2022-03-01T19:03:11.313Z"
   },
   {
    "duration": 253,
    "start_time": "2022-03-01T19:13:13.221Z"
   },
   {
    "duration": 3,
    "start_time": "2022-03-01T19:13:57.373Z"
   },
   {
    "duration": 3,
    "start_time": "2022-03-01T19:13:58.625Z"
   },
   {
    "duration": 213,
    "start_time": "2022-03-01T19:15:54.385Z"
   },
   {
    "duration": 115,
    "start_time": "2022-03-01T19:16:09.917Z"
   },
   {
    "duration": 21,
    "start_time": "2022-03-01T19:16:35.294Z"
   },
   {
    "duration": 3,
    "start_time": "2022-03-01T19:16:37.654Z"
   },
   {
    "duration": 427,
    "start_time": "2022-03-01T19:16:39.721Z"
   },
   {
    "duration": 427,
    "start_time": "2022-03-01T19:16:42.415Z"
   },
   {
    "duration": 68,
    "start_time": "2022-03-01T19:16:54.019Z"
   },
   {
    "duration": 4,
    "start_time": "2022-03-01T19:17:19.101Z"
   },
   {
    "duration": 4,
    "start_time": "2022-03-01T19:17:20.760Z"
   },
   {
    "duration": 22,
    "start_time": "2022-03-01T19:17:24.109Z"
   },
   {
    "duration": 59,
    "start_time": "2022-03-01T19:17:54.779Z"
   },
   {
    "duration": 11,
    "start_time": "2022-03-01T19:17:56.561Z"
   },
   {
    "duration": 10,
    "start_time": "2022-03-01T19:17:59.406Z"
   },
   {
    "duration": 10,
    "start_time": "2022-03-01T19:18:01.905Z"
   },
   {
    "duration": 6,
    "start_time": "2022-03-01T19:18:04.066Z"
   },
   {
    "duration": 7,
    "start_time": "2022-03-01T19:18:06.066Z"
   },
   {
    "duration": 6,
    "start_time": "2022-03-01T19:18:08.329Z"
   },
   {
    "duration": 7,
    "start_time": "2022-03-01T19:18:10.804Z"
   },
   {
    "duration": 10,
    "start_time": "2022-03-01T19:18:13.018Z"
   },
   {
    "duration": 11,
    "start_time": "2022-03-01T19:18:15.496Z"
   },
   {
    "duration": 13,
    "start_time": "2022-03-01T19:18:17.301Z"
   },
   {
    "duration": 6,
    "start_time": "2022-03-01T19:18:20.309Z"
   },
   {
    "duration": 6,
    "start_time": "2022-03-01T19:18:22.638Z"
   },
   {
    "duration": 6,
    "start_time": "2022-03-01T19:18:24.457Z"
   },
   {
    "duration": 7,
    "start_time": "2022-03-01T19:18:26.502Z"
   },
   {
    "duration": 7,
    "start_time": "2022-03-01T19:18:27.251Z"
   },
   {
    "duration": 6,
    "start_time": "2022-03-01T19:18:28.191Z"
   },
   {
    "duration": 6,
    "start_time": "2022-03-01T19:18:28.925Z"
   },
   {
    "duration": 5,
    "start_time": "2022-03-01T19:18:30.660Z"
   },
   {
    "duration": 6,
    "start_time": "2022-03-01T19:18:35.273Z"
   },
   {
    "duration": 8,
    "start_time": "2022-03-01T19:18:36.484Z"
   },
   {
    "duration": 5,
    "start_time": "2022-03-01T19:18:37.657Z"
   },
   {
    "duration": 8,
    "start_time": "2022-03-01T19:18:38.166Z"
   },
   {
    "duration": 7,
    "start_time": "2022-03-01T19:18:38.669Z"
   },
   {
    "duration": 8,
    "start_time": "2022-03-01T19:18:39.725Z"
   },
   {
    "duration": 11,
    "start_time": "2022-03-01T19:18:43.576Z"
   },
   {
    "duration": 10,
    "start_time": "2022-03-01T19:18:44.030Z"
   },
   {
    "duration": 5,
    "start_time": "2022-03-01T19:18:45.085Z"
   },
   {
    "duration": 7,
    "start_time": "2022-03-01T19:18:46.751Z"
   },
   {
    "duration": 6,
    "start_time": "2022-03-01T19:18:50.146Z"
   },
   {
    "duration": 7,
    "start_time": "2022-03-01T19:18:51.336Z"
   },
   {
    "duration": 10,
    "start_time": "2022-03-01T19:18:52.337Z"
   },
   {
    "duration": 8,
    "start_time": "2022-03-01T19:18:56.264Z"
   },
   {
    "duration": 5,
    "start_time": "2022-03-01T19:18:59.444Z"
   },
   {
    "duration": 16,
    "start_time": "2022-03-01T19:19:03.654Z"
   },
   {
    "duration": 24,
    "start_time": "2022-03-01T19:19:04.357Z"
   },
   {
    "duration": 20,
    "start_time": "2022-03-01T19:19:07.048Z"
   },
   {
    "duration": 24,
    "start_time": "2022-03-01T19:19:07.767Z"
   },
   {
    "duration": 9,
    "start_time": "2022-03-01T19:19:17.817Z"
   },
   {
    "duration": 10,
    "start_time": "2022-03-01T19:19:19.445Z"
   },
   {
    "duration": 69,
    "start_time": "2022-03-01T19:19:20.176Z"
   },
   {
    "duration": 9,
    "start_time": "2022-03-01T19:19:25.570Z"
   },
   {
    "duration": 8,
    "start_time": "2022-03-01T19:19:34.303Z"
   },
   {
    "duration": 10,
    "start_time": "2022-03-01T19:19:38.075Z"
   },
   {
    "duration": 6,
    "start_time": "2022-03-01T19:19:40.416Z"
   },
   {
    "duration": 5,
    "start_time": "2022-03-01T19:19:40.621Z"
   },
   {
    "duration": 11,
    "start_time": "2022-03-01T19:19:41.609Z"
   },
   {
    "duration": 3,
    "start_time": "2022-03-01T19:19:47.423Z"
   },
   {
    "duration": 4,
    "start_time": "2022-03-01T19:19:48.056Z"
   },
   {
    "duration": 20,
    "start_time": "2022-03-01T19:19:49.237Z"
   },
   {
    "duration": 3,
    "start_time": "2022-03-01T19:23:47.197Z"
   },
   {
    "duration": 6,
    "start_time": "2022-03-01T19:23:47.845Z"
   },
   {
    "duration": 4,
    "start_time": "2022-03-01T19:23:57.558Z"
   },
   {
    "duration": 68,
    "start_time": "2022-03-01T19:24:19.121Z"
   },
   {
    "duration": 4,
    "start_time": "2022-03-01T19:24:43.067Z"
   },
   {
    "duration": 429,
    "start_time": "2022-03-01T19:24:45.812Z"
   },
   {
    "duration": 437,
    "start_time": "2022-03-01T19:24:56.550Z"
   },
   {
    "duration": 4,
    "start_time": "2022-03-01T19:24:59.302Z"
   },
   {
    "duration": 21,
    "start_time": "2022-03-01T19:25:04.018Z"
   },
   {
    "duration": 4,
    "start_time": "2022-03-01T19:25:07.433Z"
   },
   {
    "duration": 3,
    "start_time": "2022-03-01T19:34:39.740Z"
   },
   {
    "duration": 4,
    "start_time": "2022-03-01T19:34:40.357Z"
   },
   {
    "duration": 3,
    "start_time": "2022-03-01T19:34:53.596Z"
   },
   {
    "duration": 73,
    "start_time": "2022-03-01T19:36:55.836Z"
   },
   {
    "duration": 72,
    "start_time": "2022-03-01T19:37:06.742Z"
   },
   {
    "duration": 75,
    "start_time": "2022-03-01T19:37:14.609Z"
   },
   {
    "duration": 71,
    "start_time": "2022-03-01T19:37:20.573Z"
   },
   {
    "duration": 74,
    "start_time": "2022-03-01T19:38:16.106Z"
   },
   {
    "duration": 3,
    "start_time": "2022-03-01T19:38:23.304Z"
   },
   {
    "duration": 4,
    "start_time": "2022-03-01T19:38:26.025Z"
   },
   {
    "duration": 4,
    "start_time": "2022-03-01T20:02:07.871Z"
   },
   {
    "duration": 72,
    "start_time": "2022-03-01T20:02:11.157Z"
   },
   {
    "duration": 4,
    "start_time": "2022-03-01T20:02:23.578Z"
   },
   {
    "duration": 3,
    "start_time": "2022-03-01T20:02:25.908Z"
   },
   {
    "duration": 25,
    "start_time": "2022-03-01T20:04:07.114Z"
   },
   {
    "duration": 8,
    "start_time": "2022-03-01T20:16:16.437Z"
   },
   {
    "duration": 8,
    "start_time": "2022-03-01T20:18:37.138Z"
   },
   {
    "duration": 227,
    "start_time": "2022-03-01T20:27:45.403Z"
   },
   {
    "duration": 24,
    "start_time": "2022-03-01T20:28:08.065Z"
   },
   {
    "duration": 200,
    "start_time": "2022-03-01T20:35:51.612Z"
   },
   {
    "duration": 228,
    "start_time": "2022-03-01T20:36:42.168Z"
   },
   {
    "duration": 8,
    "start_time": "2022-03-01T20:36:45.956Z"
   },
   {
    "duration": 243,
    "start_time": "2022-03-01T20:36:49.042Z"
   },
   {
    "duration": 22,
    "start_time": "2022-03-01T20:37:00.676Z"
   },
   {
    "duration": 33,
    "start_time": "2022-03-01T20:39:56.596Z"
   },
   {
    "duration": 203,
    "start_time": "2022-03-01T20:40:29.565Z"
   },
   {
    "duration": 64,
    "start_time": "2022-03-01T20:40:45.374Z"
   },
   {
    "duration": 22,
    "start_time": "2022-03-01T20:44:34.358Z"
   },
   {
    "duration": 207,
    "start_time": "2022-03-01T20:49:16.730Z"
   },
   {
    "duration": 214,
    "start_time": "2022-03-01T20:55:45.693Z"
   },
   {
    "duration": 214,
    "start_time": "2022-03-01T20:55:59.551Z"
   },
   {
    "duration": 371,
    "start_time": "2022-03-01T20:56:25.567Z"
   },
   {
    "duration": 360,
    "start_time": "2022-03-01T20:56:40.311Z"
   },
   {
    "duration": 367,
    "start_time": "2022-03-01T20:57:34.120Z"
   },
   {
    "duration": 360,
    "start_time": "2022-03-01T20:57:34.128Z"
   },
   {
    "duration": 66,
    "start_time": "2022-03-01T20:57:38.728Z"
   },
   {
    "duration": 13,
    "start_time": "2022-03-01T20:57:42.273Z"
   },
   {
    "duration": 11,
    "start_time": "2022-03-01T20:57:43.464Z"
   },
   {
    "duration": 11,
    "start_time": "2022-03-01T20:57:44.107Z"
   },
   {
    "duration": 6,
    "start_time": "2022-03-01T20:57:44.465Z"
   },
   {
    "duration": 8,
    "start_time": "2022-03-01T20:57:44.817Z"
   },
   {
    "duration": 7,
    "start_time": "2022-03-01T20:57:45.186Z"
   },
   {
    "duration": 7,
    "start_time": "2022-03-01T20:57:45.551Z"
   },
   {
    "duration": 12,
    "start_time": "2022-03-01T20:57:45.718Z"
   },
   {
    "duration": 13,
    "start_time": "2022-03-01T20:57:45.938Z"
   },
   {
    "duration": 13,
    "start_time": "2022-03-01T20:57:46.137Z"
   },
   {
    "duration": 6,
    "start_time": "2022-03-01T20:57:47.146Z"
   },
   {
    "duration": 6,
    "start_time": "2022-03-01T20:57:47.563Z"
   },
   {
    "duration": 6,
    "start_time": "2022-03-01T20:57:47.787Z"
   },
   {
    "duration": 67,
    "start_time": "2022-03-01T20:57:48.011Z"
   },
   {
    "duration": 6,
    "start_time": "2022-03-01T20:57:48.203Z"
   },
   {
    "duration": 5,
    "start_time": "2022-03-01T20:57:48.404Z"
   },
   {
    "duration": 6,
    "start_time": "2022-03-01T20:57:48.797Z"
   },
   {
    "duration": 6,
    "start_time": "2022-03-01T20:57:49.183Z"
   },
   {
    "duration": 4,
    "start_time": "2022-03-01T20:57:49.662Z"
   },
   {
    "duration": 6,
    "start_time": "2022-03-01T20:57:50.139Z"
   },
   {
    "duration": 7,
    "start_time": "2022-03-01T20:57:50.634Z"
   },
   {
    "duration": 5,
    "start_time": "2022-03-01T20:57:51.128Z"
   },
   {
    "duration": 6,
    "start_time": "2022-03-01T20:57:51.336Z"
   },
   {
    "duration": 6,
    "start_time": "2022-03-01T20:57:51.546Z"
   },
   {
    "duration": 7,
    "start_time": "2022-03-01T20:57:52.037Z"
   },
   {
    "duration": 12,
    "start_time": "2022-03-01T20:57:52.561Z"
   },
   {
    "duration": 10,
    "start_time": "2022-03-01T20:57:52.808Z"
   },
   {
    "duration": 6,
    "start_time": "2022-03-01T20:57:53.247Z"
   },
   {
    "duration": 7,
    "start_time": "2022-03-01T20:57:53.849Z"
   },
   {
    "duration": 7,
    "start_time": "2022-03-01T20:57:54.375Z"
   },
   {
    "duration": 7,
    "start_time": "2022-03-01T20:57:54.698Z"
   },
   {
    "duration": 11,
    "start_time": "2022-03-01T20:57:55.168Z"
   },
   {
    "duration": 9,
    "start_time": "2022-03-01T20:57:56.029Z"
   },
   {
    "duration": 5,
    "start_time": "2022-03-01T20:57:57.469Z"
   },
   {
    "duration": 18,
    "start_time": "2022-03-01T20:57:59.180Z"
   },
   {
    "duration": 24,
    "start_time": "2022-03-01T20:57:59.599Z"
   },
   {
    "duration": 20,
    "start_time": "2022-03-01T20:58:00.133Z"
   },
   {
    "duration": 24,
    "start_time": "2022-03-01T20:58:01.092Z"
   },
   {
    "duration": 10,
    "start_time": "2022-03-01T20:58:04.827Z"
   },
   {
    "duration": 11,
    "start_time": "2022-03-01T20:58:06.114Z"
   },
   {
    "duration": 9,
    "start_time": "2022-03-01T20:58:07.610Z"
   },
   {
    "duration": 11,
    "start_time": "2022-03-01T20:58:09.530Z"
   },
   {
    "duration": 7,
    "start_time": "2022-03-01T20:58:10.825Z"
   },
   {
    "duration": 7,
    "start_time": "2022-03-01T20:58:11.298Z"
   },
   {
    "duration": 11,
    "start_time": "2022-03-01T20:58:11.870Z"
   },
   {
    "duration": 3,
    "start_time": "2022-03-01T20:58:14.104Z"
   },
   {
    "duration": 3,
    "start_time": "2022-03-01T20:58:14.640Z"
   },
   {
    "duration": 19,
    "start_time": "2022-03-01T20:58:15.618Z"
   },
   {
    "duration": 8,
    "start_time": "2022-03-01T20:58:16.365Z"
   },
   {
    "duration": 67,
    "start_time": "2022-03-01T20:58:18.484Z"
   },
   {
    "duration": 24,
    "start_time": "2022-03-01T20:58:19.098Z"
   },
   {
    "duration": 5116,
    "start_time": "2022-03-01T20:58:19.704Z"
   },
   {
    "duration": 24,
    "start_time": "2022-03-01T20:58:28.698Z"
   },
   {
    "duration": 349,
    "start_time": "2022-03-01T20:58:36.126Z"
   },
   {
    "duration": 5085,
    "start_time": "2022-03-01T20:59:11.996Z"
   },
   {
    "duration": 5170,
    "start_time": "2022-03-01T21:00:33.885Z"
   },
   {
    "duration": 23,
    "start_time": "2022-03-01T21:00:40.486Z"
   },
   {
    "duration": 22,
    "start_time": "2022-03-01T21:01:22.193Z"
   },
   {
    "duration": 7,
    "start_time": "2022-03-01T21:01:27.529Z"
   },
   {
    "duration": 23,
    "start_time": "2022-03-01T21:01:32.517Z"
   },
   {
    "duration": 5481,
    "start_time": "2022-03-01T21:01:35.186Z"
   },
   {
    "duration": 4,
    "start_time": "2022-03-01T21:01:42.565Z"
   },
   {
    "duration": 5160,
    "start_time": "2022-03-01T21:04:54.902Z"
   },
   {
    "duration": 24,
    "start_time": "2022-03-01T21:05:14.072Z"
   },
   {
    "duration": 30,
    "start_time": "2022-03-01T21:06:28.110Z"
   },
   {
    "duration": 235,
    "start_time": "2022-03-01T21:08:18.297Z"
   },
   {
    "duration": 241,
    "start_time": "2022-03-01T21:08:25.956Z"
   },
   {
    "duration": 29,
    "start_time": "2022-03-01T21:08:31.899Z"
   },
   {
    "duration": 242,
    "start_time": "2022-03-01T21:08:55.583Z"
   },
   {
    "duration": 31,
    "start_time": "2022-03-01T21:14:38.563Z"
   },
   {
    "duration": 9,
    "start_time": "2022-03-01T21:15:44.593Z"
   },
   {
    "duration": 10,
    "start_time": "2022-03-01T21:16:06.021Z"
   },
   {
    "duration": 31,
    "start_time": "2022-03-01T21:16:46.636Z"
   },
   {
    "duration": 222,
    "start_time": "2022-03-01T21:22:15.163Z"
   },
   {
    "duration": 5085,
    "start_time": "2022-03-01T21:22:56.724Z"
   },
   {
    "duration": 26,
    "start_time": "2022-03-01T21:23:04.812Z"
   },
   {
    "duration": 7,
    "start_time": "2022-03-01T21:23:09.577Z"
   },
   {
    "duration": 32,
    "start_time": "2022-03-01T21:23:12.623Z"
   },
   {
    "duration": 27,
    "start_time": "2022-03-01T21:26:21.626Z"
   },
   {
    "duration": 27,
    "start_time": "2022-03-01T21:41:58.620Z"
   },
   {
    "duration": 40,
    "start_time": "2022-03-01T21:48:36.013Z"
   },
   {
    "duration": 40,
    "start_time": "2022-03-01T21:49:13.518Z"
   },
   {
    "duration": 40,
    "start_time": "2022-03-01T21:52:05.658Z"
   },
   {
    "duration": 252,
    "start_time": "2022-03-01T21:53:38.101Z"
   },
   {
    "duration": 254,
    "start_time": "2022-03-01T21:53:44.755Z"
   },
   {
    "duration": 38,
    "start_time": "2022-03-01T21:53:57.646Z"
   },
   {
    "duration": 249,
    "start_time": "2022-03-01T21:54:25.847Z"
   },
   {
    "duration": 38,
    "start_time": "2022-03-01T21:54:40.763Z"
   },
   {
    "duration": 40,
    "start_time": "2022-03-01T21:55:14.742Z"
   },
   {
    "duration": 216,
    "start_time": "2022-03-01T21:56:19.651Z"
   },
   {
    "duration": 41,
    "start_time": "2022-03-01T21:56:32.008Z"
   },
   {
    "duration": 34,
    "start_time": "2022-03-01T21:57:00.649Z"
   },
   {
    "duration": 40,
    "start_time": "2022-03-01T21:57:41.598Z"
   },
   {
    "duration": 40,
    "start_time": "2022-03-01T21:58:12.517Z"
   },
   {
    "duration": 47,
    "start_time": "2022-03-01T22:00:47.785Z"
   },
   {
    "duration": 44,
    "start_time": "2022-03-01T22:01:22.033Z"
   },
   {
    "duration": 45,
    "start_time": "2022-03-01T22:01:31.844Z"
   },
   {
    "duration": 43,
    "start_time": "2022-03-01T22:01:42.518Z"
   },
   {
    "duration": 45,
    "start_time": "2022-03-01T22:04:33.646Z"
   },
   {
    "duration": 43,
    "start_time": "2022-03-01T22:04:55.474Z"
   },
   {
    "duration": 45,
    "start_time": "2022-03-01T22:05:50.534Z"
   },
   {
    "duration": 46,
    "start_time": "2022-03-01T22:12:58.191Z"
   },
   {
    "duration": 876,
    "start_time": "2022-03-11T02:30:07.088Z"
   },
   {
    "duration": 19,
    "start_time": "2022-03-11T02:30:07.968Z"
   },
   {
    "duration": 26,
    "start_time": "2022-03-11T02:30:07.991Z"
   },
   {
    "duration": 23,
    "start_time": "2022-03-11T02:30:08.021Z"
   },
   {
    "duration": 25,
    "start_time": "2022-03-11T02:30:08.047Z"
   },
   {
    "duration": 12,
    "start_time": "2022-03-11T02:30:08.075Z"
   },
   {
    "duration": 9,
    "start_time": "2022-03-11T02:30:08.090Z"
   },
   {
    "duration": 29,
    "start_time": "2022-03-11T02:30:08.103Z"
   },
   {
    "duration": 38,
    "start_time": "2022-03-11T02:30:08.136Z"
   },
   {
    "duration": 17,
    "start_time": "2022-03-11T02:30:08.177Z"
   },
   {
    "duration": 21,
    "start_time": "2022-03-11T02:30:08.196Z"
   },
   {
    "duration": 10,
    "start_time": "2022-03-11T02:30:08.219Z"
   },
   {
    "duration": 19,
    "start_time": "2022-03-11T02:30:08.231Z"
   },
   {
    "duration": 9,
    "start_time": "2022-03-11T02:30:08.273Z"
   },
   {
    "duration": 21,
    "start_time": "2022-03-11T02:30:08.285Z"
   },
   {
    "duration": 16,
    "start_time": "2022-03-11T02:30:08.309Z"
   },
   {
    "duration": 25,
    "start_time": "2022-03-11T02:30:08.327Z"
   },
   {
    "duration": 19,
    "start_time": "2022-03-11T02:30:08.354Z"
   },
   {
    "duration": 20,
    "start_time": "2022-03-11T02:30:08.376Z"
   },
   {
    "duration": 22,
    "start_time": "2022-03-11T02:30:08.398Z"
   },
   {
    "duration": 27,
    "start_time": "2022-03-11T02:30:08.422Z"
   },
   {
    "duration": 23,
    "start_time": "2022-03-11T02:30:08.452Z"
   },
   {
    "duration": 17,
    "start_time": "2022-03-11T02:30:08.481Z"
   },
   {
    "duration": 20,
    "start_time": "2022-03-11T02:30:08.502Z"
   },
   {
    "duration": 24,
    "start_time": "2022-03-11T02:30:08.524Z"
   },
   {
    "duration": 23,
    "start_time": "2022-03-11T02:30:08.550Z"
   },
   {
    "duration": 17,
    "start_time": "2022-03-11T02:30:08.575Z"
   },
   {
    "duration": 21,
    "start_time": "2022-03-11T02:30:08.595Z"
   },
   {
    "duration": 21,
    "start_time": "2022-03-11T02:30:08.618Z"
   },
   {
    "duration": 20,
    "start_time": "2022-03-11T02:30:08.642Z"
   },
   {
    "duration": 25,
    "start_time": "2022-03-11T02:30:08.664Z"
   },
   {
    "duration": 26,
    "start_time": "2022-03-11T02:30:08.691Z"
   },
   {
    "duration": 18,
    "start_time": "2022-03-11T02:30:08.719Z"
   },
   {
    "duration": 20,
    "start_time": "2022-03-11T02:30:08.739Z"
   },
   {
    "duration": 35,
    "start_time": "2022-03-11T02:30:08.762Z"
   },
   {
    "duration": 37,
    "start_time": "2022-03-11T02:30:08.799Z"
   },
   {
    "duration": 50,
    "start_time": "2022-03-11T02:30:08.839Z"
   },
   {
    "duration": 33,
    "start_time": "2022-03-11T02:30:08.892Z"
   },
   {
    "duration": 11,
    "start_time": "2022-03-11T02:30:08.928Z"
   },
   {
    "duration": 42,
    "start_time": "2022-03-11T02:30:08.942Z"
   },
   {
    "duration": 33,
    "start_time": "2022-03-11T02:30:08.986Z"
   },
   {
    "duration": 25,
    "start_time": "2022-03-11T02:30:09.021Z"
   },
   {
    "duration": 14,
    "start_time": "2022-03-11T02:30:09.048Z"
   },
   {
    "duration": 14,
    "start_time": "2022-03-11T02:30:09.064Z"
   },
   {
    "duration": 40,
    "start_time": "2022-03-11T02:30:09.081Z"
   },
   {
    "duration": 68,
    "start_time": "2022-03-11T02:30:09.123Z"
   },
   {
    "duration": 4,
    "start_time": "2022-03-11T02:30:09.194Z"
   },
   {
    "duration": 33,
    "start_time": "2022-03-11T02:30:09.201Z"
   },
   {
    "duration": 41,
    "start_time": "2022-03-11T02:30:09.237Z"
   },
   {
    "duration": 25,
    "start_time": "2022-03-11T02:30:09.280Z"
   },
   {
    "duration": 62,
    "start_time": "2022-03-11T02:30:09.308Z"
   },
   {
    "duration": 5,
    "start_time": "2022-03-11T02:30:09.373Z"
   },
   {
    "duration": 37,
    "start_time": "2022-03-11T02:30:09.380Z"
   },
   {
    "duration": 45,
    "start_time": "2022-03-11T02:30:09.420Z"
   },
   {
    "duration": 30,
    "start_time": "2022-03-11T02:30:09.468Z"
   },
   {
    "duration": 74,
    "start_time": "2022-03-11T02:30:09.500Z"
   },
   {
    "duration": 43,
    "start_time": "2022-03-11T02:30:09.576Z"
   },
   {
    "duration": 51568,
    "start_time": "2022-03-11T03:13:00.142Z"
   }
  ],
  "kernelspec": {
   "display_name": "Python 3 (ipykernel)",
   "language": "python",
   "name": "python3"
  },
  "language_info": {
   "codemirror_mode": {
    "name": "ipython",
    "version": 3
   },
   "file_extension": ".py",
   "mimetype": "text/x-python",
   "name": "python",
   "nbconvert_exporter": "python",
   "pygments_lexer": "ipython3",
   "version": "3.9.12"
  },
  "toc": {
   "base_numbering": 1,
   "nav_menu": {},
   "number_sections": true,
   "sideBar": true,
   "skip_h1_title": true,
   "title_cell": "Table of Contents",
   "title_sidebar": "Contents",
   "toc_cell": false,
   "toc_position": {},
   "toc_section_display": true,
   "toc_window_display": false
  }
 },
 "nbformat": 4,
 "nbformat_minor": 5
}
