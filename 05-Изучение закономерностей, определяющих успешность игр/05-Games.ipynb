{
 "cells": [
  {
   "cell_type": "markdown",
   "metadata": {},
   "source": [
    "# ИССЛЕДОВАНИЕ КОМПЬЮТЕРНЫХ ИГР\n",
    "\n",
    "Вы работаете в интернет-магазине «Стримчик», который продаёт по всему миру компьютерные игры. Из открытых источников доступны исторические данные о продажах игр, оценки пользователей и экспертов, жанры и платформы (например, Xbox или PlayStation). Вам нужно выявить определяющие успешность игры закономерности. Это позволит сделать ставку на потенциально популярный продукт и спланировать рекламные кампании.\n",
    "\n",
    "\n",
    "План исследования:\n",
    " 1. Изучение общей информации в файле.\n",
    " 2. Предобработка данных.\n",
    " 3. Исследовательский анализ данных.\n",
    " 4. Составление портрета пользователя каждого региона.\n",
    " 5. Проверка гипотез.\n",
    " 6. Общие выводы."
   ]
  },
  {
   "cell_type": "markdown",
   "metadata": {},
   "source": [
    "## Изучение общей информации в файле.\n",
    "\n",
    "Откроем файл с данными и посмотрим общую информацию."
   ]
  },
  {
   "cell_type": "code",
   "execution_count": 1,
   "metadata": {},
   "outputs": [],
   "source": [
    "import pandas as pd\n",
    "import matplotlib.pyplot as plt\n",
    "import numpy as np\n",
    "import scipy.stats as st\n",
    "import seaborn as sns"
   ]
  },
  {
   "cell_type": "code",
   "execution_count": 2,
   "metadata": {},
   "outputs": [
    {
     "data": {
      "text/html": [
       "<div>\n",
       "<style scoped>\n",
       "    .dataframe tbody tr th:only-of-type {\n",
       "        vertical-align: middle;\n",
       "    }\n",
       "\n",
       "    .dataframe tbody tr th {\n",
       "        vertical-align: top;\n",
       "    }\n",
       "\n",
       "    .dataframe thead th {\n",
       "        text-align: right;\n",
       "    }\n",
       "</style>\n",
       "<table border=\"1\" class=\"dataframe\">\n",
       "  <thead>\n",
       "    <tr style=\"text-align: right;\">\n",
       "      <th></th>\n",
       "      <th>Name</th>\n",
       "      <th>Platform</th>\n",
       "      <th>Year_of_Release</th>\n",
       "      <th>Genre</th>\n",
       "      <th>NA_sales</th>\n",
       "      <th>EU_sales</th>\n",
       "      <th>JP_sales</th>\n",
       "      <th>Other_sales</th>\n",
       "      <th>Critic_Score</th>\n",
       "      <th>User_Score</th>\n",
       "      <th>Rating</th>\n",
       "    </tr>\n",
       "  </thead>\n",
       "  <tbody>\n",
       "    <tr>\n",
       "      <th>0</th>\n",
       "      <td>Wii Sports</td>\n",
       "      <td>Wii</td>\n",
       "      <td>2006.0</td>\n",
       "      <td>Sports</td>\n",
       "      <td>41.36</td>\n",
       "      <td>28.96</td>\n",
       "      <td>3.77</td>\n",
       "      <td>8.45</td>\n",
       "      <td>76.0</td>\n",
       "      <td>8</td>\n",
       "      <td>E</td>\n",
       "    </tr>\n",
       "    <tr>\n",
       "      <th>1</th>\n",
       "      <td>Super Mario Bros.</td>\n",
       "      <td>NES</td>\n",
       "      <td>1985.0</td>\n",
       "      <td>Platform</td>\n",
       "      <td>29.08</td>\n",
       "      <td>3.58</td>\n",
       "      <td>6.81</td>\n",
       "      <td>0.77</td>\n",
       "      <td>NaN</td>\n",
       "      <td>NaN</td>\n",
       "      <td>NaN</td>\n",
       "    </tr>\n",
       "    <tr>\n",
       "      <th>2</th>\n",
       "      <td>Mario Kart Wii</td>\n",
       "      <td>Wii</td>\n",
       "      <td>2008.0</td>\n",
       "      <td>Racing</td>\n",
       "      <td>15.68</td>\n",
       "      <td>12.76</td>\n",
       "      <td>3.79</td>\n",
       "      <td>3.29</td>\n",
       "      <td>82.0</td>\n",
       "      <td>8.3</td>\n",
       "      <td>E</td>\n",
       "    </tr>\n",
       "    <tr>\n",
       "      <th>3</th>\n",
       "      <td>Wii Sports Resort</td>\n",
       "      <td>Wii</td>\n",
       "      <td>2009.0</td>\n",
       "      <td>Sports</td>\n",
       "      <td>15.61</td>\n",
       "      <td>10.93</td>\n",
       "      <td>3.28</td>\n",
       "      <td>2.95</td>\n",
       "      <td>80.0</td>\n",
       "      <td>8</td>\n",
       "      <td>E</td>\n",
       "    </tr>\n",
       "    <tr>\n",
       "      <th>4</th>\n",
       "      <td>Pokemon Red/Pokemon Blue</td>\n",
       "      <td>GB</td>\n",
       "      <td>1996.0</td>\n",
       "      <td>Role-Playing</td>\n",
       "      <td>11.27</td>\n",
       "      <td>8.89</td>\n",
       "      <td>10.22</td>\n",
       "      <td>1.00</td>\n",
       "      <td>NaN</td>\n",
       "      <td>NaN</td>\n",
       "      <td>NaN</td>\n",
       "    </tr>\n",
       "  </tbody>\n",
       "</table>\n",
       "</div>"
      ],
      "text/plain": [
       "                       Name Platform  Year_of_Release         Genre  NA_sales  \\\n",
       "0                Wii Sports      Wii           2006.0        Sports     41.36   \n",
       "1         Super Mario Bros.      NES           1985.0      Platform     29.08   \n",
       "2            Mario Kart Wii      Wii           2008.0        Racing     15.68   \n",
       "3         Wii Sports Resort      Wii           2009.0        Sports     15.61   \n",
       "4  Pokemon Red/Pokemon Blue       GB           1996.0  Role-Playing     11.27   \n",
       "\n",
       "   EU_sales  JP_sales  Other_sales  Critic_Score User_Score Rating  \n",
       "0     28.96      3.77         8.45          76.0          8      E  \n",
       "1      3.58      6.81         0.77           NaN        NaN    NaN  \n",
       "2     12.76      3.79         3.29          82.0        8.3      E  \n",
       "3     10.93      3.28         2.95          80.0          8      E  \n",
       "4      8.89     10.22         1.00           NaN        NaN    NaN  "
      ]
     },
     "execution_count": 2,
     "metadata": {},
     "output_type": "execute_result"
    }
   ],
   "source": [
    "games = pd.read_csv('C:/Users/Anna/Desktop/Обучение/Аналитика Яндекс Практикум/Датасеты/games.csv')\n",
    "games.head(5)"
   ]
  },
  {
   "cell_type": "code",
   "execution_count": 3,
   "metadata": {},
   "outputs": [
    {
     "name": "stdout",
     "output_type": "stream",
     "text": [
      "<class 'pandas.core.frame.DataFrame'>\n",
      "RangeIndex: 16715 entries, 0 to 16714\n",
      "Data columns (total 11 columns):\n",
      " #   Column           Non-Null Count  Dtype  \n",
      "---  ------           --------------  -----  \n",
      " 0   Name             16713 non-null  object \n",
      " 1   Platform         16715 non-null  object \n",
      " 2   Year_of_Release  16446 non-null  float64\n",
      " 3   Genre            16713 non-null  object \n",
      " 4   NA_sales         16715 non-null  float64\n",
      " 5   EU_sales         16715 non-null  float64\n",
      " 6   JP_sales         16715 non-null  float64\n",
      " 7   Other_sales      16715 non-null  float64\n",
      " 8   Critic_Score     8137 non-null   float64\n",
      " 9   User_Score       10014 non-null  object \n",
      " 10  Rating           9949 non-null   object \n",
      "dtypes: float64(6), object(5)\n",
      "memory usage: 1.4+ MB\n"
     ]
    }
   ],
   "source": [
    "games.info()"
   ]
  },
  {
   "cell_type": "code",
   "execution_count": 4,
   "metadata": {},
   "outputs": [
    {
     "data": {
      "text/html": [
       "<div>\n",
       "<style scoped>\n",
       "    .dataframe tbody tr th:only-of-type {\n",
       "        vertical-align: middle;\n",
       "    }\n",
       "\n",
       "    .dataframe tbody tr th {\n",
       "        vertical-align: top;\n",
       "    }\n",
       "\n",
       "    .dataframe thead th {\n",
       "        text-align: right;\n",
       "    }\n",
       "</style>\n",
       "<table border=\"1\" class=\"dataframe\">\n",
       "  <thead>\n",
       "    <tr style=\"text-align: right;\">\n",
       "      <th></th>\n",
       "      <th>Year_of_Release</th>\n",
       "      <th>NA_sales</th>\n",
       "      <th>EU_sales</th>\n",
       "      <th>JP_sales</th>\n",
       "      <th>Other_sales</th>\n",
       "      <th>Critic_Score</th>\n",
       "    </tr>\n",
       "  </thead>\n",
       "  <tbody>\n",
       "    <tr>\n",
       "      <th>count</th>\n",
       "      <td>16446.000000</td>\n",
       "      <td>16715.000000</td>\n",
       "      <td>16715.000000</td>\n",
       "      <td>16715.000000</td>\n",
       "      <td>16715.000000</td>\n",
       "      <td>8137.000000</td>\n",
       "    </tr>\n",
       "    <tr>\n",
       "      <th>mean</th>\n",
       "      <td>2006.484616</td>\n",
       "      <td>0.263377</td>\n",
       "      <td>0.145060</td>\n",
       "      <td>0.077617</td>\n",
       "      <td>0.047342</td>\n",
       "      <td>68.967679</td>\n",
       "    </tr>\n",
       "    <tr>\n",
       "      <th>std</th>\n",
       "      <td>5.877050</td>\n",
       "      <td>0.813604</td>\n",
       "      <td>0.503339</td>\n",
       "      <td>0.308853</td>\n",
       "      <td>0.186731</td>\n",
       "      <td>13.938165</td>\n",
       "    </tr>\n",
       "    <tr>\n",
       "      <th>min</th>\n",
       "      <td>1980.000000</td>\n",
       "      <td>0.000000</td>\n",
       "      <td>0.000000</td>\n",
       "      <td>0.000000</td>\n",
       "      <td>0.000000</td>\n",
       "      <td>13.000000</td>\n",
       "    </tr>\n",
       "    <tr>\n",
       "      <th>25%</th>\n",
       "      <td>2003.000000</td>\n",
       "      <td>0.000000</td>\n",
       "      <td>0.000000</td>\n",
       "      <td>0.000000</td>\n",
       "      <td>0.000000</td>\n",
       "      <td>60.000000</td>\n",
       "    </tr>\n",
       "    <tr>\n",
       "      <th>50%</th>\n",
       "      <td>2007.000000</td>\n",
       "      <td>0.080000</td>\n",
       "      <td>0.020000</td>\n",
       "      <td>0.000000</td>\n",
       "      <td>0.010000</td>\n",
       "      <td>71.000000</td>\n",
       "    </tr>\n",
       "    <tr>\n",
       "      <th>75%</th>\n",
       "      <td>2010.000000</td>\n",
       "      <td>0.240000</td>\n",
       "      <td>0.110000</td>\n",
       "      <td>0.040000</td>\n",
       "      <td>0.030000</td>\n",
       "      <td>79.000000</td>\n",
       "    </tr>\n",
       "    <tr>\n",
       "      <th>max</th>\n",
       "      <td>2016.000000</td>\n",
       "      <td>41.360000</td>\n",
       "      <td>28.960000</td>\n",
       "      <td>10.220000</td>\n",
       "      <td>10.570000</td>\n",
       "      <td>98.000000</td>\n",
       "    </tr>\n",
       "  </tbody>\n",
       "</table>\n",
       "</div>"
      ],
      "text/plain": [
       "       Year_of_Release      NA_sales      EU_sales      JP_sales  \\\n",
       "count     16446.000000  16715.000000  16715.000000  16715.000000   \n",
       "mean       2006.484616      0.263377      0.145060      0.077617   \n",
       "std           5.877050      0.813604      0.503339      0.308853   \n",
       "min        1980.000000      0.000000      0.000000      0.000000   \n",
       "25%        2003.000000      0.000000      0.000000      0.000000   \n",
       "50%        2007.000000      0.080000      0.020000      0.000000   \n",
       "75%        2010.000000      0.240000      0.110000      0.040000   \n",
       "max        2016.000000     41.360000     28.960000     10.220000   \n",
       "\n",
       "        Other_sales  Critic_Score  \n",
       "count  16715.000000   8137.000000  \n",
       "mean       0.047342     68.967679  \n",
       "std        0.186731     13.938165  \n",
       "min        0.000000     13.000000  \n",
       "25%        0.000000     60.000000  \n",
       "50%        0.010000     71.000000  \n",
       "75%        0.030000     79.000000  \n",
       "max       10.570000     98.000000  "
      ]
     },
     "execution_count": 4,
     "metadata": {},
     "output_type": "execute_result"
    }
   ],
   "source": [
    "games.describe()"
   ]
  },
  {
   "cell_type": "markdown",
   "metadata": {},
   "source": [
    "В таблице 11 столбцов. \n",
    "Согласно документации к данным:\n",
    "- Name — название игры\n",
    "- Platform — платформа\n",
    "- Year_of_Release — год выпуска\n",
    "- Genre — жанр игры\n",
    "- NA_sales — продажи в Северной Америке (миллионы проданных копий)\n",
    "- EU_sales — продажи в Европе (миллионы проданных копий)\n",
    "- JP_sales — продажи в Японии (миллионы проданных копий)\n",
    "- Other_sales — продажи в других странах (миллионы проданных копий)\n",
    "- Critic_Score — оценка критиков (максимум 100)\n",
    "- User_Score — оценка пользователей (максимум 10)\n",
    "- Rating — рейтинг от организации ESRB (англ. Entertainment Software Rating Board). Эта ассоциация определяет рейтинг компьютерных игр и присваивает им подходящую возрастную категорию.\n",
    "\n",
    "### Вывод:\n",
    "\n",
    "После просмотра основной информации можно сделать вывод, что необходимо привести все названия столбцов к единому регистру, а также заменить тип данных в столбце Year_of_release на integer, а User_Score - на float64.\n",
    "Есть несколько столбцов с пропусками, нужно разобраться, какие из них надо заменить и чем.\n",
    "Чтобы двигаться дальше, нужно устранить проблемы в данных."
   ]
  },
  {
   "cell_type": "markdown",
   "metadata": {},
   "source": [
    "##  Предобработка данных"
   ]
  },
  {
   "cell_type": "markdown",
   "metadata": {},
   "source": [
    "Посмотрим на названия всех колонок."
   ]
  },
  {
   "cell_type": "code",
   "execution_count": 5,
   "metadata": {
    "scrolled": true
   },
   "outputs": [
    {
     "data": {
      "text/plain": [
       "Index(['Name', 'Platform', 'Year_of_Release', 'Genre', 'NA_sales', 'EU_sales',\n",
       "       'JP_sales', 'Other_sales', 'Critic_Score', 'User_Score', 'Rating'],\n",
       "      dtype='object')"
      ]
     },
     "execution_count": 5,
     "metadata": {},
     "output_type": "execute_result"
    }
   ],
   "source": [
    "games.columns # перечень названий столбцов таблицы"
   ]
  },
  {
   "cell_type": "markdown",
   "metadata": {},
   "source": [
    "Переведём для удобства названия столбцов к нижнему регистру."
   ]
  },
  {
   "cell_type": "code",
   "execution_count": 6,
   "metadata": {},
   "outputs": [],
   "source": [
    "games = (games.rename(columns={'Name': 'name', 'Platform': 'platform', 'Year_of_Release': 'year_of_release', 'Genre': 'genre', \n",
    "                              'NA_sales': 'na_sales', 'EU_sales': 'eu_sales', 'JP_sales': 'jp_sales', 'Other_sales': 'other_sales',\n",
    "                               'Critic_Score': 'critic_score', 'User_Score': 'user_score', 'Rating': 'rating'}))\n",
    " # переименование столбцов"
   ]
  },
  {
   "cell_type": "code",
   "execution_count": 7,
   "metadata": {},
   "outputs": [
    {
     "data": {
      "text/plain": [
       "Index(['name', 'platform', 'year_of_release', 'genre', 'na_sales', 'eu_sales',\n",
       "       'jp_sales', 'other_sales', 'critic_score', 'user_score', 'rating'],\n",
       "      dtype='object')"
      ]
     },
     "execution_count": 7,
     "metadata": {},
     "output_type": "execute_result"
    }
   ],
   "source": [
    "games.columns"
   ]
  },
  {
   "cell_type": "markdown",
   "metadata": {},
   "source": [
    "Теперь названия столбцов записаны в нижнем регистре.\n",
    "Проверим, сколько пропущенных значений в каждом столбце."
   ]
  },
  {
   "cell_type": "code",
   "execution_count": 8,
   "metadata": {},
   "outputs": [
    {
     "data": {
      "text/plain": [
       "name                  2\n",
       "platform              0\n",
       "year_of_release     269\n",
       "genre                 2\n",
       "na_sales              0\n",
       "eu_sales              0\n",
       "jp_sales              0\n",
       "other_sales           0\n",
       "critic_score       8578\n",
       "user_score         6701\n",
       "rating             6766\n",
       "dtype: int64"
      ]
     },
     "execution_count": 8,
     "metadata": {},
     "output_type": "execute_result"
    }
   ],
   "source": [
    "games.isna().sum() #посчитаем долю пропусков в каждом столбце."
   ]
  },
  {
   "cell_type": "code",
   "execution_count": 9,
   "metadata": {},
   "outputs": [
    {
     "name": "stdout",
     "output_type": "stream",
     "text": [
      "name 0.0\n",
      "platform 0.0\n",
      "year_of_release 0.02\n",
      "genre 0.0\n",
      "na_sales 0.0\n",
      "eu_sales 0.0\n",
      "jp_sales 0.0\n",
      "other_sales 0.0\n",
      "critic_score 0.51\n",
      "user_score 0.4\n",
      "rating 0.4\n"
     ]
    }
   ],
   "source": [
    "for column in games:\n",
    "    print(column, round((games[column].isna().sum() / 16715), 2))\n"
   ]
  },
  {
   "cell_type": "code",
   "execution_count": 10,
   "metadata": {},
   "outputs": [
    {
     "data": {
      "text/plain": [
       "(16715, 11)"
      ]
     },
     "execution_count": 10,
     "metadata": {},
     "output_type": "execute_result"
    }
   ],
   "source": [
    "games.shape"
   ]
  },
  {
   "cell_type": "markdown",
   "metadata": {},
   "source": [
    "В колонках с названием игры и жанром всего по два пропуска, а в столбце с годом выпуска пропусков всего 2%.\n",
    "Можно удалить эти строки."
   ]
  },
  {
   "cell_type": "code",
   "execution_count": 11,
   "metadata": {
    "scrolled": true
   },
   "outputs": [
    {
     "name": "stdout",
     "output_type": "stream",
     "text": [
      "<class 'pandas.core.frame.DataFrame'>\n",
      "Int64Index: 16444 entries, 0 to 16714\n",
      "Data columns (total 11 columns):\n",
      " #   Column           Non-Null Count  Dtype  \n",
      "---  ------           --------------  -----  \n",
      " 0   name             16444 non-null  object \n",
      " 1   platform         16444 non-null  object \n",
      " 2   year_of_release  16444 non-null  float64\n",
      " 3   genre            16444 non-null  object \n",
      " 4   na_sales         16444 non-null  float64\n",
      " 5   eu_sales         16444 non-null  float64\n",
      " 6   jp_sales         16444 non-null  float64\n",
      " 7   other_sales      16444 non-null  float64\n",
      " 8   critic_score     7983 non-null   float64\n",
      " 9   user_score       9839 non-null   object \n",
      " 10  rating           9768 non-null   object \n",
      "dtypes: float64(6), object(5)\n",
      "memory usage: 1.5+ MB\n"
     ]
    }
   ],
   "source": [
    "games.dropna(subset = ['name', 'year_of_release', 'genre'],inplace=True)\n",
    "games.info()"
   ]
  },
  {
   "cell_type": "code",
   "execution_count": 12,
   "metadata": {},
   "outputs": [
    {
     "data": {
      "text/plain": [
       "(16444, 11)"
      ]
     },
     "execution_count": 12,
     "metadata": {},
     "output_type": "execute_result"
    }
   ],
   "source": [
    "games.shape"
   ]
  },
  {
   "cell_type": "markdown",
   "metadata": {},
   "source": [
    "Оценки и рейтинг оставим пока без изменений, т.к. количество строк с пропусками слишком большое, а заменить их какими-то данными невозможно."
   ]
  },
  {
   "cell_type": "markdown",
   "metadata": {},
   "source": [
    "Поменяем тип данных в столбце year_of_release на integer."
   ]
  },
  {
   "cell_type": "code",
   "execution_count": 13,
   "metadata": {
    "scrolled": true
   },
   "outputs": [
    {
     "name": "stdout",
     "output_type": "stream",
     "text": [
      "<class 'pandas.core.frame.DataFrame'>\n",
      "Int64Index: 16444 entries, 0 to 16714\n",
      "Data columns (total 11 columns):\n",
      " #   Column           Non-Null Count  Dtype  \n",
      "---  ------           --------------  -----  \n",
      " 0   name             16444 non-null  object \n",
      " 1   platform         16444 non-null  object \n",
      " 2   year_of_release  16444 non-null  int64  \n",
      " 3   genre            16444 non-null  object \n",
      " 4   na_sales         16444 non-null  float64\n",
      " 5   eu_sales         16444 non-null  float64\n",
      " 6   jp_sales         16444 non-null  float64\n",
      " 7   other_sales      16444 non-null  float64\n",
      " 8   critic_score     7983 non-null   float64\n",
      " 9   user_score       9839 non-null   object \n",
      " 10  rating           9768 non-null   object \n",
      "dtypes: float64(5), int64(1), object(5)\n",
      "memory usage: 1.5+ MB\n"
     ]
    }
   ],
   "source": [
    "games['year_of_release'] = games['year_of_release'].apply('int64') \n",
    "games.info()"
   ]
  },
  {
   "cell_type": "markdown",
   "metadata": {},
   "source": [
    "Посмотрим столбец user_score - оценки пользователей."
   ]
  },
  {
   "cell_type": "code",
   "execution_count": 14,
   "metadata": {},
   "outputs": [
    {
     "name": "stdout",
     "output_type": "stream",
     "text": [
      "96\n"
     ]
    },
    {
     "data": {
      "text/plain": [
       "array(['8', nan, '8.3', '8.5', '6.6', '8.4', '8.6', '7.7', '6.3', '7.4',\n",
       "       '8.2', '9', '7.9', '8.1', '8.7', '7.1', '3.4', '5.3', '4.8', '3.2',\n",
       "       '8.9', '6.4', '7.8', '7.5', '2.6', '7.2', '9.2', '7', '7.3', '4.3',\n",
       "       '7.6', '5.7', '5', '9.1', '6.5', 'tbd', '8.8', '6.9', '9.4', '6.8',\n",
       "       '6.1', '6.7', '5.4', '4', '4.9', '4.5', '9.3', '6.2', '4.2', '6',\n",
       "       '3.7', '4.1', '5.8', '5.6', '5.5', '4.4', '4.6', '5.9', '3.9',\n",
       "       '3.1', '2.9', '5.2', '3.3', '4.7', '5.1', '3.5', '2.5', '1.9', '3',\n",
       "       '2.7', '2.2', '2', '9.5', '2.1', '3.6', '2.8', '1.8', '3.8', '0',\n",
       "       '1.6', '9.6', '2.4', '1.7', '1.1', '0.3', '1.5', '0.7', '1.2',\n",
       "       '2.3', '0.5', '1.3', '0.2', '0.6', '1.4', '0.9', '1', '9.7'],\n",
       "      dtype=object)"
      ]
     },
     "execution_count": 14,
     "metadata": {},
     "output_type": "execute_result"
    }
   ],
   "source": [
    "print(games['user_score'].nunique())\n",
    "games['user_score'].unique()"
   ]
  },
  {
   "cell_type": "markdown",
   "metadata": {},
   "source": [
    "Посмотрим, что за строки, в которых рейтинг равен tbd."
   ]
  },
  {
   "cell_type": "code",
   "execution_count": 15,
   "metadata": {},
   "outputs": [
    {
     "data": {
      "text/html": [
       "<div>\n",
       "<style scoped>\n",
       "    .dataframe tbody tr th:only-of-type {\n",
       "        vertical-align: middle;\n",
       "    }\n",
       "\n",
       "    .dataframe tbody tr th {\n",
       "        vertical-align: top;\n",
       "    }\n",
       "\n",
       "    .dataframe thead th {\n",
       "        text-align: right;\n",
       "    }\n",
       "</style>\n",
       "<table border=\"1\" class=\"dataframe\">\n",
       "  <thead>\n",
       "    <tr style=\"text-align: right;\">\n",
       "      <th></th>\n",
       "      <th>name</th>\n",
       "      <th>platform</th>\n",
       "      <th>year_of_release</th>\n",
       "      <th>genre</th>\n",
       "      <th>na_sales</th>\n",
       "      <th>eu_sales</th>\n",
       "      <th>jp_sales</th>\n",
       "      <th>other_sales</th>\n",
       "      <th>critic_score</th>\n",
       "      <th>user_score</th>\n",
       "      <th>rating</th>\n",
       "    </tr>\n",
       "  </thead>\n",
       "  <tbody>\n",
       "    <tr>\n",
       "      <th>119</th>\n",
       "      <td>Zumba Fitness</td>\n",
       "      <td>Wii</td>\n",
       "      <td>2010</td>\n",
       "      <td>Sports</td>\n",
       "      <td>3.45</td>\n",
       "      <td>2.59</td>\n",
       "      <td>0.0</td>\n",
       "      <td>0.66</td>\n",
       "      <td>NaN</td>\n",
       "      <td>tbd</td>\n",
       "      <td>E</td>\n",
       "    </tr>\n",
       "    <tr>\n",
       "      <th>301</th>\n",
       "      <td>Namco Museum: 50th Anniversary</td>\n",
       "      <td>PS2</td>\n",
       "      <td>2005</td>\n",
       "      <td>Misc</td>\n",
       "      <td>2.08</td>\n",
       "      <td>1.35</td>\n",
       "      <td>0.0</td>\n",
       "      <td>0.54</td>\n",
       "      <td>61.0</td>\n",
       "      <td>tbd</td>\n",
       "      <td>E10+</td>\n",
       "    </tr>\n",
       "    <tr>\n",
       "      <th>520</th>\n",
       "      <td>Zumba Fitness 2</td>\n",
       "      <td>Wii</td>\n",
       "      <td>2011</td>\n",
       "      <td>Sports</td>\n",
       "      <td>1.51</td>\n",
       "      <td>1.03</td>\n",
       "      <td>0.0</td>\n",
       "      <td>0.27</td>\n",
       "      <td>NaN</td>\n",
       "      <td>tbd</td>\n",
       "      <td>T</td>\n",
       "    </tr>\n",
       "    <tr>\n",
       "      <th>645</th>\n",
       "      <td>uDraw Studio</td>\n",
       "      <td>Wii</td>\n",
       "      <td>2010</td>\n",
       "      <td>Misc</td>\n",
       "      <td>1.65</td>\n",
       "      <td>0.57</td>\n",
       "      <td>0.0</td>\n",
       "      <td>0.20</td>\n",
       "      <td>71.0</td>\n",
       "      <td>tbd</td>\n",
       "      <td>E</td>\n",
       "    </tr>\n",
       "    <tr>\n",
       "      <th>718</th>\n",
       "      <td>Just Dance Kids</td>\n",
       "      <td>Wii</td>\n",
       "      <td>2010</td>\n",
       "      <td>Misc</td>\n",
       "      <td>1.52</td>\n",
       "      <td>0.54</td>\n",
       "      <td>0.0</td>\n",
       "      <td>0.18</td>\n",
       "      <td>NaN</td>\n",
       "      <td>tbd</td>\n",
       "      <td>E</td>\n",
       "    </tr>\n",
       "    <tr>\n",
       "      <th>...</th>\n",
       "      <td>...</td>\n",
       "      <td>...</td>\n",
       "      <td>...</td>\n",
       "      <td>...</td>\n",
       "      <td>...</td>\n",
       "      <td>...</td>\n",
       "      <td>...</td>\n",
       "      <td>...</td>\n",
       "      <td>...</td>\n",
       "      <td>...</td>\n",
       "      <td>...</td>\n",
       "    </tr>\n",
       "    <tr>\n",
       "      <th>16695</th>\n",
       "      <td>Planet Monsters</td>\n",
       "      <td>GBA</td>\n",
       "      <td>2001</td>\n",
       "      <td>Action</td>\n",
       "      <td>0.01</td>\n",
       "      <td>0.00</td>\n",
       "      <td>0.0</td>\n",
       "      <td>0.00</td>\n",
       "      <td>67.0</td>\n",
       "      <td>tbd</td>\n",
       "      <td>E</td>\n",
       "    </tr>\n",
       "    <tr>\n",
       "      <th>16697</th>\n",
       "      <td>Bust-A-Move 3000</td>\n",
       "      <td>GC</td>\n",
       "      <td>2003</td>\n",
       "      <td>Puzzle</td>\n",
       "      <td>0.01</td>\n",
       "      <td>0.00</td>\n",
       "      <td>0.0</td>\n",
       "      <td>0.00</td>\n",
       "      <td>53.0</td>\n",
       "      <td>tbd</td>\n",
       "      <td>E</td>\n",
       "    </tr>\n",
       "    <tr>\n",
       "      <th>16698</th>\n",
       "      <td>Mega Brain Boost</td>\n",
       "      <td>DS</td>\n",
       "      <td>2008</td>\n",
       "      <td>Puzzle</td>\n",
       "      <td>0.01</td>\n",
       "      <td>0.00</td>\n",
       "      <td>0.0</td>\n",
       "      <td>0.00</td>\n",
       "      <td>48.0</td>\n",
       "      <td>tbd</td>\n",
       "      <td>E</td>\n",
       "    </tr>\n",
       "    <tr>\n",
       "      <th>16704</th>\n",
       "      <td>Plushees</td>\n",
       "      <td>DS</td>\n",
       "      <td>2008</td>\n",
       "      <td>Simulation</td>\n",
       "      <td>0.01</td>\n",
       "      <td>0.00</td>\n",
       "      <td>0.0</td>\n",
       "      <td>0.00</td>\n",
       "      <td>NaN</td>\n",
       "      <td>tbd</td>\n",
       "      <td>E</td>\n",
       "    </tr>\n",
       "    <tr>\n",
       "      <th>16706</th>\n",
       "      <td>Men in Black II: Alien Escape</td>\n",
       "      <td>GC</td>\n",
       "      <td>2003</td>\n",
       "      <td>Shooter</td>\n",
       "      <td>0.01</td>\n",
       "      <td>0.00</td>\n",
       "      <td>0.0</td>\n",
       "      <td>0.00</td>\n",
       "      <td>NaN</td>\n",
       "      <td>tbd</td>\n",
       "      <td>T</td>\n",
       "    </tr>\n",
       "  </tbody>\n",
       "</table>\n",
       "<p>2376 rows × 11 columns</p>\n",
       "</div>"
      ],
      "text/plain": [
       "                                 name platform  year_of_release       genre  \\\n",
       "119                     Zumba Fitness      Wii             2010      Sports   \n",
       "301    Namco Museum: 50th Anniversary      PS2             2005        Misc   \n",
       "520                   Zumba Fitness 2      Wii             2011      Sports   \n",
       "645                      uDraw Studio      Wii             2010        Misc   \n",
       "718                   Just Dance Kids      Wii             2010        Misc   \n",
       "...                               ...      ...              ...         ...   \n",
       "16695                 Planet Monsters      GBA             2001      Action   \n",
       "16697                Bust-A-Move 3000       GC             2003      Puzzle   \n",
       "16698                Mega Brain Boost       DS             2008      Puzzle   \n",
       "16704                        Plushees       DS             2008  Simulation   \n",
       "16706   Men in Black II: Alien Escape       GC             2003     Shooter   \n",
       "\n",
       "       na_sales  eu_sales  jp_sales  other_sales  critic_score user_score  \\\n",
       "119        3.45      2.59       0.0         0.66           NaN        tbd   \n",
       "301        2.08      1.35       0.0         0.54          61.0        tbd   \n",
       "520        1.51      1.03       0.0         0.27           NaN        tbd   \n",
       "645        1.65      0.57       0.0         0.20          71.0        tbd   \n",
       "718        1.52      0.54       0.0         0.18           NaN        tbd   \n",
       "...         ...       ...       ...          ...           ...        ...   \n",
       "16695      0.01      0.00       0.0         0.00          67.0        tbd   \n",
       "16697      0.01      0.00       0.0         0.00          53.0        tbd   \n",
       "16698      0.01      0.00       0.0         0.00          48.0        tbd   \n",
       "16704      0.01      0.00       0.0         0.00           NaN        tbd   \n",
       "16706      0.01      0.00       0.0         0.00           NaN        tbd   \n",
       "\n",
       "      rating  \n",
       "119        E  \n",
       "301     E10+  \n",
       "520        T  \n",
       "645        E  \n",
       "718        E  \n",
       "...      ...  \n",
       "16695      E  \n",
       "16697      E  \n",
       "16698      E  \n",
       "16704      E  \n",
       "16706      T  \n",
       "\n",
       "[2376 rows x 11 columns]"
      ]
     },
     "execution_count": 15,
     "metadata": {},
     "output_type": "execute_result"
    }
   ],
   "source": [
    "games_tbd = games[games['user_score'] == \"tbd\"]\n",
    "games_tbd"
   ]
  },
  {
   "cell_type": "markdown",
   "metadata": {},
   "source": [
    "Информация в интернете говорит, что tbd - To Be Determined, то есть рейтинг не определен.\n",
    "Посмотрим, сколько таких строк."
   ]
  },
  {
   "cell_type": "code",
   "execution_count": 16,
   "metadata": {},
   "outputs": [
    {
     "data": {
      "text/plain": [
       "name               2376\n",
       "platform           2376\n",
       "year_of_release    2376\n",
       "genre              2376\n",
       "na_sales           2376\n",
       "eu_sales           2376\n",
       "jp_sales           2376\n",
       "other_sales        2376\n",
       "critic_score       1056\n",
       "user_score         2376\n",
       "rating             2326\n",
       "dtype: int64"
      ]
     },
     "execution_count": 16,
     "metadata": {},
     "output_type": "execute_result"
    }
   ],
   "source": [
    "games_tbd.count()"
   ]
  },
  {
   "cell_type": "markdown",
   "metadata": {},
   "source": [
    "Такие строки также можно заменить на NaN."
   ]
  },
  {
   "cell_type": "code",
   "execution_count": 17,
   "metadata": {},
   "outputs": [],
   "source": [
    "games.loc[games['user_score'] == 'tbd', 'user_score'] = np.nan"
   ]
  },
  {
   "cell_type": "code",
   "execution_count": 18,
   "metadata": {},
   "outputs": [
    {
     "name": "stdout",
     "output_type": "stream",
     "text": [
      "<class 'pandas.core.frame.DataFrame'>\n",
      "Int64Index: 16444 entries, 0 to 16714\n",
      "Data columns (total 11 columns):\n",
      " #   Column           Non-Null Count  Dtype  \n",
      "---  ------           --------------  -----  \n",
      " 0   name             16444 non-null  object \n",
      " 1   platform         16444 non-null  object \n",
      " 2   year_of_release  16444 non-null  int64  \n",
      " 3   genre            16444 non-null  object \n",
      " 4   na_sales         16444 non-null  float64\n",
      " 5   eu_sales         16444 non-null  float64\n",
      " 6   jp_sales         16444 non-null  float64\n",
      " 7   other_sales      16444 non-null  float64\n",
      " 8   critic_score     7983 non-null   float64\n",
      " 9   user_score       7463 non-null   object \n",
      " 10  rating           9768 non-null   object \n",
      "dtypes: float64(5), int64(1), object(5)\n",
      "memory usage: 1.5+ MB\n"
     ]
    }
   ],
   "source": [
    "games.info()"
   ]
  },
  {
   "cell_type": "code",
   "execution_count": 19,
   "metadata": {
    "scrolled": false
   },
   "outputs": [
    {
     "name": "stdout",
     "output_type": "stream",
     "text": [
      "95\n"
     ]
    },
    {
     "data": {
      "text/plain": [
       "array(['8', nan, '8.3', '8.5', '6.6', '8.4', '8.6', '7.7', '6.3', '7.4',\n",
       "       '8.2', '9', '7.9', '8.1', '8.7', '7.1', '3.4', '5.3', '4.8', '3.2',\n",
       "       '8.9', '6.4', '7.8', '7.5', '2.6', '7.2', '9.2', '7', '7.3', '4.3',\n",
       "       '7.6', '5.7', '5', '9.1', '6.5', '8.8', '6.9', '9.4', '6.8', '6.1',\n",
       "       '6.7', '5.4', '4', '4.9', '4.5', '9.3', '6.2', '4.2', '6', '3.7',\n",
       "       '4.1', '5.8', '5.6', '5.5', '4.4', '4.6', '5.9', '3.9', '3.1',\n",
       "       '2.9', '5.2', '3.3', '4.7', '5.1', '3.5', '2.5', '1.9', '3', '2.7',\n",
       "       '2.2', '2', '9.5', '2.1', '3.6', '2.8', '1.8', '3.8', '0', '1.6',\n",
       "       '9.6', '2.4', '1.7', '1.1', '0.3', '1.5', '0.7', '1.2', '2.3',\n",
       "       '0.5', '1.3', '0.2', '0.6', '1.4', '0.9', '1', '9.7'], dtype=object)"
      ]
     },
     "execution_count": 19,
     "metadata": {},
     "output_type": "execute_result"
    }
   ],
   "source": [
    "print(games['user_score'].nunique())\n",
    "games['user_score'].unique()"
   ]
  },
  {
   "cell_type": "markdown",
   "metadata": {},
   "source": [
    "Заменим тип данных в столбце с оценками пользователей."
   ]
  },
  {
   "cell_type": "code",
   "execution_count": 20,
   "metadata": {},
   "outputs": [
    {
     "name": "stdout",
     "output_type": "stream",
     "text": [
      "<class 'pandas.core.frame.DataFrame'>\n",
      "Int64Index: 16444 entries, 0 to 16714\n",
      "Data columns (total 11 columns):\n",
      " #   Column           Non-Null Count  Dtype  \n",
      "---  ------           --------------  -----  \n",
      " 0   name             16444 non-null  object \n",
      " 1   platform         16444 non-null  object \n",
      " 2   year_of_release  16444 non-null  int64  \n",
      " 3   genre            16444 non-null  object \n",
      " 4   na_sales         16444 non-null  float64\n",
      " 5   eu_sales         16444 non-null  float64\n",
      " 6   jp_sales         16444 non-null  float64\n",
      " 7   other_sales      16444 non-null  float64\n",
      " 8   critic_score     7983 non-null   float64\n",
      " 9   user_score       7463 non-null   float64\n",
      " 10  rating           9768 non-null   object \n",
      "dtypes: float64(6), int64(1), object(4)\n",
      "memory usage: 1.5+ MB\n"
     ]
    }
   ],
   "source": [
    "games['user_score'] = games['user_score'].apply(float) \n",
    "games.info()"
   ]
  },
  {
   "cell_type": "markdown",
   "metadata": {},
   "source": [
    "Проверим таблицу на наличие строк-дубликатов."
   ]
  },
  {
   "cell_type": "code",
   "execution_count": 21,
   "metadata": {},
   "outputs": [
    {
     "data": {
      "text/plain": [
       "0"
      ]
     },
     "execution_count": 21,
     "metadata": {},
     "output_type": "execute_result"
    }
   ],
   "source": [
    "games.duplicated().sum()"
   ]
  },
  {
   "cell_type": "markdown",
   "metadata": {},
   "source": [
    "Явных дубликатов нет.\n",
    "Приведем все названия игр к нижнему регистру, чтобы избавиться от дубликатов, если они там есть из-за написания разным регистром."
   ]
  },
  {
   "cell_type": "code",
   "execution_count": 22,
   "metadata": {},
   "outputs": [
    {
     "data": {
      "text/plain": [
       "11426"
      ]
     },
     "execution_count": 22,
     "metadata": {},
     "output_type": "execute_result"
    }
   ],
   "source": [
    "games['name'] = games['name'].str.lower()\n",
    "games['name'].nunique()"
   ]
  },
  {
   "cell_type": "markdown",
   "metadata": {},
   "source": [
    "Посмотрим на значения в столбце с названием платформ."
   ]
  },
  {
   "cell_type": "code",
   "execution_count": 23,
   "metadata": {},
   "outputs": [
    {
     "name": "stdout",
     "output_type": "stream",
     "text": [
      "31\n"
     ]
    },
    {
     "data": {
      "text/plain": [
       "array(['Wii', 'NES', 'GB', 'DS', 'X360', 'PS3', 'PS2', 'SNES', 'GBA',\n",
       "       'PS4', '3DS', 'N64', 'PS', 'XB', 'PC', '2600', 'PSP', 'XOne',\n",
       "       'WiiU', 'GC', 'GEN', 'DC', 'PSV', 'SAT', 'SCD', 'WS', 'NG', 'TG16',\n",
       "       '3DO', 'GG', 'PCFX'], dtype=object)"
      ]
     },
     "execution_count": 23,
     "metadata": {},
     "output_type": "execute_result"
    }
   ],
   "source": [
    "print(games['platform'].nunique())\n",
    "games['platform'].unique()"
   ]
  },
  {
   "cell_type": "markdown",
   "metadata": {},
   "source": [
    "Здесь всё в порядке.\n",
    "Посмотрим столбец с названиями жанров."
   ]
  },
  {
   "cell_type": "code",
   "execution_count": 24,
   "metadata": {},
   "outputs": [
    {
     "name": "stdout",
     "output_type": "stream",
     "text": [
      "12\n"
     ]
    },
    {
     "data": {
      "text/plain": [
       "array(['Sports', 'Platform', 'Racing', 'Role-Playing', 'Puzzle', 'Misc',\n",
       "       'Shooter', 'Simulation', 'Action', 'Fighting', 'Adventure',\n",
       "       'Strategy'], dtype=object)"
      ]
     },
     "execution_count": 24,
     "metadata": {},
     "output_type": "execute_result"
    }
   ],
   "source": [
    "print(games['genre'].nunique())\n",
    "games['genre'].unique()"
   ]
  },
  {
   "cell_type": "markdown",
   "metadata": {},
   "source": [
    "Жанров тоже мало, сразу видно, что неявных дубликатов нет.\n",
    "\n",
    "Теперь посмотрим на значения в столбцах с оценками и рейтингом."
   ]
  },
  {
   "cell_type": "code",
   "execution_count": 25,
   "metadata": {},
   "outputs": [
    {
     "name": "stdout",
     "output_type": "stream",
     "text": [
      "81\n"
     ]
    },
    {
     "data": {
      "text/plain": [
       "array([76., nan, 82., 80., 89., 58., 87., 91., 61., 97., 95., 77., 88.,\n",
       "       83., 94., 93., 85., 86., 98., 96., 90., 84., 73., 74., 78., 92.,\n",
       "       71., 72., 68., 62., 49., 67., 81., 66., 56., 79., 70., 59., 64.,\n",
       "       75., 60., 63., 69., 50., 25., 42., 44., 55., 48., 57., 29., 47.,\n",
       "       65., 54., 20., 53., 37., 38., 33., 52., 30., 32., 43., 45., 51.,\n",
       "       40., 46., 39., 34., 41., 36., 31., 27., 35., 26., 19., 28., 23.,\n",
       "       24., 21., 17., 13.])"
      ]
     },
     "execution_count": 25,
     "metadata": {},
     "output_type": "execute_result"
    }
   ],
   "source": [
    "print(games['critic_score'].nunique())\n",
    "games['critic_score'].unique()"
   ]
  },
  {
   "cell_type": "markdown",
   "metadata": {},
   "source": [
    "Посмотрим на столбец с рейтингом."
   ]
  },
  {
   "cell_type": "code",
   "execution_count": 26,
   "metadata": {},
   "outputs": [
    {
     "name": "stdout",
     "output_type": "stream",
     "text": [
      "8\n"
     ]
    },
    {
     "data": {
      "text/plain": [
       "array(['E', nan, 'M', 'T', 'E10+', 'K-A', 'AO', 'EC', 'RP'], dtype=object)"
      ]
     },
     "execution_count": 26,
     "metadata": {},
     "output_type": "execute_result"
    }
   ],
   "source": [
    "print(games['rating'].nunique())\n",
    "games['rating'].unique()"
   ]
  },
  {
   "cell_type": "code",
   "execution_count": 27,
   "metadata": {},
   "outputs": [],
   "source": [
    "games['rating'] = games['rating'].fillna('no_rating')\n",
    "\n"
   ]
  },
  {
   "cell_type": "code",
   "execution_count": 28,
   "metadata": {
    "scrolled": true
   },
   "outputs": [
    {
     "data": {
      "text/plain": [
       "array(['E', 'no_rating', 'M', 'T', 'E10+', 'K-A', 'AO', 'EC', 'RP'],\n",
       "      dtype=object)"
      ]
     },
     "execution_count": 28,
     "metadata": {},
     "output_type": "execute_result"
    }
   ],
   "source": [
    "games['rating'].unique()"
   ]
  },
  {
   "cell_type": "markdown",
   "metadata": {},
   "source": [
    "Тут всё в порядке."
   ]
  },
  {
   "cell_type": "markdown",
   "metadata": {},
   "source": [
    "Далее посчитаем суммарные продажи во всех регионах и запишите их в отдельный столбец."
   ]
  },
  {
   "cell_type": "code",
   "execution_count": 29,
   "metadata": {},
   "outputs": [],
   "source": [
    "games['total_sales'] = games['na_sales'] + games['eu_sales'] + games['jp_sales'] + games['other_sales']"
   ]
  },
  {
   "cell_type": "code",
   "execution_count": 30,
   "metadata": {},
   "outputs": [
    {
     "data": {
      "text/html": [
       "<div>\n",
       "<style scoped>\n",
       "    .dataframe tbody tr th:only-of-type {\n",
       "        vertical-align: middle;\n",
       "    }\n",
       "\n",
       "    .dataframe tbody tr th {\n",
       "        vertical-align: top;\n",
       "    }\n",
       "\n",
       "    .dataframe thead th {\n",
       "        text-align: right;\n",
       "    }\n",
       "</style>\n",
       "<table border=\"1\" class=\"dataframe\">\n",
       "  <thead>\n",
       "    <tr style=\"text-align: right;\">\n",
       "      <th></th>\n",
       "      <th>name</th>\n",
       "      <th>platform</th>\n",
       "      <th>year_of_release</th>\n",
       "      <th>genre</th>\n",
       "      <th>na_sales</th>\n",
       "      <th>eu_sales</th>\n",
       "      <th>jp_sales</th>\n",
       "      <th>other_sales</th>\n",
       "      <th>critic_score</th>\n",
       "      <th>user_score</th>\n",
       "      <th>rating</th>\n",
       "      <th>total_sales</th>\n",
       "    </tr>\n",
       "  </thead>\n",
       "  <tbody>\n",
       "    <tr>\n",
       "      <th>0</th>\n",
       "      <td>wii sports</td>\n",
       "      <td>Wii</td>\n",
       "      <td>2006</td>\n",
       "      <td>Sports</td>\n",
       "      <td>41.36</td>\n",
       "      <td>28.96</td>\n",
       "      <td>3.77</td>\n",
       "      <td>8.45</td>\n",
       "      <td>76.0</td>\n",
       "      <td>8.0</td>\n",
       "      <td>E</td>\n",
       "      <td>82.54</td>\n",
       "    </tr>\n",
       "    <tr>\n",
       "      <th>1</th>\n",
       "      <td>super mario bros.</td>\n",
       "      <td>NES</td>\n",
       "      <td>1985</td>\n",
       "      <td>Platform</td>\n",
       "      <td>29.08</td>\n",
       "      <td>3.58</td>\n",
       "      <td>6.81</td>\n",
       "      <td>0.77</td>\n",
       "      <td>NaN</td>\n",
       "      <td>NaN</td>\n",
       "      <td>no_rating</td>\n",
       "      <td>40.24</td>\n",
       "    </tr>\n",
       "    <tr>\n",
       "      <th>2</th>\n",
       "      <td>mario kart wii</td>\n",
       "      <td>Wii</td>\n",
       "      <td>2008</td>\n",
       "      <td>Racing</td>\n",
       "      <td>15.68</td>\n",
       "      <td>12.76</td>\n",
       "      <td>3.79</td>\n",
       "      <td>3.29</td>\n",
       "      <td>82.0</td>\n",
       "      <td>8.3</td>\n",
       "      <td>E</td>\n",
       "      <td>35.52</td>\n",
       "    </tr>\n",
       "    <tr>\n",
       "      <th>3</th>\n",
       "      <td>wii sports resort</td>\n",
       "      <td>Wii</td>\n",
       "      <td>2009</td>\n",
       "      <td>Sports</td>\n",
       "      <td>15.61</td>\n",
       "      <td>10.93</td>\n",
       "      <td>3.28</td>\n",
       "      <td>2.95</td>\n",
       "      <td>80.0</td>\n",
       "      <td>8.0</td>\n",
       "      <td>E</td>\n",
       "      <td>32.77</td>\n",
       "    </tr>\n",
       "    <tr>\n",
       "      <th>4</th>\n",
       "      <td>pokemon red/pokemon blue</td>\n",
       "      <td>GB</td>\n",
       "      <td>1996</td>\n",
       "      <td>Role-Playing</td>\n",
       "      <td>11.27</td>\n",
       "      <td>8.89</td>\n",
       "      <td>10.22</td>\n",
       "      <td>1.00</td>\n",
       "      <td>NaN</td>\n",
       "      <td>NaN</td>\n",
       "      <td>no_rating</td>\n",
       "      <td>31.38</td>\n",
       "    </tr>\n",
       "    <tr>\n",
       "      <th>5</th>\n",
       "      <td>tetris</td>\n",
       "      <td>GB</td>\n",
       "      <td>1989</td>\n",
       "      <td>Puzzle</td>\n",
       "      <td>23.20</td>\n",
       "      <td>2.26</td>\n",
       "      <td>4.22</td>\n",
       "      <td>0.58</td>\n",
       "      <td>NaN</td>\n",
       "      <td>NaN</td>\n",
       "      <td>no_rating</td>\n",
       "      <td>30.26</td>\n",
       "    </tr>\n",
       "    <tr>\n",
       "      <th>6</th>\n",
       "      <td>new super mario bros.</td>\n",
       "      <td>DS</td>\n",
       "      <td>2006</td>\n",
       "      <td>Platform</td>\n",
       "      <td>11.28</td>\n",
       "      <td>9.14</td>\n",
       "      <td>6.50</td>\n",
       "      <td>2.88</td>\n",
       "      <td>89.0</td>\n",
       "      <td>8.5</td>\n",
       "      <td>E</td>\n",
       "      <td>29.80</td>\n",
       "    </tr>\n",
       "    <tr>\n",
       "      <th>7</th>\n",
       "      <td>wii play</td>\n",
       "      <td>Wii</td>\n",
       "      <td>2006</td>\n",
       "      <td>Misc</td>\n",
       "      <td>13.96</td>\n",
       "      <td>9.18</td>\n",
       "      <td>2.93</td>\n",
       "      <td>2.84</td>\n",
       "      <td>58.0</td>\n",
       "      <td>6.6</td>\n",
       "      <td>E</td>\n",
       "      <td>28.91</td>\n",
       "    </tr>\n",
       "    <tr>\n",
       "      <th>8</th>\n",
       "      <td>new super mario bros. wii</td>\n",
       "      <td>Wii</td>\n",
       "      <td>2009</td>\n",
       "      <td>Platform</td>\n",
       "      <td>14.44</td>\n",
       "      <td>6.94</td>\n",
       "      <td>4.70</td>\n",
       "      <td>2.24</td>\n",
       "      <td>87.0</td>\n",
       "      <td>8.4</td>\n",
       "      <td>E</td>\n",
       "      <td>28.32</td>\n",
       "    </tr>\n",
       "    <tr>\n",
       "      <th>9</th>\n",
       "      <td>duck hunt</td>\n",
       "      <td>NES</td>\n",
       "      <td>1984</td>\n",
       "      <td>Shooter</td>\n",
       "      <td>26.93</td>\n",
       "      <td>0.63</td>\n",
       "      <td>0.28</td>\n",
       "      <td>0.47</td>\n",
       "      <td>NaN</td>\n",
       "      <td>NaN</td>\n",
       "      <td>no_rating</td>\n",
       "      <td>28.31</td>\n",
       "    </tr>\n",
       "  </tbody>\n",
       "</table>\n",
       "</div>"
      ],
      "text/plain": [
       "                        name platform  year_of_release         genre  \\\n",
       "0                 wii sports      Wii             2006        Sports   \n",
       "1          super mario bros.      NES             1985      Platform   \n",
       "2             mario kart wii      Wii             2008        Racing   \n",
       "3          wii sports resort      Wii             2009        Sports   \n",
       "4   pokemon red/pokemon blue       GB             1996  Role-Playing   \n",
       "5                     tetris       GB             1989        Puzzle   \n",
       "6      new super mario bros.       DS             2006      Platform   \n",
       "7                   wii play      Wii             2006          Misc   \n",
       "8  new super mario bros. wii      Wii             2009      Platform   \n",
       "9                  duck hunt      NES             1984       Shooter   \n",
       "\n",
       "   na_sales  eu_sales  jp_sales  other_sales  critic_score  user_score  \\\n",
       "0     41.36     28.96      3.77         8.45          76.0         8.0   \n",
       "1     29.08      3.58      6.81         0.77           NaN         NaN   \n",
       "2     15.68     12.76      3.79         3.29          82.0         8.3   \n",
       "3     15.61     10.93      3.28         2.95          80.0         8.0   \n",
       "4     11.27      8.89     10.22         1.00           NaN         NaN   \n",
       "5     23.20      2.26      4.22         0.58           NaN         NaN   \n",
       "6     11.28      9.14      6.50         2.88          89.0         8.5   \n",
       "7     13.96      9.18      2.93         2.84          58.0         6.6   \n",
       "8     14.44      6.94      4.70         2.24          87.0         8.4   \n",
       "9     26.93      0.63      0.28         0.47           NaN         NaN   \n",
       "\n",
       "      rating  total_sales  \n",
       "0          E        82.54  \n",
       "1  no_rating        40.24  \n",
       "2          E        35.52  \n",
       "3          E        32.77  \n",
       "4  no_rating        31.38  \n",
       "5  no_rating        30.26  \n",
       "6          E        29.80  \n",
       "7          E        28.91  \n",
       "8          E        28.32  \n",
       "9  no_rating        28.31  "
      ]
     },
     "execution_count": 30,
     "metadata": {},
     "output_type": "execute_result"
    }
   ],
   "source": [
    "games.head(10) #проверим, что столбец появился"
   ]
  },
  {
   "cell_type": "markdown",
   "metadata": {},
   "source": [
    "### Вывод\n",
    "\n",
    "В ходе предобработки данных названия столбцов были приведены к нижнему регистру, тип данных в столбце с годом выпука заменен на целочисленный, удалены строки с пустыми значениями, а странное значение tbd заменено на пропуск.\n",
    "Также был создан столбец с суммой всех продаж по регионам. "
   ]
  },
  {
   "cell_type": "markdown",
   "metadata": {},
   "source": [
    "## Исследовательский анализ данных"
   ]
  },
  {
   "cell_type": "markdown",
   "metadata": {},
   "source": [
    "Посмотрим, сколько игр выпускалось в разные годы. Для этого сгруппируем таблицу по году выпуска и посчитаем количество в каждом году."
   ]
  },
  {
   "cell_type": "code",
   "execution_count": 31,
   "metadata": {},
   "outputs": [
    {
     "data": {
      "text/html": [
       "<div>\n",
       "<style scoped>\n",
       "    .dataframe tbody tr th:only-of-type {\n",
       "        vertical-align: middle;\n",
       "    }\n",
       "\n",
       "    .dataframe tbody tr th {\n",
       "        vertical-align: top;\n",
       "    }\n",
       "\n",
       "    .dataframe thead th {\n",
       "        text-align: right;\n",
       "    }\n",
       "</style>\n",
       "<table border=\"1\" class=\"dataframe\">\n",
       "  <thead>\n",
       "    <tr style=\"text-align: right;\">\n",
       "      <th></th>\n",
       "      <th>name</th>\n",
       "    </tr>\n",
       "    <tr>\n",
       "      <th>year_of_release</th>\n",
       "      <th></th>\n",
       "    </tr>\n",
       "  </thead>\n",
       "  <tbody>\n",
       "    <tr>\n",
       "      <th>1980</th>\n",
       "      <td>9</td>\n",
       "    </tr>\n",
       "    <tr>\n",
       "      <th>1981</th>\n",
       "      <td>46</td>\n",
       "    </tr>\n",
       "    <tr>\n",
       "      <th>1982</th>\n",
       "      <td>36</td>\n",
       "    </tr>\n",
       "    <tr>\n",
       "      <th>1983</th>\n",
       "      <td>17</td>\n",
       "    </tr>\n",
       "    <tr>\n",
       "      <th>1984</th>\n",
       "      <td>14</td>\n",
       "    </tr>\n",
       "    <tr>\n",
       "      <th>1985</th>\n",
       "      <td>14</td>\n",
       "    </tr>\n",
       "    <tr>\n",
       "      <th>1986</th>\n",
       "      <td>21</td>\n",
       "    </tr>\n",
       "    <tr>\n",
       "      <th>1987</th>\n",
       "      <td>16</td>\n",
       "    </tr>\n",
       "    <tr>\n",
       "      <th>1988</th>\n",
       "      <td>15</td>\n",
       "    </tr>\n",
       "    <tr>\n",
       "      <th>1989</th>\n",
       "      <td>17</td>\n",
       "    </tr>\n",
       "    <tr>\n",
       "      <th>1990</th>\n",
       "      <td>16</td>\n",
       "    </tr>\n",
       "    <tr>\n",
       "      <th>1991</th>\n",
       "      <td>41</td>\n",
       "    </tr>\n",
       "    <tr>\n",
       "      <th>1992</th>\n",
       "      <td>43</td>\n",
       "    </tr>\n",
       "    <tr>\n",
       "      <th>1993</th>\n",
       "      <td>60</td>\n",
       "    </tr>\n",
       "    <tr>\n",
       "      <th>1994</th>\n",
       "      <td>121</td>\n",
       "    </tr>\n",
       "    <tr>\n",
       "      <th>1995</th>\n",
       "      <td>219</td>\n",
       "    </tr>\n",
       "    <tr>\n",
       "      <th>1996</th>\n",
       "      <td>263</td>\n",
       "    </tr>\n",
       "    <tr>\n",
       "      <th>1997</th>\n",
       "      <td>289</td>\n",
       "    </tr>\n",
       "    <tr>\n",
       "      <th>1998</th>\n",
       "      <td>379</td>\n",
       "    </tr>\n",
       "    <tr>\n",
       "      <th>1999</th>\n",
       "      <td>338</td>\n",
       "    </tr>\n",
       "    <tr>\n",
       "      <th>2000</th>\n",
       "      <td>350</td>\n",
       "    </tr>\n",
       "    <tr>\n",
       "      <th>2001</th>\n",
       "      <td>482</td>\n",
       "    </tr>\n",
       "    <tr>\n",
       "      <th>2002</th>\n",
       "      <td>829</td>\n",
       "    </tr>\n",
       "    <tr>\n",
       "      <th>2003</th>\n",
       "      <td>775</td>\n",
       "    </tr>\n",
       "    <tr>\n",
       "      <th>2004</th>\n",
       "      <td>762</td>\n",
       "    </tr>\n",
       "    <tr>\n",
       "      <th>2005</th>\n",
       "      <td>939</td>\n",
       "    </tr>\n",
       "    <tr>\n",
       "      <th>2006</th>\n",
       "      <td>1006</td>\n",
       "    </tr>\n",
       "    <tr>\n",
       "      <th>2007</th>\n",
       "      <td>1197</td>\n",
       "    </tr>\n",
       "    <tr>\n",
       "      <th>2008</th>\n",
       "      <td>1427</td>\n",
       "    </tr>\n",
       "    <tr>\n",
       "      <th>2009</th>\n",
       "      <td>1426</td>\n",
       "    </tr>\n",
       "    <tr>\n",
       "      <th>2010</th>\n",
       "      <td>1255</td>\n",
       "    </tr>\n",
       "    <tr>\n",
       "      <th>2011</th>\n",
       "      <td>1136</td>\n",
       "    </tr>\n",
       "    <tr>\n",
       "      <th>2012</th>\n",
       "      <td>653</td>\n",
       "    </tr>\n",
       "    <tr>\n",
       "      <th>2013</th>\n",
       "      <td>544</td>\n",
       "    </tr>\n",
       "    <tr>\n",
       "      <th>2014</th>\n",
       "      <td>581</td>\n",
       "    </tr>\n",
       "    <tr>\n",
       "      <th>2015</th>\n",
       "      <td>606</td>\n",
       "    </tr>\n",
       "    <tr>\n",
       "      <th>2016</th>\n",
       "      <td>502</td>\n",
       "    </tr>\n",
       "  </tbody>\n",
       "</table>\n",
       "</div>"
      ],
      "text/plain": [
       "                 name\n",
       "year_of_release      \n",
       "1980                9\n",
       "1981               46\n",
       "1982               36\n",
       "1983               17\n",
       "1984               14\n",
       "1985               14\n",
       "1986               21\n",
       "1987               16\n",
       "1988               15\n",
       "1989               17\n",
       "1990               16\n",
       "1991               41\n",
       "1992               43\n",
       "1993               60\n",
       "1994              121\n",
       "1995              219\n",
       "1996              263\n",
       "1997              289\n",
       "1998              379\n",
       "1999              338\n",
       "2000              350\n",
       "2001              482\n",
       "2002              829\n",
       "2003              775\n",
       "2004              762\n",
       "2005              939\n",
       "2006             1006\n",
       "2007             1197\n",
       "2008             1427\n",
       "2009             1426\n",
       "2010             1255\n",
       "2011             1136\n",
       "2012              653\n",
       "2013              544\n",
       "2014              581\n",
       "2015              606\n",
       "2016              502"
      ]
     },
     "execution_count": 31,
     "metadata": {},
     "output_type": "execute_result"
    }
   ],
   "source": [
    "games_year = games.groupby(['year_of_release']).agg({'name':'count'})\n",
    "games_year"
   ]
  },
  {
   "cell_type": "markdown",
   "metadata": {},
   "source": [
    "Построим график, чтобы посмотреть, как росло количество выпущенных игр с годами."
   ]
  },
  {
   "cell_type": "code",
   "execution_count": 32,
   "metadata": {},
   "outputs": [
    {
     "data": {
      "text/plain": [
       "Text(0.5, 1.05, 'Выпуск игр по годам')"
      ]
     },
     "execution_count": 32,
     "metadata": {},
     "output_type": "execute_result"
    },
    {
     "data": {
      "image/png": "[encoded data removed]",
      "text/plain": [
       "<Figure size 504x504 with 1 Axes>"
      ]
     },
     "metadata": {
      "needs_background": "light"
     },
     "output_type": "display_data"
    }
   ],
   "source": [
    "games_year.plot(y='name', kind='bar', figsize=(7, 7))\n",
    "plt.suptitle('Выпуск игр по годам', x=0.5, y=1.05, ha='center', fontsize='xx-large')"
   ]
  },
  {
   "cell_type": "markdown",
   "metadata": {},
   "source": [
    "Видно, что до 1993 года выпускалось мало игр, далее количество новых игр с годами стало расти быстрее, пик пришелся на 2007-2011 годы, далее количество вновь выпущенных игр стало снижаться.\n",
    "Для дальнейшего анализа можно взять период с 2011 по 2016 год, т.к. в эти годы количество выпущенных игр колебалось не так сильно, как в предыдущие годы."
   ]
  },
  {
   "cell_type": "markdown",
   "metadata": {},
   "source": [
    "Выведем топ-15 платформ по продажам."
   ]
  },
  {
   "cell_type": "code",
   "execution_count": 33,
   "metadata": {},
   "outputs": [
    {
     "data": {
      "text/html": [
       "<div>\n",
       "<style scoped>\n",
       "    .dataframe tbody tr th:only-of-type {\n",
       "        vertical-align: middle;\n",
       "    }\n",
       "\n",
       "    .dataframe tbody tr th {\n",
       "        vertical-align: top;\n",
       "    }\n",
       "\n",
       "    .dataframe thead th {\n",
       "        text-align: right;\n",
       "    }\n",
       "</style>\n",
       "<table border=\"1\" class=\"dataframe\">\n",
       "  <thead>\n",
       "    <tr style=\"text-align: right;\">\n",
       "      <th></th>\n",
       "      <th>total_sales</th>\n",
       "    </tr>\n",
       "    <tr>\n",
       "      <th>platform</th>\n",
       "      <th></th>\n",
       "    </tr>\n",
       "  </thead>\n",
       "  <tbody>\n",
       "    <tr>\n",
       "      <th>PS2</th>\n",
       "      <td>1233.56</td>\n",
       "    </tr>\n",
       "    <tr>\n",
       "      <th>X360</th>\n",
       "      <td>961.24</td>\n",
       "    </tr>\n",
       "    <tr>\n",
       "      <th>PS3</th>\n",
       "      <td>931.34</td>\n",
       "    </tr>\n",
       "    <tr>\n",
       "      <th>Wii</th>\n",
       "      <td>891.18</td>\n",
       "    </tr>\n",
       "    <tr>\n",
       "      <th>DS</th>\n",
       "      <td>802.78</td>\n",
       "    </tr>\n",
       "    <tr>\n",
       "      <th>PS</th>\n",
       "      <td>727.58</td>\n",
       "    </tr>\n",
       "    <tr>\n",
       "      <th>PS4</th>\n",
       "      <td>314.14</td>\n",
       "    </tr>\n",
       "    <tr>\n",
       "      <th>GBA</th>\n",
       "      <td>312.88</td>\n",
       "    </tr>\n",
       "    <tr>\n",
       "      <th>PSP</th>\n",
       "      <td>289.53</td>\n",
       "    </tr>\n",
       "    <tr>\n",
       "      <th>3DS</th>\n",
       "      <td>257.81</td>\n",
       "    </tr>\n",
       "    <tr>\n",
       "      <th>PC</th>\n",
       "      <td>255.76</td>\n",
       "    </tr>\n",
       "    <tr>\n",
       "      <th>GB</th>\n",
       "      <td>254.43</td>\n",
       "    </tr>\n",
       "    <tr>\n",
       "      <th>XB</th>\n",
       "      <td>251.57</td>\n",
       "    </tr>\n",
       "    <tr>\n",
       "      <th>NES</th>\n",
       "      <td>251.05</td>\n",
       "    </tr>\n",
       "    <tr>\n",
       "      <th>N64</th>\n",
       "      <td>218.01</td>\n",
       "    </tr>\n",
       "  </tbody>\n",
       "</table>\n",
       "</div>"
      ],
      "text/plain": [
       "          total_sales\n",
       "platform             \n",
       "PS2           1233.56\n",
       "X360           961.24\n",
       "PS3            931.34\n",
       "Wii            891.18\n",
       "DS             802.78\n",
       "PS             727.58\n",
       "PS4            314.14\n",
       "GBA            312.88\n",
       "PSP            289.53\n",
       "3DS            257.81\n",
       "PC             255.76\n",
       "GB             254.43\n",
       "XB             251.57\n",
       "NES            251.05\n",
       "N64            218.01"
      ]
     },
     "execution_count": 33,
     "metadata": {},
     "output_type": "execute_result"
    }
   ],
   "source": [
    "games_platform = games.groupby(['platform']).agg({'total_sales': 'sum'}, ascending=False)\n",
    "games_platform = games_platform.sort_values(['total_sales'],ascending=False).head(15)\n",
    "games_platform"
   ]
  },
  {
   "cell_type": "markdown",
   "metadata": {},
   "source": [
    "Видно, что в лидерах - первые 6 платформ, дальше разрыв по суммарным продажам уже большой, поэтому можем проанализировать продажи по годам по первым шести платформам."
   ]
  },
  {
   "cell_type": "code",
   "execution_count": 34,
   "metadata": {},
   "outputs": [],
   "source": [
    "games_platform = games_platform.head(6)"
   ]
  },
  {
   "cell_type": "code",
   "execution_count": 35,
   "metadata": {},
   "outputs": [
    {
     "data": {
      "text/html": [
       "<div>\n",
       "<style scoped>\n",
       "    .dataframe tbody tr th:only-of-type {\n",
       "        vertical-align: middle;\n",
       "    }\n",
       "\n",
       "    .dataframe tbody tr th {\n",
       "        vertical-align: top;\n",
       "    }\n",
       "\n",
       "    .dataframe thead th {\n",
       "        text-align: right;\n",
       "    }\n",
       "</style>\n",
       "<table border=\"1\" class=\"dataframe\">\n",
       "  <thead>\n",
       "    <tr style=\"text-align: right;\">\n",
       "      <th></th>\n",
       "      <th>name</th>\n",
       "      <th>platform</th>\n",
       "      <th>year_of_release</th>\n",
       "      <th>genre</th>\n",
       "      <th>na_sales</th>\n",
       "      <th>eu_sales</th>\n",
       "      <th>jp_sales</th>\n",
       "      <th>other_sales</th>\n",
       "      <th>critic_score</th>\n",
       "      <th>user_score</th>\n",
       "      <th>rating</th>\n",
       "      <th>total_sales</th>\n",
       "    </tr>\n",
       "  </thead>\n",
       "  <tbody>\n",
       "    <tr>\n",
       "      <th>0</th>\n",
       "      <td>wii sports</td>\n",
       "      <td>Wii</td>\n",
       "      <td>2006</td>\n",
       "      <td>Sports</td>\n",
       "      <td>41.36</td>\n",
       "      <td>28.96</td>\n",
       "      <td>3.77</td>\n",
       "      <td>8.45</td>\n",
       "      <td>76.0</td>\n",
       "      <td>8.0</td>\n",
       "      <td>E</td>\n",
       "      <td>82.54</td>\n",
       "    </tr>\n",
       "    <tr>\n",
       "      <th>2</th>\n",
       "      <td>mario kart wii</td>\n",
       "      <td>Wii</td>\n",
       "      <td>2008</td>\n",
       "      <td>Racing</td>\n",
       "      <td>15.68</td>\n",
       "      <td>12.76</td>\n",
       "      <td>3.79</td>\n",
       "      <td>3.29</td>\n",
       "      <td>82.0</td>\n",
       "      <td>8.3</td>\n",
       "      <td>E</td>\n",
       "      <td>35.52</td>\n",
       "    </tr>\n",
       "    <tr>\n",
       "      <th>3</th>\n",
       "      <td>wii sports resort</td>\n",
       "      <td>Wii</td>\n",
       "      <td>2009</td>\n",
       "      <td>Sports</td>\n",
       "      <td>15.61</td>\n",
       "      <td>10.93</td>\n",
       "      <td>3.28</td>\n",
       "      <td>2.95</td>\n",
       "      <td>80.0</td>\n",
       "      <td>8.0</td>\n",
       "      <td>E</td>\n",
       "      <td>32.77</td>\n",
       "    </tr>\n",
       "    <tr>\n",
       "      <th>6</th>\n",
       "      <td>new super mario bros.</td>\n",
       "      <td>DS</td>\n",
       "      <td>2006</td>\n",
       "      <td>Platform</td>\n",
       "      <td>11.28</td>\n",
       "      <td>9.14</td>\n",
       "      <td>6.50</td>\n",
       "      <td>2.88</td>\n",
       "      <td>89.0</td>\n",
       "      <td>8.5</td>\n",
       "      <td>E</td>\n",
       "      <td>29.80</td>\n",
       "    </tr>\n",
       "    <tr>\n",
       "      <th>7</th>\n",
       "      <td>wii play</td>\n",
       "      <td>Wii</td>\n",
       "      <td>2006</td>\n",
       "      <td>Misc</td>\n",
       "      <td>13.96</td>\n",
       "      <td>9.18</td>\n",
       "      <td>2.93</td>\n",
       "      <td>2.84</td>\n",
       "      <td>58.0</td>\n",
       "      <td>6.6</td>\n",
       "      <td>E</td>\n",
       "      <td>28.91</td>\n",
       "    </tr>\n",
       "    <tr>\n",
       "      <th>...</th>\n",
       "      <td>...</td>\n",
       "      <td>...</td>\n",
       "      <td>...</td>\n",
       "      <td>...</td>\n",
       "      <td>...</td>\n",
       "      <td>...</td>\n",
       "      <td>...</td>\n",
       "      <td>...</td>\n",
       "      <td>...</td>\n",
       "      <td>...</td>\n",
       "      <td>...</td>\n",
       "      <td>...</td>\n",
       "    </tr>\n",
       "    <tr>\n",
       "      <th>16700</th>\n",
       "      <td>mezase!! tsuri master ds</td>\n",
       "      <td>DS</td>\n",
       "      <td>2009</td>\n",
       "      <td>Sports</td>\n",
       "      <td>0.00</td>\n",
       "      <td>0.00</td>\n",
       "      <td>0.01</td>\n",
       "      <td>0.00</td>\n",
       "      <td>NaN</td>\n",
       "      <td>NaN</td>\n",
       "      <td>no_rating</td>\n",
       "      <td>0.01</td>\n",
       "    </tr>\n",
       "    <tr>\n",
       "      <th>16704</th>\n",
       "      <td>plushees</td>\n",
       "      <td>DS</td>\n",
       "      <td>2008</td>\n",
       "      <td>Simulation</td>\n",
       "      <td>0.01</td>\n",
       "      <td>0.00</td>\n",
       "      <td>0.00</td>\n",
       "      <td>0.00</td>\n",
       "      <td>NaN</td>\n",
       "      <td>NaN</td>\n",
       "      <td>E</td>\n",
       "      <td>0.01</td>\n",
       "    </tr>\n",
       "    <tr>\n",
       "      <th>16709</th>\n",
       "      <td>score international baja 1000: the official game</td>\n",
       "      <td>PS2</td>\n",
       "      <td>2008</td>\n",
       "      <td>Racing</td>\n",
       "      <td>0.00</td>\n",
       "      <td>0.00</td>\n",
       "      <td>0.00</td>\n",
       "      <td>0.00</td>\n",
       "      <td>NaN</td>\n",
       "      <td>NaN</td>\n",
       "      <td>no_rating</td>\n",
       "      <td>0.00</td>\n",
       "    </tr>\n",
       "    <tr>\n",
       "      <th>16710</th>\n",
       "      <td>samurai warriors: sanada maru</td>\n",
       "      <td>PS3</td>\n",
       "      <td>2016</td>\n",
       "      <td>Action</td>\n",
       "      <td>0.00</td>\n",
       "      <td>0.00</td>\n",
       "      <td>0.01</td>\n",
       "      <td>0.00</td>\n",
       "      <td>NaN</td>\n",
       "      <td>NaN</td>\n",
       "      <td>no_rating</td>\n",
       "      <td>0.01</td>\n",
       "    </tr>\n",
       "    <tr>\n",
       "      <th>16711</th>\n",
       "      <td>lma manager 2007</td>\n",
       "      <td>X360</td>\n",
       "      <td>2006</td>\n",
       "      <td>Sports</td>\n",
       "      <td>0.00</td>\n",
       "      <td>0.01</td>\n",
       "      <td>0.00</td>\n",
       "      <td>0.00</td>\n",
       "      <td>NaN</td>\n",
       "      <td>NaN</td>\n",
       "      <td>no_rating</td>\n",
       "      <td>0.01</td>\n",
       "    </tr>\n",
       "  </tbody>\n",
       "</table>\n",
       "<p>9262 rows × 12 columns</p>\n",
       "</div>"
      ],
      "text/plain": [
       "                                                   name platform  \\\n",
       "0                                            wii sports      Wii   \n",
       "2                                        mario kart wii      Wii   \n",
       "3                                     wii sports resort      Wii   \n",
       "6                                 new super mario bros.       DS   \n",
       "7                                              wii play      Wii   \n",
       "...                                                 ...      ...   \n",
       "16700                          mezase!! tsuri master ds       DS   \n",
       "16704                                          plushees       DS   \n",
       "16709  score international baja 1000: the official game      PS2   \n",
       "16710                     samurai warriors: sanada maru      PS3   \n",
       "16711                                  lma manager 2007     X360   \n",
       "\n",
       "       year_of_release       genre  na_sales  eu_sales  jp_sales  other_sales  \\\n",
       "0                 2006      Sports     41.36     28.96      3.77         8.45   \n",
       "2                 2008      Racing     15.68     12.76      3.79         3.29   \n",
       "3                 2009      Sports     15.61     10.93      3.28         2.95   \n",
       "6                 2006    Platform     11.28      9.14      6.50         2.88   \n",
       "7                 2006        Misc     13.96      9.18      2.93         2.84   \n",
       "...                ...         ...       ...       ...       ...          ...   \n",
       "16700             2009      Sports      0.00      0.00      0.01         0.00   \n",
       "16704             2008  Simulation      0.01      0.00      0.00         0.00   \n",
       "16709             2008      Racing      0.00      0.00      0.00         0.00   \n",
       "16710             2016      Action      0.00      0.00      0.01         0.00   \n",
       "16711             2006      Sports      0.00      0.01      0.00         0.00   \n",
       "\n",
       "       critic_score  user_score     rating  total_sales  \n",
       "0              76.0         8.0          E        82.54  \n",
       "2              82.0         8.3          E        35.52  \n",
       "3              80.0         8.0          E        32.77  \n",
       "6              89.0         8.5          E        29.80  \n",
       "7              58.0         6.6          E        28.91  \n",
       "...             ...         ...        ...          ...  \n",
       "16700           NaN         NaN  no_rating         0.01  \n",
       "16704           NaN         NaN          E         0.01  \n",
       "16709           NaN         NaN  no_rating         0.00  \n",
       "16710           NaN         NaN  no_rating         0.01  \n",
       "16711           NaN         NaN  no_rating         0.01  \n",
       "\n",
       "[9262 rows x 12 columns]"
      ]
     },
     "execution_count": 35,
     "metadata": {},
     "output_type": "execute_result"
    }
   ],
   "source": [
    "platform_yaers = games.query('platform in @games_platform.index')\n",
    "platform_yaers"
   ]
  },
  {
   "cell_type": "code",
   "execution_count": 36,
   "metadata": {},
   "outputs": [
    {
     "data": {
      "text/plain": [
       "Text(0.5, 1.0, 'Распределение продаж разных платформ по годам')"
      ]
     },
     "execution_count": 36,
     "metadata": {},
     "output_type": "execute_result"
    },
    {
     "data": {
      "image/png": "[encoded data removed]",
      "text/plain": [
       "<Figure size 1080x360 with 1 Axes>"
      ]
     },
     "metadata": {
      "needs_background": "light"
     },
     "output_type": "display_data"
    }
   ],
   "source": [
    "platform_list = platform_yaers['platform'].unique()\n",
    "games.query('platform in @platform_list').pivot_table(index='year_of_release', columns = 'platform', values='total_sales', aggfunc='sum').plot(figsize=(15, 5))\n",
    "plt.title('Распределение продаж разных платформ по годам')"
   ]
  },
  {
   "cell_type": "markdown",
   "metadata": {},
   "source": [
    "На графике хорошо виден срок жизни каждой платформы. В начале выпуска платформы продажи игр растут, достигают пика, дальше падают. На примере PlayStation заметно, что когда выходит обновленная версия платформы, продажи игр для старой версии падают в той же динамике, что и падали до выхода. Новая платформа выходит каждый раз, когда продажи по старой падают до определенного уровня.\n",
    "Срок жизни каждой платформы - около 10 лет.\n",
    "Проверим это предположение, посчитав средний срок жизни платформы и медиану."
   ]
  },
  {
   "cell_type": "code",
   "execution_count": 37,
   "metadata": {},
   "outputs": [
    {
     "name": "stdout",
     "output_type": "stream",
     "text": [
      "7.612903225806452\n"
     ]
    },
    {
     "data": {
      "text/plain": [
       "6.0"
      ]
     },
     "execution_count": 37,
     "metadata": {},
     "output_type": "execute_result"
    }
   ],
   "source": [
    "platform_lifetime = games.pivot_table(index='platform', values='year_of_release', aggfunc=[min, max])\n",
    "platform_lifetime.columns = ['beginnig', 'end']\n",
    "platform_lifetime['duration'] = platform_lifetime['end'] - platform_lifetime['beginnig']\n",
    "print(platform_lifetime['duration'].mean())\n",
    "platform_lifetime['duration'].median()"
   ]
  },
  {
   "cell_type": "markdown",
   "metadata": {},
   "source": [
    " Получается, что в среднем платформы существуют 6-7 лет."
   ]
  },
  {
   "cell_type": "markdown",
   "metadata": {},
   "source": [
    "Как уже было сказано выше, для дальнейшего анализа возьмем период с 2011 по 2016 год."
   ]
  },
  {
   "cell_type": "code",
   "execution_count": 38,
   "metadata": {},
   "outputs": [
    {
     "data": {
      "text/html": [
       "<div>\n",
       "<style scoped>\n",
       "    .dataframe tbody tr th:only-of-type {\n",
       "        vertical-align: middle;\n",
       "    }\n",
       "\n",
       "    .dataframe tbody tr th {\n",
       "        vertical-align: top;\n",
       "    }\n",
       "\n",
       "    .dataframe thead th {\n",
       "        text-align: right;\n",
       "    }\n",
       "</style>\n",
       "<table border=\"1\" class=\"dataframe\">\n",
       "  <thead>\n",
       "    <tr style=\"text-align: right;\">\n",
       "      <th></th>\n",
       "      <th>name</th>\n",
       "      <th>platform</th>\n",
       "      <th>year_of_release</th>\n",
       "      <th>genre</th>\n",
       "      <th>na_sales</th>\n",
       "      <th>eu_sales</th>\n",
       "      <th>jp_sales</th>\n",
       "      <th>other_sales</th>\n",
       "      <th>critic_score</th>\n",
       "      <th>user_score</th>\n",
       "      <th>rating</th>\n",
       "      <th>total_sales</th>\n",
       "    </tr>\n",
       "  </thead>\n",
       "  <tbody>\n",
       "    <tr>\n",
       "      <th>31</th>\n",
       "      <td>call of duty: black ops 3</td>\n",
       "      <td>PS4</td>\n",
       "      <td>2015</td>\n",
       "      <td>Shooter</td>\n",
       "      <td>6.03</td>\n",
       "      <td>5.86</td>\n",
       "      <td>0.36</td>\n",
       "      <td>2.38</td>\n",
       "      <td>NaN</td>\n",
       "      <td>NaN</td>\n",
       "      <td>no_rating</td>\n",
       "      <td>14.63</td>\n",
       "    </tr>\n",
       "    <tr>\n",
       "      <th>42</th>\n",
       "      <td>grand theft auto v</td>\n",
       "      <td>PS4</td>\n",
       "      <td>2014</td>\n",
       "      <td>Action</td>\n",
       "      <td>3.96</td>\n",
       "      <td>6.31</td>\n",
       "      <td>0.38</td>\n",
       "      <td>1.97</td>\n",
       "      <td>97.0</td>\n",
       "      <td>8.3</td>\n",
       "      <td>M</td>\n",
       "      <td>12.62</td>\n",
       "    </tr>\n",
       "    <tr>\n",
       "      <th>47</th>\n",
       "      <td>pokemon omega ruby/pokemon alpha sapphire</td>\n",
       "      <td>3DS</td>\n",
       "      <td>2014</td>\n",
       "      <td>Role-Playing</td>\n",
       "      <td>4.35</td>\n",
       "      <td>3.49</td>\n",
       "      <td>3.10</td>\n",
       "      <td>0.74</td>\n",
       "      <td>NaN</td>\n",
       "      <td>NaN</td>\n",
       "      <td>no_rating</td>\n",
       "      <td>11.68</td>\n",
       "    </tr>\n",
       "    <tr>\n",
       "      <th>77</th>\n",
       "      <td>fifa 16</td>\n",
       "      <td>PS4</td>\n",
       "      <td>2015</td>\n",
       "      <td>Sports</td>\n",
       "      <td>1.12</td>\n",
       "      <td>6.12</td>\n",
       "      <td>0.06</td>\n",
       "      <td>1.28</td>\n",
       "      <td>82.0</td>\n",
       "      <td>4.3</td>\n",
       "      <td>E</td>\n",
       "      <td>8.58</td>\n",
       "    </tr>\n",
       "    <tr>\n",
       "      <th>87</th>\n",
       "      <td>star wars battlefront (2015)</td>\n",
       "      <td>PS4</td>\n",
       "      <td>2015</td>\n",
       "      <td>Shooter</td>\n",
       "      <td>2.99</td>\n",
       "      <td>3.49</td>\n",
       "      <td>0.22</td>\n",
       "      <td>1.28</td>\n",
       "      <td>NaN</td>\n",
       "      <td>NaN</td>\n",
       "      <td>no_rating</td>\n",
       "      <td>7.98</td>\n",
       "    </tr>\n",
       "    <tr>\n",
       "      <th>...</th>\n",
       "      <td>...</td>\n",
       "      <td>...</td>\n",
       "      <td>...</td>\n",
       "      <td>...</td>\n",
       "      <td>...</td>\n",
       "      <td>...</td>\n",
       "      <td>...</td>\n",
       "      <td>...</td>\n",
       "      <td>...</td>\n",
       "      <td>...</td>\n",
       "      <td>...</td>\n",
       "      <td>...</td>\n",
       "    </tr>\n",
       "    <tr>\n",
       "      <th>16703</th>\n",
       "      <td>strawberry nauts</td>\n",
       "      <td>PSV</td>\n",
       "      <td>2016</td>\n",
       "      <td>Adventure</td>\n",
       "      <td>0.00</td>\n",
       "      <td>0.00</td>\n",
       "      <td>0.01</td>\n",
       "      <td>0.00</td>\n",
       "      <td>NaN</td>\n",
       "      <td>NaN</td>\n",
       "      <td>no_rating</td>\n",
       "      <td>0.01</td>\n",
       "    </tr>\n",
       "    <tr>\n",
       "      <th>16707</th>\n",
       "      <td>aiyoku no eustia</td>\n",
       "      <td>PSV</td>\n",
       "      <td>2014</td>\n",
       "      <td>Misc</td>\n",
       "      <td>0.00</td>\n",
       "      <td>0.00</td>\n",
       "      <td>0.01</td>\n",
       "      <td>0.00</td>\n",
       "      <td>NaN</td>\n",
       "      <td>NaN</td>\n",
       "      <td>no_rating</td>\n",
       "      <td>0.01</td>\n",
       "    </tr>\n",
       "    <tr>\n",
       "      <th>16710</th>\n",
       "      <td>samurai warriors: sanada maru</td>\n",
       "      <td>PS3</td>\n",
       "      <td>2016</td>\n",
       "      <td>Action</td>\n",
       "      <td>0.00</td>\n",
       "      <td>0.00</td>\n",
       "      <td>0.01</td>\n",
       "      <td>0.00</td>\n",
       "      <td>NaN</td>\n",
       "      <td>NaN</td>\n",
       "      <td>no_rating</td>\n",
       "      <td>0.01</td>\n",
       "    </tr>\n",
       "    <tr>\n",
       "      <th>16712</th>\n",
       "      <td>haitaka no psychedelica</td>\n",
       "      <td>PSV</td>\n",
       "      <td>2016</td>\n",
       "      <td>Adventure</td>\n",
       "      <td>0.00</td>\n",
       "      <td>0.00</td>\n",
       "      <td>0.01</td>\n",
       "      <td>0.00</td>\n",
       "      <td>NaN</td>\n",
       "      <td>NaN</td>\n",
       "      <td>no_rating</td>\n",
       "      <td>0.01</td>\n",
       "    </tr>\n",
       "    <tr>\n",
       "      <th>16714</th>\n",
       "      <td>winning post 8 2016</td>\n",
       "      <td>PSV</td>\n",
       "      <td>2016</td>\n",
       "      <td>Simulation</td>\n",
       "      <td>0.00</td>\n",
       "      <td>0.00</td>\n",
       "      <td>0.01</td>\n",
       "      <td>0.00</td>\n",
       "      <td>NaN</td>\n",
       "      <td>NaN</td>\n",
       "      <td>no_rating</td>\n",
       "      <td>0.01</td>\n",
       "    </tr>\n",
       "  </tbody>\n",
       "</table>\n",
       "<p>1689 rows × 12 columns</p>\n",
       "</div>"
      ],
      "text/plain": [
       "                                            name platform  year_of_release  \\\n",
       "31                     call of duty: black ops 3      PS4             2015   \n",
       "42                            grand theft auto v      PS4             2014   \n",
       "47     pokemon omega ruby/pokemon alpha sapphire      3DS             2014   \n",
       "77                                       fifa 16      PS4             2015   \n",
       "87                  star wars battlefront (2015)      PS4             2015   \n",
       "...                                          ...      ...              ...   \n",
       "16703                           strawberry nauts      PSV             2016   \n",
       "16707                           aiyoku no eustia      PSV             2014   \n",
       "16710              samurai warriors: sanada maru      PS3             2016   \n",
       "16712                    haitaka no psychedelica      PSV             2016   \n",
       "16714                        winning post 8 2016      PSV             2016   \n",
       "\n",
       "              genre  na_sales  eu_sales  jp_sales  other_sales  critic_score  \\\n",
       "31          Shooter      6.03      5.86      0.36         2.38           NaN   \n",
       "42           Action      3.96      6.31      0.38         1.97          97.0   \n",
       "47     Role-Playing      4.35      3.49      3.10         0.74           NaN   \n",
       "77           Sports      1.12      6.12      0.06         1.28          82.0   \n",
       "87          Shooter      2.99      3.49      0.22         1.28           NaN   \n",
       "...             ...       ...       ...       ...          ...           ...   \n",
       "16703     Adventure      0.00      0.00      0.01         0.00           NaN   \n",
       "16707          Misc      0.00      0.00      0.01         0.00           NaN   \n",
       "16710        Action      0.00      0.00      0.01         0.00           NaN   \n",
       "16712     Adventure      0.00      0.00      0.01         0.00           NaN   \n",
       "16714    Simulation      0.00      0.00      0.01         0.00           NaN   \n",
       "\n",
       "       user_score     rating  total_sales  \n",
       "31            NaN  no_rating        14.63  \n",
       "42            8.3          M        12.62  \n",
       "47            NaN  no_rating        11.68  \n",
       "77            4.3          E         8.58  \n",
       "87            NaN  no_rating         7.98  \n",
       "...           ...        ...          ...  \n",
       "16703         NaN  no_rating         0.01  \n",
       "16707         NaN  no_rating         0.01  \n",
       "16710         NaN  no_rating         0.01  \n",
       "16712         NaN  no_rating         0.01  \n",
       "16714         NaN  no_rating         0.01  \n",
       "\n",
       "[1689 rows x 12 columns]"
      ]
     },
     "execution_count": 38,
     "metadata": {},
     "output_type": "execute_result"
    }
   ],
   "source": [
    "games_actual = games.query('year_of_release >= 2014')\n",
    "games_actual"
   ]
  },
  {
   "cell_type": "markdown",
   "metadata": {},
   "source": [
    "Посмотрим, какие платформы лидируют по продажам в этом периоде:"
   ]
  },
  {
   "cell_type": "code",
   "execution_count": 39,
   "metadata": {},
   "outputs": [
    {
     "data": {
      "text/html": [
       "<div>\n",
       "<style scoped>\n",
       "    .dataframe tbody tr th:only-of-type {\n",
       "        vertical-align: middle;\n",
       "    }\n",
       "\n",
       "    .dataframe tbody tr th {\n",
       "        vertical-align: top;\n",
       "    }\n",
       "\n",
       "    .dataframe thead th {\n",
       "        text-align: right;\n",
       "    }\n",
       "</style>\n",
       "<table border=\"1\" class=\"dataframe\">\n",
       "  <thead>\n",
       "    <tr style=\"text-align: right;\">\n",
       "      <th></th>\n",
       "      <th>total_sales</th>\n",
       "    </tr>\n",
       "    <tr>\n",
       "      <th>platform</th>\n",
       "      <th></th>\n",
       "    </tr>\n",
       "  </thead>\n",
       "  <tbody>\n",
       "    <tr>\n",
       "      <th>PS4</th>\n",
       "      <td>288.15</td>\n",
       "    </tr>\n",
       "    <tr>\n",
       "      <th>XOne</th>\n",
       "      <td>140.36</td>\n",
       "    </tr>\n",
       "    <tr>\n",
       "      <th>3DS</th>\n",
       "      <td>86.68</td>\n",
       "    </tr>\n",
       "    <tr>\n",
       "      <th>PS3</th>\n",
       "      <td>68.18</td>\n",
       "    </tr>\n",
       "    <tr>\n",
       "      <th>X360</th>\n",
       "      <td>48.22</td>\n",
       "    </tr>\n",
       "    <tr>\n",
       "      <th>WiiU</th>\n",
       "      <td>42.98</td>\n",
       "    </tr>\n",
       "    <tr>\n",
       "      <th>PC</th>\n",
       "      <td>27.05</td>\n",
       "    </tr>\n",
       "    <tr>\n",
       "      <th>PSV</th>\n",
       "      <td>22.40</td>\n",
       "    </tr>\n",
       "    <tr>\n",
       "      <th>Wii</th>\n",
       "      <td>5.07</td>\n",
       "    </tr>\n",
       "    <tr>\n",
       "      <th>PSP</th>\n",
       "      <td>0.36</td>\n",
       "    </tr>\n",
       "  </tbody>\n",
       "</table>\n",
       "</div>"
      ],
      "text/plain": [
       "          total_sales\n",
       "platform             \n",
       "PS4            288.15\n",
       "XOne           140.36\n",
       "3DS             86.68\n",
       "PS3             68.18\n",
       "X360            48.22\n",
       "WiiU            42.98\n",
       "PC              27.05\n",
       "PSV             22.40\n",
       "Wii              5.07\n",
       "PSP              0.36"
      ]
     },
     "execution_count": 39,
     "metadata": {},
     "output_type": "execute_result"
    }
   ],
   "source": [
    "games_actual_sum = (games_actual\n",
    "                          .pivot_table(index='platform', values='total_sales', aggfunc=sum)\n",
    "                          .sort_values(by='total_sales', ascending=False)\n",
    "                         )\n",
    "games_actual_sum"
   ]
  },
  {
   "cell_type": "code",
   "execution_count": 40,
   "metadata": {},
   "outputs": [
    {
     "data": {
      "text/plain": [
       "total_sales    10\n",
       "dtype: int64"
      ]
     },
     "execution_count": 40,
     "metadata": {},
     "output_type": "execute_result"
    }
   ],
   "source": [
    "games_actual_sum.nunique()"
   ]
  },
  {
   "cell_type": "markdown",
   "metadata": {},
   "source": [
    "Построим график, чтобы посмотреть, как за нужный нам период росли и падали продажи по платформам."
   ]
  },
  {
   "cell_type": "code",
   "execution_count": 41,
   "metadata": {},
   "outputs": [
    {
     "data": {
      "text/plain": [
       "Text(0.5, 1.0, 'Распределение продаж разных платформ по годам')"
      ]
     },
     "execution_count": 41,
     "metadata": {},
     "output_type": "execute_result"
    },
    {
     "data": {
      "image/png": "[encoded data removed]",
      "text/plain": [
       "<Figure size 1080x360 with 1 Axes>"
      ]
     },
     "metadata": {
      "needs_background": "light"
     },
     "output_type": "display_data"
    }
   ],
   "source": [
    "platform_list_new = games_actual['platform'].unique()\n",
    "\n",
    "games_actual.query('platform in @platform_list_new').pivot_table(\n",
    "    index='year_of_release', columns = 'platform', values='total_sales', aggfunc='sum').plot(figsize=(15, 5))\n",
    "\n",
    "plt.title('Распределение продаж разных платформ по годам')"
   ]
  },
  {
   "cell_type": "markdown",
   "metadata": {},
   "source": [
    "На графике видно, что не у всех платформ есть игры с релизом после 2015 года, то есть они уже закончили свою жизнь, в анализе их можно не учитывать. Выясним, на каких платформах не было новых релизов игр."
   ]
  },
  {
   "cell_type": "code",
   "execution_count": 42,
   "metadata": {},
   "outputs": [
    {
     "data": {
      "text/html": [
       "<div>\n",
       "<style scoped>\n",
       "    .dataframe tbody tr th:only-of-type {\n",
       "        vertical-align: middle;\n",
       "    }\n",
       "\n",
       "    .dataframe tbody tr th {\n",
       "        vertical-align: top;\n",
       "    }\n",
       "\n",
       "    .dataframe thead th {\n",
       "        text-align: right;\n",
       "    }\n",
       "</style>\n",
       "<table border=\"1\" class=\"dataframe\">\n",
       "  <thead>\n",
       "    <tr style=\"text-align: right;\">\n",
       "      <th></th>\n",
       "      <th>beginnig</th>\n",
       "      <th>end</th>\n",
       "    </tr>\n",
       "    <tr>\n",
       "      <th>platform</th>\n",
       "      <th></th>\n",
       "      <th></th>\n",
       "    </tr>\n",
       "  </thead>\n",
       "  <tbody>\n",
       "    <tr>\n",
       "      <th>3DS</th>\n",
       "      <td>2014</td>\n",
       "      <td>2016</td>\n",
       "    </tr>\n",
       "    <tr>\n",
       "      <th>PC</th>\n",
       "      <td>2014</td>\n",
       "      <td>2016</td>\n",
       "    </tr>\n",
       "    <tr>\n",
       "      <th>PS3</th>\n",
       "      <td>2014</td>\n",
       "      <td>2016</td>\n",
       "    </tr>\n",
       "    <tr>\n",
       "      <th>PS4</th>\n",
       "      <td>2014</td>\n",
       "      <td>2016</td>\n",
       "    </tr>\n",
       "    <tr>\n",
       "      <th>PSP</th>\n",
       "      <td>2014</td>\n",
       "      <td>2015</td>\n",
       "    </tr>\n",
       "    <tr>\n",
       "      <th>PSV</th>\n",
       "      <td>2014</td>\n",
       "      <td>2016</td>\n",
       "    </tr>\n",
       "    <tr>\n",
       "      <th>Wii</th>\n",
       "      <td>2014</td>\n",
       "      <td>2016</td>\n",
       "    </tr>\n",
       "    <tr>\n",
       "      <th>WiiU</th>\n",
       "      <td>2014</td>\n",
       "      <td>2016</td>\n",
       "    </tr>\n",
       "    <tr>\n",
       "      <th>X360</th>\n",
       "      <td>2014</td>\n",
       "      <td>2016</td>\n",
       "    </tr>\n",
       "    <tr>\n",
       "      <th>XOne</th>\n",
       "      <td>2014</td>\n",
       "      <td>2016</td>\n",
       "    </tr>\n",
       "  </tbody>\n",
       "</table>\n",
       "</div>"
      ],
      "text/plain": [
       "          beginnig   end\n",
       "platform                \n",
       "3DS           2014  2016\n",
       "PC            2014  2016\n",
       "PS3           2014  2016\n",
       "PS4           2014  2016\n",
       "PSP           2014  2015\n",
       "PSV           2014  2016\n",
       "Wii           2014  2016\n",
       "WiiU          2014  2016\n",
       "X360          2014  2016\n",
       "XOne          2014  2016"
      ]
     },
     "execution_count": 42,
     "metadata": {},
     "output_type": "execute_result"
    }
   ],
   "source": [
    "platform_lifetime_new = games_actual.pivot_table(index='platform', values='year_of_release', aggfunc=[min, max])\n",
    "platform_lifetime_new.columns = ['beginnig', 'end']\n",
    "platform_lifetime_new"
   ]
  },
  {
   "cell_type": "markdown",
   "metadata": {},
   "source": [
    "Делаем вывод, что платформу PSP можно не учитывать."
   ]
  },
  {
   "cell_type": "code",
   "execution_count": 43,
   "metadata": {},
   "outputs": [],
   "source": [
    "actual_platform_list = ['3DS', 'PC', 'PS3','PS4', 'X360', 'XOne', 'WiiU',  'PSV', 'Wii']"
   ]
  },
  {
   "cell_type": "code",
   "execution_count": 44,
   "metadata": {},
   "outputs": [
    {
     "data": {
      "text/html": [
       "<div>\n",
       "<style scoped>\n",
       "    .dataframe tbody tr th:only-of-type {\n",
       "        vertical-align: middle;\n",
       "    }\n",
       "\n",
       "    .dataframe tbody tr th {\n",
       "        vertical-align: top;\n",
       "    }\n",
       "\n",
       "    .dataframe thead th {\n",
       "        text-align: right;\n",
       "    }\n",
       "</style>\n",
       "<table border=\"1\" class=\"dataframe\">\n",
       "  <thead>\n",
       "    <tr style=\"text-align: right;\">\n",
       "      <th></th>\n",
       "      <th>name</th>\n",
       "      <th>platform</th>\n",
       "      <th>year_of_release</th>\n",
       "      <th>genre</th>\n",
       "      <th>na_sales</th>\n",
       "      <th>eu_sales</th>\n",
       "      <th>jp_sales</th>\n",
       "      <th>other_sales</th>\n",
       "      <th>critic_score</th>\n",
       "      <th>user_score</th>\n",
       "      <th>rating</th>\n",
       "      <th>total_sales</th>\n",
       "    </tr>\n",
       "  </thead>\n",
       "  <tbody>\n",
       "    <tr>\n",
       "      <th>31</th>\n",
       "      <td>call of duty: black ops 3</td>\n",
       "      <td>PS4</td>\n",
       "      <td>2015</td>\n",
       "      <td>Shooter</td>\n",
       "      <td>6.03</td>\n",
       "      <td>5.86</td>\n",
       "      <td>0.36</td>\n",
       "      <td>2.38</td>\n",
       "      <td>NaN</td>\n",
       "      <td>NaN</td>\n",
       "      <td>no_rating</td>\n",
       "      <td>14.63</td>\n",
       "    </tr>\n",
       "    <tr>\n",
       "      <th>42</th>\n",
       "      <td>grand theft auto v</td>\n",
       "      <td>PS4</td>\n",
       "      <td>2014</td>\n",
       "      <td>Action</td>\n",
       "      <td>3.96</td>\n",
       "      <td>6.31</td>\n",
       "      <td>0.38</td>\n",
       "      <td>1.97</td>\n",
       "      <td>97.0</td>\n",
       "      <td>8.3</td>\n",
       "      <td>M</td>\n",
       "      <td>12.62</td>\n",
       "    </tr>\n",
       "    <tr>\n",
       "      <th>47</th>\n",
       "      <td>pokemon omega ruby/pokemon alpha sapphire</td>\n",
       "      <td>3DS</td>\n",
       "      <td>2014</td>\n",
       "      <td>Role-Playing</td>\n",
       "      <td>4.35</td>\n",
       "      <td>3.49</td>\n",
       "      <td>3.10</td>\n",
       "      <td>0.74</td>\n",
       "      <td>NaN</td>\n",
       "      <td>NaN</td>\n",
       "      <td>no_rating</td>\n",
       "      <td>11.68</td>\n",
       "    </tr>\n",
       "    <tr>\n",
       "      <th>77</th>\n",
       "      <td>fifa 16</td>\n",
       "      <td>PS4</td>\n",
       "      <td>2015</td>\n",
       "      <td>Sports</td>\n",
       "      <td>1.12</td>\n",
       "      <td>6.12</td>\n",
       "      <td>0.06</td>\n",
       "      <td>1.28</td>\n",
       "      <td>82.0</td>\n",
       "      <td>4.3</td>\n",
       "      <td>E</td>\n",
       "      <td>8.58</td>\n",
       "    </tr>\n",
       "    <tr>\n",
       "      <th>87</th>\n",
       "      <td>star wars battlefront (2015)</td>\n",
       "      <td>PS4</td>\n",
       "      <td>2015</td>\n",
       "      <td>Shooter</td>\n",
       "      <td>2.99</td>\n",
       "      <td>3.49</td>\n",
       "      <td>0.22</td>\n",
       "      <td>1.28</td>\n",
       "      <td>NaN</td>\n",
       "      <td>NaN</td>\n",
       "      <td>no_rating</td>\n",
       "      <td>7.98</td>\n",
       "    </tr>\n",
       "    <tr>\n",
       "      <th>...</th>\n",
       "      <td>...</td>\n",
       "      <td>...</td>\n",
       "      <td>...</td>\n",
       "      <td>...</td>\n",
       "      <td>...</td>\n",
       "      <td>...</td>\n",
       "      <td>...</td>\n",
       "      <td>...</td>\n",
       "      <td>...</td>\n",
       "      <td>...</td>\n",
       "      <td>...</td>\n",
       "      <td>...</td>\n",
       "    </tr>\n",
       "    <tr>\n",
       "      <th>16703</th>\n",
       "      <td>strawberry nauts</td>\n",
       "      <td>PSV</td>\n",
       "      <td>2016</td>\n",
       "      <td>Adventure</td>\n",
       "      <td>0.00</td>\n",
       "      <td>0.00</td>\n",
       "      <td>0.01</td>\n",
       "      <td>0.00</td>\n",
       "      <td>NaN</td>\n",
       "      <td>NaN</td>\n",
       "      <td>no_rating</td>\n",
       "      <td>0.01</td>\n",
       "    </tr>\n",
       "    <tr>\n",
       "      <th>16707</th>\n",
       "      <td>aiyoku no eustia</td>\n",
       "      <td>PSV</td>\n",
       "      <td>2014</td>\n",
       "      <td>Misc</td>\n",
       "      <td>0.00</td>\n",
       "      <td>0.00</td>\n",
       "      <td>0.01</td>\n",
       "      <td>0.00</td>\n",
       "      <td>NaN</td>\n",
       "      <td>NaN</td>\n",
       "      <td>no_rating</td>\n",
       "      <td>0.01</td>\n",
       "    </tr>\n",
       "    <tr>\n",
       "      <th>16710</th>\n",
       "      <td>samurai warriors: sanada maru</td>\n",
       "      <td>PS3</td>\n",
       "      <td>2016</td>\n",
       "      <td>Action</td>\n",
       "      <td>0.00</td>\n",
       "      <td>0.00</td>\n",
       "      <td>0.01</td>\n",
       "      <td>0.00</td>\n",
       "      <td>NaN</td>\n",
       "      <td>NaN</td>\n",
       "      <td>no_rating</td>\n",
       "      <td>0.01</td>\n",
       "    </tr>\n",
       "    <tr>\n",
       "      <th>16712</th>\n",
       "      <td>haitaka no psychedelica</td>\n",
       "      <td>PSV</td>\n",
       "      <td>2016</td>\n",
       "      <td>Adventure</td>\n",
       "      <td>0.00</td>\n",
       "      <td>0.00</td>\n",
       "      <td>0.01</td>\n",
       "      <td>0.00</td>\n",
       "      <td>NaN</td>\n",
       "      <td>NaN</td>\n",
       "      <td>no_rating</td>\n",
       "      <td>0.01</td>\n",
       "    </tr>\n",
       "    <tr>\n",
       "      <th>16714</th>\n",
       "      <td>winning post 8 2016</td>\n",
       "      <td>PSV</td>\n",
       "      <td>2016</td>\n",
       "      <td>Simulation</td>\n",
       "      <td>0.00</td>\n",
       "      <td>0.00</td>\n",
       "      <td>0.01</td>\n",
       "      <td>0.00</td>\n",
       "      <td>NaN</td>\n",
       "      <td>NaN</td>\n",
       "      <td>no_rating</td>\n",
       "      <td>0.01</td>\n",
       "    </tr>\n",
       "  </tbody>\n",
       "</table>\n",
       "<p>1676 rows × 12 columns</p>\n",
       "</div>"
      ],
      "text/plain": [
       "                                            name platform  year_of_release  \\\n",
       "31                     call of duty: black ops 3      PS4             2015   \n",
       "42                            grand theft auto v      PS4             2014   \n",
       "47     pokemon omega ruby/pokemon alpha sapphire      3DS             2014   \n",
       "77                                       fifa 16      PS4             2015   \n",
       "87                  star wars battlefront (2015)      PS4             2015   \n",
       "...                                          ...      ...              ...   \n",
       "16703                           strawberry nauts      PSV             2016   \n",
       "16707                           aiyoku no eustia      PSV             2014   \n",
       "16710              samurai warriors: sanada maru      PS3             2016   \n",
       "16712                    haitaka no psychedelica      PSV             2016   \n",
       "16714                        winning post 8 2016      PSV             2016   \n",
       "\n",
       "              genre  na_sales  eu_sales  jp_sales  other_sales  critic_score  \\\n",
       "31          Shooter      6.03      5.86      0.36         2.38           NaN   \n",
       "42           Action      3.96      6.31      0.38         1.97          97.0   \n",
       "47     Role-Playing      4.35      3.49      3.10         0.74           NaN   \n",
       "77           Sports      1.12      6.12      0.06         1.28          82.0   \n",
       "87          Shooter      2.99      3.49      0.22         1.28           NaN   \n",
       "...             ...       ...       ...       ...          ...           ...   \n",
       "16703     Adventure      0.00      0.00      0.01         0.00           NaN   \n",
       "16707          Misc      0.00      0.00      0.01         0.00           NaN   \n",
       "16710        Action      0.00      0.00      0.01         0.00           NaN   \n",
       "16712     Adventure      0.00      0.00      0.01         0.00           NaN   \n",
       "16714    Simulation      0.00      0.00      0.01         0.00           NaN   \n",
       "\n",
       "       user_score     rating  total_sales  \n",
       "31            NaN  no_rating        14.63  \n",
       "42            8.3          M        12.62  \n",
       "47            NaN  no_rating        11.68  \n",
       "77            4.3          E         8.58  \n",
       "87            NaN  no_rating         7.98  \n",
       "...           ...        ...          ...  \n",
       "16703         NaN  no_rating         0.01  \n",
       "16707         NaN  no_rating         0.01  \n",
       "16710         NaN  no_rating         0.01  \n",
       "16712         NaN  no_rating         0.01  \n",
       "16714         NaN  no_rating         0.01  \n",
       "\n",
       "[1676 rows x 12 columns]"
      ]
     },
     "execution_count": 44,
     "metadata": {},
     "output_type": "execute_result"
    }
   ],
   "source": [
    "#перезапишем таблицу, учитывая только нужные нам платформы\n",
    "games_actual = games_actual.query('platform in @actual_platform_list')\n",
    "games_actual"
   ]
  },
  {
   "cell_type": "code",
   "execution_count": 45,
   "metadata": {},
   "outputs": [
    {
     "name": "stdout",
     "output_type": "stream",
     "text": [
      "<class 'pandas.core.frame.DataFrame'>\n",
      "Int64Index: 1676 entries, 31 to 16714\n",
      "Data columns (total 12 columns):\n",
      " #   Column           Non-Null Count  Dtype  \n",
      "---  ------           --------------  -----  \n",
      " 0   name             1676 non-null   object \n",
      " 1   platform         1676 non-null   object \n",
      " 2   year_of_release  1676 non-null   int64  \n",
      " 3   genre            1676 non-null   object \n",
      " 4   na_sales         1676 non-null   float64\n",
      " 5   eu_sales         1676 non-null   float64\n",
      " 6   jp_sales         1676 non-null   float64\n",
      " 7   other_sales      1676 non-null   float64\n",
      " 8   critic_score     718 non-null    float64\n",
      " 9   user_score       888 non-null    float64\n",
      " 10  rating           1676 non-null   object \n",
      " 11  total_sales      1676 non-null   float64\n",
      "dtypes: float64(7), int64(1), object(4)\n",
      "memory usage: 170.2+ KB\n"
     ]
    }
   ],
   "source": [
    "games_actual.info()"
   ]
  },
  {
   "cell_type": "markdown",
   "metadata": {},
   "source": [
    "Построим диаграммы размаха по продажам на оставшихся платформах."
   ]
  },
  {
   "cell_type": "code",
   "execution_count": 46,
   "metadata": {},
   "outputs": [
    {
     "data": {
      "text/plain": [
       "(0.0, 2.5)"
      ]
     },
     "execution_count": 46,
     "metadata": {},
     "output_type": "execute_result"
    },
    {
     "data": {
      "image/png": "[encoded data removed]",
      "text/plain": [
       "<Figure size 1080x1224 with 1 Axes>"
      ]
     },
     "metadata": {
      "needs_background": "light"
     },
     "output_type": "display_data"
    }
   ],
   "source": [
    "plt.figure(figsize=(15,17))\n",
    "sns.boxplot(data=games_actual, x='platform', y='total_sales')\n",
    "\n",
    "plt.title(label='Диаграмма размаха по продажам игр по платформам', fontsize=18, fontweight=\"bold\")\n",
    "plt.xlabel(\"Платформы\", fontsize=14, fontweight=\"bold\")\n",
    "plt.ylabel(\"Продажи\", fontsize=14, fontweight=\"bold\")\n",
    "plt.ylim(0, 2.5)"
   ]
  },
  {
   "cell_type": "markdown",
   "metadata": {},
   "source": [
    "Из графика можно сделать вывод, что в выделенный период времени по продажам игр лидировали платформы X360, PS3, PS4, XOne, WiiU, а меньше всего продаж было на платформах PSV и PC."
   ]
  },
  {
   "cell_type": "markdown",
   "metadata": {},
   "source": [
    "Чтобы посмотреть ависимость продаж от оценок критиков и пользователей, выберем несколько популярных и потенциально прибыльных платформ и посмотрим, как продажи на этих платформах зависят от оценок."
   ]
  },
  {
   "cell_type": "code",
   "execution_count": 47,
   "metadata": {
    "scrolled": false
   },
   "outputs": [
    {
     "name": "stdout",
     "output_type": "stream",
     "text": [
      "Корреляция между продажами и оценками критиков\n",
      "0.53\n",
      "0.45\n",
      "0.4\n",
      "0.43\n",
      " \n",
      "Корреляция между продажами и оценками пользователей\n",
      "-0.14\n",
      "-0.17\n",
      "-0.04\n",
      "-0.07\n"
     ]
    }
   ],
   "source": [
    "print('Корреляция между продажами и оценками критиков')\n",
    "games_x360 = games_actual[games_actual['platform']=='X360']\n",
    "print(round(games_x360['critic_score'].corr(games_x360['total_sales']), 2))\n",
    "\n",
    "games_ps3 = games_actual[games_actual['platform']=='PS3']\n",
    "print(round(games_ps3['critic_score'].corr(games_ps3['total_sales']), 2))\n",
    "\n",
    "games_ps4 = games_actual[games_actual['platform']=='PS4']\n",
    "print(round(games_ps4['critic_score'].corr(games_ps4['total_sales']), 2))\n",
    "\n",
    "games_xone = games_actual[games_actual['platform']=='XOne']\n",
    "print(round(games_xone['critic_score'].corr(games_xone['total_sales']), 2))\n",
    "\n",
    "print(' ')\n",
    "print('Корреляция между продажами и оценками пользователей')\n",
    "games_x360 = games_actual[games_actual['platform']=='X360']\n",
    "print(round(games_x360['user_score'].corr(games_x360['total_sales']), 2))\n",
    "\n",
    "games_ps3 = games_actual[games_actual['platform']=='PS3']\n",
    "print(round(games_ps3['user_score'].corr(games_ps3['total_sales']), 2))\n",
    "\n",
    "games_ps4 = games_actual[games_actual['platform']=='PS4']\n",
    "print(round(games_ps4['user_score'].corr(games_ps4['total_sales']), 2))\n",
    "\n",
    "games_xone = games_actual[games_actual['platform']=='XOne']\n",
    "print(round(games_xone['user_score'].corr(games_xone['total_sales']), 2))"
   ]
  },
  {
   "cell_type": "markdown",
   "metadata": {},
   "source": [
    "Как мы видим, наблюдается слабая положительная зависимость продаж от оценок критиков. Чем выше оценка - тем больше продажи.\n",
    "А вот от оценок пользователей продажи практически не зависят.\n",
    "Построим диаграмму рассеяния по всем выбранным платформам, чтобы увидеть зависимость или ее отсутствие наглядно."
   ]
  },
  {
   "cell_type": "code",
   "execution_count": 48,
   "metadata": {},
   "outputs": [
    {
     "data": {
      "text/plain": [
       "Text(0.5, 1.05, 'Зависимость продаж от оценок пользователей')"
      ]
     },
     "execution_count": 48,
     "metadata": {},
     "output_type": "execute_result"
    },
    {
     "data": {
      "image/png": "[encoded data removed]",
      "text/plain": [
       "<Figure size 432x288 with 1 Axes>"
      ]
     },
     "metadata": {
      "needs_background": "light"
     },
     "output_type": "display_data"
    }
   ],
   "source": [
    "games_actual.plot(kind = 'scatter', y = 'total_sales', x = 'user_score', alpha = 0.3)\n",
    "plt.suptitle('Зависимость продаж от оценок пользователей', x=0.5, y=1.05, ha='center', fontsize='xx-large')"
   ]
  },
  {
   "cell_type": "code",
   "execution_count": 49,
   "metadata": {},
   "outputs": [
    {
     "data": {
      "text/plain": [
       "Text(0.5, 1.05, 'Зависимость продаж от оценок критиков')"
      ]
     },
     "execution_count": 49,
     "metadata": {},
     "output_type": "execute_result"
    },
    {
     "data": {
      "image/png": "[encoded data removed]",
      "text/plain": [
       "<Figure size 432x288 with 1 Axes>"
      ]
     },
     "metadata": {
      "needs_background": "light"
     },
     "output_type": "display_data"
    }
   ],
   "source": [
    "games_actual.plot(kind = 'scatter', y = 'total_sales', x = 'critic_score', alpha = 0.3)\n",
    "plt.suptitle('Зависимость продаж от оценок критиков', x=0.5, y=1.05, ha='center', fontsize='xx-large')"
   ]
  },
  {
   "cell_type": "markdown",
   "metadata": {},
   "source": [
    "По графикам тоже видно, что зависимость слабая, но всё же рост продаж встречается чаще у игр с высокими оценками критиков. Но при оценке до 40 продаж мало. А вот у игр с низкими оценками пользователей встречаются и высокие продажи."
   ]
  },
  {
   "cell_type": "markdown",
   "metadata": {},
   "source": [
    "Построим график, чтобы посмотреть, игр каких жанров присутствует в таблице больше."
   ]
  },
  {
   "cell_type": "code",
   "execution_count": 50,
   "metadata": {},
   "outputs": [
    {
     "data": {
      "text/plain": [
       "Text(0.5, 1.05, 'Распределение количества игр по жанрам')"
      ]
     },
     "execution_count": 50,
     "metadata": {},
     "output_type": "execute_result"
    },
    {
     "data": {
      "image/png": "[encoded data removed]",
      "text/plain": [
       "<Figure size 576x576 with 1 Axes>"
      ]
     },
     "metadata": {
      "needs_background": "light"
     },
     "output_type": "display_data"
    }
   ],
   "source": [
    "games_actual['genre'].value_counts().plot(kind='bar', figsize=(8, 8), legend=True)\n",
    "plt.suptitle('Распределение количества игр по жанрам', x=0.5, y=1.05, ha='center', fontsize='xx-large')"
   ]
  },
  {
   "cell_type": "markdown",
   "metadata": {},
   "source": [
    "С большим отрывом лидирует жанр Action. Теперь посмотрим, как распределяются продажи по играм в зависимости от жанра. "
   ]
  },
  {
   "cell_type": "code",
   "execution_count": 51,
   "metadata": {
    "scrolled": false
   },
   "outputs": [
    {
     "data": {
      "text/plain": [
       "Text(0.5, 1.05, 'Распределение суммарных продаж игр по жанрам')"
      ]
     },
     "execution_count": 51,
     "metadata": {},
     "output_type": "execute_result"
    },
    {
     "data": {
      "image/png": "[encoded data removed]",
      "text/plain": [
       "<Figure size 720x360 with 1 Axes>"
      ]
     },
     "metadata": {
      "needs_background": "light"
     },
     "output_type": "display_data"
    }
   ],
   "source": [
    "games_actual.pivot_table(index='genre', aggfunc={'total_sales':'sum'}).sort_values(by='total_sales', ascending=False).plot(y='total_sales', kind='bar', figsize=(10, 5))\n",
    "plt.suptitle('Распределение суммарных продаж игр по жанрам', x=0.5, y=1.05, ha='center', fontsize='xx-large')"
   ]
  },
  {
   "cell_type": "code",
   "execution_count": 52,
   "metadata": {},
   "outputs": [
    {
     "data": {
      "text/plain": [
       "Text(0.5, 1.05, 'Распределение медианных продаж игр по жанрам')"
      ]
     },
     "execution_count": 52,
     "metadata": {},
     "output_type": "execute_result"
    },
    {
     "data": {
      "image/png": "[encoded data removed]",
      "text/plain": [
       "<Figure size 720x360 with 1 Axes>"
      ]
     },
     "metadata": {
      "needs_background": "light"
     },
     "output_type": "display_data"
    }
   ],
   "source": [
    "games_actual.pivot_table(index='genre', aggfunc={'total_sales':'median'}).sort_values(by='total_sales', ascending=False).plot(y='total_sales', kind='bar', figsize=(10, 5))\n",
    "plt.suptitle('Распределение медианных продаж игр по жанрам', x=0.5, y=1.05, ha='center', fontsize='xx-large')"
   ]
  },
  {
   "cell_type": "markdown",
   "metadata": {},
   "source": [
    "### Вывод\n",
    "\n",
    "По сумме продаж тоже лидирует жанр Action, но отрыв от других жанров уже не такой значительный.\n",
    "Но если по количеству в лидерах еще ролевые игры и спорт, то по продажам на второе место выходят \"стрелялки\", а спорт остается также на третьем месте.\n",
    "В аутсайдерах - стратегии и головоломки. Получается, игроки больше любят игры на скорость и быстроту реакции, чем те игры, в которых нужно подумать.\n",
    "\n",
    "Если посмотреть медианные продажи, то картина меняется. В среднем лучше продаются \"стрелялки\". Игр в жанре Action много в количественном выражении, поэтому и по сумме продажи таких игр оказались больше, чем остальных."
   ]
  },
  {
   "cell_type": "markdown",
   "metadata": {},
   "source": [
    "## Составление портрета пользователя каждого региона.\n",
    "Определите для пользователя каждого региона (NA, EU, JP):\n",
    "Самые популярные платформы (топ-5). Опишите различия в долях продаж.\n",
    "Самые популярные жанры (топ-5). Поясните разницу.\n",
    "Влияет ли рейтинг ESRB на продажи в отдельном регионе?"
   ]
  },
  {
   "cell_type": "markdown",
   "metadata": {},
   "source": [
    "Сформируем сводную таблицу с сумарными продажами по каждой платформе по регионам."
   ]
  },
  {
   "cell_type": "code",
   "execution_count": 53,
   "metadata": {},
   "outputs": [
    {
     "data": {
      "text/html": [
       "<div>\n",
       "<style scoped>\n",
       "    .dataframe tbody tr th:only-of-type {\n",
       "        vertical-align: middle;\n",
       "    }\n",
       "\n",
       "    .dataframe tbody tr th {\n",
       "        vertical-align: top;\n",
       "    }\n",
       "\n",
       "    .dataframe thead th {\n",
       "        text-align: right;\n",
       "    }\n",
       "</style>\n",
       "<table border=\"1\" class=\"dataframe\">\n",
       "  <thead>\n",
       "    <tr style=\"text-align: right;\">\n",
       "      <th></th>\n",
       "      <th>eu_sales</th>\n",
       "      <th>jp_sales</th>\n",
       "      <th>na_sales</th>\n",
       "    </tr>\n",
       "    <tr>\n",
       "      <th>platform</th>\n",
       "      <th></th>\n",
       "      <th></th>\n",
       "      <th></th>\n",
       "    </tr>\n",
       "  </thead>\n",
       "  <tbody>\n",
       "    <tr>\n",
       "      <th>3DS</th>\n",
       "      <td>16.12</td>\n",
       "      <td>44.24</td>\n",
       "      <td>22.64</td>\n",
       "    </tr>\n",
       "    <tr>\n",
       "      <th>PC</th>\n",
       "      <td>17.97</td>\n",
       "      <td>0.00</td>\n",
       "      <td>7.23</td>\n",
       "    </tr>\n",
       "    <tr>\n",
       "      <th>PS3</th>\n",
       "      <td>25.54</td>\n",
       "      <td>11.22</td>\n",
       "      <td>22.05</td>\n",
       "    </tr>\n",
       "    <tr>\n",
       "      <th>PS4</th>\n",
       "      <td>130.04</td>\n",
       "      <td>15.02</td>\n",
       "      <td>98.61</td>\n",
       "    </tr>\n",
       "    <tr>\n",
       "      <th>PSV</th>\n",
       "      <td>3.53</td>\n",
       "      <td>14.54</td>\n",
       "      <td>2.52</td>\n",
       "    </tr>\n",
       "    <tr>\n",
       "      <th>Wii</th>\n",
       "      <td>2.59</td>\n",
       "      <td>0.00</td>\n",
       "      <td>2.08</td>\n",
       "    </tr>\n",
       "    <tr>\n",
       "      <th>WiiU</th>\n",
       "      <td>13.15</td>\n",
       "      <td>7.31</td>\n",
       "      <td>19.36</td>\n",
       "    </tr>\n",
       "    <tr>\n",
       "      <th>X360</th>\n",
       "      <td>15.49</td>\n",
       "      <td>0.08</td>\n",
       "      <td>28.30</td>\n",
       "    </tr>\n",
       "    <tr>\n",
       "      <th>XOne</th>\n",
       "      <td>46.25</td>\n",
       "      <td>0.32</td>\n",
       "      <td>81.27</td>\n",
       "    </tr>\n",
       "  </tbody>\n",
       "</table>\n",
       "</div>"
      ],
      "text/plain": [
       "          eu_sales  jp_sales  na_sales\n",
       "platform                              \n",
       "3DS          16.12     44.24     22.64\n",
       "PC           17.97      0.00      7.23\n",
       "PS3          25.54     11.22     22.05\n",
       "PS4         130.04     15.02     98.61\n",
       "PSV           3.53     14.54      2.52\n",
       "Wii           2.59      0.00      2.08\n",
       "WiiU         13.15      7.31     19.36\n",
       "X360         15.49      0.08     28.30\n",
       "XOne         46.25      0.32     81.27"
      ]
     },
     "execution_count": 53,
     "metadata": {},
     "output_type": "execute_result"
    }
   ],
   "source": [
    "platforms_region = games_actual.pivot_table(index='platform', aggfunc={'na_sales':sum, 'eu_sales':sum, 'jp_sales':sum})\n",
    "platforms_region"
   ]
  },
  {
   "cell_type": "markdown",
   "metadata": {},
   "source": [
    "Видно, что в разных регионах популярны разные платформы."
   ]
  },
  {
   "cell_type": "markdown",
   "metadata": {},
   "source": [
    "Теперь посмотрим на самые популярные жанры по регионам."
   ]
  },
  {
   "cell_type": "code",
   "execution_count": 54,
   "metadata": {},
   "outputs": [
    {
     "data": {
      "text/html": [
       "<div>\n",
       "<style scoped>\n",
       "    .dataframe tbody tr th:only-of-type {\n",
       "        vertical-align: middle;\n",
       "    }\n",
       "\n",
       "    .dataframe tbody tr th {\n",
       "        vertical-align: top;\n",
       "    }\n",
       "\n",
       "    .dataframe thead th {\n",
       "        text-align: right;\n",
       "    }\n",
       "</style>\n",
       "<table border=\"1\" class=\"dataframe\">\n",
       "  <thead>\n",
       "    <tr style=\"text-align: right;\">\n",
       "      <th></th>\n",
       "      <th>eu_sales</th>\n",
       "      <th>jp_sales</th>\n",
       "      <th>na_sales</th>\n",
       "    </tr>\n",
       "    <tr>\n",
       "      <th>genre</th>\n",
       "      <th></th>\n",
       "      <th></th>\n",
       "      <th></th>\n",
       "    </tr>\n",
       "  </thead>\n",
       "  <tbody>\n",
       "    <tr>\n",
       "      <th>Action</th>\n",
       "      <td>74.68</td>\n",
       "      <td>29.38</td>\n",
       "      <td>72.53</td>\n",
       "    </tr>\n",
       "    <tr>\n",
       "      <th>Adventure</th>\n",
       "      <td>6.49</td>\n",
       "      <td>3.55</td>\n",
       "      <td>5.64</td>\n",
       "    </tr>\n",
       "    <tr>\n",
       "      <th>Fighting</th>\n",
       "      <td>6.69</td>\n",
       "      <td>6.37</td>\n",
       "      <td>12.43</td>\n",
       "    </tr>\n",
       "    <tr>\n",
       "      <th>Misc</th>\n",
       "      <td>12.86</td>\n",
       "      <td>5.59</td>\n",
       "      <td>15.05</td>\n",
       "    </tr>\n",
       "    <tr>\n",
       "      <th>Platform</th>\n",
       "      <td>6.80</td>\n",
       "      <td>2.69</td>\n",
       "      <td>6.79</td>\n",
       "    </tr>\n",
       "    <tr>\n",
       "      <th>Puzzle</th>\n",
       "      <td>0.52</td>\n",
       "      <td>0.93</td>\n",
       "      <td>0.65</td>\n",
       "    </tr>\n",
       "    <tr>\n",
       "      <th>Racing</th>\n",
       "      <td>14.13</td>\n",
       "      <td>1.76</td>\n",
       "      <td>8.74</td>\n",
       "    </tr>\n",
       "    <tr>\n",
       "      <th>Role-Playing</th>\n",
       "      <td>28.17</td>\n",
       "      <td>31.16</td>\n",
       "      <td>33.47</td>\n",
       "    </tr>\n",
       "    <tr>\n",
       "      <th>Shooter</th>\n",
       "      <td>65.52</td>\n",
       "      <td>4.87</td>\n",
       "      <td>79.02</td>\n",
       "    </tr>\n",
       "    <tr>\n",
       "      <th>Simulation</th>\n",
       "      <td>7.30</td>\n",
       "      <td>2.31</td>\n",
       "      <td>2.63</td>\n",
       "    </tr>\n",
       "    <tr>\n",
       "      <th>Sports</th>\n",
       "      <td>45.73</td>\n",
       "      <td>3.17</td>\n",
       "      <td>46.13</td>\n",
       "    </tr>\n",
       "    <tr>\n",
       "      <th>Strategy</th>\n",
       "      <td>1.79</td>\n",
       "      <td>0.95</td>\n",
       "      <td>0.98</td>\n",
       "    </tr>\n",
       "  </tbody>\n",
       "</table>\n",
       "</div>"
      ],
      "text/plain": [
       "              eu_sales  jp_sales  na_sales\n",
       "genre                                     \n",
       "Action           74.68     29.38     72.53\n",
       "Adventure         6.49      3.55      5.64\n",
       "Fighting          6.69      6.37     12.43\n",
       "Misc             12.86      5.59     15.05\n",
       "Platform          6.80      2.69      6.79\n",
       "Puzzle            0.52      0.93      0.65\n",
       "Racing           14.13      1.76      8.74\n",
       "Role-Playing     28.17     31.16     33.47\n",
       "Shooter          65.52      4.87     79.02\n",
       "Simulation        7.30      2.31      2.63\n",
       "Sports           45.73      3.17     46.13\n",
       "Strategy          1.79      0.95      0.98"
      ]
     },
     "execution_count": 54,
     "metadata": {},
     "output_type": "execute_result"
    }
   ],
   "source": [
    "genres_region = games_actual.pivot_table(index='genre', aggfunc={'na_sales':sum, 'eu_sales':sum, 'jp_sales':sum})\n",
    "genres_region"
   ]
  },
  {
   "cell_type": "markdown",
   "metadata": {},
   "source": [
    "Посмотрим на графике, как распределяются продажи игр по жанрам в разных регионах."
   ]
  },
  {
   "cell_type": "code",
   "execution_count": 55,
   "metadata": {},
   "outputs": [
    {
     "data": {
      "text/plain": [
       "<AxesSubplot:xlabel='genre'>"
      ]
     },
     "execution_count": 55,
     "metadata": {},
     "output_type": "execute_result"
    },
    {
     "data": {
      "image/png": "[encoded data removed]",
      "text/plain": [
       "<Figure size 720x360 with 1 Axes>"
      ]
     },
     "metadata": {
      "needs_background": "light"
     },
     "output_type": "display_data"
    }
   ],
   "source": [
    "genres_region.plot(kind='bar', figsize=(10, 5))"
   ]
  },
  {
   "cell_type": "markdown",
   "metadata": {},
   "source": [
    "Выведем топ-5 платформ по регионам."
   ]
  },
  {
   "cell_type": "code",
   "execution_count": 56,
   "metadata": {},
   "outputs": [
    {
     "data": {
      "image/png": "[encoded data removed]",
      "text/plain": [
       "<Figure size 720x360 with 1 Axes>"
      ]
     },
     "metadata": {
      "needs_background": "light"
     },
     "output_type": "display_data"
    },
    {
     "data": {
      "image/png": "[encoded data removed]",
      "text/plain": [
       "<Figure size 720x360 with 1 Axes>"
      ]
     },
     "metadata": {
      "needs_background": "light"
     },
     "output_type": "display_data"
    },
    {
     "data": {
      "image/png": "[encoded data removed]",
      "text/plain": [
       "<Figure size 720x360 with 1 Axes>"
      ]
     },
     "metadata": {
      "needs_background": "light"
     },
     "output_type": "display_data"
    }
   ],
   "source": [
    "region = ['eu_sales', 'na_sales', 'jp_sales']\n",
    "\n",
    "for i in range(0, 3):\n",
    "    platforms_region.nlargest(5, columns=region[i]).plot(y=region[i], kind='bar', figsize=(10, 5), title=region[i]+' Топ-5 платформ')\n",
    "    "
   ]
  },
  {
   "cell_type": "markdown",
   "metadata": {},
   "source": [
    "Таким же образом выведем топ-5 жанров по регионам."
   ]
  },
  {
   "cell_type": "code",
   "execution_count": 57,
   "metadata": {},
   "outputs": [
    {
     "data": {
      "image/png": "[encoded data removed]",
      "text/plain": [
       "<Figure size 720x360 with 1 Axes>"
      ]
     },
     "metadata": {
      "needs_background": "light"
     },
     "output_type": "display_data"
    },
    {
     "data": {
      "image/png": "[encoded data removed]",
      "text/plain": [
       "<Figure size 720x360 with 1 Axes>"
      ]
     },
     "metadata": {
      "needs_background": "light"
     },
     "output_type": "display_data"
    },
    {
     "data": {
      "image/png": "[encoded data removed]",
      "text/plain": [
       "<Figure size 720x360 with 1 Axes>"
      ]
     },
     "metadata": {
      "needs_background": "light"
     },
     "output_type": "display_data"
    }
   ],
   "source": [
    "region = ['eu_sales', 'na_sales', 'jp_sales']\n",
    "\n",
    "for i in range(0, 3):\n",
    "    genres_region.nlargest(5, columns=region[i]).plot(y=region[i], kind='bar', figsize=(10, 5), title=region[i]+' Топ-5 жанров')\n",
    "    "
   ]
  },
  {
   "cell_type": "markdown",
   "metadata": {},
   "source": [
    "Теперь проверим, как влияет рейтинг на продажи в разных регионах"
   ]
  },
  {
   "cell_type": "code",
   "execution_count": 58,
   "metadata": {},
   "outputs": [
    {
     "data": {
      "text/html": [
       "<div>\n",
       "<style scoped>\n",
       "    .dataframe tbody tr th:only-of-type {\n",
       "        vertical-align: middle;\n",
       "    }\n",
       "\n",
       "    .dataframe tbody tr th {\n",
       "        vertical-align: top;\n",
       "    }\n",
       "\n",
       "    .dataframe thead th {\n",
       "        text-align: right;\n",
       "    }\n",
       "</style>\n",
       "<table border=\"1\" class=\"dataframe\">\n",
       "  <thead>\n",
       "    <tr style=\"text-align: right;\">\n",
       "      <th></th>\n",
       "      <th>eu_sales</th>\n",
       "      <th>jp_sales</th>\n",
       "      <th>na_sales</th>\n",
       "    </tr>\n",
       "    <tr>\n",
       "      <th>rating</th>\n",
       "      <th></th>\n",
       "      <th></th>\n",
       "      <th></th>\n",
       "    </tr>\n",
       "  </thead>\n",
       "  <tbody>\n",
       "    <tr>\n",
       "      <th>E</th>\n",
       "      <td>58.06</td>\n",
       "      <td>8.94</td>\n",
       "      <td>50.74</td>\n",
       "    </tr>\n",
       "    <tr>\n",
       "      <th>E10+</th>\n",
       "      <td>26.16</td>\n",
       "      <td>4.46</td>\n",
       "      <td>33.23</td>\n",
       "    </tr>\n",
       "    <tr>\n",
       "      <th>M</th>\n",
       "      <td>93.44</td>\n",
       "      <td>8.01</td>\n",
       "      <td>96.42</td>\n",
       "    </tr>\n",
       "    <tr>\n",
       "      <th>T</th>\n",
       "      <td>34.07</td>\n",
       "      <td>14.78</td>\n",
       "      <td>38.95</td>\n",
       "    </tr>\n",
       "    <tr>\n",
       "      <th>no_rating</th>\n",
       "      <td>58.95</td>\n",
       "      <td>56.54</td>\n",
       "      <td>64.72</td>\n",
       "    </tr>\n",
       "  </tbody>\n",
       "</table>\n",
       "</div>"
      ],
      "text/plain": [
       "           eu_sales  jp_sales  na_sales\n",
       "rating                                 \n",
       "E             58.06      8.94     50.74\n",
       "E10+          26.16      4.46     33.23\n",
       "M             93.44      8.01     96.42\n",
       "T             34.07     14.78     38.95\n",
       "no_rating     58.95     56.54     64.72"
      ]
     },
     "execution_count": 58,
     "metadata": {},
     "output_type": "execute_result"
    }
   ],
   "source": [
    "rating_region = games_actual.pivot_table(index='rating', aggfunc={'na_sales':sum, 'eu_sales':sum, 'jp_sales':sum})\n",
    "rating_region"
   ]
  },
  {
   "cell_type": "markdown",
   "metadata": {},
   "source": [
    "Википедия помогает нам расшифровать обозначения в рейтинге:\n",
    "- «E» («Everyone») — «Для всех»\n",
    "- «E10+» («Everyone 10 and older») — «Для всех от 10 лет и старше»\n",
    "- «M» («Mature») — «Для взрослых»\n",
    "- «RP» («Rating Pending») — «Рейтинг ожидается»\n",
    "- «T» («Teen») — «Подросткам»\n",
    "\n",
    "В Европе и Америке больше покупают игры для взрослых. Игры без рейтинга - на втором месте. Затем в лидерах - игры для всех.\n",
    "А в Японии рейтинг не очень важен. Хорошо продаются игры без рейтинга, далее игры для для подростков."
   ]
  },
  {
   "cell_type": "markdown",
   "metadata": {},
   "source": [
    "### Вывод\n",
    "\n",
    "В Европе самые популярные платформы -  PS4, Xone, PS3. Самые популярные жанры - Action, Shooter, Sport. Причем по количеству лидирует жанр Action, а по средним продажам - Shooter. Топ рейтингов - для взрослых, для всех, для подростков. Ни игры без рейтинга тоже продаются хорошо. Далеко не у всех игр имеется рейтинг. \n",
    "В Америке популярны платформы PS4, Xone, X360. Любимые жанры совпадают с Европой - Action, Shooter, Sport. Топ рейтингов также полностью совпадает с Европой.\n",
    "В Японии картина немного другая. Самые популярные платформы - 3DS, PS4, PSV, а любимые жанры - Role-Playing, Action, Fighting.\n",
    "Топ рейтингов - для всех, для подростков, и только потом уже - для взрослых."
   ]
  },
  {
   "cell_type": "markdown",
   "metadata": {},
   "source": [
    "## Проверка гипотез\n",
    "\n"
   ]
  },
  {
   "cell_type": "markdown",
   "metadata": {},
   "source": [
    "Сначала сравним пользовательские рейтинки платформ Xbox One и PC.\n",
    "Сформулируем нулевую и альтернативную гипотезы:\n",
    "\n",
    "- H0 - средние пользовательские рейтинги платформ Xbox One и PC одинаковые\n",
    "- H1 - средний пользовательский рейтинг платформы Xbox One отличается от среднего пользовательского рейтинга платформы PC"
   ]
  },
  {
   "cell_type": "code",
   "execution_count": 59,
   "metadata": {
    "scrolled": false
   },
   "outputs": [
    {
     "name": "stdout",
     "output_type": "stream",
     "text": [
      "<class 'pandas.core.frame.DataFrame'>\n",
      "Int64Index: 1676 entries, 31 to 16714\n",
      "Data columns (total 12 columns):\n",
      " #   Column           Non-Null Count  Dtype  \n",
      "---  ------           --------------  -----  \n",
      " 0   name             1676 non-null   object \n",
      " 1   platform         1676 non-null   object \n",
      " 2   year_of_release  1676 non-null   int64  \n",
      " 3   genre            1676 non-null   object \n",
      " 4   na_sales         1676 non-null   float64\n",
      " 5   eu_sales         1676 non-null   float64\n",
      " 6   jp_sales         1676 non-null   float64\n",
      " 7   other_sales      1676 non-null   float64\n",
      " 8   critic_score     718 non-null    float64\n",
      " 9   user_score       888 non-null    float64\n",
      " 10  rating           1676 non-null   object \n",
      " 11  total_sales      1676 non-null   float64\n",
      "dtypes: float64(7), int64(1), object(4)\n",
      "memory usage: 170.2+ KB\n"
     ]
    }
   ],
   "source": [
    "games_actual.info()"
   ]
  },
  {
   "cell_type": "code",
   "execution_count": 60,
   "metadata": {
    "scrolled": true
   },
   "outputs": [
    {
     "name": "stderr",
     "output_type": "stream",
     "text": [
      "C:\\Users\\Anna\\AppData\\Local\\Temp\\ipykernel_16828\\2110577788.py:1: SettingWithCopyWarning: \n",
      "A value is trying to be set on a copy of a slice from a DataFrame\n",
      "\n",
      "See the caveats in the documentation: https://pandas.pydata.org/pandas-docs/stable/user_guide/indexing.html#returning-a-view-versus-a-copy\n",
      "  games_actual.dropna(subset = ['user_score'],inplace=True) #удалим строки с пустыми значениями 'user_score'\n"
     ]
    }
   ],
   "source": [
    "games_actual.dropna(subset = ['user_score'],inplace=True) #удалим строки с пустыми значениями 'user_score'"
   ]
  },
  {
   "cell_type": "code",
   "execution_count": 61,
   "metadata": {
    "scrolled": true
   },
   "outputs": [
    {
     "name": "stdout",
     "output_type": "stream",
     "text": [
      "<class 'pandas.core.frame.DataFrame'>\n",
      "Int64Index: 888 entries, 42 to 16692\n",
      "Data columns (total 12 columns):\n",
      " #   Column           Non-Null Count  Dtype  \n",
      "---  ------           --------------  -----  \n",
      " 0   name             888 non-null    object \n",
      " 1   platform         888 non-null    object \n",
      " 2   year_of_release  888 non-null    int64  \n",
      " 3   genre            888 non-null    object \n",
      " 4   na_sales         888 non-null    float64\n",
      " 5   eu_sales         888 non-null    float64\n",
      " 6   jp_sales         888 non-null    float64\n",
      " 7   other_sales      888 non-null    float64\n",
      " 8   critic_score     704 non-null    float64\n",
      " 9   user_score       888 non-null    float64\n",
      " 10  rating           888 non-null    object \n",
      " 11  total_sales      888 non-null    float64\n",
      "dtypes: float64(7), int64(1), object(4)\n",
      "memory usage: 90.2+ KB\n"
     ]
    }
   ],
   "source": [
    "games_actual.info() #проверим, что строки удалены"
   ]
  },
  {
   "cell_type": "markdown",
   "metadata": {},
   "source": [
    "Сначала сформируем две таблицы, выделив нужные нам платформы."
   ]
  },
  {
   "cell_type": "code",
   "execution_count": 67,
   "metadata": {},
   "outputs": [],
   "source": [
    "xone_rating = games_actual[(games_actual['platform']=='XOne')]['user_score']\n",
    "pc_rating = games_actual[(games_actual['platform']=='PC')]['user_score']\n"
   ]
  },
  {
   "cell_type": "markdown",
   "metadata": {},
   "source": [
    "Посчитаем дисперсию, чтобы понимать, есть ли разница между дисперсиями в двух выборках."
   ]
  },
  {
   "cell_type": "code",
   "execution_count": 68,
   "metadata": {},
   "outputs": [
    {
     "data": {
      "text/plain": [
       "1.8910066518846989"
      ]
     },
     "execution_count": 68,
     "metadata": {},
     "output_type": "execute_result"
    }
   ],
   "source": [
    "xone_rating_var = np.var(xone_rating, ddof=1)\n",
    "xone_rating_var"
   ]
  },
  {
   "cell_type": "code",
   "execution_count": 69,
   "metadata": {},
   "outputs": [
    {
     "data": {
      "text/plain": [
       "2.9011543151334522"
      ]
     },
     "execution_count": 69,
     "metadata": {},
     "output_type": "execute_result"
    }
   ],
   "source": [
    "pc_var = np.var(pc_rating, ddof=1)\n",
    "pc_var"
   ]
  },
  {
   "cell_type": "markdown",
   "metadata": {},
   "source": [
    "Дисперсии сильно различаются, поэтому параметр equal_var зададим False.\n",
    "Выполним проверку гипотезы с помощью ttest_ind."
   ]
  },
  {
   "cell_type": "code",
   "execution_count": 70,
   "metadata": {},
   "outputs": [
    {
     "name": "stdout",
     "output_type": "stream",
     "text": [
      "p-значение: 0.11601398086668832\n",
      "Не получилось отвергнуть нулевую гипотезу\n"
     ]
    }
   ],
   "source": [
    "alpha = .05\n",
    "\n",
    "results = st.ttest_ind(xone_rating, pc_rating, equal_var=False)\n",
    "\n",
    "print('p-значение:', results.pvalue)\n",
    "\n",
    "\n",
    "if (results.pvalue < alpha):\n",
    "    print(\"Отвергаем нулевую гипотезу\")\n",
    "else:\n",
    "    print(\"Не получилось отвергнуть нулевую гипотезу\")"
   ]
  },
  {
   "cell_type": "markdown",
   "metadata": {},
   "source": [
    "Поскольку нулевую гипотезу отвергнуть не удалось, будем считать, что редние пользовательские рейтинги платформ Xbox One и PC одинаковые."
   ]
  },
  {
   "cell_type": "markdown",
   "metadata": {},
   "source": [
    "Переходим к проверке второй гипотезы.\n",
    "- Н0 - Средние пользовательские рейтинги жанров Action  и Sports  одинаковые.\n",
    "- H1 - Средние пользовательские рейтинги жанров Action  и Sports  различаются."
   ]
  },
  {
   "cell_type": "code",
   "execution_count": 71,
   "metadata": {},
   "outputs": [],
   "source": [
    "action_test = games_actual[(games_actual['genre']=='Action')]['user_score']\n",
    "sports_test = games_actual[(games_actual['genre']=='Sports')]['user_score']"
   ]
  },
  {
   "cell_type": "code",
   "execution_count": 72,
   "metadata": {},
   "outputs": [
    {
     "data": {
      "text/plain": [
       "1.898476658476659"
      ]
     },
     "execution_count": 72,
     "metadata": {},
     "output_type": "execute_result"
    }
   ],
   "source": [
    "action_test_var = np.var(action_test, ddof=1)\n",
    "action_test_var"
   ]
  },
  {
   "cell_type": "code",
   "execution_count": 73,
   "metadata": {},
   "outputs": [
    {
     "data": {
      "text/plain": [
       "3.4469791276090476"
      ]
     },
     "execution_count": 73,
     "metadata": {},
     "output_type": "execute_result"
    }
   ],
   "source": [
    "sports_test_var = np.var(sports_test, ddof=1)\n",
    "sports_test_var"
   ]
  },
  {
   "cell_type": "markdown",
   "metadata": {},
   "source": [
    "Дисперсии сильно различаются, поэтому параметр equal_var зададим False. Выполним проверку гипотезы с помощью ttest_ind."
   ]
  },
  {
   "cell_type": "code",
   "execution_count": 74,
   "metadata": {},
   "outputs": [
    {
     "name": "stdout",
     "output_type": "stream",
     "text": [
      "p-значение: 1.1825550382644557e-14\n",
      "Отвергаем нулевую гипотезу\n"
     ]
    }
   ],
   "source": [
    "alpha = .05\n",
    "\n",
    "results = st.ttest_ind(action_test, sports_test, equal_var=False)\n",
    "\n",
    "print('p-значение:', results.pvalue)\n",
    "\n",
    "if (results.pvalue < alpha):\n",
    "    print(\"Отвергаем нулевую гипотезу\")\n",
    "else:\n",
    "    print(\"Не получилось отвергнуть нулевую гипотезу\")"
   ]
  },
  {
   "cell_type": "markdown",
   "metadata": {},
   "source": [
    "Можно сделать вывод, что средние пользовательские рейтинги жанров Action и Sports статистически значимо различаются."
   ]
  },
  {
   "cell_type": "markdown",
   "metadata": {},
   "source": [
    "## Общий вывод.\n",
    "\n",
    "В ходе проведения анализа по данным об играх можно сделать следующие выводы:\n",
    "- Пик выпуска новых игр пришелся на 2007-2011 годы, далее количество вновь выпущенных игр снижается.\n",
    "В период с 2011 по 2016 год количество выпущенных игр колебалось не так сильно, как в предыдущие годы.\n",
    "- В среднем платформы существуют 6-7 лет.\n",
    "- В последние годы по продажам игр лидировали платформы X360, PS3, PS4, XOne, WiiU, а меньше всего продаж было на платформах PSV и PC.\n",
    "- Есть слабая положительная зависимость продаж от оценок критиков. Чем выше оценка - тем больше продажи.\n",
    "А вот от оценок пользователей продажи практически не зависят. \n",
    "- По продажам и количеству выпущенных игр лидирует жанр Action. \n",
    "Но если по количеству в лидерах еще ролевые игры и спорт, то по продажам на второе место выходят \"стрелялки\", а спорт остается также на третьем месте. Если рассматривать средние продажи, то стабильно лучше всех продаются игры в жанре Shooter.\n",
    "В аутсайдерах - стратегии и головоломки. \n",
    "- В Европе самые популярные платформы -  PS4, Xone, PS3. Самые популярные жанры - Action, Shooter, Sport. Топ рейтингов - для взрослых, для всех, для подростков. Игры без рейтинга продаются на том же уровне, что и \"для всех\".\n",
    "- В Америке популярны платформы PS4, Xone, X360. Любимые жанры совпадают с Европой - Action, Shooter, Sport. Топ рейтингов также полностью совпадает с Европой.\n",
    "- В Японии картина немного другая. Самые популярные платформы - 3DS, PS4, PSV, а любимые жанры - Role-Playing, Action, Fighting. Лучше всего продаются игры без рейтинга. Игры \"для всех\" - тоже в топе.\n"
   ]
  },
  {
   "cell_type": "code",
   "execution_count": null,
   "metadata": {},
   "outputs": [],
   "source": []
  }
 ],
 "metadata": {
  "ExecuteTimeLog": [
   {
    "duration": 1389,
    "start_time": "2022-04-13T21:24:25.619Z"
   },
   {
    "duration": 67,
    "start_time": "2022-04-13T21:24:27.582Z"
   },
   {
    "duration": 14,
    "start_time": "2022-04-13T21:24:28.678Z"
   },
   {
    "duration": 28,
    "start_time": "2022-04-13T21:24:29.633Z"
   },
   {
    "duration": 2,
    "start_time": "2022-04-13T21:24:30.929Z"
   },
   {
    "duration": 165,
    "start_time": "2022-04-13T21:24:31.119Z"
   },
   {
    "duration": 5,
    "start_time": "2022-04-13T21:24:31.369Z"
   },
   {
    "duration": 4,
    "start_time": "2022-04-13T21:24:31.489Z"
   },
   {
    "duration": 4,
    "start_time": "2022-04-13T21:24:31.778Z"
   },
   {
    "duration": 172,
    "start_time": "2022-04-13T21:24:31.963Z"
   },
   {
    "duration": 0,
    "start_time": "2022-04-13T21:24:32.137Z"
   },
   {
    "duration": 12,
    "start_time": "2022-04-13T21:24:32.290Z"
   },
   {
    "duration": 161,
    "start_time": "2022-04-13T21:24:32.496Z"
   },
   {
    "duration": 0,
    "start_time": "2022-04-13T21:24:32.659Z"
   },
   {
    "duration": 163,
    "start_time": "2022-04-13T21:24:32.837Z"
   },
   {
    "duration": 1,
    "start_time": "2022-04-13T21:24:33.002Z"
   },
   {
    "duration": 152,
    "start_time": "2022-04-13T21:24:33.122Z"
   },
   {
    "duration": 22,
    "start_time": "2022-04-13T21:24:33.298Z"
   },
   {
    "duration": 158,
    "start_time": "2022-04-13T21:24:33.460Z"
   },
   {
    "duration": 7,
    "start_time": "2022-04-13T21:24:33.653Z"
   },
   {
    "duration": 161,
    "start_time": "2022-04-13T21:24:35.180Z"
   },
   {
    "duration": 5,
    "start_time": "2022-04-13T21:24:35.539Z"
   },
   {
    "duration": 17,
    "start_time": "2022-04-13T21:24:35.720Z"
   },
   {
    "duration": 7,
    "start_time": "2022-04-13T21:24:35.915Z"
   },
   {
    "duration": 153,
    "start_time": "2022-04-13T21:24:36.101Z"
   },
   {
    "duration": 0,
    "start_time": "2022-04-13T21:24:36.255Z"
   },
   {
    "duration": 156,
    "start_time": "2022-04-13T21:24:36.428Z"
   },
   {
    "duration": 15,
    "start_time": "2022-04-13T21:24:36.595Z"
   },
   {
    "duration": 143,
    "start_time": "2022-04-13T21:24:36.785Z"
   },
   {
    "duration": 0,
    "start_time": "2022-04-13T21:24:36.929Z"
   },
   {
    "duration": 158,
    "start_time": "2022-04-13T21:24:37.099Z"
   },
   {
    "duration": 7,
    "start_time": "2022-04-13T21:24:37.269Z"
   },
   {
    "duration": 161,
    "start_time": "2022-04-13T21:24:37.433Z"
   },
   {
    "duration": 8,
    "start_time": "2022-04-13T21:24:37.619Z"
   },
   {
    "duration": 182,
    "start_time": "2022-04-13T21:24:37.818Z"
   },
   {
    "duration": 0,
    "start_time": "2022-04-13T21:24:38.002Z"
   },
   {
    "duration": 156,
    "start_time": "2022-04-13T21:24:38.266Z"
   },
   {
    "duration": 7,
    "start_time": "2022-04-13T21:24:38.442Z"
   },
   {
    "duration": 149,
    "start_time": "2022-04-13T21:24:38.631Z"
   },
   {
    "duration": 1051,
    "start_time": "2022-04-13T21:24:38.946Z"
   },
   {
    "duration": 0,
    "start_time": "2022-04-13T21:24:40.000Z"
   },
   {
    "duration": 0,
    "start_time": "2022-04-13T21:24:40.000Z"
   },
   {
    "duration": 0,
    "start_time": "2022-04-13T21:24:40.002Z"
   },
   {
    "duration": 0,
    "start_time": "2022-04-13T21:24:40.003Z"
   },
   {
    "duration": 191,
    "start_time": "2022-04-13T21:24:40.041Z"
   },
   {
    "duration": 0,
    "start_time": "2022-04-13T21:24:40.234Z"
   },
   {
    "duration": 164,
    "start_time": "2022-04-13T21:24:40.367Z"
   },
   {
    "duration": 107,
    "start_time": "2022-04-13T21:24:40.537Z"
   },
   {
    "duration": 153,
    "start_time": "2022-04-13T21:24:40.705Z"
   },
   {
    "duration": 146,
    "start_time": "2022-04-13T21:24:40.892Z"
   },
   {
    "duration": 14,
    "start_time": "2022-04-13T21:24:41.050Z"
   },
   {
    "duration": 166,
    "start_time": "2022-04-13T21:24:41.241Z"
   },
   {
    "duration": 0,
    "start_time": "2022-04-13T21:24:41.410Z"
   },
   {
    "duration": 31,
    "start_time": "2022-04-13T21:24:41.573Z"
   },
   {
    "duration": 10,
    "start_time": "2022-04-13T21:24:41.742Z"
   },
   {
    "duration": 163,
    "start_time": "2022-04-13T21:24:41.913Z"
   },
   {
    "duration": 22,
    "start_time": "2022-04-13T21:24:42.092Z"
   },
   {
    "duration": 156,
    "start_time": "2022-04-13T21:24:42.263Z"
   },
   {
    "duration": 156,
    "start_time": "2022-04-13T21:24:42.482Z"
   },
   {
    "duration": 0,
    "start_time": "2022-04-13T21:24:42.640Z"
   },
   {
    "duration": 22,
    "start_time": "2022-04-13T21:24:42.833Z"
   },
   {
    "duration": 149,
    "start_time": "2022-04-13T21:24:42.954Z"
   },
   {
    "duration": 11,
    "start_time": "2022-04-13T21:24:43.150Z"
   },
   {
    "duration": 11,
    "start_time": "2022-04-13T21:24:43.320Z"
   },
   {
    "duration": 155,
    "start_time": "2022-04-13T21:24:43.485Z"
   },
   {
    "duration": 14,
    "start_time": "2022-04-13T21:24:43.647Z"
   },
   {
    "duration": 158,
    "start_time": "2022-04-13T21:24:43.922Z"
   },
   {
    "duration": 0,
    "start_time": "2022-04-13T21:24:44.082Z"
   },
   {
    "duration": 166,
    "start_time": "2022-04-13T21:24:44.164Z"
   },
   {
    "duration": 3,
    "start_time": "2022-04-13T21:24:44.368Z"
   },
   {
    "duration": 21,
    "start_time": "2022-04-13T21:24:44.577Z"
   },
   {
    "duration": 13,
    "start_time": "2022-04-13T21:24:44.722Z"
   },
   {
    "duration": 171,
    "start_time": "2022-04-13T21:24:44.966Z"
   },
   {
    "duration": 0,
    "start_time": "2022-04-13T21:24:45.139Z"
   },
   {
    "duration": 147,
    "start_time": "2022-04-13T21:24:45.248Z"
   },
   {
    "duration": 148,
    "start_time": "2022-04-13T21:24:45.466Z"
   },
   {
    "duration": 164,
    "start_time": "2022-04-13T21:24:45.634Z"
   },
   {
    "duration": 2479,
    "start_time": "2022-04-13T21:24:45.801Z"
   },
   {
    "duration": 0,
    "start_time": "2022-04-13T21:24:48.282Z"
   },
   {
    "duration": 0,
    "start_time": "2022-04-13T21:24:48.283Z"
   },
   {
    "duration": 0,
    "start_time": "2022-04-13T21:24:48.284Z"
   },
   {
    "duration": 0,
    "start_time": "2022-04-13T21:24:48.285Z"
   },
   {
    "duration": 0,
    "start_time": "2022-04-13T21:24:48.286Z"
   },
   {
    "duration": 0,
    "start_time": "2022-04-13T21:24:48.287Z"
   },
   {
    "duration": 0,
    "start_time": "2022-04-13T21:24:48.288Z"
   },
   {
    "duration": 0,
    "start_time": "2022-04-13T21:24:48.289Z"
   },
   {
    "duration": 0,
    "start_time": "2022-04-13T21:24:48.290Z"
   },
   {
    "duration": 0,
    "start_time": "2022-04-13T21:24:48.291Z"
   },
   {
    "duration": 0,
    "start_time": "2022-04-13T21:24:48.292Z"
   },
   {
    "duration": 0,
    "start_time": "2022-04-13T21:24:48.293Z"
   },
   {
    "duration": 0,
    "start_time": "2022-04-13T21:24:48.294Z"
   },
   {
    "duration": 160,
    "start_time": "2022-04-13T21:24:48.352Z"
   },
   {
    "duration": 163,
    "start_time": "2022-04-13T21:24:48.515Z"
   },
   {
    "duration": 17,
    "start_time": "2022-04-13T21:24:48.712Z"
   },
   {
    "duration": 170,
    "start_time": "2022-04-13T21:24:48.864Z"
   },
   {
    "duration": 0,
    "start_time": "2022-04-13T21:24:49.035Z"
   },
   {
    "duration": 177,
    "start_time": "2022-04-13T21:24:49.287Z"
   },
   {
    "duration": 9,
    "start_time": "2022-04-13T21:24:49.479Z"
   },
   {
    "duration": 179,
    "start_time": "2022-04-13T21:24:49.637Z"
   },
   {
    "duration": 0,
    "start_time": "2022-04-13T21:24:49.817Z"
   },
   {
    "duration": 161,
    "start_time": "2022-04-13T21:24:49.995Z"
   },
   {
    "duration": 0,
    "start_time": "2022-04-13T21:24:50.157Z"
   },
   {
    "duration": 158,
    "start_time": "2022-04-13T21:24:50.328Z"
   },
   {
    "duration": 165,
    "start_time": "2022-04-13T21:24:50.637Z"
   },
   {
    "duration": 0,
    "start_time": "2022-04-13T21:24:50.804Z"
   },
   {
    "duration": 159,
    "start_time": "2022-04-13T21:24:50.980Z"
   },
   {
    "duration": 9,
    "start_time": "2022-04-13T21:24:51.148Z"
   },
   {
    "duration": 338,
    "start_time": "2022-04-13T21:24:51.330Z"
   },
   {
    "duration": 0,
    "start_time": "2022-04-13T21:24:51.669Z"
   },
   {
    "duration": 155,
    "start_time": "2022-04-13T21:24:51.680Z"
   },
   {
    "duration": 0,
    "start_time": "2022-04-13T21:24:51.838Z"
   },
   {
    "duration": 10,
    "start_time": "2022-04-13T21:24:52.025Z"
   },
   {
    "duration": 165,
    "start_time": "2022-04-13T21:24:52.200Z"
   },
   {
    "duration": 8,
    "start_time": "2022-04-13T21:24:52.384Z"
   },
   {
    "duration": 254,
    "start_time": "2022-04-13T21:24:52.555Z"
   },
   {
    "duration": 0,
    "start_time": "2022-04-13T21:24:52.811Z"
   },
   {
    "duration": 6,
    "start_time": "2022-04-13T21:24:52.911Z"
   },
   {
    "duration": 179,
    "start_time": "2022-04-13T21:24:53.082Z"
   },
   {
    "duration": 172,
    "start_time": "2022-04-13T21:24:53.268Z"
   },
   {
    "duration": 161,
    "start_time": "2022-04-13T21:24:53.459Z"
   },
   {
    "duration": 187,
    "start_time": "2022-04-13T21:24:53.644Z"
   },
   {
    "duration": 0,
    "start_time": "2022-04-13T21:24:53.834Z"
   },
   {
    "duration": 10,
    "start_time": "2022-04-13T21:27:02.728Z"
   },
   {
    "duration": 14,
    "start_time": "2022-04-13T21:27:13.728Z"
   },
   {
    "duration": 337,
    "start_time": "2022-04-13T21:27:18.682Z"
   },
   {
    "duration": 16,
    "start_time": "2022-04-13T21:27:33.508Z"
   },
   {
    "duration": 5,
    "start_time": "2022-04-13T21:28:04.858Z"
   },
   {
    "duration": 18,
    "start_time": "2022-04-13T21:28:06.900Z"
   },
   {
    "duration": 152,
    "start_time": "2022-04-13T21:28:08.407Z"
   },
   {
    "duration": 3,
    "start_time": "2022-04-13T21:28:08.929Z"
   },
   {
    "duration": 2,
    "start_time": "2022-04-13T21:28:19.513Z"
   },
   {
    "duration": 13,
    "start_time": "2022-04-13T21:28:28.501Z"
   },
   {
    "duration": 315,
    "start_time": "2022-04-13T21:28:30.366Z"
   },
   {
    "duration": 13,
    "start_time": "2022-04-13T21:28:33.530Z"
   },
   {
    "duration": 3,
    "start_time": "2022-04-13T21:28:40.063Z"
   },
   {
    "duration": 28,
    "start_time": "2022-04-13T21:28:40.909Z"
   },
   {
    "duration": 203,
    "start_time": "2022-04-13T21:28:44.037Z"
   },
   {
    "duration": 20,
    "start_time": "2022-04-13T21:28:49.597Z"
   },
   {
    "duration": 152,
    "start_time": "2022-04-13T21:28:55.035Z"
   },
   {
    "duration": 23,
    "start_time": "2022-04-13T21:29:03.955Z"
   },
   {
    "duration": 13,
    "start_time": "2022-04-13T21:29:09.561Z"
   },
   {
    "duration": 5,
    "start_time": "2022-04-13T21:29:12.592Z"
   },
   {
    "duration": 315,
    "start_time": "2022-04-13T21:29:18.000Z"
   },
   {
    "duration": 172,
    "start_time": "2022-04-13T21:29:22.159Z"
   },
   {
    "duration": 21,
    "start_time": "2022-04-13T21:29:31.390Z"
   },
   {
    "duration": 3,
    "start_time": "2022-04-13T21:29:37.955Z"
   },
   {
    "duration": 23,
    "start_time": "2022-04-13T21:29:39.771Z"
   },
   {
    "duration": 14,
    "start_time": "2022-04-13T21:29:43.318Z"
   },
   {
    "duration": 282,
    "start_time": "2022-04-13T21:29:49.913Z"
   },
   {
    "duration": 671,
    "start_time": "2022-04-13T21:30:06.550Z"
   },
   {
    "duration": 539,
    "start_time": "2022-04-13T21:30:20.598Z"
   },
   {
    "duration": 4,
    "start_time": "2022-04-13T21:31:54.544Z"
   },
   {
    "duration": 578,
    "start_time": "2022-04-13T21:32:07.418Z"
   },
   {
    "duration": 525,
    "start_time": "2022-04-13T21:32:31.024Z"
   },
   {
    "duration": 541,
    "start_time": "2022-04-13T21:33:14.631Z"
   },
   {
    "duration": 11,
    "start_time": "2022-04-13T21:33:56.161Z"
   },
   {
    "duration": 8,
    "start_time": "2022-04-13T21:35:01.324Z"
   },
   {
    "duration": 13,
    "start_time": "2022-04-13T21:35:02.547Z"
   },
   {
    "duration": 7,
    "start_time": "2022-04-13T21:35:04.042Z"
   },
   {
    "duration": 15,
    "start_time": "2022-04-13T21:35:08.069Z"
   },
   {
    "duration": 8,
    "start_time": "2022-04-13T21:35:12.352Z"
   },
   {
    "duration": 14,
    "start_time": "2022-04-13T21:35:14.972Z"
   },
   {
    "duration": 13,
    "start_time": "2022-04-13T21:35:49.691Z"
   },
   {
    "duration": 13,
    "start_time": "2022-04-13T21:36:04.462Z"
   },
   {
    "duration": 13,
    "start_time": "2022-04-13T21:36:15.797Z"
   },
   {
    "duration": 9,
    "start_time": "2022-04-13T21:36:50.058Z"
   },
   {
    "duration": 10,
    "start_time": "2022-04-13T21:37:00.910Z"
   },
   {
    "duration": 17,
    "start_time": "2022-04-13T21:37:08.913Z"
   },
   {
    "duration": 14,
    "start_time": "2022-04-13T21:37:25.106Z"
   },
   {
    "duration": 87,
    "start_time": "2022-04-13T21:37:35.310Z"
   },
   {
    "duration": 42,
    "start_time": "2022-04-13T21:37:48.914Z"
   },
   {
    "duration": 515,
    "start_time": "2022-04-13T21:38:49.048Z"
   },
   {
    "duration": 511,
    "start_time": "2022-04-13T21:39:06.294Z"
   },
   {
    "duration": 12,
    "start_time": "2022-04-13T21:39:10.385Z"
   },
   {
    "duration": 13,
    "start_time": "2022-04-13T21:39:17.997Z"
   },
   {
    "duration": 34,
    "start_time": "2022-04-13T21:39:18.250Z"
   },
   {
    "duration": 3,
    "start_time": "2022-04-13T21:39:18.723Z"
   },
   {
    "duration": 5,
    "start_time": "2022-04-13T21:39:19.231Z"
   },
   {
    "duration": 4,
    "start_time": "2022-04-13T21:39:19.392Z"
   },
   {
    "duration": 4,
    "start_time": "2022-04-13T21:39:19.519Z"
   },
   {
    "duration": 10,
    "start_time": "2022-04-13T21:39:19.889Z"
   },
   {
    "duration": 14,
    "start_time": "2022-04-13T21:39:19.997Z"
   },
   {
    "duration": 20,
    "start_time": "2022-04-13T21:39:20.504Z"
   },
   {
    "duration": 5,
    "start_time": "2022-04-13T21:39:22.510Z"
   },
   {
    "duration": 619,
    "start_time": "2022-04-13T21:39:22.902Z"
   },
   {
    "duration": 0,
    "start_time": "2022-04-13T21:39:23.523Z"
   },
   {
    "duration": 4,
    "start_time": "2022-04-13T21:39:23.887Z"
   },
   {
    "duration": 14,
    "start_time": "2022-04-13T21:39:24.146Z"
   },
   {
    "duration": 6,
    "start_time": "2022-04-13T21:39:24.357Z"
   },
   {
    "duration": 173,
    "start_time": "2022-04-13T21:39:24.547Z"
   },
   {
    "duration": 9,
    "start_time": "2022-04-13T21:39:42.975Z"
   },
   {
    "duration": 3,
    "start_time": "2022-04-13T21:39:59.595Z"
   },
   {
    "duration": 53,
    "start_time": "2022-04-13T21:39:59.819Z"
   },
   {
    "duration": 18,
    "start_time": "2022-04-13T21:40:00.611Z"
   },
   {
    "duration": 26,
    "start_time": "2022-04-13T21:40:00.850Z"
   },
   {
    "duration": 3,
    "start_time": "2022-04-13T21:40:01.401Z"
   },
   {
    "duration": 5,
    "start_time": "2022-04-13T21:40:01.726Z"
   },
   {
    "duration": 5,
    "start_time": "2022-04-13T21:40:01.907Z"
   },
   {
    "duration": 5,
    "start_time": "2022-04-13T21:40:02.121Z"
   },
   {
    "duration": 9,
    "start_time": "2022-04-13T21:40:02.447Z"
   },
   {
    "duration": 12,
    "start_time": "2022-04-13T21:40:02.648Z"
   },
   {
    "duration": 19,
    "start_time": "2022-04-13T21:40:03.036Z"
   },
   {
    "duration": 7,
    "start_time": "2022-04-13T21:40:03.433Z"
   },
   {
    "duration": 21,
    "start_time": "2022-04-13T21:40:03.770Z"
   },
   {
    "duration": 9,
    "start_time": "2022-04-13T21:40:04.218Z"
   },
   {
    "duration": 5,
    "start_time": "2022-04-13T21:40:04.880Z"
   },
   {
    "duration": 18,
    "start_time": "2022-04-13T21:40:05.027Z"
   },
   {
    "duration": 7,
    "start_time": "2022-04-13T21:40:05.256Z"
   },
   {
    "duration": 264,
    "start_time": "2022-04-13T21:40:05.402Z"
   },
   {
    "duration": 0,
    "start_time": "2022-04-13T21:40:05.668Z"
   },
   {
    "duration": 15,
    "start_time": "2022-04-13T21:40:06.595Z"
   },
   {
    "duration": 100,
    "start_time": "2022-04-13T21:40:13.468Z"
   },
   {
    "duration": 15,
    "start_time": "2022-04-13T21:40:20.462Z"
   },
   {
    "duration": 19,
    "start_time": "2022-04-13T21:40:22.216Z"
   },
   {
    "duration": 8,
    "start_time": "2022-04-13T21:40:23.581Z"
   },
   {
    "duration": 8,
    "start_time": "2022-04-13T21:40:24.502Z"
   },
   {
    "duration": 6,
    "start_time": "2022-04-13T21:40:25.410Z"
   },
   {
    "duration": 7,
    "start_time": "2022-04-13T21:40:26.318Z"
   },
   {
    "duration": 5,
    "start_time": "2022-04-13T21:40:27.600Z"
   },
   {
    "duration": 16,
    "start_time": "2022-04-13T21:40:28.074Z"
   },
   {
    "duration": 15,
    "start_time": "2022-04-13T21:40:29.928Z"
   },
   {
    "duration": 299,
    "start_time": "2022-04-13T21:40:31.266Z"
   },
   {
    "duration": 11,
    "start_time": "2022-04-13T21:40:33.210Z"
   },
   {
    "duration": 3,
    "start_time": "2022-04-13T21:40:34.142Z"
   },
   {
    "duration": 25,
    "start_time": "2022-04-13T21:40:34.667Z"
   },
   {
    "duration": 196,
    "start_time": "2022-04-13T21:40:35.161Z"
   },
   {
    "duration": 20,
    "start_time": "2022-04-13T21:40:36.554Z"
   },
   {
    "duration": 22,
    "start_time": "2022-04-13T21:40:39.236Z"
   },
   {
    "duration": 14,
    "start_time": "2022-04-13T21:40:40.746Z"
   },
   {
    "duration": 6,
    "start_time": "2022-04-13T21:40:41.610Z"
   },
   {
    "duration": 265,
    "start_time": "2022-04-13T21:40:42.874Z"
   },
   {
    "duration": 22,
    "start_time": "2022-04-13T21:40:44.224Z"
   },
   {
    "duration": 3,
    "start_time": "2022-04-13T21:40:45.681Z"
   },
   {
    "duration": 29,
    "start_time": "2022-04-13T21:40:46.509Z"
   },
   {
    "duration": 11,
    "start_time": "2022-04-13T21:40:47.249Z"
   },
   {
    "duration": 303,
    "start_time": "2022-04-13T21:40:48.698Z"
   },
   {
    "duration": 21,
    "start_time": "2022-04-13T21:40:51.545Z"
   },
   {
    "duration": 11,
    "start_time": "2022-04-13T21:40:58.503Z"
   },
   {
    "duration": 162,
    "start_time": "2022-04-13T21:40:59.152Z"
   },
   {
    "duration": 129,
    "start_time": "2022-04-13T21:41:03.771Z"
   },
   {
    "duration": 127,
    "start_time": "2022-04-13T21:41:04.311Z"
   },
   {
    "duration": 163,
    "start_time": "2022-04-13T21:41:05.175Z"
   },
   {
    "duration": 161,
    "start_time": "2022-04-13T21:41:05.748Z"
   },
   {
    "duration": 193,
    "start_time": "2022-04-13T21:41:21.866Z"
   },
   {
    "duration": 153,
    "start_time": "2022-04-13T21:41:22.423Z"
   },
   {
    "duration": 189,
    "start_time": "2022-04-13T21:41:23.284Z"
   },
   {
    "duration": 179,
    "start_time": "2022-04-13T21:41:27.828Z"
   },
   {
    "duration": 179,
    "start_time": "2022-04-13T21:41:28.746Z"
   },
   {
    "duration": 158,
    "start_time": "2022-04-13T21:41:33.511Z"
   },
   {
    "duration": 163,
    "start_time": "2022-04-13T21:41:37.979Z"
   },
   {
    "duration": 16,
    "start_time": "2022-04-13T21:41:38.596Z"
   },
   {
    "duration": 17,
    "start_time": "2022-04-13T21:41:42.352Z"
   },
   {
    "duration": 143,
    "start_time": "2022-04-13T21:41:43.030Z"
   },
   {
    "duration": 16,
    "start_time": "2022-04-13T21:41:50.359Z"
   },
   {
    "duration": 168,
    "start_time": "2022-04-13T21:41:51.091Z"
   },
   {
    "duration": 307,
    "start_time": "2022-04-13T21:41:57.546Z"
   },
   {
    "duration": 402,
    "start_time": "2022-04-13T21:42:03.657Z"
   },
   {
    "duration": 161,
    "start_time": "2022-04-13T21:42:04.495Z"
   },
   {
    "duration": 15,
    "start_time": "2022-04-13T21:42:14.452Z"
   },
   {
    "duration": 168,
    "start_time": "2022-04-13T21:42:15.246Z"
   },
   {
    "duration": 151,
    "start_time": "2022-04-13T21:42:16.003Z"
   },
   {
    "duration": 5,
    "start_time": "2022-04-13T21:42:29.910Z"
   },
   {
    "duration": 5,
    "start_time": "2022-04-13T21:42:36.170Z"
   },
   {
    "duration": 4,
    "start_time": "2022-04-13T21:42:41.036Z"
   },
   {
    "duration": 7,
    "start_time": "2022-04-13T21:42:41.824Z"
   },
   {
    "duration": 4,
    "start_time": "2022-04-13T21:42:46.552Z"
   },
   {
    "duration": 165,
    "start_time": "2022-04-13T21:42:52.840Z"
   },
   {
    "duration": 7,
    "start_time": "2022-04-13T21:42:58.526Z"
   },
   {
    "duration": 5,
    "start_time": "2022-04-13T21:43:02.419Z"
   },
   {
    "duration": 5,
    "start_time": "2022-04-13T21:43:06.006Z"
   },
   {
    "duration": 5,
    "start_time": "2022-04-13T21:43:11.592Z"
   },
   {
    "duration": 1801,
    "start_time": "2022-04-14T19:37:03.859Z"
   },
   {
    "duration": 85,
    "start_time": "2022-04-14T19:37:05.663Z"
   },
   {
    "duration": 20,
    "start_time": "2022-04-14T19:37:11.906Z"
   },
   {
    "duration": 40,
    "start_time": "2022-04-14T19:37:15.590Z"
   },
   {
    "duration": 70,
    "start_time": "2022-04-14T19:41:30.008Z"
   },
   {
    "duration": 19,
    "start_time": "2022-04-14T19:41:30.709Z"
   },
   {
    "duration": 38,
    "start_time": "2022-04-14T19:41:31.413Z"
   },
   {
    "duration": 4,
    "start_time": "2022-04-14T19:41:32.714Z"
   },
   {
    "duration": 7,
    "start_time": "2022-04-14T19:42:16.126Z"
   },
   {
    "duration": 8,
    "start_time": "2022-04-14T19:42:16.960Z"
   },
   {
    "duration": 6,
    "start_time": "2022-04-14T19:42:17.574Z"
   },
   {
    "duration": 12,
    "start_time": "2022-04-14T19:42:18.495Z"
   },
   {
    "duration": 20,
    "start_time": "2022-04-14T19:42:19.267Z"
   },
   {
    "duration": 33,
    "start_time": "2022-04-14T19:42:21.095Z"
   },
   {
    "duration": 9,
    "start_time": "2022-04-14T19:42:44.763Z"
   },
   {
    "duration": 32,
    "start_time": "2022-04-14T19:42:48.506Z"
   },
   {
    "duration": 10,
    "start_time": "2022-04-14T19:42:51.150Z"
   },
   {
    "duration": 7,
    "start_time": "2022-04-14T19:42:52.624Z"
   },
   {
    "duration": 19,
    "start_time": "2022-04-14T19:42:53.924Z"
   },
   {
    "duration": 10,
    "start_time": "2022-04-14T19:42:54.801Z"
   },
   {
    "duration": 187,
    "start_time": "2022-04-14T19:42:57.124Z"
   },
   {
    "duration": 20,
    "start_time": "2022-04-14T19:44:48.399Z"
   },
   {
    "duration": 21,
    "start_time": "2022-04-14T19:45:28.245Z"
   },
   {
    "duration": 7,
    "start_time": "2022-04-14T19:47:07.208Z"
   },
   {
    "duration": 6,
    "start_time": "2022-04-14T19:47:07.975Z"
   },
   {
    "duration": 12,
    "start_time": "2022-04-14T19:47:11.977Z"
   },
   {
    "duration": 18,
    "start_time": "2022-04-14T19:47:15.047Z"
   },
   {
    "duration": 29,
    "start_time": "2022-04-14T19:47:32.151Z"
   },
   {
    "duration": 18,
    "start_time": "2022-04-14T19:47:41.504Z"
   },
   {
    "duration": 75,
    "start_time": "2022-04-14T19:47:53.830Z"
   },
   {
    "duration": 20,
    "start_time": "2022-04-14T19:47:54.674Z"
   },
   {
    "duration": 39,
    "start_time": "2022-04-14T19:47:55.437Z"
   },
   {
    "duration": 6,
    "start_time": "2022-04-14T19:47:58.490Z"
   },
   {
    "duration": 7,
    "start_time": "2022-04-14T19:47:59.703Z"
   },
   {
    "duration": 7,
    "start_time": "2022-04-14T19:48:00.289Z"
   },
   {
    "duration": 13,
    "start_time": "2022-04-14T19:48:01.576Z"
   },
   {
    "duration": 23,
    "start_time": "2022-04-14T19:48:04.448Z"
   },
   {
    "duration": 27,
    "start_time": "2022-04-14T19:48:06.578Z"
   },
   {
    "duration": 29,
    "start_time": "2022-04-14T19:48:26.219Z"
   },
   {
    "duration": 21,
    "start_time": "2022-04-14T19:49:12.355Z"
   },
   {
    "duration": 28,
    "start_time": "2022-04-14T19:49:16.320Z"
   },
   {
    "duration": 17,
    "start_time": "2022-04-14T19:49:24.621Z"
   },
   {
    "duration": 4,
    "start_time": "2022-04-14T19:49:35.482Z"
   },
   {
    "duration": 73,
    "start_time": "2022-04-14T19:49:36.087Z"
   },
   {
    "duration": 19,
    "start_time": "2022-04-14T19:49:36.600Z"
   },
   {
    "duration": 40,
    "start_time": "2022-04-14T19:49:37.381Z"
   },
   {
    "duration": 7,
    "start_time": "2022-04-14T19:49:39.485Z"
   },
   {
    "duration": 7,
    "start_time": "2022-04-14T19:49:40.001Z"
   },
   {
    "duration": 6,
    "start_time": "2022-04-14T19:49:40.459Z"
   },
   {
    "duration": 13,
    "start_time": "2022-04-14T19:49:41.475Z"
   },
   {
    "duration": 22,
    "start_time": "2022-04-14T19:49:42.410Z"
   },
   {
    "duration": 28,
    "start_time": "2022-04-14T19:49:43.870Z"
   },
   {
    "duration": 20,
    "start_time": "2022-04-14T19:49:46.429Z"
   },
   {
    "duration": 10,
    "start_time": "2022-04-14T19:49:47.402Z"
   },
   {
    "duration": 9,
    "start_time": "2022-04-14T19:50:31.588Z"
   },
   {
    "duration": 45,
    "start_time": "2022-04-14T19:50:32.745Z"
   },
   {
    "duration": 11,
    "start_time": "2022-04-14T19:50:48.606Z"
   },
   {
    "duration": 7,
    "start_time": "2022-04-14T19:50:55.635Z"
   },
   {
    "duration": 20,
    "start_time": "2022-04-14T19:50:56.429Z"
   },
   {
    "duration": 11,
    "start_time": "2022-04-14T19:51:02.832Z"
   },
   {
    "duration": 7,
    "start_time": "2022-04-14T19:52:02.481Z"
   },
   {
    "duration": 22,
    "start_time": "2022-04-14T19:52:04.154Z"
   },
   {
    "duration": 18,
    "start_time": "2022-04-14T19:52:05.822Z"
   },
   {
    "duration": 10,
    "start_time": "2022-04-14T19:52:08.019Z"
   },
   {
    "duration": 149,
    "start_time": "2022-04-14T19:52:24.405Z"
   },
   {
    "duration": 51,
    "start_time": "2022-04-14T19:53:47.360Z"
   },
   {
    "duration": 52,
    "start_time": "2022-04-14T19:53:50.559Z"
   },
   {
    "duration": 12,
    "start_time": "2022-04-14T19:53:55.928Z"
   },
   {
    "duration": 50,
    "start_time": "2022-04-14T19:53:57.504Z"
   },
   {
    "duration": 19,
    "start_time": "2022-04-14T19:54:17.349Z"
   },
   {
    "duration": 13,
    "start_time": "2022-04-14T19:54:52.825Z"
   },
   {
    "duration": 17,
    "start_time": "2022-04-14T19:54:59.746Z"
   },
   {
    "duration": 17,
    "start_time": "2022-04-14T19:55:23.196Z"
   },
   {
    "duration": 23,
    "start_time": "2022-04-14T19:55:35.670Z"
   },
   {
    "duration": 21,
    "start_time": "2022-04-14T19:55:52.790Z"
   },
   {
    "duration": 31,
    "start_time": "2022-04-14T19:55:54.040Z"
   },
   {
    "duration": 12,
    "start_time": "2022-04-14T19:55:55.528Z"
   },
   {
    "duration": 15,
    "start_time": "2022-04-14T19:55:56.977Z"
   },
   {
    "duration": 11,
    "start_time": "2022-04-14T19:55:58.106Z"
   },
   {
    "duration": 12,
    "start_time": "2022-04-14T19:55:59.369Z"
   },
   {
    "duration": 7,
    "start_time": "2022-04-14T19:56:01.391Z"
   },
   {
    "duration": 26,
    "start_time": "2022-04-14T19:56:01.962Z"
   },
   {
    "duration": 7,
    "start_time": "2022-04-14T19:56:46.398Z"
   },
   {
    "duration": 5,
    "start_time": "2022-04-14T19:56:46.768Z"
   },
   {
    "duration": 6,
    "start_time": "2022-04-14T19:56:47.184Z"
   },
   {
    "duration": 14,
    "start_time": "2022-04-14T19:56:47.569Z"
   },
   {
    "duration": 19,
    "start_time": "2022-04-14T19:56:47.762Z"
   },
   {
    "duration": 39,
    "start_time": "2022-04-14T19:56:48.120Z"
   },
   {
    "duration": 27,
    "start_time": "2022-04-14T19:56:49.806Z"
   },
   {
    "duration": 12,
    "start_time": "2022-04-14T19:56:50.947Z"
   },
   {
    "duration": 13,
    "start_time": "2022-04-14T19:56:53.032Z"
   },
   {
    "duration": 7,
    "start_time": "2022-04-14T19:56:53.710Z"
   },
   {
    "duration": 6,
    "start_time": "2022-04-14T19:56:54.250Z"
   },
   {
    "duration": 19,
    "start_time": "2022-04-14T19:56:54.421Z"
   },
   {
    "duration": 9,
    "start_time": "2022-04-14T19:56:54.738Z"
   },
   {
    "duration": 26,
    "start_time": "2022-04-14T19:56:55.144Z"
   },
   {
    "duration": 21,
    "start_time": "2022-04-14T19:56:55.662Z"
   },
   {
    "duration": 17,
    "start_time": "2022-04-14T19:56:56.381Z"
   },
   {
    "duration": 10,
    "start_time": "2022-04-14T19:56:56.710Z"
   },
   {
    "duration": 10,
    "start_time": "2022-04-14T19:56:57.097Z"
   },
   {
    "duration": 9,
    "start_time": "2022-04-14T19:56:58.775Z"
   },
   {
    "duration": 9,
    "start_time": "2022-04-14T19:57:00.099Z"
   },
   {
    "duration": 6,
    "start_time": "2022-04-14T19:57:02.244Z"
   },
   {
    "duration": 25,
    "start_time": "2022-04-14T19:57:02.722Z"
   },
   {
    "duration": 16,
    "start_time": "2022-04-14T19:57:55.402Z"
   },
   {
    "duration": 625,
    "start_time": "2022-04-14T19:57:58.202Z"
   },
   {
    "duration": 26,
    "start_time": "2022-04-14T19:58:02.909Z"
   },
   {
    "duration": 5,
    "start_time": "2022-04-14T19:58:04.640Z"
   },
   {
    "duration": 38,
    "start_time": "2022-04-14T19:58:05.385Z"
   },
   {
    "duration": 362,
    "start_time": "2022-04-14T19:58:07.026Z"
   },
   {
    "duration": 31,
    "start_time": "2022-04-14T19:58:13.041Z"
   },
   {
    "duration": 37,
    "start_time": "2022-04-14T19:58:16.916Z"
   },
   {
    "duration": 22,
    "start_time": "2022-04-14T19:58:19.199Z"
   },
   {
    "duration": 8,
    "start_time": "2022-04-14T19:58:21.038Z"
   },
   {
    "duration": 497,
    "start_time": "2022-04-14T19:58:29.492Z"
   },
   {
    "duration": 29,
    "start_time": "2022-04-14T19:58:35.663Z"
   },
   {
    "duration": 4,
    "start_time": "2022-04-14T19:58:45.252Z"
   },
   {
    "duration": 38,
    "start_time": "2022-04-14T19:58:45.916Z"
   },
   {
    "duration": 17,
    "start_time": "2022-04-14T19:58:47.790Z"
   },
   {
    "duration": 532,
    "start_time": "2022-04-14T19:58:55.183Z"
   },
   {
    "duration": 30,
    "start_time": "2022-04-14T20:00:03.751Z"
   },
   {
    "duration": 16,
    "start_time": "2022-04-14T20:00:09.338Z"
   },
   {
    "duration": 215,
    "start_time": "2022-04-14T20:00:32.104Z"
   },
   {
    "duration": 209,
    "start_time": "2022-04-14T20:00:35.399Z"
   },
   {
    "duration": 412,
    "start_time": "2022-04-14T20:00:48.795Z"
   },
   {
    "duration": 323,
    "start_time": "2022-04-14T20:00:51.620Z"
   },
   {
    "duration": 25,
    "start_time": "2022-04-14T20:01:01.237Z"
   },
   {
    "duration": 25,
    "start_time": "2022-04-14T20:01:03.946Z"
   },
   {
    "duration": 364,
    "start_time": "2022-04-14T20:01:05.674Z"
   },
   {
    "duration": 674,
    "start_time": "2022-04-14T20:01:07.478Z"
   },
   {
    "duration": 712,
    "start_time": "2022-04-14T20:01:09.352Z"
   },
   {
    "duration": 23,
    "start_time": "2022-04-14T20:01:11.105Z"
   },
   {
    "duration": 23,
    "start_time": "2022-04-14T20:03:34.624Z"
   },
   {
    "duration": 24,
    "start_time": "2022-04-14T20:03:35.332Z"
   },
   {
    "duration": 356,
    "start_time": "2022-04-14T20:03:35.800Z"
   },
   {
    "duration": 695,
    "start_time": "2022-04-14T20:03:36.158Z"
   },
   {
    "duration": 843,
    "start_time": "2022-04-14T20:03:36.857Z"
   },
   {
    "duration": 32,
    "start_time": "2022-04-14T20:03:37.704Z"
   },
   {
    "duration": 9,
    "start_time": "2022-04-14T20:05:14.184Z"
   },
   {
    "duration": 8,
    "start_time": "2022-04-14T20:05:35.135Z"
   },
   {
    "duration": 7,
    "start_time": "2022-04-14T20:05:36.539Z"
   },
   {
    "duration": 6,
    "start_time": "2022-04-14T20:05:37.330Z"
   },
   {
    "duration": 6,
    "start_time": "2022-04-14T20:05:39.858Z"
   },
   {
    "duration": 9,
    "start_time": "2022-04-14T20:05:55.253Z"
   },
   {
    "duration": 7,
    "start_time": "2022-04-14T20:05:56.573Z"
   },
   {
    "duration": 6,
    "start_time": "2022-04-14T20:05:57.626Z"
   },
   {
    "duration": 7,
    "start_time": "2022-04-14T20:06:10.681Z"
   },
   {
    "duration": 1400,
    "start_time": "2022-04-24T08:57:18.894Z"
   },
   {
    "duration": 63,
    "start_time": "2022-04-24T08:57:20.297Z"
   },
   {
    "duration": 16,
    "start_time": "2022-04-24T08:57:20.361Z"
   },
   {
    "duration": 40,
    "start_time": "2022-04-24T08:57:20.379Z"
   },
   {
    "duration": 4,
    "start_time": "2022-04-24T08:57:20.421Z"
   },
   {
    "duration": 27,
    "start_time": "2022-04-24T08:57:20.427Z"
   },
   {
    "duration": 19,
    "start_time": "2022-04-24T08:57:20.455Z"
   },
   {
    "duration": 32,
    "start_time": "2022-04-24T08:57:20.475Z"
   },
   {
    "duration": 14,
    "start_time": "2022-04-24T08:57:20.509Z"
   },
   {
    "duration": 21,
    "start_time": "2022-04-24T08:57:20.526Z"
   },
   {
    "duration": 14,
    "start_time": "2022-04-24T08:57:20.548Z"
   },
   {
    "duration": 7,
    "start_time": "2022-04-24T08:57:20.563Z"
   },
   {
    "duration": 21,
    "start_time": "2022-04-24T08:57:20.593Z"
   },
   {
    "duration": 24,
    "start_time": "2022-04-24T08:57:20.615Z"
   },
   {
    "duration": 22,
    "start_time": "2022-04-24T08:57:20.640Z"
   },
   {
    "duration": 34,
    "start_time": "2022-04-24T08:57:20.663Z"
   },
   {
    "duration": 20,
    "start_time": "2022-04-24T08:57:20.699Z"
   },
   {
    "duration": 33,
    "start_time": "2022-04-24T08:57:20.721Z"
   },
   {
    "duration": 18,
    "start_time": "2022-04-24T08:57:20.756Z"
   },
   {
    "duration": 15,
    "start_time": "2022-04-24T08:57:20.776Z"
   },
   {
    "duration": 23,
    "start_time": "2022-04-24T08:57:20.793Z"
   },
   {
    "duration": 14,
    "start_time": "2022-04-24T08:57:20.817Z"
   },
   {
    "duration": 23,
    "start_time": "2022-04-24T08:57:20.833Z"
   },
   {
    "duration": 23,
    "start_time": "2022-04-24T08:57:20.858Z"
   },
   {
    "duration": 15,
    "start_time": "2022-04-24T08:57:20.883Z"
   },
   {
    "duration": 17,
    "start_time": "2022-04-24T08:57:20.900Z"
   },
   {
    "duration": 22,
    "start_time": "2022-04-24T08:57:20.919Z"
   },
   {
    "duration": 330,
    "start_time": "2022-04-24T08:57:20.945Z"
   },
   {
    "duration": 17,
    "start_time": "2022-04-24T08:57:21.277Z"
   },
   {
    "duration": 12,
    "start_time": "2022-04-24T08:57:21.296Z"
   },
   {
    "duration": 43,
    "start_time": "2022-04-24T08:57:21.310Z"
   },
   {
    "duration": 212,
    "start_time": "2022-04-24T08:57:21.356Z"
   },
   {
    "duration": 36,
    "start_time": "2022-04-24T08:57:21.571Z"
   },
   {
    "duration": 25,
    "start_time": "2022-04-24T08:57:21.609Z"
   },
   {
    "duration": 15,
    "start_time": "2022-04-24T08:57:21.636Z"
   },
   {
    "duration": 39,
    "start_time": "2022-04-24T08:57:21.654Z"
   },
   {
    "duration": 338,
    "start_time": "2022-04-24T08:57:21.695Z"
   },
   {
    "duration": 20,
    "start_time": "2022-04-24T08:57:22.035Z"
   },
   {
    "duration": 9,
    "start_time": "2022-04-24T08:57:22.057Z"
   },
   {
    "duration": 37,
    "start_time": "2022-04-24T08:57:22.067Z"
   },
   {
    "duration": 23,
    "start_time": "2022-04-24T08:57:22.106Z"
   },
   {
    "duration": 313,
    "start_time": "2022-04-24T08:57:22.131Z"
   },
   {
    "duration": 24,
    "start_time": "2022-04-24T08:57:22.446Z"
   },
   {
    "duration": 153,
    "start_time": "2022-04-24T08:57:22.471Z"
   },
   {
    "duration": 148,
    "start_time": "2022-04-24T08:57:22.626Z"
   },
   {
    "duration": 290,
    "start_time": "2022-04-24T08:57:22.775Z"
   },
   {
    "duration": 204,
    "start_time": "2022-04-24T08:57:23.067Z"
   },
   {
    "duration": 27,
    "start_time": "2022-04-24T08:57:23.273Z"
   },
   {
    "duration": 18,
    "start_time": "2022-04-24T08:57:23.302Z"
   },
   {
    "duration": 228,
    "start_time": "2022-04-24T08:57:23.322Z"
   },
   {
    "duration": 408,
    "start_time": "2022-04-24T08:57:23.551Z"
   },
   {
    "duration": 434,
    "start_time": "2022-04-24T08:57:23.961Z"
   },
   {
    "duration": 17,
    "start_time": "2022-04-24T08:57:24.397Z"
   },
   {
    "duration": 5,
    "start_time": "2022-04-24T08:57:24.416Z"
   },
   {
    "duration": 6,
    "start_time": "2022-04-24T08:57:24.423Z"
   },
   {
    "duration": 6,
    "start_time": "2022-04-24T08:57:24.430Z"
   },
   {
    "duration": 6,
    "start_time": "2022-04-24T08:57:24.438Z"
   },
   {
    "duration": 49,
    "start_time": "2022-04-24T08:57:24.445Z"
   },
   {
    "duration": 5,
    "start_time": "2022-04-24T08:57:24.496Z"
   },
   {
    "duration": 6,
    "start_time": "2022-04-24T08:57:24.503Z"
   },
   {
    "duration": 7,
    "start_time": "2022-04-24T08:57:24.511Z"
   },
   {
    "duration": 5,
    "start_time": "2022-04-24T09:12:54.124Z"
   },
   {
    "duration": 180,
    "start_time": "2022-04-24T09:12:59.952Z"
   },
   {
    "duration": 177,
    "start_time": "2022-04-24T09:14:01.554Z"
   },
   {
    "duration": 145,
    "start_time": "2022-04-24T09:22:00.914Z"
   },
   {
    "duration": 6,
    "start_time": "2022-04-24T09:38:24.442Z"
   },
   {
    "duration": 145,
    "start_time": "2022-04-24T09:40:49.316Z"
   },
   {
    "duration": 2013,
    "start_time": "2022-04-30T18:44:13.715Z"
   },
   {
    "duration": 92,
    "start_time": "2022-04-30T18:44:15.732Z"
   },
   {
    "duration": 64,
    "start_time": "2022-04-30T18:44:31.650Z"
   },
   {
    "duration": 64,
    "start_time": "2022-04-30T18:44:53.964Z"
   },
   {
    "duration": 23,
    "start_time": "2022-04-30T18:48:18.370Z"
   },
   {
    "duration": 50,
    "start_time": "2022-04-30T18:48:19.043Z"
   },
   {
    "duration": 9,
    "start_time": "2022-04-30T18:48:21.604Z"
   },
   {
    "duration": 9,
    "start_time": "2022-04-30T18:48:22.843Z"
   },
   {
    "duration": 6,
    "start_time": "2022-04-30T18:48:24.553Z"
   },
   {
    "duration": 14,
    "start_time": "2022-04-30T18:48:25.902Z"
   },
   {
    "duration": 19,
    "start_time": "2022-04-30T18:48:26.673Z"
   },
   {
    "duration": 32,
    "start_time": "2022-04-30T18:48:39.784Z"
   },
   {
    "duration": 6,
    "start_time": "2022-04-30T18:49:08.375Z"
   },
   {
    "duration": 28,
    "start_time": "2022-04-30T18:49:18.062Z"
   },
   {
    "duration": 5,
    "start_time": "2022-04-30T18:49:30.418Z"
   },
   {
    "duration": 30,
    "start_time": "2022-04-30T18:49:43.080Z"
   },
   {
    "duration": 15,
    "start_time": "2022-04-30T18:49:47.939Z"
   },
   {
    "duration": 5,
    "start_time": "2022-04-30T18:50:40.419Z"
   },
   {
    "duration": 8,
    "start_time": "2022-04-30T18:50:41.669Z"
   },
   {
    "duration": 6,
    "start_time": "2022-04-30T18:50:43.190Z"
   },
   {
    "duration": 29,
    "start_time": "2022-04-30T18:50:46.817Z"
   },
   {
    "duration": 20,
    "start_time": "2022-04-30T18:50:48.054Z"
   },
   {
    "duration": 7,
    "start_time": "2022-04-30T18:50:55.119Z"
   },
   {
    "duration": 4,
    "start_time": "2022-04-30T18:51:12.903Z"
   },
   {
    "duration": 69,
    "start_time": "2022-04-30T18:51:13.545Z"
   },
   {
    "duration": 19,
    "start_time": "2022-04-30T18:51:14.894Z"
   },
   {
    "duration": 44,
    "start_time": "2022-04-30T18:51:15.853Z"
   },
   {
    "duration": 6,
    "start_time": "2022-04-30T18:51:18.958Z"
   },
   {
    "duration": 22,
    "start_time": "2022-04-30T18:51:20.297Z"
   },
   {
    "duration": 12,
    "start_time": "2022-04-30T18:51:21.851Z"
   },
   {
    "duration": 26,
    "start_time": "2022-04-30T18:51:23.217Z"
   },
   {
    "duration": 24,
    "start_time": "2022-04-30T18:51:25.117Z"
   },
   {
    "duration": 5,
    "start_time": "2022-04-30T18:51:26.976Z"
   },
   {
    "duration": 33,
    "start_time": "2022-04-30T18:52:18.397Z"
   },
   {
    "duration": 5,
    "start_time": "2022-04-30T18:52:19.254Z"
   },
   {
    "duration": 20,
    "start_time": "2022-04-30T18:52:23.403Z"
   },
   {
    "duration": 15,
    "start_time": "2022-04-30T18:52:26.655Z"
   },
   {
    "duration": 12,
    "start_time": "2022-04-30T18:52:38.629Z"
   },
   {
    "duration": 43,
    "start_time": "2022-04-30T18:53:11.233Z"
   },
   {
    "duration": 10,
    "start_time": "2022-04-30T18:55:43.288Z"
   },
   {
    "duration": 7,
    "start_time": "2022-04-30T18:55:48.071Z"
   },
   {
    "duration": 20,
    "start_time": "2022-04-30T18:55:49.652Z"
   },
   {
    "duration": 9,
    "start_time": "2022-04-30T18:55:50.615Z"
   },
   {
    "duration": 41,
    "start_time": "2022-04-30T18:55:52.412Z"
   },
   {
    "duration": 21,
    "start_time": "2022-04-30T18:55:54.059Z"
   },
   {
    "duration": 18,
    "start_time": "2022-04-30T18:56:11.776Z"
   },
   {
    "duration": 15,
    "start_time": "2022-04-30T18:56:14.420Z"
   },
   {
    "duration": 11,
    "start_time": "2022-04-30T18:56:15.559Z"
   },
   {
    "duration": 11,
    "start_time": "2022-04-30T18:56:16.852Z"
   },
   {
    "duration": 22,
    "start_time": "2022-04-30T18:56:19.841Z"
   },
   {
    "duration": 11,
    "start_time": "2022-04-30T18:56:34.072Z"
   },
   {
    "duration": 10,
    "start_time": "2022-04-30T19:18:48.461Z"
   },
   {
    "duration": 39,
    "start_time": "2022-04-30T19:19:01.485Z"
   },
   {
    "duration": 29,
    "start_time": "2022-04-30T19:19:02.666Z"
   },
   {
    "duration": 21,
    "start_time": "2022-04-30T19:19:04.472Z"
   },
   {
    "duration": 11,
    "start_time": "2022-04-30T19:19:06.410Z"
   },
   {
    "duration": 19,
    "start_time": "2022-04-30T19:19:08.560Z"
   },
   {
    "duration": 9,
    "start_time": "2022-04-30T19:19:10.874Z"
   },
   {
    "duration": 15,
    "start_time": "2022-04-30T19:19:22.800Z"
   },
   {
    "duration": 15,
    "start_time": "2022-04-30T19:19:30.934Z"
   },
   {
    "duration": 9,
    "start_time": "2022-04-30T19:19:40.314Z"
   },
   {
    "duration": 163,
    "start_time": "2022-04-30T19:22:58.980Z"
   },
   {
    "duration": 27,
    "start_time": "2022-04-30T19:23:11.325Z"
   },
   {
    "duration": 10,
    "start_time": "2022-04-30T19:23:16.252Z"
   },
   {
    "duration": 17,
    "start_time": "2022-04-30T19:23:22.376Z"
   },
   {
    "duration": 7,
    "start_time": "2022-04-30T19:23:42.066Z"
   },
   {
    "duration": 9,
    "start_time": "2022-04-30T19:25:01.647Z"
   },
   {
    "duration": 20,
    "start_time": "2022-04-30T19:25:09.776Z"
   },
   {
    "duration": 8,
    "start_time": "2022-04-30T19:28:12.247Z"
   },
   {
    "duration": 7,
    "start_time": "2022-04-30T19:28:13.898Z"
   },
   {
    "duration": 27,
    "start_time": "2022-04-30T19:28:15.826Z"
   },
   {
    "duration": 7,
    "start_time": "2022-04-30T19:28:24.365Z"
   },
   {
    "duration": 8,
    "start_time": "2022-04-30T19:28:24.984Z"
   },
   {
    "duration": 29,
    "start_time": "2022-04-30T19:28:26.413Z"
   },
   {
    "duration": 14,
    "start_time": "2022-04-30T19:28:32.242Z"
   },
   {
    "duration": 7,
    "start_time": "2022-04-30T19:28:33.506Z"
   },
   {
    "duration": 10,
    "start_time": "2022-04-30T19:28:34.178Z"
   },
   {
    "duration": 27,
    "start_time": "2022-04-30T19:28:36.016Z"
   },
   {
    "duration": 15,
    "start_time": "2022-04-30T19:31:42.045Z"
   },
   {
    "duration": 7,
    "start_time": "2022-04-30T19:31:45.371Z"
   },
   {
    "duration": 27,
    "start_time": "2022-04-30T19:31:46.533Z"
   },
   {
    "duration": 6,
    "start_time": "2022-04-30T19:32:08.158Z"
   },
   {
    "duration": 13,
    "start_time": "2022-04-30T19:32:09.232Z"
   },
   {
    "duration": 34,
    "start_time": "2022-04-30T19:32:10.278Z"
   },
   {
    "duration": 6,
    "start_time": "2022-04-30T19:33:47.014Z"
   },
   {
    "duration": 35,
    "start_time": "2022-04-30T19:33:55.323Z"
   },
   {
    "duration": 19,
    "start_time": "2022-04-30T19:34:01.969Z"
   },
   {
    "duration": 587,
    "start_time": "2022-04-30T19:34:03.220Z"
   },
   {
    "duration": 20,
    "start_time": "2022-04-30T19:34:05.807Z"
   },
   {
    "duration": 5,
    "start_time": "2022-04-30T19:34:07.080Z"
   },
   {
    "duration": 41,
    "start_time": "2022-04-30T19:34:07.878Z"
   },
   {
    "duration": 383,
    "start_time": "2022-04-30T19:34:08.579Z"
   },
   {
    "duration": 36,
    "start_time": "2022-04-30T19:34:10.852Z"
   },
   {
    "duration": 63,
    "start_time": "2022-04-30T19:34:15.747Z"
   },
   {
    "duration": 60,
    "start_time": "2022-04-30T19:34:31.395Z"
   },
   {
    "duration": 23,
    "start_time": "2022-04-30T19:34:39.049Z"
   },
   {
    "duration": 8,
    "start_time": "2022-04-30T19:34:42.296Z"
   },
   {
    "duration": 511,
    "start_time": "2022-04-30T19:34:54.045Z"
   },
   {
    "duration": 603,
    "start_time": "2022-04-30T19:35:15.119Z"
   },
   {
    "duration": 36,
    "start_time": "2022-04-30T19:35:34.503Z"
   },
   {
    "duration": 5,
    "start_time": "2022-04-30T19:36:45.687Z"
   },
   {
    "duration": 54,
    "start_time": "2022-04-30T19:36:46.722Z"
   },
   {
    "duration": 22,
    "start_time": "2022-04-30T19:38:03.205Z"
   },
   {
    "duration": 4,
    "start_time": "2022-04-30T19:38:30.165Z"
   },
   {
    "duration": 67,
    "start_time": "2022-04-30T19:38:30.172Z"
   },
   {
    "duration": 24,
    "start_time": "2022-04-30T19:39:23.423Z"
   },
   {
    "duration": 610,
    "start_time": "2022-04-30T19:39:25.094Z"
   },
   {
    "duration": 37,
    "start_time": "2022-04-30T19:40:12.658Z"
   },
   {
    "duration": 323,
    "start_time": "2022-04-30T19:40:14.385Z"
   },
   {
    "duration": 457,
    "start_time": "2022-04-30T19:40:14.977Z"
   },
   {
    "duration": 463,
    "start_time": "2022-04-30T19:40:17.253Z"
   },
   {
    "duration": 353,
    "start_time": "2022-04-30T19:40:18.554Z"
   },
   {
    "duration": 15,
    "start_time": "2022-04-30T19:41:22.653Z"
   },
   {
    "duration": 361,
    "start_time": "2022-04-30T19:41:40.794Z"
   },
   {
    "duration": 13,
    "start_time": "2022-04-30T19:41:48.662Z"
   },
   {
    "duration": 355,
    "start_time": "2022-04-30T19:41:55.308Z"
   },
   {
    "duration": 360,
    "start_time": "2022-04-30T19:42:01.466Z"
   },
   {
    "duration": 19,
    "start_time": "2022-04-30T19:42:10.112Z"
   },
   {
    "duration": 376,
    "start_time": "2022-04-30T19:42:16.083Z"
   },
   {
    "duration": 347,
    "start_time": "2022-04-30T19:42:54.045Z"
   },
   {
    "duration": 335,
    "start_time": "2022-04-30T19:43:00.955Z"
   },
   {
    "duration": 360,
    "start_time": "2022-04-30T19:43:22.922Z"
   },
   {
    "duration": 367,
    "start_time": "2022-04-30T19:43:30.178Z"
   },
   {
    "duration": 487,
    "start_time": "2022-04-30T19:44:28.259Z"
   },
   {
    "duration": 476,
    "start_time": "2022-04-30T19:46:08.697Z"
   },
   {
    "duration": 339,
    "start_time": "2022-04-30T19:46:21.245Z"
   },
   {
    "duration": 26,
    "start_time": "2022-04-30T19:51:17.711Z"
   },
   {
    "duration": 25,
    "start_time": "2022-04-30T19:51:19.196Z"
   },
   {
    "duration": 431,
    "start_time": "2022-04-30T19:51:20.598Z"
   },
   {
    "duration": 707,
    "start_time": "2022-04-30T19:51:21.779Z"
   },
   {
    "duration": 758,
    "start_time": "2022-04-30T19:51:23.016Z"
   },
   {
    "duration": 23,
    "start_time": "2022-04-30T19:51:25.659Z"
   },
   {
    "duration": 14,
    "start_time": "2022-04-30T20:01:39.048Z"
   },
   {
    "duration": 12,
    "start_time": "2022-04-30T20:01:45.866Z"
   },
   {
    "duration": 5,
    "start_time": "2022-04-30T20:01:55.455Z"
   },
   {
    "duration": 62,
    "start_time": "2022-04-30T20:01:56.451Z"
   },
   {
    "duration": 20,
    "start_time": "2022-04-30T20:01:57.947Z"
   },
   {
    "duration": 39,
    "start_time": "2022-04-30T20:01:58.650Z"
   },
   {
    "duration": 6,
    "start_time": "2022-04-30T20:02:01.097Z"
   },
   {
    "duration": 6,
    "start_time": "2022-04-30T20:02:02.254Z"
   },
   {
    "duration": 6,
    "start_time": "2022-04-30T20:02:03.350Z"
   },
   {
    "duration": 13,
    "start_time": "2022-04-30T20:02:04.523Z"
   },
   {
    "duration": 21,
    "start_time": "2022-04-30T20:02:05.157Z"
   },
   {
    "duration": 5,
    "start_time": "2022-04-30T20:02:05.961Z"
   },
   {
    "duration": 29,
    "start_time": "2022-04-30T20:02:08.775Z"
   },
   {
    "duration": 6,
    "start_time": "2022-04-30T20:02:10.092Z"
   },
   {
    "duration": 21,
    "start_time": "2022-04-30T20:02:12.173Z"
   },
   {
    "duration": 10,
    "start_time": "2022-04-30T20:02:13.292Z"
   },
   {
    "duration": 32,
    "start_time": "2022-04-30T20:02:17.398Z"
   },
   {
    "duration": 11,
    "start_time": "2022-04-30T20:02:19.304Z"
   },
   {
    "duration": 7,
    "start_time": "2022-04-30T20:02:20.994Z"
   },
   {
    "duration": 21,
    "start_time": "2022-04-30T20:02:21.751Z"
   },
   {
    "duration": 11,
    "start_time": "2022-04-30T20:02:22.338Z"
   },
   {
    "duration": 25,
    "start_time": "2022-04-30T20:02:25.988Z"
   },
   {
    "duration": 21,
    "start_time": "2022-04-30T20:02:30.682Z"
   },
   {
    "duration": 19,
    "start_time": "2022-04-30T20:02:33.035Z"
   },
   {
    "duration": 11,
    "start_time": "2022-04-30T20:02:34.478Z"
   },
   {
    "duration": 11,
    "start_time": "2022-04-30T20:02:36.422Z"
   },
   {
    "duration": 9,
    "start_time": "2022-04-30T20:02:37.280Z"
   },
   {
    "duration": 11,
    "start_time": "2022-04-30T20:02:39.435Z"
   },
   {
    "duration": 7,
    "start_time": "2022-04-30T20:02:41.695Z"
   },
   {
    "duration": 7,
    "start_time": "2022-04-30T20:04:16.248Z"
   },
   {
    "duration": 6,
    "start_time": "2022-04-30T20:04:19.743Z"
   },
   {
    "duration": 24,
    "start_time": "2022-04-30T20:04:20.832Z"
   },
   {
    "duration": 16,
    "start_time": "2022-04-30T20:04:24.013Z"
   },
   {
    "duration": 542,
    "start_time": "2022-04-30T20:04:25.269Z"
   },
   {
    "duration": 18,
    "start_time": "2022-04-30T20:04:26.857Z"
   },
   {
    "duration": 4,
    "start_time": "2022-04-30T20:04:28.226Z"
   },
   {
    "duration": 39,
    "start_time": "2022-04-30T20:04:28.489Z"
   },
   {
    "duration": 368,
    "start_time": "2022-04-30T20:04:29.190Z"
   },
   {
    "duration": 32,
    "start_time": "2022-04-30T20:04:30.634Z"
   },
   {
    "duration": 37,
    "start_time": "2022-04-30T20:04:31.343Z"
   },
   {
    "duration": 21,
    "start_time": "2022-04-30T20:04:32.078Z"
   },
   {
    "duration": 9,
    "start_time": "2022-04-30T20:04:33.017Z"
   },
   {
    "duration": 618,
    "start_time": "2022-04-30T20:04:33.465Z"
   },
   {
    "duration": 30,
    "start_time": "2022-04-30T20:04:35.133Z"
   },
   {
    "duration": 3,
    "start_time": "2022-04-30T20:04:36.198Z"
   },
   {
    "duration": 38,
    "start_time": "2022-04-30T20:04:36.701Z"
   },
   {
    "duration": 17,
    "start_time": "2022-04-30T20:04:38.011Z"
   },
   {
    "duration": 547,
    "start_time": "2022-04-30T20:04:38.967Z"
   },
   {
    "duration": 29,
    "start_time": "2022-04-30T20:04:41.114Z"
   },
   {
    "duration": 228,
    "start_time": "2022-04-30T20:04:42.188Z"
   },
   {
    "duration": 244,
    "start_time": "2022-04-30T20:04:42.745Z"
   },
   {
    "duration": 339,
    "start_time": "2022-04-30T20:04:44.433Z"
   },
   {
    "duration": 393,
    "start_time": "2022-04-30T20:04:45.584Z"
   },
   {
    "duration": 310,
    "start_time": "2022-04-30T20:04:46.254Z"
   },
   {
    "duration": 35,
    "start_time": "2022-04-30T20:04:49.264Z"
   },
   {
    "duration": 25,
    "start_time": "2022-04-30T20:04:50.947Z"
   },
   {
    "duration": 396,
    "start_time": "2022-04-30T20:04:51.842Z"
   },
   {
    "duration": 835,
    "start_time": "2022-04-30T20:04:53.021Z"
   },
   {
    "duration": 726,
    "start_time": "2022-04-30T20:04:54.514Z"
   },
   {
    "duration": 23,
    "start_time": "2022-04-30T20:04:55.556Z"
   },
   {
    "duration": 7,
    "start_time": "2022-04-30T20:05:03.211Z"
   },
   {
    "duration": 6,
    "start_time": "2022-04-30T20:05:07.795Z"
   },
   {
    "duration": 12,
    "start_time": "2022-04-30T20:14:18.660Z"
   },
   {
    "duration": 11,
    "start_time": "2022-04-30T20:14:43.192Z"
   },
   {
    "duration": 7,
    "start_time": "2022-04-30T20:14:48.017Z"
   },
   {
    "duration": 1556,
    "start_time": "2022-04-30T20:14:48.432Z"
   },
   {
    "duration": 23,
    "start_time": "2022-04-30T20:14:53.270Z"
   },
   {
    "duration": 8,
    "start_time": "2022-04-30T20:15:01.025Z"
   },
   {
    "duration": 1727,
    "start_time": "2022-04-30T20:15:01.844Z"
   },
   {
    "duration": 15,
    "start_time": "2022-04-30T20:16:15.768Z"
   },
   {
    "duration": 7,
    "start_time": "2022-04-30T20:16:18.699Z"
   },
   {
    "duration": 12,
    "start_time": "2022-04-30T20:16:19.741Z"
   },
   {
    "duration": 7,
    "start_time": "2022-04-30T20:16:33.006Z"
   },
   {
    "duration": 11,
    "start_time": "2022-04-30T20:16:56.706Z"
   },
   {
    "duration": 15,
    "start_time": "2022-04-30T20:17:19.851Z"
   },
   {
    "duration": 11,
    "start_time": "2022-04-30T20:50:57.922Z"
   },
   {
    "duration": 17,
    "start_time": "2022-04-30T20:51:37.914Z"
   },
   {
    "duration": 8,
    "start_time": "2022-04-30T20:51:38.841Z"
   },
   {
    "duration": 17,
    "start_time": "2022-04-30T20:52:09.148Z"
   },
   {
    "duration": 33,
    "start_time": "2022-04-30T20:52:47.942Z"
   },
   {
    "duration": 2328,
    "start_time": "2022-04-30T20:54:20.072Z"
   },
   {
    "duration": 0,
    "start_time": "2022-04-30T20:54:22.403Z"
   },
   {
    "duration": 6,
    "start_time": "2022-04-30T20:54:24.993Z"
   },
   {
    "duration": 7,
    "start_time": "2022-04-30T20:54:30.323Z"
   },
   {
    "duration": 8,
    "start_time": "2022-04-30T20:54:38.780Z"
   },
   {
    "duration": 6,
    "start_time": "2022-04-30T20:54:40.956Z"
   },
   {
    "duration": 6,
    "start_time": "2022-04-30T20:54:43.780Z"
   },
   {
    "duration": 8,
    "start_time": "2022-04-30T20:54:49.195Z"
   },
   {
    "duration": 2061,
    "start_time": "2022-04-30T20:55:36.684Z"
   },
   {
    "duration": 7,
    "start_time": "2022-04-30T20:55:50.324Z"
   },
   {
    "duration": 6,
    "start_time": "2022-04-30T20:55:52.614Z"
   },
   {
    "duration": 6,
    "start_time": "2022-04-30T20:55:53.348Z"
   },
   {
    "duration": 6,
    "start_time": "2022-04-30T20:55:54.876Z"
   },
   {
    "duration": 7,
    "start_time": "2022-04-30T20:56:00.280Z"
   },
   {
    "duration": 6,
    "start_time": "2022-04-30T20:56:00.910Z"
   },
   {
    "duration": 6,
    "start_time": "2022-04-30T20:56:01.659Z"
   },
   {
    "duration": 7,
    "start_time": "2022-04-30T20:56:02.999Z"
   },
   {
    "duration": 895,
    "start_time": "2022-04-30T21:04:44.478Z"
   },
   {
    "duration": 779,
    "start_time": "2022-04-30T21:08:28.621Z"
   },
   {
    "duration": 120,
    "start_time": "2022-05-01T04:52:46.401Z"
   }
  ],
  "kernelspec": {
   "display_name": "Python 3 (ipykernel)",
   "language": "python",
   "name": "python3"
  },
  "language_info": {
   "codemirror_mode": {
    "name": "ipython",
    "version": 3
   },
   "file_extension": ".py",
   "mimetype": "text/x-python",
   "name": "python",
   "nbconvert_exporter": "python",
   "pygments_lexer": "ipython3",
   "version": "3.9.12"
  },
  "toc": {
   "base_numbering": 1,
   "nav_menu": {},
   "number_sections": true,
   "sideBar": true,
   "skip_h1_title": true,
   "title_cell": "Table of Contents",
   "title_sidebar": "Contents",
   "toc_cell": false,
   "toc_position": {
    "height": "calc(100% - 180px)",
    "left": "10px",
    "top": "150px",
    "width": "298.188px"
   },
   "toc_section_display": true,
   "toc_window_display": true
  }
 },
 "nbformat": 4,
 "nbformat_minor": 2
}
