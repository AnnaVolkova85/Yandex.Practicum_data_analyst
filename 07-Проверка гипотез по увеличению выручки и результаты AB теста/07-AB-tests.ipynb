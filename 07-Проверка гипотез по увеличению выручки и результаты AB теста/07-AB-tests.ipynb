{
 "cells": [
  {
   "cell_type": "markdown",
   "metadata": {},
   "source": [
    "# Приоритизация гипотез и оценка результатов А/В-теста интернет-магазина\n",
    "\n",
    "Описание:\n",
    "Вы — аналитик крупного интернет-магазина. Вместе с отделом маркетинга вы подготовили список гипотез для увеличения выручки.\n",
    "\n",
    "Описание данных\n",
    "\n",
    "\n",
    "* Файл hypothesis.csv\n",
    "Hypothesis — краткое описание гипотезы;\n",
    "Reach — охват пользователей по 10-балльной шкале;\n",
    "Impact — влияние на пользователей по 10-балльной шкале;\n",
    "Confidence — уверенность в гипотезе по 10-балльной шкале;\n",
    "Efforts — затраты ресурсов на проверку гипотезы по 10-балльной шкале. Чем больше значение Efforts, тем дороже проверка гипотезы.\n",
    "\n",
    "* Файл orders.csv\n",
    "transactionId — идентификатор заказа;\n",
    "visitorId — идентификатор пользователя, совершившего заказ;\n",
    "date — дата, когда был совершён заказ;\n",
    "revenue — выручка заказа;\n",
    "group — группа A/B-теста, в которую попал заказ.\n",
    "Файл /datasets/visitors.csv. Скачать датасет\n",
    "date — дата;\n",
    "group — группа A/B-теста;\n",
    "visitors — количество пользователей в указанную дату в указанной группе A/B-теста\n",
    "\n",
    "План проекта: \n",
    "1. Приоритизация гипотез \n",
    "2. Запуск A/B-теста \n",
    "3. Анализ результатов.\n",
    "\n",
    "\n"
   ]
  },
  {
   "cell_type": "markdown",
   "metadata": {},
   "source": [
    "## Приоритизация гипотез"
   ]
  },
  {
   "cell_type": "markdown",
   "metadata": {},
   "source": [
    "Для определение приоритетов гипотез откроем таблицу со списком гипотез и оценками по параметрам, а затем произведем расчеты метрик ICE и RICE."
   ]
  },
  {
   "cell_type": "code",
   "execution_count": 1,
   "metadata": {},
   "outputs": [],
   "source": [
    "import pandas as pd\n",
    "import datetime as dt\n",
    "import numpy as np\n",
    "import matplotlib.pyplot as plt\n",
    "from pandas.plotting import register_matplotlib_converters\n",
    "import warnings\n",
    "import seaborn as sns\n",
    "import math\n",
    "import scipy.stats as stats\n",
    "# конвертеры, которые позволяют использовать типы pandas в matplotlib  \n",
    "register_matplotlib_converters()"
   ]
  },
  {
   "cell_type": "markdown",
   "metadata": {},
   "source": [
    "Откроем таблицу hypothesis и посмотрим, какие гипотезы в ней содержатся, по каким параметрам выставлены оценки."
   ]
  },
  {
   "cell_type": "code",
   "execution_count": 2,
   "metadata": {},
   "outputs": [
    {
     "data": {
      "text/html": [
       "<div>\n",
       "<style scoped>\n",
       "    .dataframe tbody tr th:only-of-type {\n",
       "        vertical-align: middle;\n",
       "    }\n",
       "\n",
       "    .dataframe tbody tr th {\n",
       "        vertical-align: top;\n",
       "    }\n",
       "\n",
       "    .dataframe thead th {\n",
       "        text-align: right;\n",
       "    }\n",
       "</style>\n",
       "<table border=\"1\" class=\"dataframe\">\n",
       "  <thead>\n",
       "    <tr style=\"text-align: right;\">\n",
       "      <th></th>\n",
       "      <th>Hypothesis</th>\n",
       "      <th>Reach</th>\n",
       "      <th>Impact</th>\n",
       "      <th>Confidence</th>\n",
       "      <th>Efforts</th>\n",
       "    </tr>\n",
       "  </thead>\n",
       "  <tbody>\n",
       "    <tr>\n",
       "      <th>0</th>\n",
       "      <td>Добавить два новых канала привлечения трафика, что позволит привлекать на 30% больше пользователей</td>\n",
       "      <td>3</td>\n",
       "      <td>10</td>\n",
       "      <td>8</td>\n",
       "      <td>6</td>\n",
       "    </tr>\n",
       "    <tr>\n",
       "      <th>1</th>\n",
       "      <td>Запустить собственную службу доставки, что сократит срок доставки заказов</td>\n",
       "      <td>2</td>\n",
       "      <td>5</td>\n",
       "      <td>4</td>\n",
       "      <td>10</td>\n",
       "    </tr>\n",
       "    <tr>\n",
       "      <th>2</th>\n",
       "      <td>Добавить блоки рекомендаций товаров на сайт интернет магазина, чтобы повысить конверсию и средний чек заказа</td>\n",
       "      <td>8</td>\n",
       "      <td>3</td>\n",
       "      <td>7</td>\n",
       "      <td>3</td>\n",
       "    </tr>\n",
       "    <tr>\n",
       "      <th>3</th>\n",
       "      <td>Изменить структура категорий, что увеличит конверсию, т.к. пользователи быстрее найдут нужный товар</td>\n",
       "      <td>8</td>\n",
       "      <td>3</td>\n",
       "      <td>3</td>\n",
       "      <td>8</td>\n",
       "    </tr>\n",
       "    <tr>\n",
       "      <th>4</th>\n",
       "      <td>Изменить цвет фона главной страницы, чтобы увеличить вовлеченность пользователей</td>\n",
       "      <td>3</td>\n",
       "      <td>1</td>\n",
       "      <td>1</td>\n",
       "      <td>1</td>\n",
       "    </tr>\n",
       "    <tr>\n",
       "      <th>5</th>\n",
       "      <td>Добавить страницу отзывов клиентов о магазине, что позволит увеличить количество заказов</td>\n",
       "      <td>3</td>\n",
       "      <td>2</td>\n",
       "      <td>2</td>\n",
       "      <td>3</td>\n",
       "    </tr>\n",
       "    <tr>\n",
       "      <th>6</th>\n",
       "      <td>Показать на главной странице баннеры с актуальными акциями и распродажами, чтобы увеличить конверсию</td>\n",
       "      <td>5</td>\n",
       "      <td>3</td>\n",
       "      <td>8</td>\n",
       "      <td>3</td>\n",
       "    </tr>\n",
       "    <tr>\n",
       "      <th>7</th>\n",
       "      <td>Добавить форму подписки на все основные страницы, чтобы собрать базу клиентов для email-рассылок</td>\n",
       "      <td>10</td>\n",
       "      <td>7</td>\n",
       "      <td>8</td>\n",
       "      <td>5</td>\n",
       "    </tr>\n",
       "    <tr>\n",
       "      <th>8</th>\n",
       "      <td>Запустить акцию, дающую скидку на товар в день рождения</td>\n",
       "      <td>1</td>\n",
       "      <td>9</td>\n",
       "      <td>9</td>\n",
       "      <td>5</td>\n",
       "    </tr>\n",
       "  </tbody>\n",
       "</table>\n",
       "</div>"
      ],
      "text/plain": [
       "                                                                                                     Hypothesis  \\\n",
       "0            Добавить два новых канала привлечения трафика, что позволит привлекать на 30% больше пользователей   \n",
       "1                                     Запустить собственную службу доставки, что сократит срок доставки заказов   \n",
       "2  Добавить блоки рекомендаций товаров на сайт интернет магазина, чтобы повысить конверсию и средний чек заказа   \n",
       "3           Изменить структура категорий, что увеличит конверсию, т.к. пользователи быстрее найдут нужный товар   \n",
       "4                              Изменить цвет фона главной страницы, чтобы увеличить вовлеченность пользователей   \n",
       "5                      Добавить страницу отзывов клиентов о магазине, что позволит увеличить количество заказов   \n",
       "6          Показать на главной странице баннеры с актуальными акциями и распродажами, чтобы увеличить конверсию   \n",
       "7              Добавить форму подписки на все основные страницы, чтобы собрать базу клиентов для email-рассылок   \n",
       "8                                                       Запустить акцию, дающую скидку на товар в день рождения   \n",
       "\n",
       "   Reach  Impact  Confidence  Efforts  \n",
       "0      3      10           8        6  \n",
       "1      2       5           4       10  \n",
       "2      8       3           7        3  \n",
       "3      8       3           3        8  \n",
       "4      3       1           1        1  \n",
       "5      3       2           2        3  \n",
       "6      5       3           8        3  \n",
       "7     10       7           8        5  \n",
       "8      1       9           9        5  "
      ]
     },
     "execution_count": 2,
     "metadata": {},
     "output_type": "execute_result"
    }
   ],
   "source": [
    "hypothesis = pd.read_csv('C:/Users/Anna/Desktop/Обучение/Аналитика Яндекс Практикум/Датасеты/hypothesis.csv')\n",
    "pd.options.display.max_colwidth = 120\n",
    "hypothesis\n",
    "\n"
   ]
  },
  {
   "cell_type": "markdown",
   "metadata": {},
   "source": [
    "Применим фреймворк ICE для приоритизации гипотез и отсортируем их по убыванию приоритета."
   ]
  },
  {
   "cell_type": "code",
   "execution_count": 3,
   "metadata": {},
   "outputs": [
    {
     "data": {
      "text/html": [
       "<div>\n",
       "<style scoped>\n",
       "    .dataframe tbody tr th:only-of-type {\n",
       "        vertical-align: middle;\n",
       "    }\n",
       "\n",
       "    .dataframe tbody tr th {\n",
       "        vertical-align: top;\n",
       "    }\n",
       "\n",
       "    .dataframe thead th {\n",
       "        text-align: right;\n",
       "    }\n",
       "</style>\n",
       "<table border=\"1\" class=\"dataframe\">\n",
       "  <thead>\n",
       "    <tr style=\"text-align: right;\">\n",
       "      <th></th>\n",
       "      <th>Hypothesis</th>\n",
       "      <th>ICE</th>\n",
       "    </tr>\n",
       "  </thead>\n",
       "  <tbody>\n",
       "    <tr>\n",
       "      <th>8</th>\n",
       "      <td>Запустить акцию, дающую скидку на товар в день рождения</td>\n",
       "      <td>16.20</td>\n",
       "    </tr>\n",
       "    <tr>\n",
       "      <th>0</th>\n",
       "      <td>Добавить два новых канала привлечения трафика, что позволит привлекать на 30% больше пользователей</td>\n",
       "      <td>13.33</td>\n",
       "    </tr>\n",
       "    <tr>\n",
       "      <th>7</th>\n",
       "      <td>Добавить форму подписки на все основные страницы, чтобы собрать базу клиентов для email-рассылок</td>\n",
       "      <td>11.20</td>\n",
       "    </tr>\n",
       "    <tr>\n",
       "      <th>6</th>\n",
       "      <td>Показать на главной странице баннеры с актуальными акциями и распродажами, чтобы увеличить конверсию</td>\n",
       "      <td>8.00</td>\n",
       "    </tr>\n",
       "    <tr>\n",
       "      <th>2</th>\n",
       "      <td>Добавить блоки рекомендаций товаров на сайт интернет магазина, чтобы повысить конверсию и средний чек заказа</td>\n",
       "      <td>7.00</td>\n",
       "    </tr>\n",
       "    <tr>\n",
       "      <th>1</th>\n",
       "      <td>Запустить собственную службу доставки, что сократит срок доставки заказов</td>\n",
       "      <td>2.00</td>\n",
       "    </tr>\n",
       "    <tr>\n",
       "      <th>5</th>\n",
       "      <td>Добавить страницу отзывов клиентов о магазине, что позволит увеличить количество заказов</td>\n",
       "      <td>1.33</td>\n",
       "    </tr>\n",
       "    <tr>\n",
       "      <th>3</th>\n",
       "      <td>Изменить структура категорий, что увеличит конверсию, т.к. пользователи быстрее найдут нужный товар</td>\n",
       "      <td>1.12</td>\n",
       "    </tr>\n",
       "    <tr>\n",
       "      <th>4</th>\n",
       "      <td>Изменить цвет фона главной страницы, чтобы увеличить вовлеченность пользователей</td>\n",
       "      <td>1.00</td>\n",
       "    </tr>\n",
       "  </tbody>\n",
       "</table>\n",
       "</div>"
      ],
      "text/plain": [
       "                                                                                                     Hypothesis  \\\n",
       "8                                                       Запустить акцию, дающую скидку на товар в день рождения   \n",
       "0            Добавить два новых канала привлечения трафика, что позволит привлекать на 30% больше пользователей   \n",
       "7              Добавить форму подписки на все основные страницы, чтобы собрать базу клиентов для email-рассылок   \n",
       "6          Показать на главной странице баннеры с актуальными акциями и распродажами, чтобы увеличить конверсию   \n",
       "2  Добавить блоки рекомендаций товаров на сайт интернет магазина, чтобы повысить конверсию и средний чек заказа   \n",
       "1                                     Запустить собственную службу доставки, что сократит срок доставки заказов   \n",
       "5                      Добавить страницу отзывов клиентов о магазине, что позволит увеличить количество заказов   \n",
       "3           Изменить структура категорий, что увеличит конверсию, т.к. пользователи быстрее найдут нужный товар   \n",
       "4                              Изменить цвет фона главной страницы, чтобы увеличить вовлеченность пользователей   \n",
       "\n",
       "     ICE  \n",
       "8  16.20  \n",
       "0  13.33  \n",
       "7  11.20  \n",
       "6   8.00  \n",
       "2   7.00  \n",
       "1   2.00  \n",
       "5   1.33  \n",
       "3   1.12  \n",
       "4   1.00  "
      ]
     },
     "execution_count": 3,
     "metadata": {},
     "output_type": "execute_result"
    }
   ],
   "source": [
    "hypothesis['ICE'] = ((hypothesis['Impact'] * hypothesis['Confidence']) / hypothesis['Efforts']).round(2)\n",
    "hypothesis1 = hypothesis[['Hypothesis', 'ICE']]\n",
    "hypothesis1 = hypothesis1.sort_values(by='ICE', ascending=False)\n",
    "pd.options.display.max_colwidth = 120\n",
    "hypothesis1"
   ]
  },
  {
   "cell_type": "markdown",
   "metadata": {},
   "source": [
    "Применим фреймворк RICE для приоритизации гипотез и отсортируем их по убыванию приоритета."
   ]
  },
  {
   "cell_type": "code",
   "execution_count": 4,
   "metadata": {},
   "outputs": [
    {
     "data": {
      "text/html": [
       "<div>\n",
       "<style scoped>\n",
       "    .dataframe tbody tr th:only-of-type {\n",
       "        vertical-align: middle;\n",
       "    }\n",
       "\n",
       "    .dataframe tbody tr th {\n",
       "        vertical-align: top;\n",
       "    }\n",
       "\n",
       "    .dataframe thead th {\n",
       "        text-align: right;\n",
       "    }\n",
       "</style>\n",
       "<table border=\"1\" class=\"dataframe\">\n",
       "  <thead>\n",
       "    <tr style=\"text-align: right;\">\n",
       "      <th></th>\n",
       "      <th>Hypothesis</th>\n",
       "      <th>RICE</th>\n",
       "    </tr>\n",
       "  </thead>\n",
       "  <tbody>\n",
       "    <tr>\n",
       "      <th>7</th>\n",
       "      <td>Добавить форму подписки на все основные страницы, чтобы собрать базу клиентов для email-рассылок</td>\n",
       "      <td>112.0</td>\n",
       "    </tr>\n",
       "    <tr>\n",
       "      <th>2</th>\n",
       "      <td>Добавить блоки рекомендаций товаров на сайт интернет магазина, чтобы повысить конверсию и средний чек заказа</td>\n",
       "      <td>56.0</td>\n",
       "    </tr>\n",
       "    <tr>\n",
       "      <th>0</th>\n",
       "      <td>Добавить два новых канала привлечения трафика, что позволит привлекать на 30% больше пользователей</td>\n",
       "      <td>40.0</td>\n",
       "    </tr>\n",
       "    <tr>\n",
       "      <th>6</th>\n",
       "      <td>Показать на главной странице баннеры с актуальными акциями и распродажами, чтобы увеличить конверсию</td>\n",
       "      <td>40.0</td>\n",
       "    </tr>\n",
       "    <tr>\n",
       "      <th>8</th>\n",
       "      <td>Запустить акцию, дающую скидку на товар в день рождения</td>\n",
       "      <td>16.2</td>\n",
       "    </tr>\n",
       "    <tr>\n",
       "      <th>3</th>\n",
       "      <td>Изменить структура категорий, что увеличит конверсию, т.к. пользователи быстрее найдут нужный товар</td>\n",
       "      <td>9.0</td>\n",
       "    </tr>\n",
       "    <tr>\n",
       "      <th>1</th>\n",
       "      <td>Запустить собственную службу доставки, что сократит срок доставки заказов</td>\n",
       "      <td>4.0</td>\n",
       "    </tr>\n",
       "    <tr>\n",
       "      <th>5</th>\n",
       "      <td>Добавить страницу отзывов клиентов о магазине, что позволит увеличить количество заказов</td>\n",
       "      <td>4.0</td>\n",
       "    </tr>\n",
       "    <tr>\n",
       "      <th>4</th>\n",
       "      <td>Изменить цвет фона главной страницы, чтобы увеличить вовлеченность пользователей</td>\n",
       "      <td>3.0</td>\n",
       "    </tr>\n",
       "  </tbody>\n",
       "</table>\n",
       "</div>"
      ],
      "text/plain": [
       "                                                                                                     Hypothesis  \\\n",
       "7              Добавить форму подписки на все основные страницы, чтобы собрать базу клиентов для email-рассылок   \n",
       "2  Добавить блоки рекомендаций товаров на сайт интернет магазина, чтобы повысить конверсию и средний чек заказа   \n",
       "0            Добавить два новых канала привлечения трафика, что позволит привлекать на 30% больше пользователей   \n",
       "6          Показать на главной странице баннеры с актуальными акциями и распродажами, чтобы увеличить конверсию   \n",
       "8                                                       Запустить акцию, дающую скидку на товар в день рождения   \n",
       "3           Изменить структура категорий, что увеличит конверсию, т.к. пользователи быстрее найдут нужный товар   \n",
       "1                                     Запустить собственную службу доставки, что сократит срок доставки заказов   \n",
       "5                      Добавить страницу отзывов клиентов о магазине, что позволит увеличить количество заказов   \n",
       "4                              Изменить цвет фона главной страницы, чтобы увеличить вовлеченность пользователей   \n",
       "\n",
       "    RICE  \n",
       "7  112.0  \n",
       "2   56.0  \n",
       "0   40.0  \n",
       "6   40.0  \n",
       "8   16.2  \n",
       "3    9.0  \n",
       "1    4.0  \n",
       "5    4.0  \n",
       "4    3.0  "
      ]
     },
     "execution_count": 4,
     "metadata": {},
     "output_type": "execute_result"
    }
   ],
   "source": [
    "hypothesis['RICE'] = (hypothesis['Reach'] * hypothesis['Impact'] * hypothesis['Confidence']) / hypothesis['Efforts']\n",
    "hypothesis2 = hypothesis[['Hypothesis', 'RICE']]\n",
    "hypothesis2 = hypothesis2.sort_values(by='RICE', ascending=False)\n",
    "hypothesis2"
   ]
  },
  {
   "cell_type": "markdown",
   "metadata": {},
   "source": [
    "### Вывод \n",
    "При использовании разных методов (ICE и RICE) мы получили разные результаты по приоретизации гипотез. Это связано с тем, что в методе RICE используется параметр Reach, а у гипотез 7, 2 и 3 стоят высокие оценки по этому параметру. При этом у гипотезы 3 достаточно низкие оценки по параметрам 'влияние на пользователей' и 'уверенность в гипотезе', а проверка этой гипотезы  стоит больших усилий/затрат. \n",
    "Поэтому наиболее приоритетными гипотезами можно считать 7-ю и 2-ю."
   ]
  },
  {
   "cell_type": "markdown",
   "metadata": {},
   "source": [
    "## Анализ A/B-теста\n",
    "### Предобработка таблиц orders и visitors"
   ]
  },
  {
   "cell_type": "markdown",
   "metadata": {},
   "source": [
    "Откроем таблицу orders"
   ]
  },
  {
   "cell_type": "code",
   "execution_count": 5,
   "metadata": {},
   "outputs": [
    {
     "data": {
      "text/html": [
       "<div>\n",
       "<style scoped>\n",
       "    .dataframe tbody tr th:only-of-type {\n",
       "        vertical-align: middle;\n",
       "    }\n",
       "\n",
       "    .dataframe tbody tr th {\n",
       "        vertical-align: top;\n",
       "    }\n",
       "\n",
       "    .dataframe thead th {\n",
       "        text-align: right;\n",
       "    }\n",
       "</style>\n",
       "<table border=\"1\" class=\"dataframe\">\n",
       "  <thead>\n",
       "    <tr style=\"text-align: right;\">\n",
       "      <th></th>\n",
       "      <th>transactionId</th>\n",
       "      <th>visitorId</th>\n",
       "      <th>date</th>\n",
       "      <th>revenue</th>\n",
       "      <th>group</th>\n",
       "    </tr>\n",
       "  </thead>\n",
       "  <tbody>\n",
       "    <tr>\n",
       "      <th>0</th>\n",
       "      <td>3667963787</td>\n",
       "      <td>3312258926</td>\n",
       "      <td>2019-08-15</td>\n",
       "      <td>1650</td>\n",
       "      <td>B</td>\n",
       "    </tr>\n",
       "    <tr>\n",
       "      <th>1</th>\n",
       "      <td>2804400009</td>\n",
       "      <td>3642806036</td>\n",
       "      <td>2019-08-15</td>\n",
       "      <td>730</td>\n",
       "      <td>B</td>\n",
       "    </tr>\n",
       "    <tr>\n",
       "      <th>2</th>\n",
       "      <td>2961555356</td>\n",
       "      <td>4069496402</td>\n",
       "      <td>2019-08-15</td>\n",
       "      <td>400</td>\n",
       "      <td>A</td>\n",
       "    </tr>\n",
       "    <tr>\n",
       "      <th>3</th>\n",
       "      <td>3797467345</td>\n",
       "      <td>1196621759</td>\n",
       "      <td>2019-08-15</td>\n",
       "      <td>9759</td>\n",
       "      <td>B</td>\n",
       "    </tr>\n",
       "    <tr>\n",
       "      <th>4</th>\n",
       "      <td>2282983706</td>\n",
       "      <td>2322279887</td>\n",
       "      <td>2019-08-15</td>\n",
       "      <td>2308</td>\n",
       "      <td>B</td>\n",
       "    </tr>\n",
       "  </tbody>\n",
       "</table>\n",
       "</div>"
      ],
      "text/plain": [
       "   transactionId   visitorId        date  revenue group\n",
       "0     3667963787  3312258926  2019-08-15     1650     B\n",
       "1     2804400009  3642806036  2019-08-15      730     B\n",
       "2     2961555356  4069496402  2019-08-15      400     A\n",
       "3     3797467345  1196621759  2019-08-15     9759     B\n",
       "4     2282983706  2322279887  2019-08-15     2308     B"
      ]
     },
     "execution_count": 5,
     "metadata": {},
     "output_type": "execute_result"
    }
   ],
   "source": [
    "orders = pd.read_csv('C:/Users/Anna/Desktop/Обучение/Аналитика Яндекс Практикум/Датасеты/orders.csv')\n",
    "orders.head(5)"
   ]
  },
  {
   "cell_type": "code",
   "execution_count": 6,
   "metadata": {
    "scrolled": true
   },
   "outputs": [
    {
     "data": {
      "text/html": [
       "<div>\n",
       "<style scoped>\n",
       "    .dataframe tbody tr th:only-of-type {\n",
       "        vertical-align: middle;\n",
       "    }\n",
       "\n",
       "    .dataframe tbody tr th {\n",
       "        vertical-align: top;\n",
       "    }\n",
       "\n",
       "    .dataframe thead th {\n",
       "        text-align: right;\n",
       "    }\n",
       "</style>\n",
       "<table border=\"1\" class=\"dataframe\">\n",
       "  <thead>\n",
       "    <tr style=\"text-align: right;\">\n",
       "      <th></th>\n",
       "      <th>transaction_id</th>\n",
       "      <th>visitor_id</th>\n",
       "      <th>date</th>\n",
       "      <th>revenue</th>\n",
       "      <th>group</th>\n",
       "    </tr>\n",
       "  </thead>\n",
       "  <tbody>\n",
       "    <tr>\n",
       "      <th>0</th>\n",
       "      <td>3667963787</td>\n",
       "      <td>3312258926</td>\n",
       "      <td>2019-08-15</td>\n",
       "      <td>1650</td>\n",
       "      <td>B</td>\n",
       "    </tr>\n",
       "    <tr>\n",
       "      <th>1</th>\n",
       "      <td>2804400009</td>\n",
       "      <td>3642806036</td>\n",
       "      <td>2019-08-15</td>\n",
       "      <td>730</td>\n",
       "      <td>B</td>\n",
       "    </tr>\n",
       "    <tr>\n",
       "      <th>2</th>\n",
       "      <td>2961555356</td>\n",
       "      <td>4069496402</td>\n",
       "      <td>2019-08-15</td>\n",
       "      <td>400</td>\n",
       "      <td>A</td>\n",
       "    </tr>\n",
       "    <tr>\n",
       "      <th>3</th>\n",
       "      <td>3797467345</td>\n",
       "      <td>1196621759</td>\n",
       "      <td>2019-08-15</td>\n",
       "      <td>9759</td>\n",
       "      <td>B</td>\n",
       "    </tr>\n",
       "    <tr>\n",
       "      <th>4</th>\n",
       "      <td>2282983706</td>\n",
       "      <td>2322279887</td>\n",
       "      <td>2019-08-15</td>\n",
       "      <td>2308</td>\n",
       "      <td>B</td>\n",
       "    </tr>\n",
       "  </tbody>\n",
       "</table>\n",
       "</div>"
      ],
      "text/plain": [
       "   transaction_id  visitor_id        date  revenue group\n",
       "0      3667963787  3312258926  2019-08-15     1650     B\n",
       "1      2804400009  3642806036  2019-08-15      730     B\n",
       "2      2961555356  4069496402  2019-08-15      400     A\n",
       "3      3797467345  1196621759  2019-08-15     9759     B\n",
       "4      2282983706  2322279887  2019-08-15     2308     B"
      ]
     },
     "execution_count": 6,
     "metadata": {},
     "output_type": "execute_result"
    }
   ],
   "source": [
    "#для удобства приведем названия столбцов к \"змеиному\" регистру.\n",
    "orders.columns = ['transaction_id', 'visitor_id', 'date', 'revenue', 'group'] \n",
    "orders.head(5)"
   ]
  },
  {
   "cell_type": "code",
   "execution_count": 7,
   "metadata": {
    "scrolled": false
   },
   "outputs": [
    {
     "name": "stdout",
     "output_type": "stream",
     "text": [
      "<class 'pandas.core.frame.DataFrame'>\n",
      "RangeIndex: 1197 entries, 0 to 1196\n",
      "Data columns (total 5 columns):\n",
      " #   Column          Non-Null Count  Dtype \n",
      "---  ------          --------------  ----- \n",
      " 0   transaction_id  1197 non-null   int64 \n",
      " 1   visitor_id      1197 non-null   int64 \n",
      " 2   date            1197 non-null   object\n",
      " 3   revenue         1197 non-null   int64 \n",
      " 4   group           1197 non-null   object\n",
      "dtypes: int64(3), object(2)\n",
      "memory usage: 46.9+ KB\n"
     ]
    }
   ],
   "source": [
    "#посмотрим на общую информацию о таблице, на типы данных.\n",
    "orders.info()"
   ]
  },
  {
   "cell_type": "code",
   "execution_count": 8,
   "metadata": {
    "scrolled": false
   },
   "outputs": [
    {
     "data": {
      "text/html": [
       "<div>\n",
       "<style scoped>\n",
       "    .dataframe tbody tr th:only-of-type {\n",
       "        vertical-align: middle;\n",
       "    }\n",
       "\n",
       "    .dataframe tbody tr th {\n",
       "        vertical-align: top;\n",
       "    }\n",
       "\n",
       "    .dataframe thead th {\n",
       "        text-align: right;\n",
       "    }\n",
       "</style>\n",
       "<table border=\"1\" class=\"dataframe\">\n",
       "  <thead>\n",
       "    <tr style=\"text-align: right;\">\n",
       "      <th></th>\n",
       "      <th>transaction_id</th>\n",
       "      <th>visitor_id</th>\n",
       "      <th>revenue</th>\n",
       "    </tr>\n",
       "  </thead>\n",
       "  <tbody>\n",
       "    <tr>\n",
       "      <th>count</th>\n",
       "      <td>1.197000e+03</td>\n",
       "      <td>1.197000e+03</td>\n",
       "      <td>1.197000e+03</td>\n",
       "    </tr>\n",
       "    <tr>\n",
       "      <th>mean</th>\n",
       "      <td>2.155621e+09</td>\n",
       "      <td>2.165960e+09</td>\n",
       "      <td>8.348006e+03</td>\n",
       "    </tr>\n",
       "    <tr>\n",
       "      <th>std</th>\n",
       "      <td>1.229085e+09</td>\n",
       "      <td>1.236014e+09</td>\n",
       "      <td>3.919113e+04</td>\n",
       "    </tr>\n",
       "    <tr>\n",
       "      <th>min</th>\n",
       "      <td>1.062393e+06</td>\n",
       "      <td>5.114589e+06</td>\n",
       "      <td>5.000000e+01</td>\n",
       "    </tr>\n",
       "    <tr>\n",
       "      <th>25%</th>\n",
       "      <td>1.166776e+09</td>\n",
       "      <td>1.111826e+09</td>\n",
       "      <td>1.220000e+03</td>\n",
       "    </tr>\n",
       "    <tr>\n",
       "      <th>50%</th>\n",
       "      <td>2.145194e+09</td>\n",
       "      <td>2.217985e+09</td>\n",
       "      <td>2.978000e+03</td>\n",
       "    </tr>\n",
       "    <tr>\n",
       "      <th>75%</th>\n",
       "      <td>3.237740e+09</td>\n",
       "      <td>3.177606e+09</td>\n",
       "      <td>8.290000e+03</td>\n",
       "    </tr>\n",
       "    <tr>\n",
       "      <th>max</th>\n",
       "      <td>4.293856e+09</td>\n",
       "      <td>4.283872e+09</td>\n",
       "      <td>1.294500e+06</td>\n",
       "    </tr>\n",
       "  </tbody>\n",
       "</table>\n",
       "</div>"
      ],
      "text/plain": [
       "       transaction_id    visitor_id       revenue\n",
       "count    1.197000e+03  1.197000e+03  1.197000e+03\n",
       "mean     2.155621e+09  2.165960e+09  8.348006e+03\n",
       "std      1.229085e+09  1.236014e+09  3.919113e+04\n",
       "min      1.062393e+06  5.114589e+06  5.000000e+01\n",
       "25%      1.166776e+09  1.111826e+09  1.220000e+03\n",
       "50%      2.145194e+09  2.217985e+09  2.978000e+03\n",
       "75%      3.237740e+09  3.177606e+09  8.290000e+03\n",
       "max      4.293856e+09  4.283872e+09  1.294500e+06"
      ]
     },
     "execution_count": 8,
     "metadata": {},
     "output_type": "execute_result"
    }
   ],
   "source": [
    "#посмотрим, можем ли мы что-то увидеть из описания данных в таблице\n",
    "orders.describe()"
   ]
  },
  {
   "cell_type": "code",
   "execution_count": 9,
   "metadata": {},
   "outputs": [],
   "source": [
    "#приведём столбец date к типу datetime\n",
    "orders['date'] = pd.to_datetime(orders['date'])"
   ]
  },
  {
   "cell_type": "code",
   "execution_count": 10,
   "metadata": {},
   "outputs": [
    {
     "data": {
      "text/plain": [
       "0"
      ]
     },
     "execution_count": 10,
     "metadata": {},
     "output_type": "execute_result"
    }
   ],
   "source": [
    "#проверим таблицу на наличие дубликатов\n",
    "orders.duplicated().sum()"
   ]
  },
  {
   "cell_type": "code",
   "execution_count": 11,
   "metadata": {},
   "outputs": [
    {
     "name": "stdout",
     "output_type": "stream",
     "text": [
      "8348.005847953216\n",
      "2978.0\n",
      "50\n",
      "1294500\n"
     ]
    }
   ],
   "source": [
    "#посмотрим на среднее, максимальное и минимальное значение в столбце с выручкой.\n",
    "print(orders['revenue'].mean())\n",
    "print(orders['revenue'].median())\n",
    "print(orders['revenue'].min())\n",
    "print(orders['revenue'].max())"
   ]
  },
  {
   "cell_type": "markdown",
   "metadata": {},
   "source": [
    "Судя по тому, что среднее и медиана слишком сильно отклоняются от максимального значения, в столбце есть выбросы."
   ]
  },
  {
   "cell_type": "code",
   "execution_count": 12,
   "metadata": {},
   "outputs": [
    {
     "name": "stdout",
     "output_type": "stream",
     "text": [
      "<class 'pandas.core.frame.DataFrame'>\n",
      "RangeIndex: 1197 entries, 0 to 1196\n",
      "Data columns (total 5 columns):\n",
      " #   Column          Non-Null Count  Dtype         \n",
      "---  ------          --------------  -----         \n",
      " 0   transaction_id  1197 non-null   int64         \n",
      " 1   visitor_id      1197 non-null   int64         \n",
      " 2   date            1197 non-null   datetime64[ns]\n",
      " 3   revenue         1197 non-null   int64         \n",
      " 4   group           1197 non-null   object        \n",
      "dtypes: datetime64[ns](1), int64(3), object(1)\n",
      "memory usage: 46.9+ KB\n"
     ]
    }
   ],
   "source": [
    "#проверим, что тип данных в столбце с датой изменился\n",
    "orders.info()"
   ]
  },
  {
   "cell_type": "markdown",
   "metadata": {},
   "source": [
    "Теперь откроем таблицу visitors."
   ]
  },
  {
   "cell_type": "code",
   "execution_count": 13,
   "metadata": {},
   "outputs": [
    {
     "data": {
      "text/html": [
       "<div>\n",
       "<style scoped>\n",
       "    .dataframe tbody tr th:only-of-type {\n",
       "        vertical-align: middle;\n",
       "    }\n",
       "\n",
       "    .dataframe tbody tr th {\n",
       "        vertical-align: top;\n",
       "    }\n",
       "\n",
       "    .dataframe thead th {\n",
       "        text-align: right;\n",
       "    }\n",
       "</style>\n",
       "<table border=\"1\" class=\"dataframe\">\n",
       "  <thead>\n",
       "    <tr style=\"text-align: right;\">\n",
       "      <th></th>\n",
       "      <th>date</th>\n",
       "      <th>group</th>\n",
       "      <th>visitors</th>\n",
       "    </tr>\n",
       "  </thead>\n",
       "  <tbody>\n",
       "    <tr>\n",
       "      <th>0</th>\n",
       "      <td>2019-08-01</td>\n",
       "      <td>A</td>\n",
       "      <td>719</td>\n",
       "    </tr>\n",
       "    <tr>\n",
       "      <th>1</th>\n",
       "      <td>2019-08-02</td>\n",
       "      <td>A</td>\n",
       "      <td>619</td>\n",
       "    </tr>\n",
       "    <tr>\n",
       "      <th>2</th>\n",
       "      <td>2019-08-03</td>\n",
       "      <td>A</td>\n",
       "      <td>507</td>\n",
       "    </tr>\n",
       "    <tr>\n",
       "      <th>3</th>\n",
       "      <td>2019-08-04</td>\n",
       "      <td>A</td>\n",
       "      <td>717</td>\n",
       "    </tr>\n",
       "    <tr>\n",
       "      <th>4</th>\n",
       "      <td>2019-08-05</td>\n",
       "      <td>A</td>\n",
       "      <td>756</td>\n",
       "    </tr>\n",
       "  </tbody>\n",
       "</table>\n",
       "</div>"
      ],
      "text/plain": [
       "         date group  visitors\n",
       "0  2019-08-01     A       719\n",
       "1  2019-08-02     A       619\n",
       "2  2019-08-03     A       507\n",
       "3  2019-08-04     A       717\n",
       "4  2019-08-05     A       756"
      ]
     },
     "execution_count": 13,
     "metadata": {},
     "output_type": "execute_result"
    }
   ],
   "source": [
    "visitors = pd.read_csv('C:/Users/Anna/Desktop/Обучение/Аналитика Яндекс Практикум/Датасеты/visitors.csv')\n",
    "visitors.head(5)"
   ]
  },
  {
   "cell_type": "code",
   "execution_count": 14,
   "metadata": {},
   "outputs": [],
   "source": [
    "#приведём столбец date к типу datetime\n",
    "visitors['date'] = pd.to_datetime(visitors['date'])"
   ]
  },
  {
   "cell_type": "code",
   "execution_count": 15,
   "metadata": {
    "scrolled": true
   },
   "outputs": [
    {
     "data": {
      "text/plain": [
       "0"
      ]
     },
     "execution_count": 15,
     "metadata": {},
     "output_type": "execute_result"
    }
   ],
   "source": [
    "#проверим таблицу на наличие дубликатов\n",
    "visitors.duplicated().sum()"
   ]
  },
  {
   "cell_type": "code",
   "execution_count": 16,
   "metadata": {
    "scrolled": true
   },
   "outputs": [
    {
     "data": {
      "text/html": [
       "<div>\n",
       "<style scoped>\n",
       "    .dataframe tbody tr th:only-of-type {\n",
       "        vertical-align: middle;\n",
       "    }\n",
       "\n",
       "    .dataframe tbody tr th {\n",
       "        vertical-align: top;\n",
       "    }\n",
       "\n",
       "    .dataframe thead th {\n",
       "        text-align: right;\n",
       "    }\n",
       "</style>\n",
       "<table border=\"1\" class=\"dataframe\">\n",
       "  <thead>\n",
       "    <tr style=\"text-align: right;\">\n",
       "      <th></th>\n",
       "      <th>visitors</th>\n",
       "    </tr>\n",
       "  </thead>\n",
       "  <tbody>\n",
       "    <tr>\n",
       "      <th>count</th>\n",
       "      <td>62.000000</td>\n",
       "    </tr>\n",
       "    <tr>\n",
       "      <th>mean</th>\n",
       "      <td>607.290323</td>\n",
       "    </tr>\n",
       "    <tr>\n",
       "      <th>std</th>\n",
       "      <td>114.400560</td>\n",
       "    </tr>\n",
       "    <tr>\n",
       "      <th>min</th>\n",
       "      <td>361.000000</td>\n",
       "    </tr>\n",
       "    <tr>\n",
       "      <th>25%</th>\n",
       "      <td>534.000000</td>\n",
       "    </tr>\n",
       "    <tr>\n",
       "      <th>50%</th>\n",
       "      <td>624.500000</td>\n",
       "    </tr>\n",
       "    <tr>\n",
       "      <th>75%</th>\n",
       "      <td>710.500000</td>\n",
       "    </tr>\n",
       "    <tr>\n",
       "      <th>max</th>\n",
       "      <td>770.000000</td>\n",
       "    </tr>\n",
       "  </tbody>\n",
       "</table>\n",
       "</div>"
      ],
      "text/plain": [
       "         visitors\n",
       "count   62.000000\n",
       "mean   607.290323\n",
       "std    114.400560\n",
       "min    361.000000\n",
       "25%    534.000000\n",
       "50%    624.500000\n",
       "75%    710.500000\n",
       "max    770.000000"
      ]
     },
     "execution_count": 16,
     "metadata": {},
     "output_type": "execute_result"
    }
   ],
   "source": [
    "#посмотрим, сколько пользователей в день посещает страницу.\n",
    "visitors.describe()"
   ]
  },
  {
   "cell_type": "markdown",
   "metadata": {},
   "source": [
    "Видим, что в день приходит от 361 до 770 пользователей, причем и медиана, и среднее больше стремятся к верхнему значению."
   ]
  },
  {
   "cell_type": "code",
   "execution_count": 17,
   "metadata": {},
   "outputs": [
    {
     "name": "stdout",
     "output_type": "stream",
     "text": [
      "<class 'pandas.core.frame.DataFrame'>\n",
      "RangeIndex: 62 entries, 0 to 61\n",
      "Data columns (total 3 columns):\n",
      " #   Column    Non-Null Count  Dtype         \n",
      "---  ------    --------------  -----         \n",
      " 0   date      62 non-null     datetime64[ns]\n",
      " 1   group     62 non-null     object        \n",
      " 2   visitors  62 non-null     int64         \n",
      "dtypes: datetime64[ns](1), int64(1), object(1)\n",
      "memory usage: 1.6+ KB\n"
     ]
    }
   ],
   "source": [
    "visitors.info()"
   ]
  },
  {
   "cell_type": "markdown",
   "metadata": {},
   "source": [
    "Проверим, совпадают ли даты в таблицах orders и visitors.\n",
    "В таблице "
   ]
  },
  {
   "cell_type": "code",
   "execution_count": 18,
   "metadata": {},
   "outputs": [
    {
     "name": "stdout",
     "output_type": "stream",
     "text": [
      "31\n",
      "2019-08-01 00:00:00\n",
      "2019-08-31 00:00:00\n"
     ]
    }
   ],
   "source": [
    "print(orders['date'].nunique())\n",
    "print(orders['date'].min())\n",
    "print(orders['date'].max())"
   ]
  },
  {
   "cell_type": "code",
   "execution_count": 19,
   "metadata": {
    "scrolled": true
   },
   "outputs": [
    {
     "name": "stdout",
     "output_type": "stream",
     "text": [
      "31\n",
      "2019-08-01 00:00:00\n",
      "2019-08-31 00:00:00\n"
     ]
    }
   ],
   "source": [
    "print(visitors['date'].nunique())\n",
    "print(visitors['date'].min())\n",
    "print(visitors['date'].max())"
   ]
  },
  {
   "cell_type": "markdown",
   "metadata": {},
   "source": [
    "Посмотрим, как распределились пользователи по группам А и В."
   ]
  },
  {
   "cell_type": "code",
   "execution_count": 20,
   "metadata": {
    "scrolled": true
   },
   "outputs": [
    {
     "name": "stdout",
     "output_type": "stream",
     "text": [
      "Пользователи A: 18736\n",
      "Пользователи В: 18916\n"
     ]
    }
   ],
   "source": [
    "a_users = visitors[visitors['group']=='A']['visitors'].sum()\n",
    "b_users = visitors[visitors['group']=='B']['visitors'].sum()\n",
    "print('Пользователи A:',a_users)\n",
    "print('Пользователи В:', b_users)"
   ]
  },
  {
   "cell_type": "code",
   "execution_count": 21,
   "metadata": {},
   "outputs": [
    {
     "name": "stdout",
     "output_type": "stream",
     "text": [
      "Пользователи A: 503\n",
      "Пользователи В: 586\n"
     ]
    }
   ],
   "source": [
    "a_users = orders[orders['group']=='A']['visitor_id'].nunique()\n",
    "b_users = orders[orders['group']=='B']['visitor_id'].nunique()\n",
    "print('Пользователи A:',a_users)\n",
    "print('Пользователи В:', b_users)"
   ]
  },
  {
   "cell_type": "markdown",
   "metadata": {},
   "source": [
    "В группах неравное количество пользователей, но разница в пределах 1%. Такое различие не должно значительно повлиять на результат."
   ]
  },
  {
   "cell_type": "markdown",
   "metadata": {},
   "source": [
    "Теперь проверим, есть ли пользователи, которые попали сразу в обе группы."
   ]
  },
  {
   "cell_type": "code",
   "execution_count": 22,
   "metadata": {
    "scrolled": true
   },
   "outputs": [
    {
     "data": {
      "text/plain": [
       "58"
      ]
     },
     "execution_count": 22,
     "metadata": {},
     "output_type": "execute_result"
    }
   ],
   "source": [
    "ab_users = orders.groupby('visitor_id').agg({'group':'nunique'})\n",
    "ab_users = ab_users.query('group > 1')\n",
    "ab_users['group'].count()"
   ]
  },
  {
   "cell_type": "markdown",
   "metadata": {},
   "source": [
    "В таблице есть 58 пользователей, которые попали сразу в обе группы. Это не совсем правильно, но лучше их не удалять, т.к. они могли принести больше количество заказов или выручки."
   ]
  },
  {
   "cell_type": "markdown",
   "metadata": {},
   "source": [
    "### Вывод\n",
    "В обеих таблицах представлены данные за август 2019 года. Значит, можно объединять таблицы по датам.\n",
    "В таблицах не выявлены дубликаты и пустые значения. Можно приступать к анализу."
   ]
  },
  {
   "cell_type": "markdown",
   "metadata": {},
   "source": [
    "## Построение графика кумулятивной выручки по группам. \n",
    "\n",
    "Создадим таблицу куммулятивных данных по двум таблицам."
   ]
  },
  {
   "cell_type": "code",
   "execution_count": 23,
   "metadata": {},
   "outputs": [
    {
     "name": "stdout",
     "output_type": "stream",
     "text": [
      "        date group  orders  buyers  revenue  visitors\n",
      "0 2019-08-01     A      24      20   148579       719\n",
      "1 2019-08-01     B      21      20   101217       713\n",
      "2 2019-08-02     A      44      38   242401      1338\n",
      "3 2019-08-02     B      45      43   266748      1294\n",
      "4 2019-08-03     A      68      62   354874      1845\n"
     ]
    }
   ],
   "source": [
    "datesGroups = orders[['date','group']].drop_duplicates()\n",
    "\n",
    "ordersAggregated = datesGroups.apply(\n",
    "    lambda x: orders[np.logical_and(orders['date'] <= x['date'], orders['group'] == x['group'])].agg({\n",
    "'date' : 'max',\n",
    "'group' : 'max',\n",
    "'transaction_id' : pd.Series.nunique,\n",
    "'visitor_id' : pd.Series.nunique,\n",
    "'revenue' : 'sum'}), axis=1).sort_values(by=['date','group']) \n",
    "\n",
    "\n",
    "visitorsAggregated = datesGroups.apply(lambda x: visitors[np.logical_and(visitors['date'] <= x['date'], visitors['group'] == x['group'])].agg({'date' : 'max', 'group' : 'max', 'visitors' : 'sum'}), axis=1).sort_values(by=['date','group'])\n",
    "\n",
    "cumulativeData = ordersAggregated.merge(visitorsAggregated, left_on=['date', 'group'], right_on=['date', 'group'])\n",
    "\n",
    "cumulativeData.columns = ['date', 'group', 'orders', 'buyers', 'revenue', 'visitors']\n",
    "\n",
    "print(cumulativeData.head(5))\n"
   ]
  },
  {
   "cell_type": "markdown",
   "metadata": {},
   "source": [
    "Построим графики кумулятивной выручки по дням по группам."
   ]
  },
  {
   "cell_type": "code",
   "execution_count": 24,
   "metadata": {},
   "outputs": [
    {
     "data": {
      "image/png": "[encoded data removed]",
      "text/plain": [
       "<Figure size 864x360 with 1 Axes>"
      ]
     },
     "metadata": {
      "needs_background": "light"
     },
     "output_type": "display_data"
    }
   ],
   "source": [
    "cumulativeRevenueA = cumulativeData[cumulativeData['group']=='A'][['date','revenue', 'orders']]\n",
    "cumulativeRevenueB = cumulativeData[cumulativeData['group']=='B'][['date','revenue', 'orders']]\n",
    "\n",
    "plt.figure(figsize=(12,5))\n",
    "plt.plot(cumulativeRevenueA['date'], cumulativeRevenueA['revenue'], label='A')\n",
    "plt.plot(cumulativeRevenueB['date'], cumulativeRevenueB['revenue'], label='B')\n",
    "plt.xlabel('Дата')\n",
    "plt.ylabel('Выручка')\n",
    "plt.title('График кумулятивной выручки по дням') \n",
    "plt.legend() \n",
    "plt.show()"
   ]
  },
  {
   "cell_type": "markdown",
   "metadata": {},
   "source": [
    "### Вывод\n",
    "В начале месяца выручка в группе В росла быстрее, 13 августа выручка в группах А и В сравнялась, а дальше группа В стала явно лидировать. Но на графике заметен явный скачок в районе 18-19 августа. Мы помним, что у нас были заказы с экстремально высокой стоимостью. Возможно, они повлияли на график."
   ]
  },
  {
   "cell_type": "markdown",
   "metadata": {},
   "source": [
    "## Построение графика кумулятивного среднего чека по группам. "
   ]
  },
  {
   "cell_type": "code",
   "execution_count": 25,
   "metadata": {},
   "outputs": [
    {
     "data": {
      "image/png": "[encoded data removed]",
      "text/plain": [
       "<Figure size 864x360 with 1 Axes>"
      ]
     },
     "metadata": {
      "needs_background": "light"
     },
     "output_type": "display_data"
    }
   ],
   "source": [
    "plt.figure(figsize=(12,5))\n",
    "plt.plot(cumulativeRevenueA['date'], cumulativeRevenueA['revenue']/cumulativeRevenueA['orders'], label='A')\n",
    "plt.plot(cumulativeRevenueB['date'], cumulativeRevenueB['revenue']/cumulativeRevenueB['orders'], label='B')\n",
    "\n",
    "plt.xlabel('Дата')\n",
    "plt.ylabel('Средний чек')\n",
    "plt.title('График кумулятивного среднего чека по дням') \n",
    "plt.legend() \n",
    "plt.show()"
   ]
  },
  {
   "cell_type": "markdown",
   "metadata": {},
   "source": [
    "### Вывод\n",
    "График кумулятивного среднего чека похож на предыдущий, тоже видно всплеск 18-19 августа."
   ]
  },
  {
   "cell_type": "markdown",
   "metadata": {},
   "source": [
    "## Построение графика относительного изменения кумулятивного среднего чека группы B к группе A"
   ]
  },
  {
   "cell_type": "code",
   "execution_count": 26,
   "metadata": {},
   "outputs": [
    {
     "data": {
      "image/png": "[encoded data removed]",
      "text/plain": [
       "<Figure size 864x360 with 1 Axes>"
      ]
     },
     "metadata": {
      "needs_background": "light"
     },
     "output_type": "display_data"
    }
   ],
   "source": [
    "mergedCumulativeRevenue = cumulativeRevenueA.merge(cumulativeRevenueB, left_on='date', right_on='date', how='left', suffixes=['A', 'B'])\n",
    "plt.figure(figsize=(12,5))\n",
    "plt.plot(mergedCumulativeRevenue['date'], (mergedCumulativeRevenue['revenueB']/mergedCumulativeRevenue['ordersB'])/(mergedCumulativeRevenue['revenueA']/mergedCumulativeRevenue['ordersA'])-1)\n",
    "plt.axhline(y=0, color='black', linestyle='--') \n",
    "plt.xlabel('Дата')\n",
    "plt.ylabel('Относительное изменение')\n",
    "plt.title('График относительного изменения кумулятивного среднего чека группы B к группе A') \n",
    "plt.show()"
   ]
  },
  {
   "cell_type": "markdown",
   "metadata": {},
   "source": [
    "### Вывод\n",
    "Здесь мы видим относительные различия кумулятивного среднего чека группы B к группе A. Средний чек В сначала рос, в районе 7 августа начал падать, после 13 августа стал расти, и снова виден скачок 18-19 августа. Резкие взлёты и падения могут быть связаны с выбросами - экстремально дорогими или дешевыми заказами.\n"
   ]
  },
  {
   "cell_type": "markdown",
   "metadata": {},
   "source": [
    "## Построение графика кумулятивной конверсии по группам"
   ]
  },
  {
   "cell_type": "code",
   "execution_count": 27,
   "metadata": {},
   "outputs": [
    {
     "data": {
      "image/png": "[encoded data removed]",
      "text/plain": [
       "<Figure size 864x360 with 1 Axes>"
      ]
     },
     "metadata": {
      "needs_background": "light"
     },
     "output_type": "display_data"
    }
   ],
   "source": [
    "cumulativeData['conversion'] = cumulativeData['orders']/cumulativeData['visitors']\n",
    "cumulativeDataA = cumulativeData[cumulativeData['group']=='A']\n",
    "cumulativeDataB = cumulativeData[cumulativeData['group']=='B']\n",
    "plt.figure(figsize=(12,5))\n",
    "plt.plot(cumulativeDataA['date'], cumulativeDataA['conversion'], label='A')\n",
    "plt.plot(cumulativeDataB['date'], cumulativeDataB['conversion'], label='B')\n",
    "plt.legend()\n",
    "plt.xlabel('Дата')\n",
    "plt.ylabel('Конверсия')\n",
    "plt.title('График кумулятивной конверсии по группам') \n",
    "# задаем масштаб осей\n",
    "plt.axis([dt.datetime(2019, 7, 31), dt.datetime(2019, 9, 1), 0.025, 0.04])\n",
    "plt.show()"
   ]
  },
  {
   "cell_type": "markdown",
   "metadata": {},
   "source": [
    "### Вывод\n",
    "В начале месяца конверсия группы A была выше, но после пика в районе 3 августа она стала падать. Примерно после 10 августа конвервия группы В оставалась на одном уровне. Конверсия группы B была ниже А в начале месяца, но окло 6 августа превысила её, росла до 10 августа, далее также стабилизировалась. В целом за исследуемый период конверсия группы В была выше."
   ]
  },
  {
   "cell_type": "markdown",
   "metadata": {},
   "source": [
    "## Построение графика относительного изменения кумулятивной конверсии группы B к группе A"
   ]
  },
  {
   "cell_type": "code",
   "execution_count": 28,
   "metadata": {},
   "outputs": [
    {
     "data": {
      "image/png": "[encoded data removed]",
      "text/plain": [
       "<Figure size 864x360 with 1 Axes>"
      ]
     },
     "metadata": {
      "needs_background": "light"
     },
     "output_type": "display_data"
    }
   ],
   "source": [
    "cumulativeData['conversion'] = (\n",
    "    cumulativeData['orders'] / cumulativeData['visitors']\n",
    ")\n",
    "\n",
    "cumulativeDataA = cumulativeData[cumulativeData['group'] == 'A']\n",
    "cumulativeDataB = cumulativeData[cumulativeData['group'] == 'B']\n",
    "\n",
    "mergedCumulativeConversions = cumulativeDataA[['date','conversion']].merge(cumulativeDataB[['date','conversion']], left_on='date', right_on='date', how='left', suffixes=['A', 'B'])\n",
    "plt.figure(figsize=(12,5))\n",
    "plt.plot(mergedCumulativeConversions['date'], mergedCumulativeConversions['conversionB']/mergedCumulativeConversions['conversionA']-1, label=\"Относительный прирост конверсии группы B относительно группы A\")\n",
    "plt.legend()\n",
    "plt.xlabel('Дата')\n",
    "plt.ylabel('Относительное изменение')\n",
    "plt.title('График относительного изменения кумулятивной конверсии группы B к группе A')\n",
    "plt.axhline(y=0, color='black', linestyle='--')\n",
    "plt.axhline(y=0.2, color='grey', linestyle='--')\n",
    "plt.axis([\"2019-08-01\", '2019-08-31', -0.4, 0.4])\n",
    "plt.show()"
   ]
  },
  {
   "cell_type": "markdown",
   "metadata": {},
   "source": [
    "### Вывод\n",
    "В начале месяца конверсия группы В была ниже, чем А (кроме одного дня), после 6 августа стабильно была выше конверсии группы А максимум на 20%, в среднем на 10-15%."
   ]
  },
  {
   "cell_type": "markdown",
   "metadata": {},
   "source": [
    "## Распределение заказов по пользователям"
   ]
  },
  {
   "cell_type": "markdown",
   "metadata": {},
   "source": [
    "Создадим таблицу, в которой сгруппируем пользователей по количеству сделанных ими заказов. Затем построим график распределения."
   ]
  },
  {
   "cell_type": "code",
   "execution_count": 29,
   "metadata": {},
   "outputs": [
    {
     "name": "stdout",
     "output_type": "stream",
     "text": [
      "      visitor_id  orders\n",
      "1023  4256040402      11\n",
      "591   2458001652      11\n",
      "569   2378935119       9\n",
      "487   2038680547       8\n",
      "44     199603092       5\n",
      "744   3062433592       5\n",
      "55     237748145       5\n",
      "917   3803269165       5\n",
      "299   1230306981       5\n",
      "897   3717692402       5\n"
     ]
    },
    {
     "data": {
      "image/png": "[encoded data removed]",
      "text/plain": [
       "<Figure size 432x288 with 1 Axes>"
      ]
     },
     "metadata": {
      "needs_background": "light"
     },
     "output_type": "display_data"
    }
   ],
   "source": [
    "ordersByUsers = (\n",
    "    orders.groupby('visitor_id', as_index=False)\n",
    "    .agg({'transaction_id': 'nunique'})\n",
    ")\n",
    "ordersByUsers.columns = ['visitor_id', 'orders']\n",
    "\n",
    "print(ordersByUsers.sort_values(by='orders', ascending=False).head(10))\n",
    "plt.hist(ordersByUsers['orders']) \n",
    "plt.xlabel('Количество заказов')\n",
    "plt.ylabel('Количество пользователей')\n",
    "plt.title('Распределение заказов по пользователям')\n",
    "plt.show()"
   ]
  },
  {
   "cell_type": "markdown",
   "metadata": {},
   "source": [
    "Мы видим, что большинство пользователей совершило по одному заказу. Более четырех заказов - совсем мало пользователей, но построим точечный график, чтобы рассмотреть выбросы лучше."
   ]
  },
  {
   "cell_type": "code",
   "execution_count": 30,
   "metadata": {},
   "outputs": [
    {
     "data": {
      "image/png": "[encoded data removed]",
      "text/plain": [
       "<Figure size 432x288 with 1 Axes>"
      ]
     },
     "metadata": {
      "needs_background": "light"
     },
     "output_type": "display_data"
    }
   ],
   "source": [
    "x_values = pd.Series(range(0, len(ordersByUsers)))\n",
    "plt.scatter(x_values, ordersByUsers['orders']) \n",
    "plt.ylabel('Количество заказов')\n",
    "plt.xlabel('Пользователи')\n",
    "plt.title('Распределение заказов по пользователям')\n",
    "plt.show()"
   ]
  },
  {
   "cell_type": "markdown",
   "metadata": {},
   "source": [
    "Видим, что больше двух заказов размещают мало пользователей. Более пяти - совсем единичные случаи."
   ]
  },
  {
   "cell_type": "markdown",
   "metadata": {},
   "source": [
    "Посчитаем 95-й и 99-й перцентили количества заказов на пользователя."
   ]
  },
  {
   "cell_type": "code",
   "execution_count": 31,
   "metadata": {},
   "outputs": [
    {
     "name": "stdout",
     "output_type": "stream",
     "text": [
      "      visitor_id  orders\n",
      "1023  4256040402      11\n",
      "591   2458001652      11\n",
      "569   2378935119       9\n",
      "487   2038680547       8\n",
      "44     199603092       5\n",
      "744   3062433592       5\n",
      "55     237748145       5\n",
      "917   3803269165       5\n",
      "299   1230306981       5\n",
      "897   3717692402       5\n",
      "[1. 2. 4.]\n"
     ]
    }
   ],
   "source": [
    "print(ordersByUsers.sort_values(by='orders', ascending=False).head(10))\n",
    "\n",
    "print(np.percentile(ordersByUsers['orders'], [90, 95, 99])) "
   ]
  },
  {
   "cell_type": "markdown",
   "metadata": {},
   "source": [
    "### Вывод\n",
    "Получается, что не более 5% пользователей совершали больше 2 заказов, а более 4-х - не больше 1%.\n",
    "Будем считать аномальными тех пользователей, котрые совершили 4 и более заказов."
   ]
  },
  {
   "cell_type": "markdown",
   "metadata": {},
   "source": [
    "## Распределение пользователей по стоимости заказов\n",
    "\n",
    "Построим точечный график стоимостей заказов."
   ]
  },
  {
   "cell_type": "code",
   "execution_count": 32,
   "metadata": {
    "scrolled": true
   },
   "outputs": [
    {
     "name": "stdout",
     "output_type": "stream",
     "text": [
      "      transaction_id  visitor_id       date  revenue group\n",
      "425        590470918  1920142716 2019-08-19  1294500     B\n",
      "1196      3936777065  2108080724 2019-08-15   202740     B\n",
      "858        192721366  1316129916 2019-08-27    93940     A\n",
      "1136       666610489  1307669133 2019-08-13    92550     A\n",
      "744       3668308183   888512513 2019-08-27    86620     B\n",
      "682       1216533772  4266935830 2019-08-29    78990     B\n",
      "662       1811671147  4266935830 2019-08-29    78990     A\n",
      "743       3603576309  4133034833 2019-08-09    67990     A\n",
      "1103      1348774318  1164614297 2019-08-12    66350     A\n",
      "1099       316924019   148427295 2019-08-12    65710     A\n"
     ]
    },
    {
     "data": {
      "image/png": "[encoded data removed]",
      "text/plain": [
       "<Figure size 432x288 with 1 Axes>"
      ]
     },
     "metadata": {
      "needs_background": "light"
     },
     "output_type": "display_data"
    }
   ],
   "source": [
    "print(orders.sort_values(by='revenue', ascending=False).head(10))\n",
    "\n",
    "x_values = pd.Series(range(0, len(orders['revenue'])))\n",
    "plt.scatter(x_values, orders['revenue']) \n",
    "plt.ylabel('Сумма заказов')\n",
    "plt.xlabel('Номер наблюдения')\n",
    "plt.title('Распределение по стоимости заказов')\n",
    "plt.show()"
   ]
  },
  {
   "cell_type": "markdown",
   "metadata": {},
   "source": [
    "По графику видно, что у нас всего 2  выбивающихся заказа по стоимости, остальные заказы - менее 200 000."
   ]
  },
  {
   "cell_type": "code",
   "execution_count": 33,
   "metadata": {},
   "outputs": [
    {
     "data": {
      "image/png": "[encoded data removed]",
      "text/plain": [
       "<Figure size 432x288 with 1 Axes>"
      ]
     },
     "metadata": {
      "needs_background": "light"
     },
     "output_type": "display_data"
    }
   ],
   "source": [
    "x_values = pd.Series(range(0, len(orders['revenue'])))\n",
    "\n",
    "plt.scatter(x_values, orders['revenue']) \n",
    "plt.ylabel('Сумма заказов')\n",
    "plt.xlabel('Номер наблюдения')\n",
    "plt.title('Распределение по стоимости заказов')\n",
    "plt.ylim(0, 60000)\n",
    "plt.show()"
   ]
  },
  {
   "cell_type": "markdown",
   "metadata": {},
   "source": [
    "Посчитаем 95-й и 99-й перцентили стоимости заказов."
   ]
  },
  {
   "cell_type": "code",
   "execution_count": 34,
   "metadata": {},
   "outputs": [
    {
     "name": "stdout",
     "output_type": "stream",
     "text": [
      "[18168.  28000.  58233.2]\n"
     ]
    }
   ],
   "source": [
    "print(np.percentile(orders['revenue'], [90, 95, 99]))"
   ]
  },
  {
   "cell_type": "markdown",
   "metadata": {},
   "source": [
    "### Вывод\n",
    "Заказы дороже 28 000 оформляют не более 5% пользователей, а больше 58 233 - не более 1%. Будем считать аномальными заказы дороже 58233.2."
   ]
  },
  {
   "cell_type": "markdown",
   "metadata": {},
   "source": [
    "## Определение статистической значимости различий в конверсии между группами по «сырым» данным\n",
    "\n",
    "Начнём с подготовки данных.\n",
    "Объединим в одну таблицу все необходимые нам данные."
   ]
  },
  {
   "cell_type": "code",
   "execution_count": 35,
   "metadata": {},
   "outputs": [
    {
     "data": {
      "text/html": [
       "<div>\n",
       "<style scoped>\n",
       "    .dataframe tbody tr th:only-of-type {\n",
       "        vertical-align: middle;\n",
       "    }\n",
       "\n",
       "    .dataframe tbody tr th {\n",
       "        vertical-align: top;\n",
       "    }\n",
       "\n",
       "    .dataframe thead th {\n",
       "        text-align: right;\n",
       "    }\n",
       "</style>\n",
       "<table border=\"1\" class=\"dataframe\">\n",
       "  <thead>\n",
       "    <tr style=\"text-align: right;\">\n",
       "      <th></th>\n",
       "      <th>date</th>\n",
       "      <th>ordersPerDateA</th>\n",
       "      <th>revenuePerDateA</th>\n",
       "      <th>ordersPerDateB</th>\n",
       "      <th>revenuePerDateB</th>\n",
       "      <th>ordersCummulativeA</th>\n",
       "      <th>revenueCummulativeA</th>\n",
       "      <th>ordersCummulativeB</th>\n",
       "      <th>revenueCummulativeB</th>\n",
       "      <th>visitorsPerDateA</th>\n",
       "      <th>visitorsPerDateB</th>\n",
       "      <th>visitorsCummulativeA</th>\n",
       "      <th>visitorsCummulativeB</th>\n",
       "    </tr>\n",
       "  </thead>\n",
       "  <tbody>\n",
       "    <tr>\n",
       "      <th>0</th>\n",
       "      <td>2019-08-01</td>\n",
       "      <td>24</td>\n",
       "      <td>148579</td>\n",
       "      <td>21</td>\n",
       "      <td>101217</td>\n",
       "      <td>24</td>\n",
       "      <td>148579</td>\n",
       "      <td>21</td>\n",
       "      <td>101217</td>\n",
       "      <td>719</td>\n",
       "      <td>713</td>\n",
       "      <td>719</td>\n",
       "      <td>713</td>\n",
       "    </tr>\n",
       "    <tr>\n",
       "      <th>1</th>\n",
       "      <td>2019-08-02</td>\n",
       "      <td>20</td>\n",
       "      <td>93822</td>\n",
       "      <td>24</td>\n",
       "      <td>165531</td>\n",
       "      <td>44</td>\n",
       "      <td>242401</td>\n",
       "      <td>45</td>\n",
       "      <td>266748</td>\n",
       "      <td>619</td>\n",
       "      <td>581</td>\n",
       "      <td>1338</td>\n",
       "      <td>1294</td>\n",
       "    </tr>\n",
       "    <tr>\n",
       "      <th>2</th>\n",
       "      <td>2019-08-03</td>\n",
       "      <td>24</td>\n",
       "      <td>112473</td>\n",
       "      <td>16</td>\n",
       "      <td>114248</td>\n",
       "      <td>68</td>\n",
       "      <td>354874</td>\n",
       "      <td>61</td>\n",
       "      <td>380996</td>\n",
       "      <td>507</td>\n",
       "      <td>509</td>\n",
       "      <td>1845</td>\n",
       "      <td>1803</td>\n",
       "    </tr>\n",
       "    <tr>\n",
       "      <th>3</th>\n",
       "      <td>2019-08-04</td>\n",
       "      <td>16</td>\n",
       "      <td>70825</td>\n",
       "      <td>17</td>\n",
       "      <td>108571</td>\n",
       "      <td>84</td>\n",
       "      <td>425699</td>\n",
       "      <td>78</td>\n",
       "      <td>489567</td>\n",
       "      <td>717</td>\n",
       "      <td>770</td>\n",
       "      <td>2562</td>\n",
       "      <td>2573</td>\n",
       "    </tr>\n",
       "    <tr>\n",
       "      <th>4</th>\n",
       "      <td>2019-08-05</td>\n",
       "      <td>25</td>\n",
       "      <td>124218</td>\n",
       "      <td>23</td>\n",
       "      <td>92428</td>\n",
       "      <td>109</td>\n",
       "      <td>549917</td>\n",
       "      <td>101</td>\n",
       "      <td>581995</td>\n",
       "      <td>756</td>\n",
       "      <td>707</td>\n",
       "      <td>3318</td>\n",
       "      <td>3280</td>\n",
       "    </tr>\n",
       "  </tbody>\n",
       "</table>\n",
       "</div>"
      ],
      "text/plain": [
       "        date  ordersPerDateA  revenuePerDateA  ordersPerDateB  \\\n",
       "0 2019-08-01              24           148579              21   \n",
       "1 2019-08-02              20            93822              24   \n",
       "2 2019-08-03              24           112473              16   \n",
       "3 2019-08-04              16            70825              17   \n",
       "4 2019-08-05              25           124218              23   \n",
       "\n",
       "   revenuePerDateB  ordersCummulativeA  revenueCummulativeA  \\\n",
       "0           101217                  24               148579   \n",
       "1           165531                  44               242401   \n",
       "2           114248                  68               354874   \n",
       "3           108571                  84               425699   \n",
       "4            92428                 109               549917   \n",
       "\n",
       "   ordersCummulativeB  revenueCummulativeB  visitorsPerDateA  \\\n",
       "0                  21               101217               719   \n",
       "1                  45               266748               619   \n",
       "2                  61               380996               507   \n",
       "3                  78               489567               717   \n",
       "4                 101               581995               756   \n",
       "\n",
       "   visitorsPerDateB  visitorsCummulativeA  visitorsCummulativeB  \n",
       "0               713                   719                   713  \n",
       "1               581                  1338                  1294  \n",
       "2               509                  1845                  1803  \n",
       "3               770                  2562                  2573  \n",
       "4               707                  3318                  3280  "
      ]
     },
     "execution_count": 35,
     "metadata": {},
     "output_type": "execute_result"
    }
   ],
   "source": [
    "visitorsADaily = visitors[visitors['group'] == 'A'][['date', 'visitors']]\n",
    "visitorsADaily.columns = ['date', 'visitorsPerDateA']\n",
    "\n",
    "visitorsACummulative = visitorsADaily.apply(\n",
    "    lambda x: visitorsADaily[visitorsADaily['date'] <= x['date']].agg(\n",
    "        {'date': 'max', 'visitorsPerDateA': 'sum'}\n",
    "    ),\n",
    "    axis=1,\n",
    ")\n",
    "visitorsACummulative.columns = ['date', 'visitorsCummulativeA']\n",
    "\n",
    "visitorsBDaily = visitors[visitors['group'] == 'B'][['date', 'visitors']]\n",
    "visitorsBDaily.columns = ['date', 'visitorsPerDateB']\n",
    "\n",
    "visitorsBCummulative = visitorsBDaily.apply(\n",
    "    lambda x: visitorsBDaily[visitorsBDaily['date'] <= x['date']].agg(\n",
    "        {'date': 'max', 'visitorsPerDateB': 'sum'}\n",
    "    ),\n",
    "    axis=1,\n",
    ")\n",
    "visitorsBCummulative.columns = ['date', 'visitorsCummulativeB']\n",
    "\n",
    "ordersADaily = (\n",
    "    orders[orders['group'] == 'A'][['date', 'transaction_id', 'visitor_id', 'revenue']]\n",
    "    .groupby('date', as_index=False)\n",
    "    .agg({'transaction_id': pd.Series.nunique, 'revenue': 'sum'})\n",
    ")\n",
    "ordersADaily.columns = ['date', 'ordersPerDateA', 'revenuePerDateA']\n",
    "\n",
    "ordersACummulative = ordersADaily.apply(\n",
    "    lambda x: ordersADaily[ordersADaily['date'] <= x['date']].agg(\n",
    "        {'date': 'max', 'ordersPerDateA': 'sum', 'revenuePerDateA': 'sum'}\n",
    "    ),\n",
    "    axis=1,\n",
    ").sort_values(by=['date'])\n",
    "ordersACummulative.columns = [\n",
    "    'date',\n",
    "    'ordersCummulativeA',\n",
    "    'revenueCummulativeA',\n",
    "]\n",
    "\n",
    "ordersBDaily = (\n",
    "    orders[orders['group'] == 'B'][['date', 'transaction_id', 'visitor_id', 'revenue']]\n",
    "    .groupby('date', as_index=False)\n",
    "    .agg({'transaction_id': pd.Series.nunique, 'revenue': 'sum'})\n",
    ")\n",
    "\n",
    "ordersBDaily.columns = ['date', 'ordersPerDateB', 'revenuePerDateB']\n",
    "\n",
    "ordersBCummulative = ordersBDaily.apply(\n",
    "    lambda x: ordersBDaily[ordersBDaily['date'] <= x['date']].agg(\n",
    "        {'date': 'max', 'ordersPerDateB': 'sum', 'revenuePerDateB': 'sum'}\n",
    "    ),\n",
    "    axis=1,\n",
    ").sort_values(by=['date'])\n",
    "ordersBCummulative.columns = [\n",
    "    'date',\n",
    "    'ordersCummulativeB',\n",
    "    'revenueCummulativeB',\n",
    "]\n",
    "\n",
    "data = (\n",
    "    ordersADaily.merge(\n",
    "        ordersBDaily, left_on='date', right_on='date', how='left'\n",
    "    )\n",
    "    .merge(ordersACummulative, left_on='date', right_on='date', how='left')\n",
    "    .merge(ordersBCummulative, left_on='date', right_on='date', how='left')\n",
    "    .merge(visitorsADaily, left_on='date', right_on='date', how='left')\n",
    "    .merge(visitorsBDaily, left_on='date', right_on='date', how='left')\n",
    "    .merge(visitorsACummulative, left_on='date', right_on='date', how='left')\n",
    "    .merge(visitorsBCummulative, left_on='date', right_on='date', how='left')\n",
    ")\n",
    "data.head()"
   ]
  },
  {
   "cell_type": "markdown",
   "metadata": {},
   "source": [
    "Посчитаем количество совершенных заказов."
   ]
  },
  {
   "cell_type": "code",
   "execution_count": 36,
   "metadata": {},
   "outputs": [],
   "source": [
    "ordersByUsersA = (\n",
    "    orders[orders['group'] == 'A']\n",
    "    .groupby('visitor_id', as_index=False)\n",
    "    .agg({'transaction_id': pd.Series.nunique})\n",
    ")\n",
    "ordersByUsersA.columns = ['userId', 'orders']\n",
    "\n",
    "ordersByUsersB = (\n",
    "    orders[orders['group'] == 'B']\n",
    "    .groupby('visitor_id', as_index=False)\n",
    "    .agg({'transaction_id': pd.Series.nunique})\n",
    ")\n",
    "ordersByUsersB.columns = ['userId', 'orders'] "
   ]
  },
  {
   "cell_type": "markdown",
   "metadata": {},
   "source": [
    "Создадим переменные sampleA и sampleB по количеству заказов в каждой группе. \n",
    "Посчитаем p-value и относительный прирост.\n",
    "Гипотезы:\n",
    "Н0 - Конверсии между группами равны\n",
    "Н1 - Конверсии между группами различаются"
   ]
  },
  {
   "cell_type": "code",
   "execution_count": 37,
   "metadata": {},
   "outputs": [
    {
     "name": "stdout",
     "output_type": "stream",
     "text": [
      "p-value: 0.01679\n",
      "Относительный прирост группы B к группе A: 0.138\n"
     ]
    }
   ],
   "source": [
    "sampleA = pd.concat([ordersByUsersA['orders'],pd.Series(0, index=np.arange(data['visitorsPerDateA'].sum() - len(ordersByUsersA['orders'])), name='orders')],axis=0)\n",
    "\n",
    "sampleB = pd.concat([ordersByUsersB['orders'],pd.Series(0, index=np.arange(data['visitorsPerDateB'].sum() - len(ordersByUsersB['orders'])), name='orders')],axis=0)\n",
    "print(\"p-value: {0:.5f}\".format(stats.mannwhitneyu(sampleA, sampleB)[1]))\n",
    "print(\"Относительный прирост группы B к группе A: {0:.3f}\".format((data['ordersPerDateB'].sum()/data['visitorsPerDateB'].sum())/(data['ordersPerDateA'].sum()/data['visitorsPerDateA'].sum())-1))"
   ]
  },
  {
   "cell_type": "markdown",
   "metadata": {},
   "source": [
    "### Вывод\n",
    "Первое число — p-value = 0.01679 меньше 0.05. Значит, нулевую гипотезу о том, что статистически значимых различий в конверсии между группами нет, отвергаем. Однако относительный прирост коныерсии группы B равен 13.8%."
   ]
  },
  {
   "cell_type": "markdown",
   "metadata": {},
   "source": [
    "## Определение статистической значимости различий в среднем чеке заказа между группами по «сырым» данным\n",
    "\n",
    "Чтобы рассчитать статистическую значимость различий в среднем чеке, передадим критерию mannwhitneyu() данные о выручке с заказов.\n",
    "Н0 - Средний чек между группами равен\n",
    "Н1 - Средний чек между группами различается"
   ]
  },
  {
   "cell_type": "code",
   "execution_count": 38,
   "metadata": {},
   "outputs": [
    {
     "name": "stdout",
     "output_type": "stream",
     "text": [
      "p-value: 0.729\n",
      "Относительный прирост группы B к группе A: 0.259\n"
     ]
    }
   ],
   "source": [
    "print('p-value: {0:.3f}'.format(stats.mannwhitneyu(orders[orders['group']=='A']['revenue'], orders[orders['group']=='B']['revenue'])[1]))\n",
    "print('Относительный прирост группы B к группе A: {0:.3f}'.format(orders[orders['group']=='B']['revenue'].mean()/orders[orders['group']=='A']['revenue'].mean()-1)) "
   ]
  },
  {
   "cell_type": "markdown",
   "metadata": {},
   "source": [
    "### Вывод\n",
    "P-value значительно больше 0.05. Значит, причин отвергать нулевую гипотезу и считать, что в среднем чеке есть различия, нет. Впрочем, средний чек группы B значительно выше среднего чека группы A, почти на 26%."
   ]
  },
  {
   "cell_type": "markdown",
   "metadata": {},
   "source": [
    "## Определение статистической значимости различий в конверсии между группами по «очищенным» данным. \n",
    "\n",
    "Сначала выявим аномальных пользователей. Уберем 1% (согласно 99 перцентилю): это пользователи, которые совершили более 4 заказов и сумма заказа превышала 58233.2."
   ]
  },
  {
   "cell_type": "code",
   "execution_count": 39,
   "metadata": {},
   "outputs": [
    {
     "name": "stdout",
     "output_type": "stream",
     "text": [
      "1099     148427295\n",
      "949      887908475\n",
      "744      888512513\n",
      "1103    1164614297\n",
      "1136    1307669133\n",
      "dtype: int64\n"
     ]
    }
   ],
   "source": [
    "usersWithManyOrders = pd.concat(\n",
    "    [\n",
    "        ordersByUsersA[ordersByUsersA['orders'] > 4]['userId'],\n",
    "        ordersByUsersB[ordersByUsersB['orders'] > 4]['userId'],\n",
    "    ],\n",
    "    axis=0,\n",
    ")\n",
    "usersWithExpensiveOrders = orders[orders['revenue'] > 58233.2]['visitor_id']\n",
    "abnormalUsers = (\n",
    "    pd.concat([usersWithManyOrders, usersWithExpensiveOrders], axis=0)\n",
    "    .drop_duplicates()\n",
    "    .sort_values()\n",
    ")\n",
    "print(abnormalUsers.head(5))"
   ]
  },
  {
   "cell_type": "markdown",
   "metadata": {},
   "source": [
    "Посчитаем статистическую значимость различия конверсии после удаления аномальных пользователей.\n",
    "Н0 - Средний чек между группами равен \n",
    "Н1 - Средний чек между группами различается"
   ]
  },
  {
   "cell_type": "code",
   "execution_count": 40,
   "metadata": {
    "scrolled": true
   },
   "outputs": [
    {
     "name": "stdout",
     "output_type": "stream",
     "text": [
      "p-value: 0.01438\n",
      "Относительный прирост группы B к группе A: 0.153\n"
     ]
    }
   ],
   "source": [
    "sampleAFiltered = pd.concat(\n",
    "    [\n",
    "        ordersByUsersA[\n",
    "            np.logical_not(ordersByUsersA['userId'].isin(abnormalUsers))\n",
    "        ]['orders'],\n",
    "        pd.Series(\n",
    "            0,\n",
    "            index=np.arange(\n",
    "                data['visitorsPerDateA'].sum() - len(ordersByUsersA['orders'])\n",
    "            ),\n",
    "            name='orders',\n",
    "        ),\n",
    "    ],\n",
    "    axis=0,\n",
    ")\n",
    "\n",
    "sampleBFiltered = pd.concat(\n",
    "    [\n",
    "        ordersByUsersB[\n",
    "            np.logical_not(ordersByUsersB['userId'].isin(abnormalUsers))\n",
    "        ]['orders'],\n",
    "        pd.Series(\n",
    "            0,\n",
    "            index=np.arange(\n",
    "                data['visitorsPerDateB'].sum() - len(ordersByUsersB['orders'])\n",
    "            ),\n",
    "            name='orders',\n",
    "        ),\n",
    "    ],\n",
    "    axis=0,\n",
    ") \n",
    "\n",
    "print('p-value: {0:.5f}'.format(stats.mannwhitneyu(sampleAFiltered, sampleBFiltered)[1]))\n",
    "print('Относительный прирост группы B к группе A: {0:.3f}'.format(sampleBFiltered.mean()/sampleAFiltered.mean()-1)) "
   ]
  },
  {
   "cell_type": "markdown",
   "metadata": {},
   "source": [
    "### Вывод\n",
    "Как и в случае с сырыми данными p-value меньше 0.05, статистическая значимость достигнута. Сегмент В значительно лучше сегмента А. Значит, нулевую гипотезу о том, что статистически значимых различий в конверсии между группами нет, отвергаем\n"
   ]
  },
  {
   "cell_type": "markdown",
   "metadata": {},
   "source": [
    "## Определение статистической значимости различия средних чеков после удаления аномальных пользователей.\n",
    "\n",
    "Н0 - Средний чек между группами равен\n",
    "Н1 - Средний чек между группами различается"
   ]
  },
  {
   "cell_type": "code",
   "execution_count": 41,
   "metadata": {},
   "outputs": [
    {
     "name": "stdout",
     "output_type": "stream",
     "text": [
      "p-value: 0.851\n",
      "Относительный прирост Group_B к Group_A: -0.006\n"
     ]
    }
   ],
   "source": [
    "print(\n",
    "    'p-value: {0:.3f}'.format(\n",
    "        stats.mannwhitneyu(\n",
    "            orders[\n",
    "                np.logical_and(\n",
    "                    orders['group'] == 'A',\n",
    "                    np.logical_not(orders['visitor_id'].isin(abnormalUsers)),\n",
    "                )\n",
    "            ]['revenue'],\n",
    "            orders[\n",
    "                np.logical_and(\n",
    "                    orders['group'] == 'B',\n",
    "                    np.logical_not(orders['visitor_id'].isin(abnormalUsers)),\n",
    "                )\n",
    "            ]['revenue'],\n",
    "        )[1]\n",
    "    )\n",
    ")\n",
    "\n",
    "print(\n",
    "    \"Относительный прирост Group_B к Group_A: {0:.3f}\".format(\n",
    "        orders[\n",
    "            np.logical_and(\n",
    "                orders['group'] == 'B',\n",
    "                np.logical_not(orders['visitor_id'].isin(abnormalUsers)),\n",
    "            )\n",
    "        ]['revenue'].mean()\n",
    "        / orders[\n",
    "            np.logical_and(\n",
    "                orders['group'] == 'A',\n",
    "                np.logical_not(orders['visitor_id'].isin(abnormalUsers)),\n",
    "            )\n",
    "        ]['revenue'].mean()\n",
    "        - 1\n",
    "    )\n",
    ") "
   ]
  },
  {
   "cell_type": "markdown",
   "metadata": {},
   "source": [
    "### Вывод\n",
    "После очистки данных от аномалий p-value по среднему чеку не изменился - статистически значимых отличий между группами нет. Причин отвергать нулевую гипотезу нет. Относительное различие группы В относительно группы А после очистки данных упало, но составляет меньше 1%. "
   ]
  },
  {
   "cell_type": "markdown",
   "metadata": {},
   "source": [
    "## Общий вывод\n",
    "\n",
    "В ходе первой части проекта были проведены расчеты по определению приоритета нескольких содержащихся в таблице гипотез, самой приоритетной выбрана гипотеза №7.\n",
    "\n",
    "Вторая часть проекта позволила нам проанализировать результаты А/В теста.\n",
    "- В ходе исследования было обнаружено, что существует статистически значимое различие по конверсии между группами как по сырым данным, так и после очистки от аномальных значений, а вот по среднему чеку статистически значимых различий нет.\n",
    "- Судя по графикам, группа В показала лучшие результаты по сравнению с группой А. Конверсия лучше при одинаковом среднем чеке, а также видна тенденция к росту. \n",
    "- После проведения исследования можно предложить остановить тест и считать его успешным. Группу В можно считать успешнее, чем группу А."
   ]
  }
 ],
 "metadata": {
  "ExecuteTimeLog": [
   {
    "duration": 1539,
    "start_time": "2022-05-26T06:28:47.468Z"
   },
   {
    "duration": 64,
    "start_time": "2022-05-26T06:33:25.713Z"
   },
   {
    "duration": 624,
    "start_time": "2022-05-26T06:37:19.981Z"
   },
   {
    "duration": 338,
    "start_time": "2022-05-26T06:37:54.893Z"
   },
   {
    "duration": 26,
    "start_time": "2022-05-26T06:38:53.167Z"
   },
   {
    "duration": 30,
    "start_time": "2022-05-26T06:39:04.031Z"
   },
   {
    "duration": 14,
    "start_time": "2022-05-26T06:41:23.357Z"
   },
   {
    "duration": 2,
    "start_time": "2022-05-26T06:41:36.875Z"
   },
   {
    "duration": 30,
    "start_time": "2022-05-26T06:41:37.829Z"
   },
   {
    "duration": 11,
    "start_time": "2022-05-26T06:41:38.891Z"
   },
   {
    "duration": 14,
    "start_time": "2022-05-26T06:41:40.332Z"
   },
   {
    "duration": 13,
    "start_time": "2022-05-26T06:43:21.459Z"
   },
   {
    "duration": 12,
    "start_time": "2022-05-26T06:43:52.314Z"
   },
   {
    "duration": 10,
    "start_time": "2022-05-26T06:44:25.587Z"
   },
   {
    "duration": 93,
    "start_time": "2022-05-26T07:28:51.596Z"
   },
   {
    "duration": 50,
    "start_time": "2022-05-26T07:28:58.975Z"
   },
   {
    "duration": 12,
    "start_time": "2022-05-26T07:30:14.488Z"
   },
   {
    "duration": 9,
    "start_time": "2022-05-26T07:30:25.552Z"
   },
   {
    "duration": 10,
    "start_time": "2022-05-26T07:32:09.789Z"
   },
   {
    "duration": 9,
    "start_time": "2022-05-26T07:33:05.917Z"
   },
   {
    "duration": 6,
    "start_time": "2022-05-26T07:33:55.572Z"
   },
   {
    "duration": 17,
    "start_time": "2022-05-26T07:37:27.320Z"
   },
   {
    "duration": 5,
    "start_time": "2022-05-26T07:38:57.058Z"
   },
   {
    "duration": 8,
    "start_time": "2022-05-26T07:38:58.381Z"
   },
   {
    "duration": 19,
    "start_time": "2022-05-26T07:41:38.029Z"
   },
   {
    "duration": 6,
    "start_time": "2022-05-26T08:33:06.799Z"
   },
   {
    "duration": 5,
    "start_time": "2022-05-26T08:33:35.625Z"
   },
   {
    "duration": 10,
    "start_time": "2022-05-26T08:35:38.736Z"
   },
   {
    "duration": 62,
    "start_time": "2022-05-26T08:36:21.645Z"
   },
   {
    "duration": 32,
    "start_time": "2022-05-26T08:36:36.508Z"
   },
   {
    "duration": 7,
    "start_time": "2022-05-26T08:37:23.267Z"
   },
   {
    "duration": 8,
    "start_time": "2022-05-26T08:37:40.125Z"
   },
   {
    "duration": 10,
    "start_time": "2022-05-26T08:38:05.513Z"
   },
   {
    "duration": 12,
    "start_time": "2022-05-26T08:38:18.336Z"
   },
   {
    "duration": 7,
    "start_time": "2022-05-26T08:40:27.975Z"
   },
   {
    "duration": 7,
    "start_time": "2022-05-26T08:41:23.472Z"
   },
   {
    "duration": 6,
    "start_time": "2022-05-26T08:42:01.327Z"
   },
   {
    "duration": 4,
    "start_time": "2022-05-26T08:42:30.809Z"
   },
   {
    "duration": 5,
    "start_time": "2022-05-26T08:42:59.169Z"
   },
   {
    "duration": 8,
    "start_time": "2022-05-26T08:49:45.678Z"
   },
   {
    "duration": 30,
    "start_time": "2022-05-26T08:49:49.275Z"
   },
   {
    "duration": 11,
    "start_time": "2022-05-26T08:49:49.571Z"
   },
   {
    "duration": 23,
    "start_time": "2022-05-26T08:49:49.849Z"
   },
   {
    "duration": 52,
    "start_time": "2022-05-26T08:49:50.595Z"
   },
   {
    "duration": 8,
    "start_time": "2022-05-26T08:49:50.748Z"
   },
   {
    "duration": 11,
    "start_time": "2022-05-26T08:49:50.890Z"
   },
   {
    "duration": 17,
    "start_time": "2022-05-26T08:49:51.035Z"
   },
   {
    "duration": 5,
    "start_time": "2022-05-26T08:49:51.336Z"
   },
   {
    "duration": 6,
    "start_time": "2022-05-26T08:49:51.489Z"
   },
   {
    "duration": 5,
    "start_time": "2022-05-26T08:49:51.648Z"
   },
   {
    "duration": 9,
    "start_time": "2022-05-26T08:49:51.978Z"
   },
   {
    "duration": 30,
    "start_time": "2022-05-26T08:49:52.304Z"
   },
   {
    "duration": 4,
    "start_time": "2022-05-26T08:49:52.474Z"
   },
   {
    "duration": 6,
    "start_time": "2022-05-26T08:49:52.786Z"
   },
   {
    "duration": 12,
    "start_time": "2022-05-26T08:49:52.970Z"
   },
   {
    "duration": 12,
    "start_time": "2022-05-26T08:49:53.153Z"
   },
   {
    "duration": 5,
    "start_time": "2022-05-26T08:49:53.673Z"
   },
   {
    "duration": 5,
    "start_time": "2022-05-26T08:49:54.089Z"
   },
   {
    "duration": 32,
    "start_time": "2022-05-26T08:52:01.570Z"
   },
   {
    "duration": 26,
    "start_time": "2022-05-26T08:52:36.809Z"
   },
   {
    "duration": 29,
    "start_time": "2022-05-26T08:53:05.657Z"
   },
   {
    "duration": 29,
    "start_time": "2022-05-26T11:23:26.488Z"
   },
   {
    "duration": 3,
    "start_time": "2022-05-26T11:23:52.605Z"
   },
   {
    "duration": 29,
    "start_time": "2022-05-26T11:23:55.319Z"
   },
   {
    "duration": 10,
    "start_time": "2022-05-26T11:23:56.680Z"
   },
   {
    "duration": 11,
    "start_time": "2022-05-26T11:23:58.880Z"
   },
   {
    "duration": 50,
    "start_time": "2022-05-26T11:24:00.954Z"
   },
   {
    "duration": 8,
    "start_time": "2022-05-26T11:24:02.045Z"
   },
   {
    "duration": 9,
    "start_time": "2022-05-26T11:24:08.782Z"
   },
   {
    "duration": 18,
    "start_time": "2022-05-26T11:24:09.564Z"
   },
   {
    "duration": 5,
    "start_time": "2022-05-26T11:24:10.181Z"
   },
   {
    "duration": 6,
    "start_time": "2022-05-26T11:24:11.156Z"
   },
   {
    "duration": 5,
    "start_time": "2022-05-26T11:24:11.842Z"
   },
   {
    "duration": 9,
    "start_time": "2022-05-26T11:24:14.415Z"
   },
   {
    "duration": 29,
    "start_time": "2022-05-26T11:24:23.955Z"
   },
   {
    "duration": 4,
    "start_time": "2022-05-26T11:24:25.309Z"
   },
   {
    "duration": 5,
    "start_time": "2022-05-26T11:24:25.899Z"
   },
   {
    "duration": 10,
    "start_time": "2022-05-26T11:24:27.002Z"
   },
   {
    "duration": 265,
    "start_time": "2022-05-26T11:25:27.575Z"
   },
   {
    "duration": 542,
    "start_time": "2022-05-26T12:13:37.067Z"
   },
   {
    "duration": 280,
    "start_time": "2022-05-26T12:14:21.260Z"
   },
   {
    "duration": 225,
    "start_time": "2022-05-26T12:14:30.674Z"
   },
   {
    "duration": 186,
    "start_time": "2022-05-26T12:14:37.418Z"
   },
   {
    "duration": 178,
    "start_time": "2022-05-26T12:14:43.450Z"
   },
   {
    "duration": 169,
    "start_time": "2022-05-26T12:27:03.398Z"
   },
   {
    "duration": 180,
    "start_time": "2022-05-26T12:27:15.637Z"
   },
   {
    "duration": 320,
    "start_time": "2022-05-26T12:31:14.066Z"
   },
   {
    "duration": 281,
    "start_time": "2022-05-26T12:32:16.494Z"
   },
   {
    "duration": 143,
    "start_time": "2022-05-26T12:38:38.084Z"
   },
   {
    "duration": 157,
    "start_time": "2022-05-26T12:38:53.114Z"
   },
   {
    "duration": 143,
    "start_time": "2022-05-26T12:39:00.800Z"
   },
   {
    "duration": 257,
    "start_time": "2022-05-26T12:39:05.393Z"
   },
   {
    "duration": 4,
    "start_time": "2022-05-26T12:40:04.919Z"
   },
   {
    "duration": 194,
    "start_time": "2022-05-26T12:40:08.655Z"
   },
   {
    "duration": 199,
    "start_time": "2022-05-26T12:40:51.447Z"
   },
   {
    "duration": 173,
    "start_time": "2022-05-26T12:41:06.492Z"
   },
   {
    "duration": 193,
    "start_time": "2022-05-26T12:41:12.478Z"
   },
   {
    "duration": 271,
    "start_time": "2022-05-26T12:50:59.366Z"
   },
   {
    "duration": 293,
    "start_time": "2022-05-26T12:51:10.866Z"
   },
   {
    "duration": 349,
    "start_time": "2022-05-26T12:51:22.864Z"
   },
   {
    "duration": 13,
    "start_time": "2022-05-26T12:55:45.181Z"
   },
   {
    "duration": 6,
    "start_time": "2022-05-26T12:56:32.428Z"
   },
   {
    "duration": 32,
    "start_time": "2022-05-26T12:56:41.843Z"
   },
   {
    "duration": 15,
    "start_time": "2022-05-26T12:56:57.252Z"
   },
   {
    "duration": 130,
    "start_time": "2022-05-26T12:58:42.937Z"
   },
   {
    "duration": 106,
    "start_time": "2022-05-26T13:00:39.088Z"
   },
   {
    "duration": 7,
    "start_time": "2022-05-26T14:32:11.645Z"
   },
   {
    "duration": 9,
    "start_time": "2022-05-26T14:36:10.545Z"
   },
   {
    "duration": 13,
    "start_time": "2022-05-26T14:36:21.706Z"
   },
   {
    "duration": 14,
    "start_time": "2022-05-26T14:36:30.876Z"
   },
   {
    "duration": 145,
    "start_time": "2022-05-26T14:36:41.545Z"
   },
   {
    "duration": 4,
    "start_time": "2022-05-26T14:41:18.698Z"
   },
   {
    "duration": 110,
    "start_time": "2022-05-26T14:44:36.194Z"
   },
   {
    "duration": 107,
    "start_time": "2022-05-26T14:45:51.028Z"
   },
   {
    "duration": 106,
    "start_time": "2022-05-26T14:46:06.904Z"
   },
   {
    "duration": 223,
    "start_time": "2022-05-26T14:46:28.627Z"
   },
   {
    "duration": 13,
    "start_time": "2022-05-26T14:47:18.296Z"
   },
   {
    "duration": 126,
    "start_time": "2022-05-26T14:47:48.592Z"
   },
   {
    "duration": 34,
    "start_time": "2022-05-26T14:48:29.990Z"
   },
   {
    "duration": 11,
    "start_time": "2022-05-26T14:51:19.976Z"
   },
   {
    "duration": 58,
    "start_time": "2022-05-27T14:22:21.838Z"
   },
   {
    "duration": 1494,
    "start_time": "2022-05-27T14:22:38.780Z"
   },
   {
    "duration": 70,
    "start_time": "2022-05-27T14:22:40.276Z"
   },
   {
    "duration": 12,
    "start_time": "2022-05-27T14:22:40.347Z"
   },
   {
    "duration": 11,
    "start_time": "2022-05-27T14:22:40.361Z"
   },
   {
    "duration": 90,
    "start_time": "2022-05-27T14:22:40.373Z"
   },
   {
    "duration": 8,
    "start_time": "2022-05-27T14:22:40.465Z"
   },
   {
    "duration": 15,
    "start_time": "2022-05-27T14:22:40.475Z"
   },
   {
    "duration": 22,
    "start_time": "2022-05-27T14:22:40.492Z"
   },
   {
    "duration": 5,
    "start_time": "2022-05-27T14:22:40.516Z"
   },
   {
    "duration": 9,
    "start_time": "2022-05-27T14:22:40.525Z"
   },
   {
    "duration": 19,
    "start_time": "2022-05-27T14:22:40.536Z"
   },
   {
    "duration": 28,
    "start_time": "2022-05-27T14:22:40.557Z"
   },
   {
    "duration": 68,
    "start_time": "2022-05-27T14:22:40.587Z"
   },
   {
    "duration": 5,
    "start_time": "2022-05-27T14:22:40.657Z"
   },
   {
    "duration": 17,
    "start_time": "2022-05-27T14:22:40.664Z"
   },
   {
    "duration": 18,
    "start_time": "2022-05-27T14:22:40.683Z"
   },
   {
    "duration": 20,
    "start_time": "2022-05-27T14:22:40.703Z"
   },
   {
    "duration": 13,
    "start_time": "2022-05-27T14:22:40.726Z"
   },
   {
    "duration": 7,
    "start_time": "2022-05-27T14:22:40.741Z"
   },
   {
    "duration": 328,
    "start_time": "2022-05-27T14:22:40.750Z"
   },
   {
    "duration": 409,
    "start_time": "2022-05-27T14:22:41.080Z"
   },
   {
    "duration": 226,
    "start_time": "2022-05-27T14:22:41.491Z"
   },
   {
    "duration": 374,
    "start_time": "2022-05-27T14:22:41.719Z"
   },
   {
    "duration": 262,
    "start_time": "2022-05-27T14:22:42.096Z"
   },
   {
    "duration": 382,
    "start_time": "2022-05-27T14:22:42.360Z"
   },
   {
    "duration": 137,
    "start_time": "2022-05-27T14:22:42.745Z"
   },
   {
    "duration": 134,
    "start_time": "2022-05-27T14:22:42.895Z"
   },
   {
    "duration": 7,
    "start_time": "2022-05-27T14:22:43.033Z"
   },
   {
    "duration": 165,
    "start_time": "2022-05-27T14:22:43.042Z"
   },
   {
    "duration": 6,
    "start_time": "2022-05-27T14:22:43.210Z"
   },
   {
    "duration": 268,
    "start_time": "2022-05-27T14:22:43.218Z"
   },
   {
    "duration": 167,
    "start_time": "2022-05-27T14:22:43.488Z"
   },
   {
    "duration": 54,
    "start_time": "2022-05-27T14:22:43.657Z"
   },
   {
    "duration": 11,
    "start_time": "2022-05-27T14:22:43.713Z"
   },
   {
    "duration": 160,
    "start_time": "2022-05-27T14:22:43.726Z"
   },
   {
    "duration": 10,
    "start_time": "2022-05-27T14:24:04.614Z"
   },
   {
    "duration": 10,
    "start_time": "2022-05-27T14:26:06.268Z"
   },
   {
    "duration": 46,
    "start_time": "2022-05-27T14:26:38.954Z"
   },
   {
    "duration": 648,
    "start_time": "2022-05-27T14:27:54.430Z"
   },
   {
    "duration": 452,
    "start_time": "2022-05-27T14:28:15.359Z"
   },
   {
    "duration": 14,
    "start_time": "2022-05-27T14:28:31.456Z"
   },
   {
    "duration": 37,
    "start_time": "2022-05-27T14:47:10.457Z"
   },
   {
    "duration": 12,
    "start_time": "2022-05-27T14:47:52.269Z"
   },
   {
    "duration": 16,
    "start_time": "2022-05-27T14:48:47.422Z"
   },
   {
    "duration": 34,
    "start_time": "2022-05-27T14:48:52.864Z"
   },
   {
    "duration": 55,
    "start_time": "2022-05-28T08:22:05.987Z"
   },
   {
    "duration": 1276,
    "start_time": "2022-05-28T08:22:13.865Z"
   },
   {
    "duration": 72,
    "start_time": "2022-05-28T08:22:15.143Z"
   },
   {
    "duration": 11,
    "start_time": "2022-05-28T08:22:15.216Z"
   },
   {
    "duration": 10,
    "start_time": "2022-05-28T08:22:15.228Z"
   },
   {
    "duration": 74,
    "start_time": "2022-05-28T08:22:15.239Z"
   },
   {
    "duration": 8,
    "start_time": "2022-05-28T08:22:15.315Z"
   },
   {
    "duration": 12,
    "start_time": "2022-05-28T08:22:15.324Z"
   },
   {
    "duration": 17,
    "start_time": "2022-05-28T08:22:15.337Z"
   },
   {
    "duration": 4,
    "start_time": "2022-05-28T08:22:15.355Z"
   },
   {
    "duration": 5,
    "start_time": "2022-05-28T08:22:15.363Z"
   },
   {
    "duration": 4,
    "start_time": "2022-05-28T08:22:15.370Z"
   },
   {
    "duration": 13,
    "start_time": "2022-05-28T08:22:15.376Z"
   },
   {
    "duration": 61,
    "start_time": "2022-05-28T08:22:15.391Z"
   },
   {
    "duration": 4,
    "start_time": "2022-05-28T08:22:15.454Z"
   },
   {
    "duration": 7,
    "start_time": "2022-05-28T08:22:15.459Z"
   },
   {
    "duration": 12,
    "start_time": "2022-05-28T08:22:15.468Z"
   },
   {
    "duration": 11,
    "start_time": "2022-05-28T08:22:15.482Z"
   },
   {
    "duration": 6,
    "start_time": "2022-05-28T08:22:15.495Z"
   },
   {
    "duration": 9,
    "start_time": "2022-05-28T08:22:15.502Z"
   },
   {
    "duration": 357,
    "start_time": "2022-05-28T08:22:15.512Z"
   },
   {
    "duration": 293,
    "start_time": "2022-05-28T08:22:15.871Z"
   },
   {
    "duration": 190,
    "start_time": "2022-05-28T08:22:16.165Z"
   },
   {
    "duration": 347,
    "start_time": "2022-05-28T08:22:16.357Z"
   },
   {
    "duration": 200,
    "start_time": "2022-05-28T08:22:16.706Z"
   },
   {
    "duration": 283,
    "start_time": "2022-05-28T08:22:16.908Z"
   },
   {
    "duration": 120,
    "start_time": "2022-05-28T08:22:17.193Z"
   },
   {
    "duration": 115,
    "start_time": "2022-05-28T08:22:17.315Z"
   },
   {
    "duration": 6,
    "start_time": "2022-05-28T08:22:17.433Z"
   },
   {
    "duration": 143,
    "start_time": "2022-05-28T08:22:17.441Z"
   },
   {
    "duration": 5,
    "start_time": "2022-05-28T08:22:17.586Z"
   },
   {
    "duration": 234,
    "start_time": "2022-05-28T08:22:17.592Z"
   },
   {
    "duration": 159,
    "start_time": "2022-05-28T08:22:17.828Z"
   },
   {
    "duration": 30,
    "start_time": "2022-05-28T08:22:17.988Z"
   },
   {
    "duration": 10,
    "start_time": "2022-05-28T08:22:18.019Z"
   },
   {
    "duration": 8,
    "start_time": "2022-05-28T08:22:18.031Z"
   },
   {
    "duration": 60,
    "start_time": "2022-05-28T08:22:18.040Z"
   },
   {
    "duration": 12,
    "start_time": "2022-05-28T08:22:18.102Z"
   },
   {
    "duration": 12,
    "start_time": "2022-05-28T08:26:55.969Z"
   },
   {
    "duration": 102,
    "start_time": "2022-05-28T08:30:47.161Z"
   },
   {
    "duration": 8,
    "start_time": "2022-05-28T08:30:57.363Z"
   },
   {
    "duration": 8,
    "start_time": "2022-05-28T08:31:38.069Z"
   },
   {
    "duration": 46,
    "start_time": "2022-05-28T08:33:20.610Z"
   },
   {
    "duration": 28,
    "start_time": "2022-05-28T08:33:34.819Z"
   },
   {
    "duration": 5380,
    "start_time": "2022-05-28T08:35:38.619Z"
   },
   {
    "duration": 2548,
    "start_time": "2022-05-28T08:35:44.466Z"
   },
   {
    "duration": 13,
    "start_time": "2022-05-28T08:35:55.906Z"
   },
   {
    "duration": 10,
    "start_time": "2022-05-28T08:36:43.440Z"
   },
   {
    "duration": 10,
    "start_time": "2022-05-28T08:37:16.070Z"
   },
   {
    "duration": 20,
    "start_time": "2022-05-28T08:38:10.718Z"
   },
   {
    "duration": 6,
    "start_time": "2022-05-28T08:39:40.114Z"
   },
   {
    "duration": 11,
    "start_time": "2022-05-28T08:39:52.924Z"
   },
   {
    "duration": 6,
    "start_time": "2022-05-28T08:40:11.750Z"
   },
   {
    "duration": 6,
    "start_time": "2022-05-28T08:40:48.179Z"
   },
   {
    "duration": 6,
    "start_time": "2022-05-28T08:41:07.554Z"
   },
   {
    "duration": 9,
    "start_time": "2022-05-28T08:42:08.929Z"
   },
   {
    "duration": 193,
    "start_time": "2022-05-28T08:46:04.673Z"
   },
   {
    "duration": 231,
    "start_time": "2022-05-28T08:48:04.827Z"
   },
   {
    "duration": 278,
    "start_time": "2022-05-28T08:49:46.029Z"
   },
   {
    "duration": 306,
    "start_time": "2022-05-28T08:51:11.938Z"
   },
   {
    "duration": 308,
    "start_time": "2022-05-28T08:51:45.983Z"
   },
   {
    "duration": 309,
    "start_time": "2022-05-28T08:52:00.185Z"
   },
   {
    "duration": 188,
    "start_time": "2022-05-28T08:53:27.285Z"
   },
   {
    "duration": 346,
    "start_time": "2022-05-28T08:54:51.645Z"
   },
   {
    "duration": 124,
    "start_time": "2022-05-28T08:58:37.363Z"
   },
   {
    "duration": 115,
    "start_time": "2022-05-28T08:58:54.261Z"
   },
   {
    "duration": 117,
    "start_time": "2022-05-28T08:59:15.836Z"
   },
   {
    "duration": 115,
    "start_time": "2022-05-28T08:59:38.362Z"
   },
   {
    "duration": 138,
    "start_time": "2022-05-28T09:10:40.623Z"
   },
   {
    "duration": 138,
    "start_time": "2022-05-28T09:12:30.708Z"
   },
   {
    "duration": 29,
    "start_time": "2022-05-28T09:23:47.872Z"
   },
   {
    "duration": 10,
    "start_time": "2022-05-28T09:27:37.707Z"
   },
   {
    "duration": 10,
    "start_time": "2022-05-28T09:31:12.196Z"
   },
   {
    "duration": 31,
    "start_time": "2022-05-28T09:31:37.613Z"
   },
   {
    "duration": 213,
    "start_time": "2022-05-28T09:39:32.090Z"
   },
   {
    "duration": 99,
    "start_time": "2022-05-28T09:44:03.525Z"
   },
   {
    "duration": 110,
    "start_time": "2022-05-28T09:45:06.596Z"
   },
   {
    "duration": 208,
    "start_time": "2022-05-28T09:45:58.834Z"
   },
   {
    "duration": 123,
    "start_time": "2022-05-28T09:46:21.521Z"
   },
   {
    "duration": 28,
    "start_time": "2022-05-28T09:46:23.732Z"
   },
   {
    "duration": 9,
    "start_time": "2022-05-28T09:46:30.601Z"
   },
   {
    "duration": 1148,
    "start_time": "2022-05-28T10:03:33.581Z"
   },
   {
    "duration": 33,
    "start_time": "2022-05-28T10:03:34.731Z"
   },
   {
    "duration": 12,
    "start_time": "2022-05-28T10:03:34.768Z"
   },
   {
    "duration": 10,
    "start_time": "2022-05-28T10:03:34.781Z"
   },
   {
    "duration": 41,
    "start_time": "2022-05-28T10:03:34.793Z"
   },
   {
    "duration": 7,
    "start_time": "2022-05-28T10:03:34.836Z"
   },
   {
    "duration": 12,
    "start_time": "2022-05-28T10:03:34.845Z"
   },
   {
    "duration": 18,
    "start_time": "2022-05-28T10:03:34.859Z"
   },
   {
    "duration": 4,
    "start_time": "2022-05-28T10:03:34.879Z"
   },
   {
    "duration": 9,
    "start_time": "2022-05-28T10:03:34.884Z"
   },
   {
    "duration": 10,
    "start_time": "2022-05-28T10:03:34.895Z"
   },
   {
    "duration": 20,
    "start_time": "2022-05-28T10:03:34.906Z"
   },
   {
    "duration": 31,
    "start_time": "2022-05-28T10:03:34.928Z"
   },
   {
    "duration": 4,
    "start_time": "2022-05-28T10:03:34.961Z"
   },
   {
    "duration": 14,
    "start_time": "2022-05-28T10:03:34.966Z"
   },
   {
    "duration": 14,
    "start_time": "2022-05-28T10:03:34.982Z"
   },
   {
    "duration": 13,
    "start_time": "2022-05-28T10:03:34.997Z"
   },
   {
    "duration": 12,
    "start_time": "2022-05-28T10:03:35.012Z"
   },
   {
    "duration": 15,
    "start_time": "2022-05-28T10:03:35.026Z"
   },
   {
    "duration": 13,
    "start_time": "2022-05-28T10:03:35.042Z"
   },
   {
    "duration": 18,
    "start_time": "2022-05-28T10:03:35.057Z"
   },
   {
    "duration": 326,
    "start_time": "2022-05-28T10:03:35.077Z"
   },
   {
    "duration": 407,
    "start_time": "2022-05-28T10:03:35.405Z"
   },
   {
    "duration": 199,
    "start_time": "2022-05-28T10:03:35.813Z"
   },
   {
    "duration": 305,
    "start_time": "2022-05-28T10:03:36.014Z"
   },
   {
    "duration": 205,
    "start_time": "2022-05-28T10:03:36.321Z"
   },
   {
    "duration": 321,
    "start_time": "2022-05-28T10:03:36.529Z"
   },
   {
    "duration": 125,
    "start_time": "2022-05-28T10:03:36.852Z"
   },
   {
    "duration": 126,
    "start_time": "2022-05-28T10:03:36.979Z"
   },
   {
    "duration": 5,
    "start_time": "2022-05-28T10:03:37.107Z"
   },
   {
    "duration": 142,
    "start_time": "2022-05-28T10:03:37.114Z"
   },
   {
    "duration": 5,
    "start_time": "2022-05-28T10:03:37.258Z"
   },
   {
    "duration": 253,
    "start_time": "2022-05-28T10:03:37.264Z"
   },
   {
    "duration": 145,
    "start_time": "2022-05-28T10:03:37.519Z"
   },
   {
    "duration": 35,
    "start_time": "2022-05-28T10:03:37.666Z"
   },
   {
    "duration": 9,
    "start_time": "2022-05-28T10:03:37.703Z"
   },
   {
    "duration": 8,
    "start_time": "2022-05-28T10:03:37.713Z"
   },
   {
    "duration": 53,
    "start_time": "2022-05-28T10:03:37.723Z"
   },
   {
    "duration": 12,
    "start_time": "2022-05-28T10:03:37.778Z"
   },
   {
    "duration": 1480,
    "start_time": "2022-05-29T08:34:16.189Z"
   },
   {
    "duration": 85,
    "start_time": "2022-05-29T08:34:17.672Z"
   },
   {
    "duration": 15,
    "start_time": "2022-05-29T08:34:17.759Z"
   },
   {
    "duration": 14,
    "start_time": "2022-05-29T08:34:17.776Z"
   },
   {
    "duration": 106,
    "start_time": "2022-05-29T08:34:17.792Z"
   },
   {
    "duration": 11,
    "start_time": "2022-05-29T08:34:17.901Z"
   },
   {
    "duration": 26,
    "start_time": "2022-05-29T08:34:17.915Z"
   },
   {
    "duration": 48,
    "start_time": "2022-05-29T08:34:17.943Z"
   },
   {
    "duration": 6,
    "start_time": "2022-05-29T08:34:17.993Z"
   },
   {
    "duration": 14,
    "start_time": "2022-05-29T08:34:18.003Z"
   },
   {
    "duration": 39,
    "start_time": "2022-05-29T08:34:18.020Z"
   },
   {
    "duration": 18,
    "start_time": "2022-05-29T08:34:18.062Z"
   },
   {
    "duration": 90,
    "start_time": "2022-05-29T08:34:18.082Z"
   },
   {
    "duration": 5,
    "start_time": "2022-05-29T08:34:18.174Z"
   },
   {
    "duration": 17,
    "start_time": "2022-05-29T08:34:18.180Z"
   },
   {
    "duration": 47,
    "start_time": "2022-05-29T08:34:18.199Z"
   },
   {
    "duration": 20,
    "start_time": "2022-05-29T08:34:18.248Z"
   },
   {
    "duration": 15,
    "start_time": "2022-05-29T08:34:18.271Z"
   },
   {
    "duration": 7,
    "start_time": "2022-05-29T08:34:18.289Z"
   },
   {
    "duration": 17,
    "start_time": "2022-05-29T08:34:18.298Z"
   },
   {
    "duration": 34,
    "start_time": "2022-05-29T08:34:18.317Z"
   },
   {
    "duration": 456,
    "start_time": "2022-05-29T08:34:18.353Z"
   },
   {
    "duration": 631,
    "start_time": "2022-05-29T08:34:18.811Z"
   },
   {
    "duration": 307,
    "start_time": "2022-05-29T08:34:19.451Z"
   },
   {
    "duration": 409,
    "start_time": "2022-05-29T08:34:19.761Z"
   },
   {
    "duration": 302,
    "start_time": "2022-05-29T08:34:20.172Z"
   },
   {
    "duration": 465,
    "start_time": "2022-05-29T08:34:20.476Z"
   },
   {
    "duration": 209,
    "start_time": "2022-05-29T08:34:20.945Z"
   },
   {
    "duration": 220,
    "start_time": "2022-05-29T08:34:21.156Z"
   },
   {
    "duration": 9,
    "start_time": "2022-05-29T08:34:21.378Z"
   },
   {
    "duration": 216,
    "start_time": "2022-05-29T08:34:21.389Z"
   },
   {
    "duration": 6,
    "start_time": "2022-05-29T08:34:21.607Z"
   },
   {
    "duration": 345,
    "start_time": "2022-05-29T08:34:21.625Z"
   },
   {
    "duration": 261,
    "start_time": "2022-05-29T08:34:21.979Z"
   },
   {
    "duration": 69,
    "start_time": "2022-05-29T08:34:22.242Z"
   },
   {
    "duration": 16,
    "start_time": "2022-05-29T08:34:22.313Z"
   },
   {
    "duration": 29,
    "start_time": "2022-05-29T08:34:22.333Z"
   },
   {
    "duration": 59,
    "start_time": "2022-05-29T08:34:22.368Z"
   },
   {
    "duration": 19,
    "start_time": "2022-05-29T08:34:22.435Z"
   },
   {
    "duration": 59,
    "start_time": "2022-05-29T11:48:49.317Z"
   },
   {
    "duration": 1602,
    "start_time": "2022-05-29T11:48:53.186Z"
   },
   {
    "duration": 78,
    "start_time": "2022-05-29T11:48:55.367Z"
   },
   {
    "duration": 38,
    "start_time": "2022-05-29T11:49:07.734Z"
   },
   {
    "duration": 30,
    "start_time": "2022-05-29T11:49:17.118Z"
   },
   {
    "duration": 17,
    "start_time": "2022-05-29T11:50:23.388Z"
   },
   {
    "duration": 21,
    "start_time": "2022-05-29T11:53:42.262Z"
   },
   {
    "duration": 165,
    "start_time": "2022-05-29T11:55:35.382Z"
   },
   {
    "duration": 16,
    "start_time": "2022-05-29T11:56:22.873Z"
   },
   {
    "duration": 13,
    "start_time": "2022-05-29T11:59:32.167Z"
   },
   {
    "duration": 24,
    "start_time": "2022-05-29T11:59:47.288Z"
   },
   {
    "duration": 15,
    "start_time": "2022-05-29T12:00:05.748Z"
   },
   {
    "duration": 15,
    "start_time": "2022-05-29T12:00:16.132Z"
   },
   {
    "duration": 41,
    "start_time": "2022-05-29T12:00:17.661Z"
   },
   {
    "duration": 23,
    "start_time": "2022-05-29T12:00:20.234Z"
   },
   {
    "duration": 11,
    "start_time": "2022-05-29T12:01:30.944Z"
   },
   {
    "duration": 22,
    "start_time": "2022-05-29T12:01:49.891Z"
   },
   {
    "duration": 19,
    "start_time": "2022-05-29T12:01:57.939Z"
   },
   {
    "duration": 19,
    "start_time": "2022-05-29T12:03:23.316Z"
   },
   {
    "duration": 11,
    "start_time": "2022-05-29T12:03:49.576Z"
   },
   {
    "duration": 20,
    "start_time": "2022-05-29T12:04:03.544Z"
   },
   {
    "duration": 13,
    "start_time": "2022-05-29T12:05:40.427Z"
   },
   {
    "duration": 19,
    "start_time": "2022-05-29T12:15:44.832Z"
   },
   {
    "duration": 13,
    "start_time": "2022-05-29T12:22:29.214Z"
   },
   {
    "duration": 1713,
    "start_time": "2022-05-29T12:22:46.825Z"
   },
   {
    "duration": 53,
    "start_time": "2022-05-29T12:22:48.541Z"
   },
   {
    "duration": 29,
    "start_time": "2022-05-29T12:22:48.597Z"
   },
   {
    "duration": 46,
    "start_time": "2022-05-29T12:22:48.629Z"
   },
   {
    "duration": 186,
    "start_time": "2022-05-29T12:22:48.677Z"
   },
   {
    "duration": 10,
    "start_time": "2022-05-29T12:22:48.865Z"
   },
   {
    "duration": 26,
    "start_time": "2022-05-29T12:22:48.877Z"
   },
   {
    "duration": 69,
    "start_time": "2022-05-29T12:22:48.918Z"
   },
   {
    "duration": 9,
    "start_time": "2022-05-29T12:22:48.989Z"
   },
   {
    "duration": 65,
    "start_time": "2022-05-29T12:22:49.007Z"
   },
   {
    "duration": 5,
    "start_time": "2022-05-29T12:22:49.074Z"
   },
   {
    "duration": 15,
    "start_time": "2022-05-29T12:22:49.081Z"
   },
   {
    "duration": 172,
    "start_time": "2022-05-29T12:22:49.098Z"
   },
   {
    "duration": 4,
    "start_time": "2022-05-29T12:22:49.273Z"
   },
   {
    "duration": 9,
    "start_time": "2022-05-29T12:22:49.278Z"
   },
   {
    "duration": 84,
    "start_time": "2022-05-29T12:22:49.288Z"
   },
   {
    "duration": 13,
    "start_time": "2022-05-29T12:22:49.374Z"
   },
   {
    "duration": 11,
    "start_time": "2022-05-29T12:22:49.389Z"
   },
   {
    "duration": 61,
    "start_time": "2022-05-29T12:22:49.407Z"
   },
   {
    "duration": 6,
    "start_time": "2022-05-29T12:22:49.470Z"
   },
   {
    "duration": 8,
    "start_time": "2022-05-29T12:22:49.477Z"
   },
   {
    "duration": 22,
    "start_time": "2022-05-29T12:22:49.487Z"
   },
   {
    "duration": 489,
    "start_time": "2022-05-29T12:22:49.511Z"
   },
   {
    "duration": 615,
    "start_time": "2022-05-29T12:22:50.002Z"
   },
   {
    "duration": 324,
    "start_time": "2022-05-29T12:22:50.620Z"
   },
   {
    "duration": 399,
    "start_time": "2022-05-29T12:22:50.945Z"
   },
   {
    "duration": 310,
    "start_time": "2022-05-29T12:22:51.346Z"
   },
   {
    "duration": 446,
    "start_time": "2022-05-29T12:22:51.662Z"
   },
   {
    "duration": 260,
    "start_time": "2022-05-29T12:22:52.112Z"
   },
   {
    "duration": 188,
    "start_time": "2022-05-29T12:22:52.374Z"
   },
   {
    "duration": 7,
    "start_time": "2022-05-29T12:22:52.564Z"
   },
   {
    "duration": 205,
    "start_time": "2022-05-29T12:22:52.573Z"
   },
   {
    "duration": 5,
    "start_time": "2022-05-29T12:22:52.780Z"
   },
   {
    "duration": 298,
    "start_time": "2022-05-29T12:22:52.808Z"
   },
   {
    "duration": 179,
    "start_time": "2022-05-29T12:22:53.108Z"
   },
   {
    "duration": 61,
    "start_time": "2022-05-29T12:22:53.289Z"
   },
   {
    "duration": 36,
    "start_time": "2022-05-29T12:22:53.353Z"
   },
   {
    "duration": 18,
    "start_time": "2022-05-29T12:22:53.392Z"
   },
   {
    "duration": 73,
    "start_time": "2022-05-29T12:22:53.412Z"
   },
   {
    "duration": 22,
    "start_time": "2022-05-29T12:22:53.487Z"
   },
   {
    "duration": 11,
    "start_time": "2022-05-29T12:23:24.040Z"
   },
   {
    "duration": 397,
    "start_time": "2022-05-29T12:25:26.746Z"
   },
   {
    "duration": 313,
    "start_time": "2022-05-29T12:25:43.463Z"
   },
   {
    "duration": 261,
    "start_time": "2022-05-29T12:26:38.223Z"
   },
   {
    "duration": 383,
    "start_time": "2022-05-29T12:26:50.056Z"
   },
   {
    "duration": 267,
    "start_time": "2022-05-29T12:26:59.408Z"
   },
   {
    "duration": 432,
    "start_time": "2022-05-29T12:27:18.357Z"
   },
   {
    "duration": 344,
    "start_time": "2022-05-29T12:27:37.909Z"
   },
   {
    "duration": 422,
    "start_time": "2022-05-29T12:27:54.925Z"
   },
   {
    "duration": 275,
    "start_time": "2022-05-29T12:28:07.223Z"
   },
   {
    "duration": 326,
    "start_time": "2022-05-29T12:28:16.854Z"
   },
   {
    "duration": 156,
    "start_time": "2022-05-29T12:34:52.511Z"
   },
   {
    "duration": 239,
    "start_time": "2022-05-29T12:35:13.642Z"
   },
   {
    "duration": 275,
    "start_time": "2022-05-29T12:35:30.032Z"
   },
   {
    "duration": 267,
    "start_time": "2022-05-29T12:38:29.462Z"
   },
   {
    "duration": 238,
    "start_time": "2022-05-29T12:39:08.864Z"
   },
   {
    "duration": 214,
    "start_time": "2022-05-29T12:39:20.047Z"
   },
   {
    "duration": 151,
    "start_time": "2022-05-29T12:39:40.269Z"
   },
   {
    "duration": 223,
    "start_time": "2022-05-29T12:39:50.178Z"
   },
   {
    "duration": 54,
    "start_time": "2022-05-29T12:42:40.018Z"
   },
   {
    "duration": 180,
    "start_time": "2022-05-29T12:42:51.443Z"
   },
   {
    "duration": 23,
    "start_time": "2022-05-29T12:43:13.733Z"
   },
   {
    "duration": 195,
    "start_time": "2022-05-29T12:43:29.582Z"
   },
   {
    "duration": 284,
    "start_time": "2022-05-29T12:43:38.783Z"
   },
   {
    "duration": 245,
    "start_time": "2022-05-29T12:44:21.850Z"
   },
   {
    "duration": 249,
    "start_time": "2022-05-29T12:46:24.591Z"
   },
   {
    "duration": 217,
    "start_time": "2022-05-29T12:46:36.508Z"
   },
   {
    "duration": 250,
    "start_time": "2022-05-29T12:46:45.554Z"
   },
   {
    "duration": 236,
    "start_time": "2022-05-29T12:46:51.246Z"
   },
   {
    "duration": 228,
    "start_time": "2022-05-29T12:47:03.773Z"
   },
   {
    "duration": 202,
    "start_time": "2022-05-29T12:47:11.047Z"
   },
   {
    "duration": 218,
    "start_time": "2022-05-29T12:47:19.701Z"
   },
   {
    "duration": 1131,
    "start_time": "2022-05-29T14:04:30.245Z"
   },
   {
    "duration": 35,
    "start_time": "2022-05-29T14:04:31.378Z"
   },
   {
    "duration": 14,
    "start_time": "2022-05-29T14:04:31.415Z"
   },
   {
    "duration": 12,
    "start_time": "2022-05-29T14:04:31.431Z"
   },
   {
    "duration": 64,
    "start_time": "2022-05-29T14:04:31.445Z"
   },
   {
    "duration": 7,
    "start_time": "2022-05-29T14:04:31.511Z"
   },
   {
    "duration": 14,
    "start_time": "2022-05-29T14:04:31.520Z"
   },
   {
    "duration": 21,
    "start_time": "2022-05-29T14:04:31.535Z"
   },
   {
    "duration": 4,
    "start_time": "2022-05-29T14:04:31.558Z"
   },
   {
    "duration": 12,
    "start_time": "2022-05-29T14:04:31.563Z"
   },
   {
    "duration": 13,
    "start_time": "2022-05-29T14:04:31.577Z"
   },
   {
    "duration": 32,
    "start_time": "2022-05-29T14:04:31.592Z"
   },
   {
    "duration": 25,
    "start_time": "2022-05-29T14:04:31.625Z"
   },
   {
    "duration": 4,
    "start_time": "2022-05-29T14:04:31.653Z"
   },
   {
    "duration": 10,
    "start_time": "2022-05-29T14:04:31.659Z"
   },
   {
    "duration": 20,
    "start_time": "2022-05-29T14:04:31.671Z"
   },
   {
    "duration": 21,
    "start_time": "2022-05-29T14:04:31.693Z"
   },
   {
    "duration": 9,
    "start_time": "2022-05-29T14:04:31.716Z"
   },
   {
    "duration": 4,
    "start_time": "2022-05-29T14:04:31.726Z"
   },
   {
    "duration": 8,
    "start_time": "2022-05-29T14:04:31.732Z"
   },
   {
    "duration": 10,
    "start_time": "2022-05-29T14:04:31.742Z"
   },
   {
    "duration": 17,
    "start_time": "2022-05-29T14:04:31.753Z"
   },
   {
    "duration": 359,
    "start_time": "2022-05-29T14:04:31.772Z"
   },
   {
    "duration": 398,
    "start_time": "2022-05-29T14:04:32.133Z"
   },
   {
    "duration": 256,
    "start_time": "2022-05-29T14:04:32.534Z"
   },
   {
    "duration": 345,
    "start_time": "2022-05-29T14:04:32.791Z"
   },
   {
    "duration": 252,
    "start_time": "2022-05-29T14:04:33.138Z"
   },
   {
    "duration": 351,
    "start_time": "2022-05-29T14:04:33.391Z"
   },
   {
    "duration": 139,
    "start_time": "2022-05-29T14:04:33.744Z"
   },
   {
    "duration": 149,
    "start_time": "2022-05-29T14:04:33.886Z"
   },
   {
    "duration": 6,
    "start_time": "2022-05-29T14:04:34.037Z"
   },
   {
    "duration": 162,
    "start_time": "2022-05-29T14:04:34.045Z"
   },
   {
    "duration": 158,
    "start_time": "2022-05-29T14:04:34.209Z"
   },
   {
    "duration": 5,
    "start_time": "2022-05-29T14:04:34.369Z"
   },
   {
    "duration": 229,
    "start_time": "2022-05-29T14:04:34.375Z"
   },
   {
    "duration": 147,
    "start_time": "2022-05-29T14:04:34.606Z"
   },
   {
    "duration": 31,
    "start_time": "2022-05-29T14:04:34.754Z"
   },
   {
    "duration": 10,
    "start_time": "2022-05-29T14:04:34.787Z"
   },
   {
    "duration": 30,
    "start_time": "2022-05-29T14:04:34.799Z"
   },
   {
    "duration": 35,
    "start_time": "2022-05-29T14:04:34.831Z"
   },
   {
    "duration": 15,
    "start_time": "2022-05-29T14:04:34.870Z"
   }
  ],
  "kernelspec": {
   "display_name": "Python 3 (ipykernel)",
   "language": "python",
   "name": "python3"
  },
  "language_info": {
   "codemirror_mode": {
    "name": "ipython",
    "version": 3
   },
   "file_extension": ".py",
   "mimetype": "text/x-python",
   "name": "python",
   "nbconvert_exporter": "python",
   "pygments_lexer": "ipython3",
   "version": "3.9.12"
  },
  "toc": {
   "base_numbering": 1,
   "nav_menu": {},
   "number_sections": true,
   "sideBar": true,
   "skip_h1_title": true,
   "title_cell": "Table of Contents",
   "title_sidebar": "Contents",
   "toc_cell": false,
   "toc_position": {},
   "toc_section_display": true,
   "toc_window_display": false
  }
 },
 "nbformat": 4,
 "nbformat_minor": 2
}
