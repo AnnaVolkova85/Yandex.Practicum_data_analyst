{
 "cells": [
  {
   "cell_type": "markdown",
   "metadata": {},
   "source": [
    "# Исследование оттока клиентов сети фитнес-центров"
   ]
  },
  {
   "cell_type": "markdown",
   "metadata": {},
   "source": [
    "Сеть фитнес-центров  разрабатывает стратегию взаимодействия с клиентами на основе аналитических данных.\n",
    "Распространённая проблема фитнес-клубов и других сервисов — отток клиентов.\n",
    "\n",
    "Необходимо спрогнозировать вероятность оттока (на уровне следующего месяца) для каждого клиента;\n",
    "сформировать типичные портреты клиентов: выделить несколько наиболее ярких групп и охарактеризовать их основные свойства;\n",
    "проанализировать основные признаки, наиболее сильно влияющие на отток;\n",
    "сформулировать основные выводы и разработать рекомендации по повышению качества работы с клиентами:\n",
    "1) выделить целевые группы клиентов;\n",
    "2) предложить меры по снижению оттока;\n",
    "3) определить другие особенности взаимодействия с клиентами."
   ]
  },
  {
   "cell_type": "markdown",
   "metadata": {},
   "source": [
    "Цель исследования:\n",
    "\n",
    "Провести анализ и подготовить план действий по удержанию клиентов\n",
    "\n",
    "Задачи:\n",
    "- научиться прогнозировать вероятность оттока (на уровне следующего месяца) для каждого клиента;\n",
    "\n",
    "- сформировать типичные портреты клиентов: выделить несколько наиболее ярких групп и охарактеризовать их основные свойства;\n",
    "\n",
    "- проанализировать основные признаки, наиболее сильно влияющие на отток;\n",
    "\n",
    "- сформулировать основные выводы и разработать рекомендации по повышению качества работы с клиентами."
   ]
  },
  {
   "cell_type": "markdown",
   "metadata": {},
   "source": [
    "План работы\n",
    "\n",
    "Шаг 1. Загрузка данных\n",
    "\n",
    "Шаг 2. Иследовательский анализ данных (EDA)\n",
    "\n",
    "Шаг 3. Построение модели прогнозирования оттока клиентов\n",
    "\n",
    "Шаг 4. Кластеризация клиентов\n",
    "\n",
    "Шаг 5. Выводы и  базовые рекомендации по работе с клиентами\n",
    "\n"
   ]
  },
  {
   "cell_type": "markdown",
   "metadata": {},
   "source": [
    "## Шаг 1. Загрузка данных"
   ]
  },
  {
   "cell_type": "code",
   "execution_count": 1,
   "metadata": {},
   "outputs": [],
   "source": [
    "import pandas as pd\n",
    "import seaborn as sns\n",
    "from sklearn.preprocessing import StandardScaler\n",
    "from sklearn.model_selection import train_test_split\n",
    "from sklearn.linear_model import LogisticRegression\n",
    "from sklearn.ensemble import RandomForestClassifier\n",
    "\n",
    "from sklearn.tree import DecisionTreeRegressor\n",
    "from sklearn.ensemble import RandomForestRegressor, GradientBoostingRegressor\n",
    "from scipy.cluster.hierarchy import dendrogram, linkage\n",
    "import matplotlib.pyplot as plt\n",
    "from sklearn.metrics import accuracy_score, precision_score, recall_score, f1_score\n",
    "from sklearn.metrics import mean_absolute_error, mean_squared_error, r2_score\n",
    "from sklearn.cluster import KMeans"
   ]
  },
  {
   "cell_type": "markdown",
   "metadata": {},
   "source": [
    "Откроем файл и посмотрим, какие данные содержатся в таблице."
   ]
  },
  {
   "cell_type": "code",
   "execution_count": 2,
   "metadata": {
    "scrolled": true
   },
   "outputs": [
    {
     "data": {
      "text/html": [
       "<div>\n",
       "<style scoped>\n",
       "    .dataframe tbody tr th:only-of-type {\n",
       "        vertical-align: middle;\n",
       "    }\n",
       "\n",
       "    .dataframe tbody tr th {\n",
       "        vertical-align: top;\n",
       "    }\n",
       "\n",
       "    .dataframe thead th {\n",
       "        text-align: right;\n",
       "    }\n",
       "</style>\n",
       "<table border=\"1\" class=\"dataframe\">\n",
       "  <thead>\n",
       "    <tr style=\"text-align: right;\">\n",
       "      <th></th>\n",
       "      <th>gender</th>\n",
       "      <th>Near_Location</th>\n",
       "      <th>Partner</th>\n",
       "      <th>Promo_friends</th>\n",
       "      <th>Phone</th>\n",
       "      <th>Contract_period</th>\n",
       "      <th>Group_visits</th>\n",
       "      <th>Age</th>\n",
       "      <th>Avg_additional_charges_total</th>\n",
       "      <th>Month_to_end_contract</th>\n",
       "      <th>Lifetime</th>\n",
       "      <th>Avg_class_frequency_total</th>\n",
       "      <th>Avg_class_frequency_current_month</th>\n",
       "      <th>Churn</th>\n",
       "    </tr>\n",
       "  </thead>\n",
       "  <tbody>\n",
       "    <tr>\n",
       "      <th>0</th>\n",
       "      <td>1</td>\n",
       "      <td>1</td>\n",
       "      <td>1</td>\n",
       "      <td>1</td>\n",
       "      <td>0</td>\n",
       "      <td>6</td>\n",
       "      <td>1</td>\n",
       "      <td>29</td>\n",
       "      <td>14.227470</td>\n",
       "      <td>5.0</td>\n",
       "      <td>3</td>\n",
       "      <td>0.020398</td>\n",
       "      <td>0.000000</td>\n",
       "      <td>0</td>\n",
       "    </tr>\n",
       "    <tr>\n",
       "      <th>1</th>\n",
       "      <td>0</td>\n",
       "      <td>1</td>\n",
       "      <td>0</td>\n",
       "      <td>0</td>\n",
       "      <td>1</td>\n",
       "      <td>12</td>\n",
       "      <td>1</td>\n",
       "      <td>31</td>\n",
       "      <td>113.202938</td>\n",
       "      <td>12.0</td>\n",
       "      <td>7</td>\n",
       "      <td>1.922936</td>\n",
       "      <td>1.910244</td>\n",
       "      <td>0</td>\n",
       "    </tr>\n",
       "    <tr>\n",
       "      <th>2</th>\n",
       "      <td>0</td>\n",
       "      <td>1</td>\n",
       "      <td>1</td>\n",
       "      <td>0</td>\n",
       "      <td>1</td>\n",
       "      <td>1</td>\n",
       "      <td>0</td>\n",
       "      <td>28</td>\n",
       "      <td>129.448479</td>\n",
       "      <td>1.0</td>\n",
       "      <td>2</td>\n",
       "      <td>1.859098</td>\n",
       "      <td>1.736502</td>\n",
       "      <td>0</td>\n",
       "    </tr>\n",
       "    <tr>\n",
       "      <th>3</th>\n",
       "      <td>0</td>\n",
       "      <td>1</td>\n",
       "      <td>1</td>\n",
       "      <td>1</td>\n",
       "      <td>1</td>\n",
       "      <td>12</td>\n",
       "      <td>1</td>\n",
       "      <td>33</td>\n",
       "      <td>62.669863</td>\n",
       "      <td>12.0</td>\n",
       "      <td>2</td>\n",
       "      <td>3.205633</td>\n",
       "      <td>3.357215</td>\n",
       "      <td>0</td>\n",
       "    </tr>\n",
       "    <tr>\n",
       "      <th>4</th>\n",
       "      <td>1</td>\n",
       "      <td>1</td>\n",
       "      <td>1</td>\n",
       "      <td>1</td>\n",
       "      <td>1</td>\n",
       "      <td>1</td>\n",
       "      <td>0</td>\n",
       "      <td>26</td>\n",
       "      <td>198.362265</td>\n",
       "      <td>1.0</td>\n",
       "      <td>3</td>\n",
       "      <td>1.113884</td>\n",
       "      <td>1.120078</td>\n",
       "      <td>0</td>\n",
       "    </tr>\n",
       "  </tbody>\n",
       "</table>\n",
       "</div>"
      ],
      "text/plain": [
       "   gender  Near_Location  Partner  Promo_friends  Phone  Contract_period  \\\n",
       "0       1              1        1              1      0                6   \n",
       "1       0              1        0              0      1               12   \n",
       "2       0              1        1              0      1                1   \n",
       "3       0              1        1              1      1               12   \n",
       "4       1              1        1              1      1                1   \n",
       "\n",
       "   Group_visits  Age  Avg_additional_charges_total  Month_to_end_contract  \\\n",
       "0             1   29                     14.227470                    5.0   \n",
       "1             1   31                    113.202938                   12.0   \n",
       "2             0   28                    129.448479                    1.0   \n",
       "3             1   33                     62.669863                   12.0   \n",
       "4             0   26                    198.362265                    1.0   \n",
       "\n",
       "   Lifetime  Avg_class_frequency_total  Avg_class_frequency_current_month  \\\n",
       "0         3                   0.020398                           0.000000   \n",
       "1         7                   1.922936                           1.910244   \n",
       "2         2                   1.859098                           1.736502   \n",
       "3         2                   3.205633                           3.357215   \n",
       "4         3                   1.113884                           1.120078   \n",
       "\n",
       "   Churn  \n",
       "0      0  \n",
       "1      0  \n",
       "2      0  \n",
       "3      0  \n",
       "4      0  "
      ]
     },
     "execution_count": 2,
     "metadata": {},
     "output_type": "execute_result"
    }
   ],
   "source": [
    "data = pd.read_csv('C:/Users/Anna/Desktop/Обучение/Аналитика Яндекс Практикум/Датасеты/gym_churn.csv')\n",
    "data.head()"
   ]
  },
  {
   "cell_type": "markdown",
   "metadata": {},
   "source": [
    "Данные клиента за предыдущий до проверки факта оттока месяц:\n",
    "'gender' — пол;\n",
    "'Near_Location' — проживание или работа в районе, где находится фитнес-центр;\n",
    "'Partner' — сотрудник компании-партнёра клуба (сотрудничество с компаниями, чьи сотрудники могут получать скидки на абонемент — в таком случае фитнес-центр хранит информацию о работодателе клиента);\n",
    "Promo_friends — факт первоначальной записи в рамках акции «приведи друга» (использовал промо-код от знакомого при оплате первого абонемента);\n",
    "'Phone' — наличие контактного телефона;\n",
    "'Age' — возраст;\n",
    "'Lifetime' — время с момента первого обращения в фитнес-центр (в месяцах).\n",
    "Информация на основе журнала посещений, покупок и информация о текущем статусе абонемента клиента:\n",
    "'Contract_period' — длительность текущего действующего абонемента (месяц, 6 месяцев, год);\n",
    "'Month_to_end_contract' — срок до окончания текущего действующего абонемента (в месяцах);\n",
    "'Group_visits' — факт посещения групповых занятий;\n",
    "'Avg_class_frequency_total' — средняя частота посещений в неделю за все время с начала действия абонемента;\n",
    "'Avg_class_frequency_current_month' — средняя частота посещений в неделю за предыдущий месяц;\n",
    "'Avg_additional_charges_total' — суммарная выручка от других услуг фитнес-центра: кафе, спорттовары, косметический и массажный салон.\n",
    "'Churn' — факт оттока в текущем месяце."
   ]
  },
  {
   "cell_type": "markdown",
   "metadata": {},
   "source": [
    "## Шаг 2. Иследовательский анализ данных (EDA)"
   ]
  },
  {
   "cell_type": "markdown",
   "metadata": {},
   "source": [
    "Посмотрим общую информацию о таблице."
   ]
  },
  {
   "cell_type": "code",
   "execution_count": 3,
   "metadata": {
    "scrolled": true
   },
   "outputs": [
    {
     "name": "stdout",
     "output_type": "stream",
     "text": [
      "<class 'pandas.core.frame.DataFrame'>\n",
      "RangeIndex: 4000 entries, 0 to 3999\n",
      "Data columns (total 14 columns):\n",
      " #   Column                             Non-Null Count  Dtype  \n",
      "---  ------                             --------------  -----  \n",
      " 0   gender                             4000 non-null   int64  \n",
      " 1   Near_Location                      4000 non-null   int64  \n",
      " 2   Partner                            4000 non-null   int64  \n",
      " 3   Promo_friends                      4000 non-null   int64  \n",
      " 4   Phone                              4000 non-null   int64  \n",
      " 5   Contract_period                    4000 non-null   int64  \n",
      " 6   Group_visits                       4000 non-null   int64  \n",
      " 7   Age                                4000 non-null   int64  \n",
      " 8   Avg_additional_charges_total       4000 non-null   float64\n",
      " 9   Month_to_end_contract              4000 non-null   float64\n",
      " 10  Lifetime                           4000 non-null   int64  \n",
      " 11  Avg_class_frequency_total          4000 non-null   float64\n",
      " 12  Avg_class_frequency_current_month  4000 non-null   float64\n",
      " 13  Churn                              4000 non-null   int64  \n",
      "dtypes: float64(4), int64(10)\n",
      "memory usage: 437.6 KB\n"
     ]
    }
   ],
   "source": [
    "data.info()"
   ]
  },
  {
   "cell_type": "markdown",
   "metadata": {},
   "source": [
    "Пропусков нет, все типы данных указаны верно.\n",
    "\n",
    "Посмотрим, сколько всего столбцов и строк в таблице."
   ]
  },
  {
   "cell_type": "code",
   "execution_count": 4,
   "metadata": {
    "scrolled": true
   },
   "outputs": [
    {
     "data": {
      "text/plain": [
       "(4000, 14)"
      ]
     },
     "execution_count": 4,
     "metadata": {},
     "output_type": "execute_result"
    }
   ],
   "source": [
    "data.shape"
   ]
  },
  {
   "cell_type": "markdown",
   "metadata": {},
   "source": [
    "Посмотрим на средние показатели, медиану, стандартное отклонение и т.д."
   ]
  },
  {
   "cell_type": "code",
   "execution_count": 5,
   "metadata": {
    "scrolled": true
   },
   "outputs": [
    {
     "data": {
      "text/html": [
       "<div>\n",
       "<style scoped>\n",
       "    .dataframe tbody tr th:only-of-type {\n",
       "        vertical-align: middle;\n",
       "    }\n",
       "\n",
       "    .dataframe tbody tr th {\n",
       "        vertical-align: top;\n",
       "    }\n",
       "\n",
       "    .dataframe thead th {\n",
       "        text-align: right;\n",
       "    }\n",
       "</style>\n",
       "<table border=\"1\" class=\"dataframe\">\n",
       "  <thead>\n",
       "    <tr style=\"text-align: right;\">\n",
       "      <th></th>\n",
       "      <th>gender</th>\n",
       "      <th>Near_Location</th>\n",
       "      <th>Partner</th>\n",
       "      <th>Promo_friends</th>\n",
       "      <th>Phone</th>\n",
       "      <th>Contract_period</th>\n",
       "      <th>Group_visits</th>\n",
       "      <th>Age</th>\n",
       "      <th>Avg_additional_charges_total</th>\n",
       "      <th>Month_to_end_contract</th>\n",
       "      <th>Lifetime</th>\n",
       "      <th>Avg_class_frequency_total</th>\n",
       "      <th>Avg_class_frequency_current_month</th>\n",
       "      <th>Churn</th>\n",
       "    </tr>\n",
       "  </thead>\n",
       "  <tbody>\n",
       "    <tr>\n",
       "      <th>count</th>\n",
       "      <td>4000.000000</td>\n",
       "      <td>4000.000000</td>\n",
       "      <td>4000.000000</td>\n",
       "      <td>4000.000000</td>\n",
       "      <td>4000.000000</td>\n",
       "      <td>4000.000000</td>\n",
       "      <td>4000.000000</td>\n",
       "      <td>4000.000000</td>\n",
       "      <td>4000.000000</td>\n",
       "      <td>4000.000000</td>\n",
       "      <td>4000.000000</td>\n",
       "      <td>4000.000000</td>\n",
       "      <td>4000.000000</td>\n",
       "      <td>4000.000000</td>\n",
       "    </tr>\n",
       "    <tr>\n",
       "      <th>mean</th>\n",
       "      <td>0.510250</td>\n",
       "      <td>0.845250</td>\n",
       "      <td>0.486750</td>\n",
       "      <td>0.308500</td>\n",
       "      <td>0.903500</td>\n",
       "      <td>4.681250</td>\n",
       "      <td>0.412250</td>\n",
       "      <td>29.184250</td>\n",
       "      <td>146.943728</td>\n",
       "      <td>4.322750</td>\n",
       "      <td>3.724750</td>\n",
       "      <td>1.879020</td>\n",
       "      <td>1.767052</td>\n",
       "      <td>0.265250</td>\n",
       "    </tr>\n",
       "    <tr>\n",
       "      <th>std</th>\n",
       "      <td>0.499957</td>\n",
       "      <td>0.361711</td>\n",
       "      <td>0.499887</td>\n",
       "      <td>0.461932</td>\n",
       "      <td>0.295313</td>\n",
       "      <td>4.549706</td>\n",
       "      <td>0.492301</td>\n",
       "      <td>3.258367</td>\n",
       "      <td>96.355602</td>\n",
       "      <td>4.191297</td>\n",
       "      <td>3.749267</td>\n",
       "      <td>0.972245</td>\n",
       "      <td>1.052906</td>\n",
       "      <td>0.441521</td>\n",
       "    </tr>\n",
       "    <tr>\n",
       "      <th>min</th>\n",
       "      <td>0.000000</td>\n",
       "      <td>0.000000</td>\n",
       "      <td>0.000000</td>\n",
       "      <td>0.000000</td>\n",
       "      <td>0.000000</td>\n",
       "      <td>1.000000</td>\n",
       "      <td>0.000000</td>\n",
       "      <td>18.000000</td>\n",
       "      <td>0.148205</td>\n",
       "      <td>1.000000</td>\n",
       "      <td>0.000000</td>\n",
       "      <td>0.000000</td>\n",
       "      <td>0.000000</td>\n",
       "      <td>0.000000</td>\n",
       "    </tr>\n",
       "    <tr>\n",
       "      <th>25%</th>\n",
       "      <td>0.000000</td>\n",
       "      <td>1.000000</td>\n",
       "      <td>0.000000</td>\n",
       "      <td>0.000000</td>\n",
       "      <td>1.000000</td>\n",
       "      <td>1.000000</td>\n",
       "      <td>0.000000</td>\n",
       "      <td>27.000000</td>\n",
       "      <td>68.868830</td>\n",
       "      <td>1.000000</td>\n",
       "      <td>1.000000</td>\n",
       "      <td>1.180875</td>\n",
       "      <td>0.963003</td>\n",
       "      <td>0.000000</td>\n",
       "    </tr>\n",
       "    <tr>\n",
       "      <th>50%</th>\n",
       "      <td>1.000000</td>\n",
       "      <td>1.000000</td>\n",
       "      <td>0.000000</td>\n",
       "      <td>0.000000</td>\n",
       "      <td>1.000000</td>\n",
       "      <td>1.000000</td>\n",
       "      <td>0.000000</td>\n",
       "      <td>29.000000</td>\n",
       "      <td>136.220159</td>\n",
       "      <td>1.000000</td>\n",
       "      <td>3.000000</td>\n",
       "      <td>1.832768</td>\n",
       "      <td>1.719574</td>\n",
       "      <td>0.000000</td>\n",
       "    </tr>\n",
       "    <tr>\n",
       "      <th>75%</th>\n",
       "      <td>1.000000</td>\n",
       "      <td>1.000000</td>\n",
       "      <td>1.000000</td>\n",
       "      <td>1.000000</td>\n",
       "      <td>1.000000</td>\n",
       "      <td>6.000000</td>\n",
       "      <td>1.000000</td>\n",
       "      <td>31.000000</td>\n",
       "      <td>210.949625</td>\n",
       "      <td>6.000000</td>\n",
       "      <td>5.000000</td>\n",
       "      <td>2.536078</td>\n",
       "      <td>2.510336</td>\n",
       "      <td>1.000000</td>\n",
       "    </tr>\n",
       "    <tr>\n",
       "      <th>max</th>\n",
       "      <td>1.000000</td>\n",
       "      <td>1.000000</td>\n",
       "      <td>1.000000</td>\n",
       "      <td>1.000000</td>\n",
       "      <td>1.000000</td>\n",
       "      <td>12.000000</td>\n",
       "      <td>1.000000</td>\n",
       "      <td>41.000000</td>\n",
       "      <td>552.590740</td>\n",
       "      <td>12.000000</td>\n",
       "      <td>31.000000</td>\n",
       "      <td>6.023668</td>\n",
       "      <td>6.146783</td>\n",
       "      <td>1.000000</td>\n",
       "    </tr>\n",
       "  </tbody>\n",
       "</table>\n",
       "</div>"
      ],
      "text/plain": [
       "            gender  Near_Location      Partner  Promo_friends        Phone  \\\n",
       "count  4000.000000    4000.000000  4000.000000    4000.000000  4000.000000   \n",
       "mean      0.510250       0.845250     0.486750       0.308500     0.903500   \n",
       "std       0.499957       0.361711     0.499887       0.461932     0.295313   \n",
       "min       0.000000       0.000000     0.000000       0.000000     0.000000   \n",
       "25%       0.000000       1.000000     0.000000       0.000000     1.000000   \n",
       "50%       1.000000       1.000000     0.000000       0.000000     1.000000   \n",
       "75%       1.000000       1.000000     1.000000       1.000000     1.000000   \n",
       "max       1.000000       1.000000     1.000000       1.000000     1.000000   \n",
       "\n",
       "       Contract_period  Group_visits          Age  \\\n",
       "count      4000.000000   4000.000000  4000.000000   \n",
       "mean          4.681250      0.412250    29.184250   \n",
       "std           4.549706      0.492301     3.258367   \n",
       "min           1.000000      0.000000    18.000000   \n",
       "25%           1.000000      0.000000    27.000000   \n",
       "50%           1.000000      0.000000    29.000000   \n",
       "75%           6.000000      1.000000    31.000000   \n",
       "max          12.000000      1.000000    41.000000   \n",
       "\n",
       "       Avg_additional_charges_total  Month_to_end_contract     Lifetime  \\\n",
       "count                   4000.000000            4000.000000  4000.000000   \n",
       "mean                     146.943728               4.322750     3.724750   \n",
       "std                       96.355602               4.191297     3.749267   \n",
       "min                        0.148205               1.000000     0.000000   \n",
       "25%                       68.868830               1.000000     1.000000   \n",
       "50%                      136.220159               1.000000     3.000000   \n",
       "75%                      210.949625               6.000000     5.000000   \n",
       "max                      552.590740              12.000000    31.000000   \n",
       "\n",
       "       Avg_class_frequency_total  Avg_class_frequency_current_month  \\\n",
       "count                4000.000000                        4000.000000   \n",
       "mean                    1.879020                           1.767052   \n",
       "std                     0.972245                           1.052906   \n",
       "min                     0.000000                           0.000000   \n",
       "25%                     1.180875                           0.963003   \n",
       "50%                     1.832768                           1.719574   \n",
       "75%                     2.536078                           2.510336   \n",
       "max                     6.023668                           6.146783   \n",
       "\n",
       "             Churn  \n",
       "count  4000.000000  \n",
       "mean      0.265250  \n",
       "std       0.441521  \n",
       "min       0.000000  \n",
       "25%       0.000000  \n",
       "50%       0.000000  \n",
       "75%       1.000000  \n",
       "max       1.000000  "
      ]
     },
     "execution_count": 5,
     "metadata": {},
     "output_type": "execute_result"
    }
   ],
   "source": [
    "data.describe()"
   ]
  },
  {
   "cell_type": "markdown",
   "metadata": {},
   "source": [
    "Приведем все названия столбцов к нижнему регистру для удобства."
   ]
  },
  {
   "cell_type": "code",
   "execution_count": 6,
   "metadata": {},
   "outputs": [],
   "source": [
    "data.columns = [i.lower() for i in data]"
   ]
  },
  {
   "cell_type": "code",
   "execution_count": 7,
   "metadata": {
    "scrolled": true
   },
   "outputs": [
    {
     "data": {
      "text/html": [
       "<div>\n",
       "<style scoped>\n",
       "    .dataframe tbody tr th:only-of-type {\n",
       "        vertical-align: middle;\n",
       "    }\n",
       "\n",
       "    .dataframe tbody tr th {\n",
       "        vertical-align: top;\n",
       "    }\n",
       "\n",
       "    .dataframe thead th {\n",
       "        text-align: right;\n",
       "    }\n",
       "</style>\n",
       "<table border=\"1\" class=\"dataframe\">\n",
       "  <thead>\n",
       "    <tr style=\"text-align: right;\">\n",
       "      <th></th>\n",
       "      <th>gender</th>\n",
       "      <th>near_location</th>\n",
       "      <th>partner</th>\n",
       "      <th>promo_friends</th>\n",
       "      <th>phone</th>\n",
       "      <th>contract_period</th>\n",
       "      <th>group_visits</th>\n",
       "      <th>age</th>\n",
       "      <th>avg_additional_charges_total</th>\n",
       "      <th>month_to_end_contract</th>\n",
       "      <th>lifetime</th>\n",
       "      <th>avg_class_frequency_total</th>\n",
       "      <th>avg_class_frequency_current_month</th>\n",
       "      <th>churn</th>\n",
       "    </tr>\n",
       "  </thead>\n",
       "  <tbody>\n",
       "    <tr>\n",
       "      <th>0</th>\n",
       "      <td>1</td>\n",
       "      <td>1</td>\n",
       "      <td>1</td>\n",
       "      <td>1</td>\n",
       "      <td>0</td>\n",
       "      <td>6</td>\n",
       "      <td>1</td>\n",
       "      <td>29</td>\n",
       "      <td>14.227470</td>\n",
       "      <td>5.0</td>\n",
       "      <td>3</td>\n",
       "      <td>0.020398</td>\n",
       "      <td>0.000000</td>\n",
       "      <td>0</td>\n",
       "    </tr>\n",
       "    <tr>\n",
       "      <th>1</th>\n",
       "      <td>0</td>\n",
       "      <td>1</td>\n",
       "      <td>0</td>\n",
       "      <td>0</td>\n",
       "      <td>1</td>\n",
       "      <td>12</td>\n",
       "      <td>1</td>\n",
       "      <td>31</td>\n",
       "      <td>113.202938</td>\n",
       "      <td>12.0</td>\n",
       "      <td>7</td>\n",
       "      <td>1.922936</td>\n",
       "      <td>1.910244</td>\n",
       "      <td>0</td>\n",
       "    </tr>\n",
       "    <tr>\n",
       "      <th>2</th>\n",
       "      <td>0</td>\n",
       "      <td>1</td>\n",
       "      <td>1</td>\n",
       "      <td>0</td>\n",
       "      <td>1</td>\n",
       "      <td>1</td>\n",
       "      <td>0</td>\n",
       "      <td>28</td>\n",
       "      <td>129.448479</td>\n",
       "      <td>1.0</td>\n",
       "      <td>2</td>\n",
       "      <td>1.859098</td>\n",
       "      <td>1.736502</td>\n",
       "      <td>0</td>\n",
       "    </tr>\n",
       "    <tr>\n",
       "      <th>3</th>\n",
       "      <td>0</td>\n",
       "      <td>1</td>\n",
       "      <td>1</td>\n",
       "      <td>1</td>\n",
       "      <td>1</td>\n",
       "      <td>12</td>\n",
       "      <td>1</td>\n",
       "      <td>33</td>\n",
       "      <td>62.669863</td>\n",
       "      <td>12.0</td>\n",
       "      <td>2</td>\n",
       "      <td>3.205633</td>\n",
       "      <td>3.357215</td>\n",
       "      <td>0</td>\n",
       "    </tr>\n",
       "    <tr>\n",
       "      <th>4</th>\n",
       "      <td>1</td>\n",
       "      <td>1</td>\n",
       "      <td>1</td>\n",
       "      <td>1</td>\n",
       "      <td>1</td>\n",
       "      <td>1</td>\n",
       "      <td>0</td>\n",
       "      <td>26</td>\n",
       "      <td>198.362265</td>\n",
       "      <td>1.0</td>\n",
       "      <td>3</td>\n",
       "      <td>1.113884</td>\n",
       "      <td>1.120078</td>\n",
       "      <td>0</td>\n",
       "    </tr>\n",
       "  </tbody>\n",
       "</table>\n",
       "</div>"
      ],
      "text/plain": [
       "   gender  near_location  partner  promo_friends  phone  contract_period  \\\n",
       "0       1              1        1              1      0                6   \n",
       "1       0              1        0              0      1               12   \n",
       "2       0              1        1              0      1                1   \n",
       "3       0              1        1              1      1               12   \n",
       "4       1              1        1              1      1                1   \n",
       "\n",
       "   group_visits  age  avg_additional_charges_total  month_to_end_contract  \\\n",
       "0             1   29                     14.227470                    5.0   \n",
       "1             1   31                    113.202938                   12.0   \n",
       "2             0   28                    129.448479                    1.0   \n",
       "3             1   33                     62.669863                   12.0   \n",
       "4             0   26                    198.362265                    1.0   \n",
       "\n",
       "   lifetime  avg_class_frequency_total  avg_class_frequency_current_month  \\\n",
       "0         3                   0.020398                           0.000000   \n",
       "1         7                   1.922936                           1.910244   \n",
       "2         2                   1.859098                           1.736502   \n",
       "3         2                   3.205633                           3.357215   \n",
       "4         3                   1.113884                           1.120078   \n",
       "\n",
       "   churn  \n",
       "0      0  \n",
       "1      0  \n",
       "2      0  \n",
       "3      0  \n",
       "4      0  "
      ]
     },
     "execution_count": 7,
     "metadata": {},
     "output_type": "execute_result"
    }
   ],
   "source": [
    "data.head()"
   ]
  },
  {
   "cell_type": "markdown",
   "metadata": {},
   "source": [
    "Проверим таблицу на наличие дубликатов."
   ]
  },
  {
   "cell_type": "code",
   "execution_count": 8,
   "metadata": {
    "scrolled": false
   },
   "outputs": [
    {
     "data": {
      "text/plain": [
       "0"
      ]
     },
     "execution_count": 8,
     "metadata": {},
     "output_type": "execute_result"
    }
   ],
   "source": [
    "data.duplicated().sum()"
   ]
  },
  {
   "cell_type": "markdown",
   "metadata": {},
   "source": [
    "Дубликатов нет.\n",
    "\n",
    "Посмотрим, равнозначно ли распределились пользователи с оттоком и без."
   ]
  },
  {
   "cell_type": "code",
   "execution_count": 9,
   "metadata": {
    "scrolled": true
   },
   "outputs": [
    {
     "data": {
      "text/plain": [
       "0    2939\n",
       "1    1061\n",
       "Name: churn, dtype: int64"
      ]
     },
     "execution_count": 9,
     "metadata": {},
     "output_type": "execute_result"
    }
   ],
   "source": [
    "data['churn'].value_counts()"
   ]
  },
  {
   "cell_type": "markdown",
   "metadata": {},
   "source": [
    "Нет, ушедших пользователей в 3 раза меньше.\n",
    "\n",
    "Посмотрим на средние показатели по всем параметрам у пользователей с оттоком и без."
   ]
  },
  {
   "cell_type": "code",
   "execution_count": 10,
   "metadata": {
    "scrolled": true
   },
   "outputs": [
    {
     "data": {
      "text/html": [
       "<style type=\"text/css\">\n",
       "</style>\n",
       "<table id=\"T_7f4ec\">\n",
       "  <thead>\n",
       "    <tr>\n",
       "      <th class=\"index_name level0\" >churn</th>\n",
       "      <th id=\"T_7f4ec_level0_col0\" class=\"col_heading level0 col0\" >0</th>\n",
       "      <th id=\"T_7f4ec_level0_col1\" class=\"col_heading level0 col1\" >1</th>\n",
       "    </tr>\n",
       "  </thead>\n",
       "  <tbody>\n",
       "    <tr>\n",
       "      <th id=\"T_7f4ec_level0_row0\" class=\"row_heading level0 row0\" >gender</th>\n",
       "      <td id=\"T_7f4ec_row0_col0\" class=\"data row0 col0\" >0.510037</td>\n",
       "      <td id=\"T_7f4ec_row0_col1\" class=\"data row0 col1\" >0.510839</td>\n",
       "    </tr>\n",
       "    <tr>\n",
       "      <th id=\"T_7f4ec_level0_row1\" class=\"row_heading level0 row1\" >near_location</th>\n",
       "      <td id=\"T_7f4ec_row1_col0\" class=\"data row1 col0\" >0.873086</td>\n",
       "      <td id=\"T_7f4ec_row1_col1\" class=\"data row1 col1\" >0.768143</td>\n",
       "    </tr>\n",
       "    <tr>\n",
       "      <th id=\"T_7f4ec_level0_row2\" class=\"row_heading level0 row2\" >partner</th>\n",
       "      <td id=\"T_7f4ec_row2_col0\" class=\"data row2 col0\" >0.534195</td>\n",
       "      <td id=\"T_7f4ec_row2_col1\" class=\"data row2 col1\" >0.355325</td>\n",
       "    </tr>\n",
       "    <tr>\n",
       "      <th id=\"T_7f4ec_level0_row3\" class=\"row_heading level0 row3\" >promo_friends</th>\n",
       "      <td id=\"T_7f4ec_row3_col0\" class=\"data row3 col0\" >0.353522</td>\n",
       "      <td id=\"T_7f4ec_row3_col1\" class=\"data row3 col1\" >0.183789</td>\n",
       "    </tr>\n",
       "    <tr>\n",
       "      <th id=\"T_7f4ec_level0_row4\" class=\"row_heading level0 row4\" >phone</th>\n",
       "      <td id=\"T_7f4ec_row4_col0\" class=\"data row4 col0\" >0.903709</td>\n",
       "      <td id=\"T_7f4ec_row4_col1\" class=\"data row4 col1\" >0.902922</td>\n",
       "    </tr>\n",
       "    <tr>\n",
       "      <th id=\"T_7f4ec_level0_row5\" class=\"row_heading level0 row5\" >contract_period</th>\n",
       "      <td id=\"T_7f4ec_row5_col0\" class=\"data row5 col0\" >5.747193</td>\n",
       "      <td id=\"T_7f4ec_row5_col1\" class=\"data row5 col1\" >1.728558</td>\n",
       "    </tr>\n",
       "    <tr>\n",
       "      <th id=\"T_7f4ec_level0_row6\" class=\"row_heading level0 row6\" >group_visits</th>\n",
       "      <td id=\"T_7f4ec_row6_col0\" class=\"data row6 col0\" >0.464103</td>\n",
       "      <td id=\"T_7f4ec_row6_col1\" class=\"data row6 col1\" >0.268615</td>\n",
       "    </tr>\n",
       "    <tr>\n",
       "      <th id=\"T_7f4ec_level0_row7\" class=\"row_heading level0 row7\" >age</th>\n",
       "      <td id=\"T_7f4ec_row7_col0\" class=\"data row7 col0\" >29.976523</td>\n",
       "      <td id=\"T_7f4ec_row7_col1\" class=\"data row7 col1\" >26.989632</td>\n",
       "    </tr>\n",
       "    <tr>\n",
       "      <th id=\"T_7f4ec_level0_row8\" class=\"row_heading level0 row8\" >avg_additional_charges_total</th>\n",
       "      <td id=\"T_7f4ec_row8_col0\" class=\"data row8 col0\" >158.445715</td>\n",
       "      <td id=\"T_7f4ec_row8_col1\" class=\"data row8 col1\" >115.082899</td>\n",
       "    </tr>\n",
       "    <tr>\n",
       "      <th id=\"T_7f4ec_level0_row9\" class=\"row_heading level0 row9\" >month_to_end_contract</th>\n",
       "      <td id=\"T_7f4ec_row9_col0\" class=\"data row9 col0\" >5.283089</td>\n",
       "      <td id=\"T_7f4ec_row9_col1\" class=\"data row9 col1\" >1.662582</td>\n",
       "    </tr>\n",
       "    <tr>\n",
       "      <th id=\"T_7f4ec_level0_row10\" class=\"row_heading level0 row10\" >lifetime</th>\n",
       "      <td id=\"T_7f4ec_row10_col0\" class=\"data row10 col0\" >4.711807</td>\n",
       "      <td id=\"T_7f4ec_row10_col1\" class=\"data row10 col1\" >0.990575</td>\n",
       "    </tr>\n",
       "    <tr>\n",
       "      <th id=\"T_7f4ec_level0_row11\" class=\"row_heading level0 row11\" >avg_class_frequency_total</th>\n",
       "      <td id=\"T_7f4ec_row11_col0\" class=\"data row11 col0\" >2.024876</td>\n",
       "      <td id=\"T_7f4ec_row11_col1\" class=\"data row11 col1\" >1.474995</td>\n",
       "    </tr>\n",
       "    <tr>\n",
       "      <th id=\"T_7f4ec_level0_row12\" class=\"row_heading level0 row12\" >avg_class_frequency_current_month</th>\n",
       "      <td id=\"T_7f4ec_row12_col0\" class=\"data row12 col0\" >2.027882</td>\n",
       "      <td id=\"T_7f4ec_row12_col1\" class=\"data row12 col1\" >1.044546</td>\n",
       "    </tr>\n",
       "  </tbody>\n",
       "</table>\n"
      ],
      "text/plain": [
       "<pandas.io.formats.style.Styler at 0x22cda731160>"
      ]
     },
     "execution_count": 10,
     "metadata": {},
     "output_type": "execute_result"
    }
   ],
   "source": [
    "data.groupby('churn').agg('mean').T.style"
   ]
  },
  {
   "cell_type": "markdown",
   "metadata": {},
   "source": [
    "Построим столбчатые гистограммы и распределения признаков для тех, кто ушёл (отток) и тех, кто остался (не попали в отток).\n",
    "Для бинарных признаков постоим столбчатые графики, для непрерывных - \"ящик с усами\"."
   ]
  },
  {
   "cell_type": "code",
   "execution_count": 11,
   "metadata": {
    "scrolled": false
   },
   "outputs": [
    {
     "data": {
      "image/png": "[encoded data removed]",
      "text/plain": [
       "<Figure size 432x288 with 1 Axes>"
      ]
     },
     "metadata": {
      "needs_background": "light"
     },
     "output_type": "display_data"
    },
    {
     "data": {
      "image/png": "[encoded data removed]",
      "text/plain": [
       "<Figure size 432x288 with 1 Axes>"
      ]
     },
     "metadata": {
      "needs_background": "light"
     },
     "output_type": "display_data"
    },
    {
     "data": {
      "image/png": "[encoded data removed]",
      "text/plain": [
       "<Figure size 432x288 with 1 Axes>"
      ]
     },
     "metadata": {
      "needs_background": "light"
     },
     "output_type": "display_data"
    },
    {
     "data": {
      "image/png": "[encoded data removed]",
      "text/plain": [
       "<Figure size 432x288 with 1 Axes>"
      ]
     },
     "metadata": {
      "needs_background": "light"
     },
     "output_type": "display_data"
    },
    {
     "data": {
      "image/png": "[encoded data removed]",
      "text/plain": [
       "<Figure size 432x288 with 1 Axes>"
      ]
     },
     "metadata": {
      "needs_background": "light"
     },
     "output_type": "display_data"
    },
    {
     "data": {
      "image/png": "[encoded data removed]",
      "text/plain": [
       "<Figure size 432x288 with 1 Axes>"
      ]
     },
     "metadata": {
      "needs_background": "light"
     },
     "output_type": "display_data"
    },
    {
     "data": {
      "image/png": "[encoded data removed]",
      "text/plain": [
       "<Figure size 432x288 with 1 Axes>"
      ]
     },
     "metadata": {
      "needs_background": "light"
     },
     "output_type": "display_data"
    }
   ],
   "source": [
    "\n",
    "for col in ['gender', 'near_location', 'partner', 'promo_friends', 'phone', 'contract_period', 'group_visits']:\n",
    "    sns.barplot(x=data[col], y=data['churn'])\n",
    "    plt.show()"
   ]
  },
  {
   "cell_type": "code",
   "execution_count": 12,
   "metadata": {
    "scrolled": false
   },
   "outputs": [
    {
     "data": {
      "image/png": "[encoded data removed]",
      "text/plain": [
       "<Figure size 432x288 with 1 Axes>"
      ]
     },
     "metadata": {
      "needs_background": "light"
     },
     "output_type": "display_data"
    },
    {
     "data": {
      "image/png": "[encoded data removed]",
      "text/plain": [
       "<Figure size 432x288 with 1 Axes>"
      ]
     },
     "metadata": {
      "needs_background": "light"
     },
     "output_type": "display_data"
    },
    {
     "data": {
      "image/png": "[encoded data removed]",
      "text/plain": [
       "<Figure size 432x288 with 1 Axes>"
      ]
     },
     "metadata": {
      "needs_background": "light"
     },
     "output_type": "display_data"
    },
    {
     "data": {
      "image/png": "[encoded data removed]",
      "text/plain": [
       "<Figure size 432x288 with 1 Axes>"
      ]
     },
     "metadata": {
      "needs_background": "light"
     },
     "output_type": "display_data"
    },
    {
     "data": {
      "image/png": "[encoded data removed]",
      "text/plain": [
       "<Figure size 432x288 with 1 Axes>"
      ]
     },
     "metadata": {
      "needs_background": "light"
     },
     "output_type": "display_data"
    },
    {
     "data": {
      "image/png": "[encoded data removed]",
      "text/plain": [
       "<Figure size 432x288 with 1 Axes>"
      ]
     },
     "metadata": {
      "needs_background": "light"
     },
     "output_type": "display_data"
    }
   ],
   "source": [
    "for column in ['month_to_end_contract', 'age', 'avg_additional_charges_total', 'lifetime', 'avg_class_frequency_total', 'avg_class_frequency_current_month']:\n",
    "    sns.boxplot(x = 'churn', y = data[column], data = data)\n",
    "    plt.show()"
   ]
  },
  {
   "cell_type": "markdown",
   "metadata": {},
   "source": [
    "Про ушедших пользователей на данном этапе можно сказать, что большинство живет близко (но среди не попавших в отток еще больше близко проживающих клиентов), пришли не по акции \"приведи друга\", срок действия абонемента - гораздо меньше, чем у оставшихся, также такие клиенты редко посещают групповые занятия, меньше тратятся на дополнительные услуги."
   ]
  },
  {
   "cell_type": "markdown",
   "metadata": {},
   "source": [
    "Построим матрицу корреляций, чтобы посмотреть, есть ли зависимости между признаками."
   ]
  },
  {
   "cell_type": "code",
   "execution_count": 13,
   "metadata": {},
   "outputs": [
    {
     "data": {
      "image/png": "[encoded data removed]",
      "text/plain": [
       "<Figure size 720x720 with 2 Axes>"
      ]
     },
     "metadata": {
      "needs_background": "light"
     },
     "output_type": "display_data"
    }
   ],
   "source": [
    "cm = data.corr()\n",
    "plt.figure(figsize=(10, 10))\n",
    "sns.heatmap(cm, annot = True)\n",
    " \n",
    "plt.show()"
   ]
  },
  {
   "cell_type": "markdown",
   "metadata": {},
   "source": [
    "Есть мультиколлинеарные признаки:\n",
    "contract_period - month_to_end_contract\n",
    "avg_class_frequency_current_month - avg_class_frequency_total.\n",
    "Удалим из датарейма по одному признаку из пары, чтобы уменьшить вероятность ошибки при обучении модели."
   ]
  },
  {
   "cell_type": "code",
   "execution_count": 14,
   "metadata": {
    "scrolled": false
   },
   "outputs": [
    {
     "data": {
      "text/html": [
       "<div>\n",
       "<style scoped>\n",
       "    .dataframe tbody tr th:only-of-type {\n",
       "        vertical-align: middle;\n",
       "    }\n",
       "\n",
       "    .dataframe tbody tr th {\n",
       "        vertical-align: top;\n",
       "    }\n",
       "\n",
       "    .dataframe thead th {\n",
       "        text-align: right;\n",
       "    }\n",
       "</style>\n",
       "<table border=\"1\" class=\"dataframe\">\n",
       "  <thead>\n",
       "    <tr style=\"text-align: right;\">\n",
       "      <th></th>\n",
       "      <th>gender</th>\n",
       "      <th>near_location</th>\n",
       "      <th>partner</th>\n",
       "      <th>promo_friends</th>\n",
       "      <th>phone</th>\n",
       "      <th>contract_period</th>\n",
       "      <th>group_visits</th>\n",
       "      <th>age</th>\n",
       "      <th>avg_additional_charges_total</th>\n",
       "      <th>lifetime</th>\n",
       "      <th>avg_class_frequency_total</th>\n",
       "      <th>churn</th>\n",
       "    </tr>\n",
       "  </thead>\n",
       "  <tbody>\n",
       "    <tr>\n",
       "      <th>0</th>\n",
       "      <td>1</td>\n",
       "      <td>1</td>\n",
       "      <td>1</td>\n",
       "      <td>1</td>\n",
       "      <td>0</td>\n",
       "      <td>6</td>\n",
       "      <td>1</td>\n",
       "      <td>29</td>\n",
       "      <td>14.227470</td>\n",
       "      <td>3</td>\n",
       "      <td>0.020398</td>\n",
       "      <td>0</td>\n",
       "    </tr>\n",
       "    <tr>\n",
       "      <th>1</th>\n",
       "      <td>0</td>\n",
       "      <td>1</td>\n",
       "      <td>0</td>\n",
       "      <td>0</td>\n",
       "      <td>1</td>\n",
       "      <td>12</td>\n",
       "      <td>1</td>\n",
       "      <td>31</td>\n",
       "      <td>113.202938</td>\n",
       "      <td>7</td>\n",
       "      <td>1.922936</td>\n",
       "      <td>0</td>\n",
       "    </tr>\n",
       "    <tr>\n",
       "      <th>2</th>\n",
       "      <td>0</td>\n",
       "      <td>1</td>\n",
       "      <td>1</td>\n",
       "      <td>0</td>\n",
       "      <td>1</td>\n",
       "      <td>1</td>\n",
       "      <td>0</td>\n",
       "      <td>28</td>\n",
       "      <td>129.448479</td>\n",
       "      <td>2</td>\n",
       "      <td>1.859098</td>\n",
       "      <td>0</td>\n",
       "    </tr>\n",
       "    <tr>\n",
       "      <th>3</th>\n",
       "      <td>0</td>\n",
       "      <td>1</td>\n",
       "      <td>1</td>\n",
       "      <td>1</td>\n",
       "      <td>1</td>\n",
       "      <td>12</td>\n",
       "      <td>1</td>\n",
       "      <td>33</td>\n",
       "      <td>62.669863</td>\n",
       "      <td>2</td>\n",
       "      <td>3.205633</td>\n",
       "      <td>0</td>\n",
       "    </tr>\n",
       "    <tr>\n",
       "      <th>4</th>\n",
       "      <td>1</td>\n",
       "      <td>1</td>\n",
       "      <td>1</td>\n",
       "      <td>1</td>\n",
       "      <td>1</td>\n",
       "      <td>1</td>\n",
       "      <td>0</td>\n",
       "      <td>26</td>\n",
       "      <td>198.362265</td>\n",
       "      <td>3</td>\n",
       "      <td>1.113884</td>\n",
       "      <td>0</td>\n",
       "    </tr>\n",
       "  </tbody>\n",
       "</table>\n",
       "</div>"
      ],
      "text/plain": [
       "   gender  near_location  partner  promo_friends  phone  contract_period  \\\n",
       "0       1              1        1              1      0                6   \n",
       "1       0              1        0              0      1               12   \n",
       "2       0              1        1              0      1                1   \n",
       "3       0              1        1              1      1               12   \n",
       "4       1              1        1              1      1                1   \n",
       "\n",
       "   group_visits  age  avg_additional_charges_total  lifetime  \\\n",
       "0             1   29                     14.227470         3   \n",
       "1             1   31                    113.202938         7   \n",
       "2             0   28                    129.448479         2   \n",
       "3             1   33                     62.669863         2   \n",
       "4             0   26                    198.362265         3   \n",
       "\n",
       "   avg_class_frequency_total  churn  \n",
       "0                   0.020398      0  \n",
       "1                   1.922936      0  \n",
       "2                   1.859098      0  \n",
       "3                   3.205633      0  \n",
       "4                   1.113884      0  "
      ]
     },
     "execution_count": 14,
     "metadata": {},
     "output_type": "execute_result"
    }
   ],
   "source": [
    "data = data.drop(columns=['month_to_end_contract', 'avg_class_frequency_current_month'], axis=1)\n",
    "data.head()"
   ]
  },
  {
   "cell_type": "markdown",
   "metadata": {},
   "source": [
    "### Вывод\n",
    "\n",
    "В ходе предобработки был произведен предварительный анализ принаков у ушедших в отток и оставшихся пользователей.\n",
    "Были выявлены мультиколлинеарные признаки, в связи с чем два признака пришлось удалить."
   ]
  },
  {
   "cell_type": "markdown",
   "metadata": {},
   "source": [
    "## Шаг 3. Построение модели прогнозирования оттока клиентов\n",
    "\n",
    "Построим модель бинарной классификации клиентов, где целевой признак — факт оттока клиента в следующем месяце.\n"
   ]
  },
  {
   "cell_type": "code",
   "execution_count": 15,
   "metadata": {},
   "outputs": [],
   "source": [
    "X = data.drop('churn', axis = 1)\n",
    "y = data['churn']"
   ]
  },
  {
   "cell_type": "markdown",
   "metadata": {},
   "source": [
    "Разобьем данные на обучающую и валидационную выборку функцией train_test_split()."
   ]
  },
  {
   "cell_type": "code",
   "execution_count": 16,
   "metadata": {},
   "outputs": [],
   "source": [
    "X_train, X_test, y_train, y_test = train_test_split(X, y, test_size=0.2, random_state=0)"
   ]
  },
  {
   "cell_type": "code",
   "execution_count": 17,
   "metadata": {},
   "outputs": [
    {
     "data": {
      "text/plain": [
       "(4000, 11)"
      ]
     },
     "execution_count": 17,
     "metadata": {},
     "output_type": "execute_result"
    }
   ],
   "source": [
    "X.shape"
   ]
  },
  {
   "cell_type": "code",
   "execution_count": 18,
   "metadata": {},
   "outputs": [
    {
     "data": {
      "text/plain": [
       "(4000,)"
      ]
     },
     "execution_count": 18,
     "metadata": {},
     "output_type": "execute_result"
    }
   ],
   "source": [
    "y.shape"
   ]
  },
  {
   "cell_type": "markdown",
   "metadata": {},
   "source": [
    "### Логистическая регрессия"
   ]
  },
  {
   "cell_type": "code",
   "execution_count": 19,
   "metadata": {},
   "outputs": [],
   "source": [
    "scaler = StandardScaler()\n",
    "scaler.fit(X_train)\n",
    "X_train_st = scaler.transform(X_train)\n",
    "X_test_st = scaler.transform(X_test)"
   ]
  },
  {
   "cell_type": "code",
   "execution_count": 20,
   "metadata": {},
   "outputs": [],
   "source": [
    "model = LogisticRegression()"
   ]
  },
  {
   "cell_type": "code",
   "execution_count": 21,
   "metadata": {},
   "outputs": [
    {
     "data": {
      "text/plain": [
       "LogisticRegression()"
      ]
     },
     "execution_count": 21,
     "metadata": {},
     "output_type": "execute_result"
    }
   ],
   "source": [
    "model.fit(X_train_st, y_train)"
   ]
  },
  {
   "cell_type": "code",
   "execution_count": 22,
   "metadata": {},
   "outputs": [],
   "source": [
    "predictions = model.predict(X_test_st)\n",
    "probabilities =  model.predict_proba(X_test_st)[:,1]"
   ]
  },
  {
   "cell_type": "code",
   "execution_count": 23,
   "metadata": {},
   "outputs": [
    {
     "name": "stdout",
     "output_type": "stream",
     "text": [
      "Accuracy: 0.90\n",
      "Precision: 0.79\n",
      "Recall: 0.81\n"
     ]
    }
   ],
   "source": [
    "print('Accuracy: {:.2f}'.format(accuracy_score(y_test, predictions)))\n",
    "print('Precision: {:.2f}'.format(precision_score(y_test, predictions)))\n",
    "print('Recall: {:.2f}'.format(recall_score(y_test, predictions)))"
   ]
  },
  {
   "cell_type": "markdown",
   "metadata": {},
   "source": [
    "### Случайный лес"
   ]
  },
  {
   "cell_type": "code",
   "execution_count": 24,
   "metadata": {},
   "outputs": [],
   "source": [
    "rf_model = RandomForestClassifier(random_state = 0) \n",
    "rf_model.fit(X_train, y_train)\n",
    "rf_predictions = rf_model.predict(X_test) \n",
    "rf_probabilities = rf_model.predict_proba(X_test)[:,1]"
   ]
  },
  {
   "cell_type": "code",
   "execution_count": 25,
   "metadata": {},
   "outputs": [
    {
     "name": "stdout",
     "output_type": "stream",
     "text": [
      "Accuracy: 0.89\n",
      "Precision: 0.78\n",
      "Recall: 0.77\n"
     ]
    }
   ],
   "source": [
    "print('Accuracy: {:.2f}'.format(accuracy_score(y_test, rf_predictions)))\n",
    "print('Precision: {:.2f}'.format(precision_score(y_test, rf_predictions)))\n",
    "print('Recall: {:.2f}'.format(recall_score(y_test, rf_predictions)))"
   ]
  },
  {
   "cell_type": "markdown",
   "metadata": {},
   "source": [
    "### Вывод"
   ]
  },
  {
   "cell_type": "markdown",
   "metadata": {},
   "source": [
    "Что касается Accurancy - доли правильных ответов, то не стоит ориентироваться на эту метрику в нашем случае, т.к. классы неравны: ушедших пользователей в данной выборке в два раза меньше, чем оставшихся.\n",
    "Precision и recall не зависят от соотношения классов и потому применимы к данной выборке больше. Recall и  точность отнесения к классу (Precision) - выше у Логистической регрессии. Будем считать, что эта модель показала себя лучше."
   ]
  },
  {
   "cell_type": "markdown",
   "metadata": {},
   "source": [
    "## Шаг 4. Кластеризация клиентов"
   ]
  },
  {
   "cell_type": "markdown",
   "metadata": {},
   "source": [
    "Построим матрицу расстояний функцией linkage() на стандартизованной матрице признаков и нарисуем дендрограмму. "
   ]
  },
  {
   "cell_type": "code",
   "execution_count": 26,
   "metadata": {},
   "outputs": [],
   "source": [
    "scaler = StandardScaler()"
   ]
  },
  {
   "cell_type": "code",
   "execution_count": 27,
   "metadata": {},
   "outputs": [],
   "source": [
    "X_sc = scaler.fit_transform(data)"
   ]
  },
  {
   "cell_type": "code",
   "execution_count": 28,
   "metadata": {},
   "outputs": [],
   "source": [
    "linked = linkage(X_sc, method='ward')"
   ]
  },
  {
   "cell_type": "code",
   "execution_count": 29,
   "metadata": {},
   "outputs": [
    {
     "data": {
      "image/png": "[encoded data removed]",
      "text/plain": [
       "<Figure size 1440x720 with 1 Axes>"
      ]
     },
     "metadata": {
      "needs_background": "light"
     },
     "output_type": "display_data"
    }
   ],
   "source": [
    "plt.figure(figsize=(20,10))\n",
    "dendrogram(linked, orientation='top')\n",
    "plt.title('Иерархическая кластеризация')\n",
    "plt.show();"
   ]
  },
  {
   "cell_type": "markdown",
   "metadata": {},
   "source": [
    "Судя по дендрограмме, можно выделить 5 кластеров."
   ]
  },
  {
   "cell_type": "markdown",
   "metadata": {},
   "source": [
    "Обучим модель кластеризации на основании алгоритма K-Means и спрогнозируем кластеры клиентов. Количество кластеров - 5."
   ]
  },
  {
   "cell_type": "code",
   "execution_count": 30,
   "metadata": {},
   "outputs": [],
   "source": [
    "km = KMeans(n_clusters = 5, random_state=0)\n",
    "labels = km.fit_predict(X_sc)"
   ]
  },
  {
   "cell_type": "code",
   "execution_count": 31,
   "metadata": {},
   "outputs": [],
   "source": [
    "data['cluster'] = labels"
   ]
  },
  {
   "cell_type": "markdown",
   "metadata": {},
   "source": [
    "Посмотрим на средние значения признаков для кластеров."
   ]
  },
  {
   "cell_type": "code",
   "execution_count": 32,
   "metadata": {
    "scrolled": false
   },
   "outputs": [
    {
     "data": {
      "text/html": [
       "<div>\n",
       "<style scoped>\n",
       "    .dataframe tbody tr th:only-of-type {\n",
       "        vertical-align: middle;\n",
       "    }\n",
       "\n",
       "    .dataframe tbody tr th {\n",
       "        vertical-align: top;\n",
       "    }\n",
       "\n",
       "    .dataframe thead th {\n",
       "        text-align: right;\n",
       "    }\n",
       "</style>\n",
       "<table border=\"1\" class=\"dataframe\">\n",
       "  <thead>\n",
       "    <tr style=\"text-align: right;\">\n",
       "      <th>cluster</th>\n",
       "      <th>0</th>\n",
       "      <th>1</th>\n",
       "      <th>2</th>\n",
       "      <th>3</th>\n",
       "      <th>4</th>\n",
       "    </tr>\n",
       "  </thead>\n",
       "  <tbody>\n",
       "    <tr>\n",
       "      <th>gender</th>\n",
       "      <td>0.501661</td>\n",
       "      <td>0.522936</td>\n",
       "      <td>0.503205</td>\n",
       "      <td>0.502627</td>\n",
       "      <td>0.513109</td>\n",
       "    </tr>\n",
       "    <tr>\n",
       "      <th>near_location</th>\n",
       "      <td>0.000000</td>\n",
       "      <td>0.999083</td>\n",
       "      <td>0.992521</td>\n",
       "      <td>0.984238</td>\n",
       "      <td>1.000000</td>\n",
       "    </tr>\n",
       "    <tr>\n",
       "      <th>partner</th>\n",
       "      <td>0.481728</td>\n",
       "      <td>0.161468</td>\n",
       "      <td>0.916667</td>\n",
       "      <td>0.626970</td>\n",
       "      <td>0.330836</td>\n",
       "    </tr>\n",
       "    <tr>\n",
       "      <th>promo_friends</th>\n",
       "      <td>0.071429</td>\n",
       "      <td>0.074312</td>\n",
       "      <td>1.000000</td>\n",
       "      <td>0.000000</td>\n",
       "      <td>0.217228</td>\n",
       "    </tr>\n",
       "    <tr>\n",
       "      <th>phone</th>\n",
       "      <td>0.911960</td>\n",
       "      <td>0.902752</td>\n",
       "      <td>0.903846</td>\n",
       "      <td>0.900175</td>\n",
       "      <td>0.900125</td>\n",
       "    </tr>\n",
       "    <tr>\n",
       "      <th>contract_period</th>\n",
       "      <td>2.872093</td>\n",
       "      <td>2.068807</td>\n",
       "      <td>7.827991</td>\n",
       "      <td>10.623468</td>\n",
       "      <td>1.682896</td>\n",
       "    </tr>\n",
       "    <tr>\n",
       "      <th>group_visits</th>\n",
       "      <td>0.224252</td>\n",
       "      <td>0.450459</td>\n",
       "      <td>0.544872</td>\n",
       "      <td>0.492119</td>\n",
       "      <td>0.289638</td>\n",
       "    </tr>\n",
       "    <tr>\n",
       "      <th>age</th>\n",
       "      <td>28.652824</td>\n",
       "      <td>30.055963</td>\n",
       "      <td>29.950855</td>\n",
       "      <td>29.996497</td>\n",
       "      <td>26.922597</td>\n",
       "    </tr>\n",
       "    <tr>\n",
       "      <th>avg_additional_charges_total</th>\n",
       "      <td>135.994298</td>\n",
       "      <td>157.510111</td>\n",
       "      <td>159.006129</td>\n",
       "      <td>164.623351</td>\n",
       "      <td>114.095697</td>\n",
       "    </tr>\n",
       "    <tr>\n",
       "      <th>lifetime</th>\n",
       "      <td>2.976744</td>\n",
       "      <td>4.833945</td>\n",
       "      <td>4.708333</td>\n",
       "      <td>4.654991</td>\n",
       "      <td>0.965044</td>\n",
       "    </tr>\n",
       "    <tr>\n",
       "      <th>avg_class_frequency_total</th>\n",
       "      <td>1.754128</td>\n",
       "      <td>2.043382</td>\n",
       "      <td>2.011738</td>\n",
       "      <td>2.035830</td>\n",
       "      <td>1.482348</td>\n",
       "    </tr>\n",
       "    <tr>\n",
       "      <th>churn</th>\n",
       "      <td>0.408638</td>\n",
       "      <td>0.001835</td>\n",
       "      <td>0.011752</td>\n",
       "      <td>0.005254</td>\n",
       "      <td>0.997503</td>\n",
       "    </tr>\n",
       "  </tbody>\n",
       "</table>\n",
       "</div>"
      ],
      "text/plain": [
       "cluster                                0           1           2           3  \\\n",
       "gender                          0.501661    0.522936    0.503205    0.502627   \n",
       "near_location                   0.000000    0.999083    0.992521    0.984238   \n",
       "partner                         0.481728    0.161468    0.916667    0.626970   \n",
       "promo_friends                   0.071429    0.074312    1.000000    0.000000   \n",
       "phone                           0.911960    0.902752    0.903846    0.900175   \n",
       "contract_period                 2.872093    2.068807    7.827991   10.623468   \n",
       "group_visits                    0.224252    0.450459    0.544872    0.492119   \n",
       "age                            28.652824   30.055963   29.950855   29.996497   \n",
       "avg_additional_charges_total  135.994298  157.510111  159.006129  164.623351   \n",
       "lifetime                        2.976744    4.833945    4.708333    4.654991   \n",
       "avg_class_frequency_total       1.754128    2.043382    2.011738    2.035830   \n",
       "churn                           0.408638    0.001835    0.011752    0.005254   \n",
       "\n",
       "cluster                                4  \n",
       "gender                          0.513109  \n",
       "near_location                   1.000000  \n",
       "partner                         0.330836  \n",
       "promo_friends                   0.217228  \n",
       "phone                           0.900125  \n",
       "contract_period                 1.682896  \n",
       "group_visits                    0.289638  \n",
       "age                            26.922597  \n",
       "avg_additional_charges_total  114.095697  \n",
       "lifetime                        0.965044  \n",
       "avg_class_frequency_total       1.482348  \n",
       "churn                           0.997503  "
      ]
     },
     "execution_count": 32,
     "metadata": {},
     "output_type": "execute_result"
    }
   ],
   "source": [
    "data.groupby('cluster').mean().T"
   ]
  },
  {
   "cell_type": "code",
   "execution_count": 33,
   "metadata": {},
   "outputs": [
    {
     "data": {
      "text/html": [
       "<style type=\"text/css\">\n",
       "#T_a00c9_row0_col1, #T_a00c9_row0_col2, #T_a00c9_row0_col7, #T_a00c9_row1_col3, #T_a00c9_row1_col12, #T_a00c9_row3_col4, #T_a00c9_row4_col5, #T_a00c9_row4_col6, #T_a00c9_row4_col8, #T_a00c9_row4_col9, #T_a00c9_row4_col10, #T_a00c9_row4_col11 {\n",
       "  background-color: coral;\n",
       "}\n",
       "#T_a00c9_row0_col5, #T_a00c9_row1_col1, #T_a00c9_row1_col8, #T_a00c9_row1_col10, #T_a00c9_row1_col11, #T_a00c9_row2_col3, #T_a00c9_row2_col4, #T_a00c9_row2_col7, #T_a00c9_row3_col6, #T_a00c9_row3_col9, #T_a00c9_row4_col2, #T_a00c9_row4_col12 {\n",
       "  background-color: yellowgreen;\n",
       "}\n",
       "</style>\n",
       "<table id=\"T_a00c9\">\n",
       "  <thead>\n",
       "    <tr>\n",
       "      <th class=\"blank level0\" >&nbsp;</th>\n",
       "      <th id=\"T_a00c9_level0_col0\" class=\"col_heading level0 col0\" >cluster</th>\n",
       "      <th id=\"T_a00c9_level0_col1\" class=\"col_heading level0 col1\" >gender</th>\n",
       "      <th id=\"T_a00c9_level0_col2\" class=\"col_heading level0 col2\" >near_location</th>\n",
       "      <th id=\"T_a00c9_level0_col3\" class=\"col_heading level0 col3\" >partner</th>\n",
       "      <th id=\"T_a00c9_level0_col4\" class=\"col_heading level0 col4\" >promo_friends</th>\n",
       "      <th id=\"T_a00c9_level0_col5\" class=\"col_heading level0 col5\" >phone</th>\n",
       "      <th id=\"T_a00c9_level0_col6\" class=\"col_heading level0 col6\" >contract_period</th>\n",
       "      <th id=\"T_a00c9_level0_col7\" class=\"col_heading level0 col7\" >group_visits</th>\n",
       "      <th id=\"T_a00c9_level0_col8\" class=\"col_heading level0 col8\" >age</th>\n",
       "      <th id=\"T_a00c9_level0_col9\" class=\"col_heading level0 col9\" >avg_additional_charges_total</th>\n",
       "      <th id=\"T_a00c9_level0_col10\" class=\"col_heading level0 col10\" >lifetime</th>\n",
       "      <th id=\"T_a00c9_level0_col11\" class=\"col_heading level0 col11\" >avg_class_frequency_total</th>\n",
       "      <th id=\"T_a00c9_level0_col12\" class=\"col_heading level0 col12\" >churn</th>\n",
       "    </tr>\n",
       "  </thead>\n",
       "  <tbody>\n",
       "    <tr>\n",
       "      <th id=\"T_a00c9_level0_row0\" class=\"row_heading level0 row0\" >0</th>\n",
       "      <td id=\"T_a00c9_row0_col0\" class=\"data row0 col0\" >0</td>\n",
       "      <td id=\"T_a00c9_row0_col1\" class=\"data row0 col1\" >0.50</td>\n",
       "      <td id=\"T_a00c9_row0_col2\" class=\"data row0 col2\" >0.00</td>\n",
       "      <td id=\"T_a00c9_row0_col3\" class=\"data row0 col3\" >0.48</td>\n",
       "      <td id=\"T_a00c9_row0_col4\" class=\"data row0 col4\" >0.07</td>\n",
       "      <td id=\"T_a00c9_row0_col5\" class=\"data row0 col5\" >0.91</td>\n",
       "      <td id=\"T_a00c9_row0_col6\" class=\"data row0 col6\" >2.87</td>\n",
       "      <td id=\"T_a00c9_row0_col7\" class=\"data row0 col7\" >0.22</td>\n",
       "      <td id=\"T_a00c9_row0_col8\" class=\"data row0 col8\" >28.65</td>\n",
       "      <td id=\"T_a00c9_row0_col9\" class=\"data row0 col9\" >135.99</td>\n",
       "      <td id=\"T_a00c9_row0_col10\" class=\"data row0 col10\" >2.98</td>\n",
       "      <td id=\"T_a00c9_row0_col11\" class=\"data row0 col11\" >1.75</td>\n",
       "      <td id=\"T_a00c9_row0_col12\" class=\"data row0 col12\" >0.41</td>\n",
       "    </tr>\n",
       "    <tr>\n",
       "      <th id=\"T_a00c9_level0_row1\" class=\"row_heading level0 row1\" >1</th>\n",
       "      <td id=\"T_a00c9_row1_col0\" class=\"data row1 col0\" >1</td>\n",
       "      <td id=\"T_a00c9_row1_col1\" class=\"data row1 col1\" >0.52</td>\n",
       "      <td id=\"T_a00c9_row1_col2\" class=\"data row1 col2\" >1.00</td>\n",
       "      <td id=\"T_a00c9_row1_col3\" class=\"data row1 col3\" >0.16</td>\n",
       "      <td id=\"T_a00c9_row1_col4\" class=\"data row1 col4\" >0.07</td>\n",
       "      <td id=\"T_a00c9_row1_col5\" class=\"data row1 col5\" >0.90</td>\n",
       "      <td id=\"T_a00c9_row1_col6\" class=\"data row1 col6\" >2.07</td>\n",
       "      <td id=\"T_a00c9_row1_col7\" class=\"data row1 col7\" >0.45</td>\n",
       "      <td id=\"T_a00c9_row1_col8\" class=\"data row1 col8\" >30.06</td>\n",
       "      <td id=\"T_a00c9_row1_col9\" class=\"data row1 col9\" >157.51</td>\n",
       "      <td id=\"T_a00c9_row1_col10\" class=\"data row1 col10\" >4.83</td>\n",
       "      <td id=\"T_a00c9_row1_col11\" class=\"data row1 col11\" >2.04</td>\n",
       "      <td id=\"T_a00c9_row1_col12\" class=\"data row1 col12\" >0.00</td>\n",
       "    </tr>\n",
       "    <tr>\n",
       "      <th id=\"T_a00c9_level0_row2\" class=\"row_heading level0 row2\" >2</th>\n",
       "      <td id=\"T_a00c9_row2_col0\" class=\"data row2 col0\" >2</td>\n",
       "      <td id=\"T_a00c9_row2_col1\" class=\"data row2 col1\" >0.50</td>\n",
       "      <td id=\"T_a00c9_row2_col2\" class=\"data row2 col2\" >0.99</td>\n",
       "      <td id=\"T_a00c9_row2_col3\" class=\"data row2 col3\" >0.92</td>\n",
       "      <td id=\"T_a00c9_row2_col4\" class=\"data row2 col4\" >1.00</td>\n",
       "      <td id=\"T_a00c9_row2_col5\" class=\"data row2 col5\" >0.90</td>\n",
       "      <td id=\"T_a00c9_row2_col6\" class=\"data row2 col6\" >7.83</td>\n",
       "      <td id=\"T_a00c9_row2_col7\" class=\"data row2 col7\" >0.54</td>\n",
       "      <td id=\"T_a00c9_row2_col8\" class=\"data row2 col8\" >29.95</td>\n",
       "      <td id=\"T_a00c9_row2_col9\" class=\"data row2 col9\" >159.01</td>\n",
       "      <td id=\"T_a00c9_row2_col10\" class=\"data row2 col10\" >4.71</td>\n",
       "      <td id=\"T_a00c9_row2_col11\" class=\"data row2 col11\" >2.01</td>\n",
       "      <td id=\"T_a00c9_row2_col12\" class=\"data row2 col12\" >0.01</td>\n",
       "    </tr>\n",
       "    <tr>\n",
       "      <th id=\"T_a00c9_level0_row3\" class=\"row_heading level0 row3\" >3</th>\n",
       "      <td id=\"T_a00c9_row3_col0\" class=\"data row3 col0\" >3</td>\n",
       "      <td id=\"T_a00c9_row3_col1\" class=\"data row3 col1\" >0.50</td>\n",
       "      <td id=\"T_a00c9_row3_col2\" class=\"data row3 col2\" >0.98</td>\n",
       "      <td id=\"T_a00c9_row3_col3\" class=\"data row3 col3\" >0.63</td>\n",
       "      <td id=\"T_a00c9_row3_col4\" class=\"data row3 col4\" >0.00</td>\n",
       "      <td id=\"T_a00c9_row3_col5\" class=\"data row3 col5\" >0.90</td>\n",
       "      <td id=\"T_a00c9_row3_col6\" class=\"data row3 col6\" >10.62</td>\n",
       "      <td id=\"T_a00c9_row3_col7\" class=\"data row3 col7\" >0.49</td>\n",
       "      <td id=\"T_a00c9_row3_col8\" class=\"data row3 col8\" >30.00</td>\n",
       "      <td id=\"T_a00c9_row3_col9\" class=\"data row3 col9\" >164.62</td>\n",
       "      <td id=\"T_a00c9_row3_col10\" class=\"data row3 col10\" >4.65</td>\n",
       "      <td id=\"T_a00c9_row3_col11\" class=\"data row3 col11\" >2.04</td>\n",
       "      <td id=\"T_a00c9_row3_col12\" class=\"data row3 col12\" >0.01</td>\n",
       "    </tr>\n",
       "    <tr>\n",
       "      <th id=\"T_a00c9_level0_row4\" class=\"row_heading level0 row4\" >4</th>\n",
       "      <td id=\"T_a00c9_row4_col0\" class=\"data row4 col0\" >4</td>\n",
       "      <td id=\"T_a00c9_row4_col1\" class=\"data row4 col1\" >0.51</td>\n",
       "      <td id=\"T_a00c9_row4_col2\" class=\"data row4 col2\" >1.00</td>\n",
       "      <td id=\"T_a00c9_row4_col3\" class=\"data row4 col3\" >0.33</td>\n",
       "      <td id=\"T_a00c9_row4_col4\" class=\"data row4 col4\" >0.22</td>\n",
       "      <td id=\"T_a00c9_row4_col5\" class=\"data row4 col5\" >0.90</td>\n",
       "      <td id=\"T_a00c9_row4_col6\" class=\"data row4 col6\" >1.68</td>\n",
       "      <td id=\"T_a00c9_row4_col7\" class=\"data row4 col7\" >0.29</td>\n",
       "      <td id=\"T_a00c9_row4_col8\" class=\"data row4 col8\" >26.92</td>\n",
       "      <td id=\"T_a00c9_row4_col9\" class=\"data row4 col9\" >114.10</td>\n",
       "      <td id=\"T_a00c9_row4_col10\" class=\"data row4 col10\" >0.97</td>\n",
       "      <td id=\"T_a00c9_row4_col11\" class=\"data row4 col11\" >1.48</td>\n",
       "      <td id=\"T_a00c9_row4_col12\" class=\"data row4 col12\" >1.00</td>\n",
       "    </tr>\n",
       "  </tbody>\n",
       "</table>\n"
      ],
      "text/plain": [
       "<pandas.io.formats.style.Styler at 0x22ce327de80>"
      ]
     },
     "execution_count": 33,
     "metadata": {},
     "output_type": "execute_result"
    }
   ],
   "source": [
    "cluster_features = data.groupby('cluster').mean().reset_index()\n",
    "numeric_columns = cluster_features.drop(columns=['cluster']).columns\n",
    "cluster_features.style.format({i: '{:.2f}' for i in numeric_columns}) \\\n",
    "    .highlight_max(color='yellowgreen', subset=numeric_columns) \\\n",
    "    .highlight_min(color='coral', subset=numeric_columns)"
   ]
  },
  {
   "cell_type": "markdown",
   "metadata": {},
   "source": [
    "По полу и возрасту все классы распределены примерно одинаково.\n",
    "\n",
    "В нулевом кластере преобладают клиенты, которые живут далеко, пришли не по акции, мало посещают групповые занятия.\n",
    "\n",
    "В первом кластере собрались те, кто живет близко, посещает клуб не по партнерской программе и пришел не по промо-акции. Также у этих клиентов небольшая длительность абонемента.\n",
    "\n",
    "Второй кластер - клиенты тоже живут близко, но при этом посещают по партнерской компании и пришли по акции, у них достаточно длинный период посещения (действие абонемента).\n",
    "\n",
    "Третий кластер - клиенты живут близко, пришли не по акции, у них дольше всех действует абонемент. больше всех тратят на дополнительные услуги.\n",
    "\n",
    "Четвертый кластер - живут  близко, самая короткая длительность абонемента и самый большой отток.\n",
    "\n"
   ]
  },
  {
   "cell_type": "markdown",
   "metadata": {},
   "source": [
    "\n",
    "Построим графики распределения признаков для кластеров. Как и в начале проекта, будем использовать как столбчатые графики (для бинарных признаков), так и \"ящик с усами\"."
   ]
  },
  {
   "cell_type": "code",
   "execution_count": 34,
   "metadata": {
    "scrolled": false
   },
   "outputs": [
    {
     "data": {
      "image/png": "[encoded data removed]",
      "text/plain": [
       "<Figure size 432x288 with 1 Axes>"
      ]
     },
     "metadata": {
      "needs_background": "light"
     },
     "output_type": "display_data"
    },
    {
     "data": {
      "image/png": "[encoded data removed]",
      "text/plain": [
       "<Figure size 432x288 with 1 Axes>"
      ]
     },
     "metadata": {
      "needs_background": "light"
     },
     "output_type": "display_data"
    },
    {
     "data": {
      "image/png": "[encoded data removed]",
      "text/plain": [
       "<Figure size 432x288 with 1 Axes>"
      ]
     },
     "metadata": {
      "needs_background": "light"
     },
     "output_type": "display_data"
    },
    {
     "data": {
      "image/png": "[encoded data removed]",
      "text/plain": [
       "<Figure size 432x288 with 1 Axes>"
      ]
     },
     "metadata": {
      "needs_background": "light"
     },
     "output_type": "display_data"
    },
    {
     "data": {
      "image/png": "[encoded data removed]",
      "text/plain": [
       "<Figure size 432x288 with 1 Axes>"
      ]
     },
     "metadata": {
      "needs_background": "light"
     },
     "output_type": "display_data"
    },
    {
     "data": {
      "image/png": "[encoded data removed]",
      "text/plain": [
       "<Figure size 432x288 with 1 Axes>"
      ]
     },
     "metadata": {
      "needs_background": "light"
     },
     "output_type": "display_data"
    },
    {
     "data": {
      "image/png": "[encoded data removed]",
      "text/plain": [
       "<Figure size 432x288 with 1 Axes>"
      ]
     },
     "metadata": {
      "needs_background": "light"
     },
     "output_type": "display_data"
    }
   ],
   "source": [
    "for column in ['gender', 'near_location', 'partner', 'promo_friends', 'contract_period', 'group_visits', 'churn']:\n",
    "    sns.countplot(x = data[column], hue='cluster', data=data)\n",
    "    plt.title(column)\n",
    "    plt.show()"
   ]
  },
  {
   "cell_type": "code",
   "execution_count": 35,
   "metadata": {
    "scrolled": true
   },
   "outputs": [
    {
     "data": {
      "image/png": "[encoded data removed]",
      "text/plain": [
       "<Figure size 432x288 with 1 Axes>"
      ]
     },
     "metadata": {
      "needs_background": "light"
     },
     "output_type": "display_data"
    },
    {
     "data": {
      "image/png": "[encoded data removed]",
      "text/plain": [
       "<Figure size 432x288 with 1 Axes>"
      ]
     },
     "metadata": {
      "needs_background": "light"
     },
     "output_type": "display_data"
    },
    {
     "data": {
      "image/png": "[encoded data removed]",
      "text/plain": [
       "<Figure size 432x288 with 1 Axes>"
      ]
     },
     "metadata": {
      "needs_background": "light"
     },
     "output_type": "display_data"
    },
    {
     "data": {
      "image/png": "[encoded data removed]",
      "text/plain": [
       "<Figure size 432x288 with 1 Axes>"
      ]
     },
     "metadata": {
      "needs_background": "light"
     },
     "output_type": "display_data"
    }
   ],
   "source": [
    "for column in ['age', 'avg_additional_charges_total', 'lifetime', 'avg_class_frequency_total']:\n",
    "    sns.boxplot(x = 'cluster', y = data[column], data = data)\n",
    "    plt.show()"
   ]
  },
  {
   "cell_type": "markdown",
   "metadata": {},
   "source": [
    "### Вывод\n",
    "Кластер, в который попало наибольшее количество пользователей с оттоком - четвертый. На него и стоит обратить внимание. Клиенты из этого кластера живут близко, могут ходить по партнерской программе, но чаще - нет. Большинство пришли не по акции, но всё же встречаются и те, кто пришел по акции. Длительность абонемента у таких клиентов - минимальная. Групповые занятия они посещают редко,  меньше всех тратят деньги на дополнительные услуги клуба, посещают зал реже остальных.\n",
    "\n",
    "Напротив, 1,2 и 3 кластеры включают в себя самых надежных пользователей. Их объединяет близость проживания к клубу, максимальные траты на дополнительные услуги, длительность знакомства с клубом, наиболее частые посещения и присутствие на групповых занятиях.\n"
   ]
  },
  {
   "cell_type": "markdown",
   "metadata": {},
   "source": [
    "## Общий вывод\n",
    "\n",
    "В ходе проведенного исследования удалось выяснить, что попавших в отток пользователей почти в 3 раза меньше, чем оставшихся. \n",
    "Исследуемый фитнес-центр посещают клиенты, в том числе близко проживающие, пришедшие по акции, сотрудники компаний-партнеров. У фитнес-центра есть групповые занятия и дополнительные услуги. Все эти факторы помогли проанализировать причины оттока клиентов.\n",
    "\n",
    "Были построены две модели прогнозирования: логистическая регрессия и случайный лес. Модель \"Логистическая регрессия\" показала себя чуть лучше.\n",
    "\n",
    "Далее была произведена кластеризация пользователей. Клиенты были поделены на 5 кластеров.\n",
    "\n",
    "Проанализировав признаки, по которым клиенты были поделены на классы, можно сделать некоторые выводы и дать рекомендации.\n",
    "\n",
    "Руководству клуба следует развивать старых клиентов (например, вводить больше дополнительных услуг и разнообразить групповые занятия). Что касается новых клиентов, то отток среди них всё равно будет больше, т.к. такие пользователи только пробуют услуги клуба и смогут определиться в течение непродолжительного времени. Возможно, стоит предложить им скидки на абонементы на длительный срок, на посещение групповых занятий или пробное бесплатное пользование какими-либо дополнительными услугами."
   ]
  },
  {
   "cell_type": "code",
   "execution_count": null,
   "metadata": {},
   "outputs": [],
   "source": []
  }
 ],
 "metadata": {
  "ExecuteTimeLog": [
   {
    "duration": 1696,
    "start_time": "2022-07-20T07:58:14.440Z"
   },
   {
    "duration": 90,
    "start_time": "2022-07-20T07:59:16.701Z"
   },
   {
    "duration": 128,
    "start_time": "2022-07-20T07:59:35.245Z"
   },
   {
    "duration": 16,
    "start_time": "2022-07-20T07:59:50.000Z"
   },
   {
    "duration": 5,
    "start_time": "2022-07-20T08:00:44.550Z"
   },
   {
    "duration": 75,
    "start_time": "2022-07-20T08:00:57.358Z"
   },
   {
    "duration": 5,
    "start_time": "2022-07-20T08:02:29.899Z"
   },
   {
    "duration": 1589,
    "start_time": "2022-07-20T08:03:04.632Z"
   },
   {
    "duration": 1542,
    "start_time": "2022-07-20T08:03:15.388Z"
   },
   {
    "duration": 1628,
    "start_time": "2022-07-20T08:03:23.606Z"
   },
   {
    "duration": 1548,
    "start_time": "2022-07-20T08:03:30.239Z"
   },
   {
    "duration": 1505,
    "start_time": "2022-07-20T08:03:38.224Z"
   },
   {
    "duration": 1550,
    "start_time": "2022-07-20T08:04:39.030Z"
   },
   {
    "duration": 117,
    "start_time": "2022-07-20T08:15:33.338Z"
   },
   {
    "duration": 1734,
    "start_time": "2022-07-20T08:15:43.244Z"
   },
   {
    "duration": 1696,
    "start_time": "2022-07-20T08:15:54.349Z"
   },
   {
    "duration": 1773,
    "start_time": "2022-07-20T08:16:07.258Z"
   },
   {
    "duration": 14,
    "start_time": "2022-07-20T08:22:08.433Z"
   },
   {
    "duration": 5,
    "start_time": "2022-07-20T08:22:18.563Z"
   },
   {
    "duration": 3,
    "start_time": "2022-07-20T08:22:39.765Z"
   },
   {
    "duration": 5,
    "start_time": "2022-07-20T08:22:48.980Z"
   },
   {
    "duration": 3,
    "start_time": "2022-07-20T08:31:31.829Z"
   },
   {
    "duration": 13,
    "start_time": "2022-07-20T08:31:43.471Z"
   },
   {
    "duration": 16,
    "start_time": "2022-07-20T08:32:52.362Z"
   },
   {
    "duration": 58,
    "start_time": "2022-07-20T08:34:09.480Z"
   },
   {
    "duration": 17,
    "start_time": "2022-07-20T08:34:27.397Z"
   },
   {
    "duration": 10,
    "start_time": "2022-07-20T08:35:03.136Z"
   },
   {
    "duration": 10,
    "start_time": "2022-07-20T08:37:20.932Z"
   },
   {
    "duration": 11,
    "start_time": "2022-07-20T08:37:30.371Z"
   },
   {
    "duration": 9,
    "start_time": "2022-07-20T08:38:31.658Z"
   },
   {
    "duration": 12,
    "start_time": "2022-07-20T08:51:36.993Z"
   },
   {
    "duration": 17,
    "start_time": "2022-07-20T08:56:07.904Z"
   },
   {
    "duration": 245779,
    "start_time": "2022-07-20T08:57:03.490Z"
   },
   {
    "duration": 787,
    "start_time": "2022-07-20T09:02:00.744Z"
   },
   {
    "duration": 1698,
    "start_time": "2022-07-22T08:21:30.134Z"
   },
   {
    "duration": 147,
    "start_time": "2022-07-22T08:21:31.835Z"
   },
   {
    "duration": 12,
    "start_time": "2022-07-22T08:21:31.984Z"
   },
   {
    "duration": 13,
    "start_time": "2022-07-22T08:21:31.998Z"
   },
   {
    "duration": 52,
    "start_time": "2022-07-22T08:21:32.013Z"
   },
   {
    "duration": 2,
    "start_time": "2022-07-22T08:21:32.067Z"
   },
   {
    "duration": 22,
    "start_time": "2022-07-22T08:21:32.071Z"
   },
   {
    "duration": 15,
    "start_time": "2022-07-22T08:21:32.094Z"
   },
   {
    "duration": 11,
    "start_time": "2022-07-22T08:21:32.110Z"
   },
   {
    "duration": 53,
    "start_time": "2022-07-22T08:21:32.122Z"
   },
   {
    "duration": 0,
    "start_time": "2022-07-22T08:25:43.068Z"
   },
   {
    "duration": 56,
    "start_time": "2022-07-22T08:25:47.787Z"
   },
   {
    "duration": 12,
    "start_time": "2022-07-22T08:25:50.549Z"
   },
   {
    "duration": 7,
    "start_time": "2022-07-22T08:25:51.811Z"
   },
   {
    "duration": 61,
    "start_time": "2022-07-22T08:25:52.818Z"
   },
   {
    "duration": 3,
    "start_time": "2022-07-22T08:25:53.810Z"
   },
   {
    "duration": 18,
    "start_time": "2022-07-22T08:25:54.642Z"
   },
   {
    "duration": 9,
    "start_time": "2022-07-22T08:25:55.476Z"
   },
   {
    "duration": 7,
    "start_time": "2022-07-22T08:25:57.238Z"
   },
   {
    "duration": 11,
    "start_time": "2022-07-22T08:25:58.183Z"
   },
   {
    "duration": 242145,
    "start_time": "2022-07-22T08:25:59.945Z"
   },
   {
    "duration": 742,
    "start_time": "2022-07-22T08:30:02.092Z"
   },
   {
    "duration": 1631,
    "start_time": "2022-07-22T08:32:14.590Z"
   },
   {
    "duration": 1585,
    "start_time": "2022-07-22T08:32:38.853Z"
   },
   {
    "duration": 5,
    "start_time": "2022-07-22T08:33:08.925Z"
   },
   {
    "duration": 6,
    "start_time": "2022-07-22T08:33:10.238Z"
   },
   {
    "duration": 9,
    "start_time": "2022-07-22T08:33:10.881Z"
   },
   {
    "duration": 10,
    "start_time": "2022-07-22T08:33:15.697Z"
   },
   {
    "duration": 3,
    "start_time": "2022-07-22T08:34:09.853Z"
   },
   {
    "duration": 2,
    "start_time": "2022-07-22T08:34:19.196Z"
   },
   {
    "duration": 1909,
    "start_time": "2022-07-22T08:34:20.701Z"
   },
   {
    "duration": 14,
    "start_time": "2022-07-22T08:34:24.471Z"
   },
   {
    "duration": 16,
    "start_time": "2022-07-22T08:34:26.792Z"
   },
   {
    "duration": 4,
    "start_time": "2022-07-22T08:34:59.225Z"
   },
   {
    "duration": 13,
    "start_time": "2022-07-22T08:35:06.701Z"
   },
   {
    "duration": 15,
    "start_time": "2022-07-22T08:37:21.401Z"
   },
   {
    "duration": 430,
    "start_time": "2022-07-22T08:37:21.956Z"
   },
   {
    "duration": 10,
    "start_time": "2022-07-22T08:37:42.389Z"
   },
   {
    "duration": 10,
    "start_time": "2022-07-22T08:39:47.612Z"
   },
   {
    "duration": 13,
    "start_time": "2022-07-22T08:39:48.696Z"
   },
   {
    "duration": 374,
    "start_time": "2022-07-22T08:39:49.166Z"
   },
   {
    "duration": 8,
    "start_time": "2022-07-22T08:39:49.611Z"
   },
   {
    "duration": 4,
    "start_time": "2022-07-22T08:41:46.858Z"
   },
   {
    "duration": 1175,
    "start_time": "2022-07-22T08:42:20.324Z"
   },
   {
    "duration": 16,
    "start_time": "2022-07-22T08:42:21.505Z"
   },
   {
    "duration": 5,
    "start_time": "2022-07-22T08:42:56.651Z"
   },
   {
    "duration": 49,
    "start_time": "2022-07-22T08:42:57.325Z"
   },
   {
    "duration": 12,
    "start_time": "2022-07-22T08:42:57.980Z"
   },
   {
    "duration": 5,
    "start_time": "2022-07-22T08:42:58.450Z"
   },
   {
    "duration": 53,
    "start_time": "2022-07-22T08:42:58.964Z"
   },
   {
    "duration": 4,
    "start_time": "2022-07-22T08:42:59.123Z"
   },
   {
    "duration": 12,
    "start_time": "2022-07-22T08:42:59.316Z"
   },
   {
    "duration": 12,
    "start_time": "2022-07-22T08:42:59.485Z"
   },
   {
    "duration": 7,
    "start_time": "2022-07-22T08:42:59.803Z"
   },
   {
    "duration": 13,
    "start_time": "2022-07-22T08:43:00.599Z"
   },
   {
    "duration": 242487,
    "start_time": "2022-07-22T08:43:02.131Z"
   },
   {
    "duration": 677,
    "start_time": "2022-07-22T08:47:04.621Z"
   },
   {
    "duration": 1563,
    "start_time": "2022-07-22T08:47:05.300Z"
   },
   {
    "duration": 4,
    "start_time": "2022-07-22T08:47:06.865Z"
   },
   {
    "duration": 5,
    "start_time": "2022-07-22T08:48:18.549Z"
   },
   {
    "duration": 6,
    "start_time": "2022-07-22T08:48:20.392Z"
   },
   {
    "duration": 4,
    "start_time": "2022-07-22T08:48:21.767Z"
   },
   {
    "duration": 514,
    "start_time": "2022-07-22T08:48:22.399Z"
   },
   {
    "duration": 7,
    "start_time": "2022-07-22T08:48:23.791Z"
   },
   {
    "duration": 7,
    "start_time": "2022-07-22T08:48:24.803Z"
   },
   {
    "duration": 12,
    "start_time": "2022-07-22T08:48:27.106Z"
   },
   {
    "duration": 395,
    "start_time": "2022-07-22T08:48:27.971Z"
   },
   {
    "duration": 9,
    "start_time": "2022-07-22T08:48:28.844Z"
   },
   {
    "duration": 405,
    "start_time": "2022-07-22T08:49:55.072Z"
   },
   {
    "duration": 8,
    "start_time": "2022-07-22T08:49:55.696Z"
   },
   {
    "duration": 19,
    "start_time": "2022-07-22T08:50:26.498Z"
   },
   {
    "duration": 20,
    "start_time": "2022-07-22T08:50:48.470Z"
   },
   {
    "duration": 53,
    "start_time": "2022-07-22T08:50:55.548Z"
   },
   {
    "duration": 15,
    "start_time": "2022-07-22T08:50:56.861Z"
   },
   {
    "duration": 17,
    "start_time": "2022-07-22T08:51:13.574Z"
   },
   {
    "duration": 28,
    "start_time": "2022-07-22T08:51:25.311Z"
   },
   {
    "duration": 16,
    "start_time": "2022-07-22T08:51:52.321Z"
   },
   {
    "duration": 16,
    "start_time": "2022-07-22T08:52:04.619Z"
   },
   {
    "duration": 13,
    "start_time": "2022-07-22T08:52:31.545Z"
   },
   {
    "duration": 4,
    "start_time": "2022-07-22T08:52:57.632Z"
   },
   {
    "duration": 16,
    "start_time": "2022-07-22T08:52:58.958Z"
   },
   {
    "duration": 19,
    "start_time": "2022-07-22T08:53:09.235Z"
   },
   {
    "duration": 13,
    "start_time": "2022-07-22T08:53:11.798Z"
   },
   {
    "duration": 9,
    "start_time": "2022-07-22T08:53:43.498Z"
   },
   {
    "duration": 17,
    "start_time": "2022-07-22T08:54:04.419Z"
   },
   {
    "duration": 14,
    "start_time": "2022-07-22T08:54:12.848Z"
   },
   {
    "duration": 57,
    "start_time": "2022-07-22T08:54:32.169Z"
   },
   {
    "duration": 15,
    "start_time": "2022-07-22T08:54:32.725Z"
   },
   {
    "duration": 5,
    "start_time": "2022-07-22T08:54:33.188Z"
   },
   {
    "duration": 51,
    "start_time": "2022-07-22T08:54:33.804Z"
   },
   {
    "duration": 4,
    "start_time": "2022-07-22T08:54:34.549Z"
   },
   {
    "duration": 12,
    "start_time": "2022-07-22T08:54:35.259Z"
   },
   {
    "duration": 9,
    "start_time": "2022-07-22T08:54:35.893Z"
   },
   {
    "duration": 7,
    "start_time": "2022-07-22T08:54:37.230Z"
   },
   {
    "duration": 14,
    "start_time": "2022-07-22T08:54:42.061Z"
   },
   {
    "duration": 12,
    "start_time": "2022-07-22T08:54:45.767Z"
   },
   {
    "duration": 5,
    "start_time": "2022-07-22T08:55:05.774Z"
   },
   {
    "duration": 5,
    "start_time": "2022-07-22T08:55:06.324Z"
   },
   {
    "duration": 3,
    "start_time": "2022-07-22T08:55:07.179Z"
   },
   {
    "duration": 682,
    "start_time": "2022-07-22T08:55:07.738Z"
   },
   {
    "duration": 8,
    "start_time": "2022-07-22T08:55:09.068Z"
   },
   {
    "duration": 8,
    "start_time": "2022-07-22T08:55:09.754Z"
   },
   {
    "duration": 14,
    "start_time": "2022-07-22T08:55:11.206Z"
   },
   {
    "duration": 423,
    "start_time": "2022-07-22T08:55:12.034Z"
   },
   {
    "duration": 9,
    "start_time": "2022-07-22T08:55:12.590Z"
   },
   {
    "duration": 6,
    "start_time": "2022-07-22T08:55:31.632Z"
   },
   {
    "duration": 3,
    "start_time": "2022-07-22T08:55:32.629Z"
   },
   {
    "duration": 569,
    "start_time": "2022-07-22T08:55:33.139Z"
   },
   {
    "duration": 7,
    "start_time": "2022-07-22T08:55:33.813Z"
   },
   {
    "duration": 9,
    "start_time": "2022-07-22T08:55:34.817Z"
   },
   {
    "duration": 14,
    "start_time": "2022-07-22T08:55:38.123Z"
   },
   {
    "duration": 389,
    "start_time": "2022-07-22T08:55:38.425Z"
   },
   {
    "duration": 11,
    "start_time": "2022-07-22T08:55:38.817Z"
   },
   {
    "duration": 10,
    "start_time": "2022-07-22T08:55:47.401Z"
   },
   {
    "duration": 365,
    "start_time": "2022-07-22T08:55:47.873Z"
   },
   {
    "duration": 10,
    "start_time": "2022-07-22T08:55:48.337Z"
   },
   {
    "duration": 6,
    "start_time": "2022-07-22T08:55:58.156Z"
   },
   {
    "duration": 3,
    "start_time": "2022-07-22T08:55:59.038Z"
   },
   {
    "duration": 1109,
    "start_time": "2022-07-22T08:55:59.500Z"
   },
   {
    "duration": 93,
    "start_time": "2022-07-22T08:56:00.611Z"
   },
   {
    "duration": 9,
    "start_time": "2022-07-22T08:56:00.806Z"
   },
   {
    "duration": 14,
    "start_time": "2022-07-22T08:56:04.886Z"
   },
   {
    "duration": 402,
    "start_time": "2022-07-22T08:56:05.349Z"
   },
   {
    "duration": 9,
    "start_time": "2022-07-22T08:56:05.753Z"
   },
   {
    "duration": 8,
    "start_time": "2022-07-22T08:56:20.383Z"
   },
   {
    "duration": 3,
    "start_time": "2022-07-22T08:56:21.202Z"
   },
   {
    "duration": 796,
    "start_time": "2022-07-22T08:56:21.610Z"
   },
   {
    "duration": 8,
    "start_time": "2022-07-22T08:56:23.079Z"
   },
   {
    "duration": 12,
    "start_time": "2022-07-22T08:56:23.558Z"
   },
   {
    "duration": 11,
    "start_time": "2022-07-22T08:56:24.797Z"
   },
   {
    "duration": 390,
    "start_time": "2022-07-22T08:56:25.383Z"
   },
   {
    "duration": 8,
    "start_time": "2022-07-22T08:56:25.894Z"
   },
   {
    "duration": 8,
    "start_time": "2022-07-22T08:56:30.612Z"
   },
   {
    "duration": 9,
    "start_time": "2022-07-22T08:56:31.023Z"
   },
   {
    "duration": 11,
    "start_time": "2022-07-22T08:56:32.661Z"
   },
   {
    "duration": 383,
    "start_time": "2022-07-22T08:56:33.038Z"
   },
   {
    "duration": 9,
    "start_time": "2022-07-22T08:56:33.479Z"
   },
   {
    "duration": 476,
    "start_time": "2022-07-22T08:56:36.641Z"
   },
   {
    "duration": 9,
    "start_time": "2022-07-22T08:56:37.206Z"
   },
   {
    "duration": 9,
    "start_time": "2022-07-22T08:56:37.715Z"
   },
   {
    "duration": 13,
    "start_time": "2022-07-22T08:56:38.857Z"
   },
   {
    "duration": 379,
    "start_time": "2022-07-22T08:56:39.273Z"
   },
   {
    "duration": 9,
    "start_time": "2022-07-22T08:56:39.822Z"
   },
   {
    "duration": 5,
    "start_time": "2022-07-22T08:57:40.496Z"
   },
   {
    "duration": 4,
    "start_time": "2022-07-22T09:16:43.087Z"
   },
   {
    "duration": 3,
    "start_time": "2022-07-22T09:16:43.689Z"
   },
   {
    "duration": 9,
    "start_time": "2022-07-22T09:16:44.584Z"
   },
   {
    "duration": 10,
    "start_time": "2022-07-22T09:16:45.576Z"
   },
   {
    "duration": 5,
    "start_time": "2022-07-22T09:17:24.197Z"
   },
   {
    "duration": 633,
    "start_time": "2022-07-22T09:17:32.766Z"
   },
   {
    "duration": 118783,
    "start_time": "2022-07-22T09:18:38.249Z"
   },
   {
    "duration": 11,
    "start_time": "2022-07-22T09:21:12.154Z"
   },
   {
    "duration": 19,
    "start_time": "2022-07-22T09:21:41.739Z"
   },
   {
    "duration": 1079,
    "start_time": "2022-07-22T09:21:47.434Z"
   },
   {
    "duration": 3,
    "start_time": "2022-07-22T09:22:29.635Z"
   },
   {
    "duration": 22,
    "start_time": "2022-07-22T09:27:40.793Z"
   },
   {
    "duration": 6,
    "start_time": "2022-07-22T09:27:50.557Z"
   },
   {
    "duration": 24,
    "start_time": "2022-07-22T09:27:51.656Z"
   },
   {
    "duration": 3,
    "start_time": "2022-07-22T09:54:38.183Z"
   },
   {
    "duration": 3,
    "start_time": "2022-07-22T09:54:46.390Z"
   },
   {
    "duration": 8,
    "start_time": "2022-07-22T09:54:46.951Z"
   },
   {
    "duration": 588,
    "start_time": "2022-07-22T09:54:51.266Z"
   },
   {
    "duration": 120507,
    "start_time": "2022-07-22T09:54:53.028Z"
   },
   {
    "duration": 4,
    "start_time": "2022-07-22T09:56:53.537Z"
   },
   {
    "duration": 25,
    "start_time": "2022-07-22T09:56:53.543Z"
   },
   {
    "duration": 1072,
    "start_time": "2022-07-22T09:57:35.746Z"
   },
   {
    "duration": 83,
    "start_time": "2022-07-22T09:57:36.822Z"
   },
   {
    "duration": 16,
    "start_time": "2022-07-22T09:57:38.358Z"
   },
   {
    "duration": 3,
    "start_time": "2022-07-22T09:58:12.677Z"
   },
   {
    "duration": 8,
    "start_time": "2022-07-22T09:58:13.128Z"
   },
   {
    "duration": 649,
    "start_time": "2022-07-22T09:58:13.675Z"
   },
   {
    "duration": 118864,
    "start_time": "2022-07-22T09:58:15.135Z"
   },
   {
    "duration": 906,
    "start_time": "2022-07-22T10:00:14.003Z"
   },
   {
    "duration": 93,
    "start_time": "2022-07-22T10:00:14.911Z"
   },
   {
    "duration": 24,
    "start_time": "2022-07-22T10:00:15.006Z"
   },
   {
    "duration": 1735,
    "start_time": "2022-07-24T06:23:22.048Z"
   },
   {
    "duration": 132,
    "start_time": "2022-07-24T06:23:23.785Z"
   },
   {
    "duration": 15,
    "start_time": "2022-07-24T06:23:23.919Z"
   },
   {
    "duration": 35,
    "start_time": "2022-07-24T06:23:23.936Z"
   },
   {
    "duration": 69,
    "start_time": "2022-07-24T06:23:23.974Z"
   },
   {
    "duration": 3,
    "start_time": "2022-07-24T06:23:24.045Z"
   },
   {
    "duration": 32,
    "start_time": "2022-07-24T06:23:24.050Z"
   },
   {
    "duration": 36,
    "start_time": "2022-07-24T06:23:24.084Z"
   },
   {
    "duration": 14,
    "start_time": "2022-07-24T06:23:24.122Z"
   },
   {
    "duration": 52,
    "start_time": "2022-07-24T06:23:24.138Z"
   },
   {
    "duration": 249836,
    "start_time": "2022-07-24T06:23:24.192Z"
   },
   {
    "duration": 729,
    "start_time": "2022-07-24T06:27:34.030Z"
   },
   {
    "duration": 1619,
    "start_time": "2022-07-24T06:27:34.761Z"
   },
   {
    "duration": 28,
    "start_time": "2022-07-24T06:27:36.383Z"
   },
   {
    "duration": 12,
    "start_time": "2022-07-24T06:27:36.413Z"
   },
   {
    "duration": 12,
    "start_time": "2022-07-24T06:27:36.427Z"
   },
   {
    "duration": 16,
    "start_time": "2022-07-24T06:27:36.441Z"
   },
   {
    "duration": 6,
    "start_time": "2022-07-24T06:27:36.459Z"
   },
   {
    "duration": 751,
    "start_time": "2022-07-24T06:27:36.467Z"
   },
   {
    "duration": 96,
    "start_time": "2022-07-24T06:27:37.220Z"
   },
   {
    "duration": 111,
    "start_time": "2022-07-24T06:27:37.319Z"
   },
   {
    "duration": 12,
    "start_time": "2022-07-24T06:27:37.432Z"
   },
   {
    "duration": 430,
    "start_time": "2022-07-24T06:27:37.446Z"
   },
   {
    "duration": 8,
    "start_time": "2022-07-24T06:27:37.878Z"
   },
   {
    "duration": 7,
    "start_time": "2022-07-24T06:27:37.888Z"
   },
   {
    "duration": 20,
    "start_time": "2022-07-24T06:27:37.897Z"
   },
   {
    "duration": 664,
    "start_time": "2022-07-24T06:27:37.918Z"
   },
   {
    "duration": 125868,
    "start_time": "2022-07-24T06:27:38.584Z"
   },
   {
    "duration": 1259,
    "start_time": "2022-07-24T06:29:44.453Z"
   },
   {
    "duration": 4,
    "start_time": "2022-07-24T06:29:45.713Z"
   },
   {
    "duration": 24,
    "start_time": "2022-07-24T06:29:45.719Z"
   },
   {
    "duration": 3245,
    "start_time": "2022-07-24T06:47:49.830Z"
   },
   {
    "duration": 3927,
    "start_time": "2022-07-24T06:48:11.596Z"
   },
   {
    "duration": 10792,
    "start_time": "2022-07-24T06:49:01.238Z"
   },
   {
    "duration": 978,
    "start_time": "2022-07-24T06:51:45.735Z"
   },
   {
    "duration": 3748,
    "start_time": "2022-07-24T06:57:46.237Z"
   },
   {
    "duration": 2370,
    "start_time": "2022-07-24T07:01:13.770Z"
   },
   {
    "duration": 1348,
    "start_time": "2022-07-24T07:01:54.291Z"
   },
   {
    "duration": 4982,
    "start_time": "2022-07-24T07:05:54.818Z"
   },
   {
    "duration": 1322,
    "start_time": "2022-07-24T07:07:14.706Z"
   },
   {
    "duration": 1543,
    "start_time": "2022-07-24T07:21:37.894Z"
   },
   {
    "duration": 20,
    "start_time": "2022-07-24T07:22:05.130Z"
   },
   {
    "duration": 1594,
    "start_time": "2022-07-24T07:32:15.533Z"
   },
   {
    "duration": 54,
    "start_time": "2022-07-24T07:32:17.130Z"
   },
   {
    "duration": 14,
    "start_time": "2022-07-24T07:32:17.186Z"
   },
   {
    "duration": 14,
    "start_time": "2022-07-24T07:32:17.202Z"
   },
   {
    "duration": 90,
    "start_time": "2022-07-24T07:32:17.221Z"
   },
   {
    "duration": 4,
    "start_time": "2022-07-24T07:32:17.313Z"
   },
   {
    "duration": 27,
    "start_time": "2022-07-24T07:32:17.320Z"
   },
   {
    "duration": 19,
    "start_time": "2022-07-24T07:32:17.349Z"
   },
   {
    "duration": 9,
    "start_time": "2022-07-24T07:32:17.370Z"
   },
   {
    "duration": 78,
    "start_time": "2022-07-24T07:32:17.409Z"
   },
   {
    "duration": 250457,
    "start_time": "2022-07-24T07:32:17.490Z"
   },
   {
    "duration": 744,
    "start_time": "2022-07-24T07:36:27.949Z"
   },
   {
    "duration": 1559,
    "start_time": "2022-07-24T07:36:28.695Z"
   },
   {
    "duration": 15,
    "start_time": "2022-07-24T07:36:30.257Z"
   },
   {
    "duration": 23,
    "start_time": "2022-07-24T07:36:30.274Z"
   },
   {
    "duration": 17,
    "start_time": "2022-07-24T07:36:30.299Z"
   },
   {
    "duration": 12,
    "start_time": "2022-07-24T07:36:30.318Z"
   },
   {
    "duration": 980,
    "start_time": "2022-07-24T07:36:30.332Z"
   },
   {
    "duration": 98,
    "start_time": "2022-07-24T07:36:31.315Z"
   },
   {
    "duration": 10,
    "start_time": "2022-07-24T07:36:31.415Z"
   },
   {
    "duration": 11,
    "start_time": "2022-07-24T07:36:31.427Z"
   },
   {
    "duration": 455,
    "start_time": "2022-07-24T07:36:31.440Z"
   },
   {
    "duration": 15,
    "start_time": "2022-07-24T07:36:31.897Z"
   },
   {
    "duration": 21,
    "start_time": "2022-07-24T07:36:31.914Z"
   },
   {
    "duration": 44,
    "start_time": "2022-07-24T07:36:31.938Z"
   },
   {
    "duration": 722,
    "start_time": "2022-07-24T07:36:31.985Z"
   },
   {
    "duration": 124313,
    "start_time": "2022-07-24T07:36:32.709Z"
   },
   {
    "duration": 1395,
    "start_time": "2022-07-24T07:38:37.024Z"
   },
   {
    "duration": 4,
    "start_time": "2022-07-24T07:38:38.421Z"
   },
   {
    "duration": 23,
    "start_time": "2022-07-24T07:38:38.427Z"
   },
   {
    "duration": 1580,
    "start_time": "2022-07-24T07:38:38.452Z"
   },
   {
    "duration": 10918,
    "start_time": "2022-07-24T07:38:40.034Z"
   },
   {
    "duration": 156,
    "start_time": "2022-07-24T07:42:57.798Z"
   },
   {
    "duration": 16,
    "start_time": "2022-07-24T07:43:20.377Z"
   },
   {
    "duration": 23,
    "start_time": "2022-07-24T07:43:32.541Z"
   },
   {
    "duration": 14,
    "start_time": "2022-07-24T07:45:13.849Z"
   },
   {
    "duration": 719,
    "start_time": "2022-07-24T07:45:15.926Z"
   },
   {
    "duration": 1565,
    "start_time": "2022-07-24T15:27:19.582Z"
   },
   {
    "duration": 79,
    "start_time": "2022-07-24T15:27:21.149Z"
   },
   {
    "duration": 13,
    "start_time": "2022-07-24T15:27:21.229Z"
   },
   {
    "duration": 7,
    "start_time": "2022-07-24T15:27:21.245Z"
   },
   {
    "duration": 71,
    "start_time": "2022-07-24T15:27:21.253Z"
   },
   {
    "duration": 3,
    "start_time": "2022-07-24T15:27:21.326Z"
   },
   {
    "duration": 17,
    "start_time": "2022-07-24T15:27:21.331Z"
   },
   {
    "duration": 15,
    "start_time": "2022-07-24T15:27:21.350Z"
   },
   {
    "duration": 6,
    "start_time": "2022-07-24T15:27:21.367Z"
   },
   {
    "duration": 66,
    "start_time": "2022-07-24T15:27:21.376Z"
   },
   {
    "duration": 229091,
    "start_time": "2022-07-24T15:27:21.444Z"
   },
   {
    "duration": 690,
    "start_time": "2022-07-24T15:31:10.537Z"
   },
   {
    "duration": 1545,
    "start_time": "2022-07-24T15:31:11.228Z"
   },
   {
    "duration": 13,
    "start_time": "2022-07-24T15:31:12.775Z"
   },
   {
    "duration": 76,
    "start_time": "2022-07-24T15:31:12.790Z"
   },
   {
    "duration": 10,
    "start_time": "2022-07-24T15:31:12.868Z"
   },
   {
    "duration": 11,
    "start_time": "2022-07-24T15:31:12.880Z"
   },
   {
    "duration": 546,
    "start_time": "2022-07-24T15:31:12.893Z"
   },
   {
    "duration": 9,
    "start_time": "2022-07-24T15:31:13.623Z"
   },
   {
    "duration": 29,
    "start_time": "2022-07-24T15:31:13.634Z"
   },
   {
    "duration": 17,
    "start_time": "2022-07-24T15:31:13.665Z"
   },
   {
    "duration": 359,
    "start_time": "2022-07-24T15:31:13.684Z"
   },
   {
    "duration": 9,
    "start_time": "2022-07-24T15:31:14.044Z"
   },
   {
    "duration": 6,
    "start_time": "2022-07-24T15:31:14.054Z"
   },
   {
    "duration": 13,
    "start_time": "2022-07-24T15:31:14.062Z"
   },
   {
    "duration": 699,
    "start_time": "2022-07-24T15:31:14.077Z"
   },
   {
    "duration": 117458,
    "start_time": "2022-07-24T15:31:14.778Z"
   },
   {
    "duration": 999,
    "start_time": "2022-07-24T15:33:12.239Z"
   },
   {
    "duration": 5,
    "start_time": "2022-07-24T15:33:13.323Z"
   },
   {
    "duration": 17,
    "start_time": "2022-07-24T15:33:13.330Z"
   },
   {
    "duration": 1440,
    "start_time": "2022-07-24T15:33:13.349Z"
   },
   {
    "duration": 599,
    "start_time": "2022-07-24T15:33:14.792Z"
   },
   {
    "duration": 49,
    "start_time": "2022-07-24T15:33:15.394Z"
   },
   {
    "duration": 1283,
    "start_time": "2022-07-24T15:33:49.203Z"
   },
   {
    "duration": 988,
    "start_time": "2022-07-24T16:10:19.034Z"
   },
   {
    "duration": 979,
    "start_time": "2022-07-24T16:10:30.234Z"
   },
   {
    "duration": 1485,
    "start_time": "2022-07-24T16:11:22.156Z"
   },
   {
    "duration": 45,
    "start_time": "2022-07-24T16:11:23.643Z"
   },
   {
    "duration": 14,
    "start_time": "2022-07-24T16:11:23.690Z"
   },
   {
    "duration": 7,
    "start_time": "2022-07-24T16:11:23.706Z"
   },
   {
    "duration": 59,
    "start_time": "2022-07-24T16:11:23.715Z"
   },
   {
    "duration": 3,
    "start_time": "2022-07-24T16:11:23.776Z"
   },
   {
    "duration": 23,
    "start_time": "2022-07-24T16:11:23.781Z"
   },
   {
    "duration": 23,
    "start_time": "2022-07-24T16:11:23.807Z"
   },
   {
    "duration": 7,
    "start_time": "2022-07-24T16:11:23.832Z"
   },
   {
    "duration": 50,
    "start_time": "2022-07-24T16:11:23.843Z"
   },
   {
    "duration": 1281,
    "start_time": "2022-07-24T16:11:23.895Z"
   },
   {
    "duration": 700,
    "start_time": "2022-07-24T16:11:25.178Z"
   },
   {
    "duration": 1728,
    "start_time": "2022-07-24T16:11:25.881Z"
   },
   {
    "duration": 13,
    "start_time": "2022-07-24T16:11:27.611Z"
   },
   {
    "duration": 12,
    "start_time": "2022-07-24T16:11:27.626Z"
   },
   {
    "duration": 8,
    "start_time": "2022-07-24T16:11:27.641Z"
   },
   {
    "duration": 4,
    "start_time": "2022-07-24T16:11:27.651Z"
   },
   {
    "duration": 1775,
    "start_time": "2022-07-24T16:11:27.657Z"
   },
   {
    "duration": 95,
    "start_time": "2022-07-24T16:11:29.434Z"
   },
   {
    "duration": 103,
    "start_time": "2022-07-24T16:11:29.532Z"
   },
   {
    "duration": 9,
    "start_time": "2022-07-24T16:11:29.637Z"
   },
   {
    "duration": 357,
    "start_time": "2022-07-24T16:11:29.648Z"
   },
   {
    "duration": 17,
    "start_time": "2022-07-24T16:11:30.007Z"
   },
   {
    "duration": 5,
    "start_time": "2022-07-24T16:11:30.026Z"
   },
   {
    "duration": 14,
    "start_time": "2022-07-24T16:11:30.033Z"
   },
   {
    "duration": 622,
    "start_time": "2022-07-24T16:11:30.049Z"
   },
   {
    "duration": 113710,
    "start_time": "2022-07-24T16:11:30.673Z"
   },
   {
    "duration": 757,
    "start_time": "2022-07-24T16:13:24.386Z"
   },
   {
    "duration": 5,
    "start_time": "2022-07-24T16:13:25.144Z"
   },
   {
    "duration": 29,
    "start_time": "2022-07-24T16:13:25.226Z"
   },
   {
    "duration": 1158,
    "start_time": "2022-07-24T16:13:25.257Z"
   },
   {
    "duration": 628,
    "start_time": "2022-07-24T16:13:26.417Z"
   },
   {
    "duration": 1250,
    "start_time": "2022-07-24T16:14:39.368Z"
   },
   {
    "duration": 1227,
    "start_time": "2022-07-24T16:14:50.061Z"
   },
   {
    "duration": 1416,
    "start_time": "2022-07-24T16:24:51.147Z"
   },
   {
    "duration": 702,
    "start_time": "2022-07-24T16:25:08.855Z"
   },
   {
    "duration": 1612,
    "start_time": "2022-07-25T06:31:22.285Z"
   },
   {
    "duration": 81,
    "start_time": "2022-07-25T06:31:23.899Z"
   },
   {
    "duration": 11,
    "start_time": "2022-07-25T06:31:23.982Z"
   },
   {
    "duration": 5,
    "start_time": "2022-07-25T06:31:23.996Z"
   },
   {
    "duration": 64,
    "start_time": "2022-07-25T06:31:24.003Z"
   },
   {
    "duration": 3,
    "start_time": "2022-07-25T06:31:24.069Z"
   },
   {
    "duration": 15,
    "start_time": "2022-07-25T06:31:24.074Z"
   },
   {
    "duration": 11,
    "start_time": "2022-07-25T06:31:24.090Z"
   },
   {
    "duration": 7,
    "start_time": "2022-07-25T06:31:24.103Z"
   },
   {
    "duration": 61,
    "start_time": "2022-07-25T06:31:24.112Z"
   },
   {
    "duration": 1204,
    "start_time": "2022-07-25T06:31:24.174Z"
   },
   {
    "duration": 626,
    "start_time": "2022-07-25T06:31:25.380Z"
   },
   {
    "duration": 1625,
    "start_time": "2022-07-25T06:31:26.007Z"
   },
   {
    "duration": 13,
    "start_time": "2022-07-25T06:31:27.634Z"
   },
   {
    "duration": 6,
    "start_time": "2022-07-25T06:31:27.648Z"
   },
   {
    "duration": 13,
    "start_time": "2022-07-25T06:31:27.656Z"
   },
   {
    "duration": 5,
    "start_time": "2022-07-25T06:31:27.670Z"
   },
   {
    "duration": 786,
    "start_time": "2022-07-25T06:31:27.676Z"
   },
   {
    "duration": 97,
    "start_time": "2022-07-25T06:31:28.464Z"
   },
   {
    "duration": 8,
    "start_time": "2022-07-25T06:31:28.563Z"
   },
   {
    "duration": 10,
    "start_time": "2022-07-25T06:31:28.572Z"
   },
   {
    "duration": 368,
    "start_time": "2022-07-25T06:31:28.585Z"
   },
   {
    "duration": 10,
    "start_time": "2022-07-25T06:31:28.955Z"
   },
   {
    "duration": 7,
    "start_time": "2022-07-25T06:31:28.966Z"
   },
   {
    "duration": 10,
    "start_time": "2022-07-25T06:31:28.975Z"
   },
   {
    "duration": 544,
    "start_time": "2022-07-25T06:31:28.987Z"
   },
   {
    "duration": 111326,
    "start_time": "2022-07-25T06:31:29.533Z"
   },
   {
    "duration": 1203,
    "start_time": "2022-07-25T06:33:20.862Z"
   },
   {
    "duration": 3,
    "start_time": "2022-07-25T06:33:22.067Z"
   },
   {
    "duration": 17,
    "start_time": "2022-07-25T06:33:22.072Z"
   },
   {
    "duration": 1027,
    "start_time": "2022-07-25T06:33:22.090Z"
   },
   {
    "duration": 564,
    "start_time": "2022-07-25T06:33:23.119Z"
   },
   {
    "duration": 28,
    "start_time": "2022-07-25T06:34:42.332Z"
   },
   {
    "duration": 38,
    "start_time": "2022-07-25T06:34:46.909Z"
   },
   {
    "duration": 42,
    "start_time": "2022-07-25T11:02:29.497Z"
   },
   {
    "duration": 1461,
    "start_time": "2022-07-25T11:02:45.227Z"
   },
   {
    "duration": 132,
    "start_time": "2022-07-25T11:02:46.689Z"
   },
   {
    "duration": 10,
    "start_time": "2022-07-25T11:02:46.823Z"
   },
   {
    "duration": 7,
    "start_time": "2022-07-25T11:02:46.835Z"
   },
   {
    "duration": 40,
    "start_time": "2022-07-25T11:02:46.843Z"
   },
   {
    "duration": 2,
    "start_time": "2022-07-25T11:02:46.885Z"
   },
   {
    "duration": 16,
    "start_time": "2022-07-25T11:02:46.889Z"
   },
   {
    "duration": 11,
    "start_time": "2022-07-25T11:02:46.906Z"
   },
   {
    "duration": 4,
    "start_time": "2022-07-25T11:02:46.919Z"
   },
   {
    "duration": 39,
    "start_time": "2022-07-25T11:02:46.925Z"
   },
   {
    "duration": 2049,
    "start_time": "2022-07-25T11:02:46.965Z"
   },
   {
    "duration": 638,
    "start_time": "2022-07-25T11:02:49.016Z"
   },
   {
    "duration": 1319,
    "start_time": "2022-07-25T11:02:49.656Z"
   },
   {
    "duration": 12,
    "start_time": "2022-07-25T11:02:50.977Z"
   },
   {
    "duration": 14,
    "start_time": "2022-07-25T11:02:50.990Z"
   },
   {
    "duration": 9,
    "start_time": "2022-07-25T11:02:51.005Z"
   },
   {
    "duration": 3,
    "start_time": "2022-07-25T11:02:51.016Z"
   },
   {
    "duration": 789,
    "start_time": "2022-07-25T11:02:51.020Z"
   },
   {
    "duration": 100,
    "start_time": "2022-07-25T11:02:51.810Z"
   },
   {
    "duration": 101,
    "start_time": "2022-07-25T11:02:51.911Z"
   },
   {
    "duration": 8,
    "start_time": "2022-07-25T11:02:52.014Z"
   },
   {
    "duration": 327,
    "start_time": "2022-07-25T11:02:52.024Z"
   },
   {
    "duration": 7,
    "start_time": "2022-07-25T11:02:52.352Z"
   },
   {
    "duration": 3,
    "start_time": "2022-07-25T11:02:52.360Z"
   },
   {
    "duration": 9,
    "start_time": "2022-07-25T11:02:52.364Z"
   },
   {
    "duration": 490,
    "start_time": "2022-07-25T11:02:52.374Z"
   },
   {
    "duration": 1310,
    "start_time": "2022-07-25T11:04:22.423Z"
   },
   {
    "duration": 43,
    "start_time": "2022-07-25T11:04:23.735Z"
   },
   {
    "duration": 11,
    "start_time": "2022-07-25T11:04:23.779Z"
   },
   {
    "duration": 5,
    "start_time": "2022-07-25T11:04:23.791Z"
   },
   {
    "duration": 39,
    "start_time": "2022-07-25T11:04:23.797Z"
   },
   {
    "duration": 3,
    "start_time": "2022-07-25T11:04:23.838Z"
   },
   {
    "duration": 11,
    "start_time": "2022-07-25T11:04:23.842Z"
   },
   {
    "duration": 9,
    "start_time": "2022-07-25T11:04:23.854Z"
   },
   {
    "duration": 4,
    "start_time": "2022-07-25T11:04:23.864Z"
   },
   {
    "duration": 59,
    "start_time": "2022-07-25T11:04:23.870Z"
   },
   {
    "duration": 1256,
    "start_time": "2022-07-25T11:04:23.930Z"
   },
   {
    "duration": 678,
    "start_time": "2022-07-25T11:04:25.188Z"
   },
   {
    "duration": 1268,
    "start_time": "2022-07-25T11:04:25.868Z"
   },
   {
    "duration": 10,
    "start_time": "2022-07-25T11:04:27.138Z"
   },
   {
    "duration": 6,
    "start_time": "2022-07-25T11:04:27.150Z"
   },
   {
    "duration": 6,
    "start_time": "2022-07-25T11:04:27.158Z"
   },
   {
    "duration": 5,
    "start_time": "2022-07-25T11:04:27.165Z"
   },
   {
    "duration": 537,
    "start_time": "2022-07-25T11:04:27.171Z"
   },
   {
    "duration": 94,
    "start_time": "2022-07-25T11:04:27.710Z"
   },
   {
    "duration": 8,
    "start_time": "2022-07-25T11:04:27.805Z"
   },
   {
    "duration": 8,
    "start_time": "2022-07-25T11:04:27.814Z"
   },
   {
    "duration": 332,
    "start_time": "2022-07-25T11:04:27.824Z"
   },
   {
    "duration": 7,
    "start_time": "2022-07-25T11:04:28.157Z"
   },
   {
    "duration": 3,
    "start_time": "2022-07-25T11:04:28.166Z"
   },
   {
    "duration": 11,
    "start_time": "2022-07-25T11:04:28.171Z"
   },
   {
    "duration": 502,
    "start_time": "2022-07-25T11:04:28.183Z"
   },
   {
    "duration": 97228,
    "start_time": "2022-07-25T11:04:28.687Z"
   },
   {
    "duration": 986,
    "start_time": "2022-07-25T11:06:05.919Z"
   },
   {
    "duration": 3,
    "start_time": "2022-07-25T11:06:06.907Z"
   },
   {
    "duration": 17,
    "start_time": "2022-07-25T11:06:06.912Z"
   },
   {
    "duration": 1124,
    "start_time": "2022-07-25T11:06:06.930Z"
   },
   {
    "duration": 747,
    "start_time": "2022-07-25T11:06:08.055Z"
   },
   {
    "duration": 1031,
    "start_time": "2022-07-25T11:06:08.804Z"
   },
   {
    "duration": 1349,
    "start_time": "2022-07-25T11:06:35.778Z"
   },
   {
    "duration": 2371,
    "start_time": "2022-07-25T11:07:14.419Z"
   },
   {
    "duration": 1281,
    "start_time": "2022-07-25T11:07:28.803Z"
   },
   {
    "duration": 73,
    "start_time": "2022-07-25T11:07:57.706Z"
   },
   {
    "duration": 75,
    "start_time": "2022-07-25T11:08:19.330Z"
   },
   {
    "duration": 2310,
    "start_time": "2022-07-25T11:08:37.501Z"
   },
   {
    "duration": 46,
    "start_time": "2022-07-27T08:39:25.299Z"
   },
   {
    "duration": 6,
    "start_time": "2022-07-27T08:42:07.571Z"
   },
   {
    "duration": 1582,
    "start_time": "2022-07-27T08:42:17.270Z"
   },
   {
    "duration": 89,
    "start_time": "2022-07-27T08:42:18.855Z"
   },
   {
    "duration": 16,
    "start_time": "2022-07-27T08:42:18.946Z"
   },
   {
    "duration": 15,
    "start_time": "2022-07-27T08:42:18.965Z"
   },
   {
    "duration": 55,
    "start_time": "2022-07-27T08:42:18.982Z"
   },
   {
    "duration": 3,
    "start_time": "2022-07-27T08:42:19.039Z"
   },
   {
    "duration": 15,
    "start_time": "2022-07-27T08:42:19.043Z"
   },
   {
    "duration": 9,
    "start_time": "2022-07-27T08:42:19.060Z"
   },
   {
    "duration": 5,
    "start_time": "2022-07-27T08:42:19.070Z"
   },
   {
    "duration": 65,
    "start_time": "2022-07-27T08:42:19.078Z"
   },
   {
    "duration": 1106,
    "start_time": "2022-07-27T08:42:19.144Z"
   },
   {
    "duration": 628,
    "start_time": "2022-07-27T08:42:20.251Z"
   },
   {
    "duration": 1539,
    "start_time": "2022-07-27T08:42:20.880Z"
   },
   {
    "duration": 11,
    "start_time": "2022-07-27T08:42:22.421Z"
   },
   {
    "duration": 10,
    "start_time": "2022-07-27T08:42:22.433Z"
   },
   {
    "duration": 9,
    "start_time": "2022-07-27T08:42:22.444Z"
   },
   {
    "duration": 6,
    "start_time": "2022-07-27T08:42:22.454Z"
   },
   {
    "duration": 6,
    "start_time": "2022-07-27T08:42:22.461Z"
   },
   {
    "duration": 871,
    "start_time": "2022-07-27T08:42:22.468Z"
   },
   {
    "duration": 92,
    "start_time": "2022-07-27T08:42:23.345Z"
   },
   {
    "duration": 20,
    "start_time": "2022-07-27T08:42:23.439Z"
   },
   {
    "duration": 8,
    "start_time": "2022-07-27T08:42:23.461Z"
   },
   {
    "duration": 347,
    "start_time": "2022-07-27T08:42:23.471Z"
   },
   {
    "duration": 8,
    "start_time": "2022-07-27T08:42:23.819Z"
   },
   {
    "duration": 2,
    "start_time": "2022-07-27T08:42:23.836Z"
   },
   {
    "duration": 11,
    "start_time": "2022-07-27T08:42:23.840Z"
   },
   {
    "duration": 539,
    "start_time": "2022-07-27T08:42:23.852Z"
   },
   {
    "duration": 109442,
    "start_time": "2022-07-27T08:42:24.394Z"
   },
   {
    "duration": 1108,
    "start_time": "2022-07-27T08:44:13.838Z"
   },
   {
    "duration": 90,
    "start_time": "2022-07-27T08:44:14.948Z"
   },
   {
    "duration": 28,
    "start_time": "2022-07-27T08:44:15.040Z"
   },
   {
    "duration": 1098,
    "start_time": "2022-07-27T08:44:15.070Z"
   },
   {
    "duration": 627,
    "start_time": "2022-07-27T08:44:16.170Z"
   },
   {
    "duration": 41,
    "start_time": "2022-07-27T08:46:51.257Z"
   },
   {
    "duration": 5,
    "start_time": "2022-07-27T08:47:39.420Z"
   },
   {
    "duration": 10,
    "start_time": "2022-07-27T09:02:52.077Z"
   },
   {
    "duration": 4,
    "start_time": "2022-07-27T09:02:52.662Z"
   },
   {
    "duration": 4473,
    "start_time": "2022-07-27T09:02:53.465Z"
   },
   {
    "duration": 8,
    "start_time": "2022-07-27T09:02:58.117Z"
   },
   {
    "duration": 12,
    "start_time": "2022-07-27T09:02:58.126Z"
   },
   {
    "duration": 379,
    "start_time": "2022-07-27T09:03:16.114Z"
   },
   {
    "duration": 7,
    "start_time": "2022-07-27T09:03:16.603Z"
   },
   {
    "duration": 389,
    "start_time": "2022-07-27T09:04:19.589Z"
   },
   {
    "duration": 9,
    "start_time": "2022-07-27T09:04:20.204Z"
   },
   {
    "duration": 358,
    "start_time": "2022-07-27T09:04:31.474Z"
   },
   {
    "duration": 7,
    "start_time": "2022-07-27T09:04:32.093Z"
   },
   {
    "duration": 12,
    "start_time": "2022-07-27T09:07:23.050Z"
   },
   {
    "duration": 3,
    "start_time": "2022-07-27T09:07:23.498Z"
   },
   {
    "duration": 311,
    "start_time": "2022-07-27T09:07:23.945Z"
   },
   {
    "duration": 4,
    "start_time": "2022-07-27T09:07:26.908Z"
   },
   {
    "duration": 11,
    "start_time": "2022-07-27T09:07:28.513Z"
   },
   {
    "duration": 4,
    "start_time": "2022-07-27T09:13:39.422Z"
   },
   {
    "duration": 1493,
    "start_time": "2022-07-27T09:13:46.743Z"
   },
   {
    "duration": 46,
    "start_time": "2022-07-27T09:13:48.238Z"
   },
   {
    "duration": 11,
    "start_time": "2022-07-27T09:13:48.286Z"
   },
   {
    "duration": 8,
    "start_time": "2022-07-27T09:13:48.300Z"
   },
   {
    "duration": 73,
    "start_time": "2022-07-27T09:13:48.310Z"
   },
   {
    "duration": 3,
    "start_time": "2022-07-27T09:13:48.385Z"
   },
   {
    "duration": 16,
    "start_time": "2022-07-27T09:13:48.389Z"
   },
   {
    "duration": 12,
    "start_time": "2022-07-27T09:13:48.407Z"
   },
   {
    "duration": 18,
    "start_time": "2022-07-27T09:13:48.420Z"
   },
   {
    "duration": 49,
    "start_time": "2022-07-27T09:13:48.442Z"
   },
   {
    "duration": 1387,
    "start_time": "2022-07-27T09:13:48.493Z"
   },
   {
    "duration": 735,
    "start_time": "2022-07-27T09:13:49.882Z"
   },
   {
    "duration": 1708,
    "start_time": "2022-07-27T09:13:50.619Z"
   },
   {
    "duration": 21,
    "start_time": "2022-07-27T09:13:52.330Z"
   },
   {
    "duration": 27,
    "start_time": "2022-07-27T09:13:52.353Z"
   },
   {
    "duration": 21,
    "start_time": "2022-07-27T09:13:52.382Z"
   },
   {
    "duration": 21,
    "start_time": "2022-07-27T09:13:52.404Z"
   },
   {
    "duration": 15,
    "start_time": "2022-07-27T09:13:52.427Z"
   },
   {
    "duration": 34,
    "start_time": "2022-07-27T09:13:52.444Z"
   },
   {
    "duration": 11,
    "start_time": "2022-07-27T09:13:52.480Z"
   },
   {
    "duration": 443,
    "start_time": "2022-07-27T09:13:52.493Z"
   },
   {
    "duration": 5,
    "start_time": "2022-07-27T09:13:52.939Z"
   },
   {
    "duration": 29,
    "start_time": "2022-07-27T09:13:52.946Z"
   },
   {
    "duration": 433,
    "start_time": "2022-07-27T09:13:52.977Z"
   },
   {
    "duration": 9,
    "start_time": "2022-07-27T09:13:53.411Z"
   },
   {
    "duration": 29,
    "start_time": "2022-07-27T09:13:53.421Z"
   },
   {
    "duration": 30,
    "start_time": "2022-07-27T09:13:53.453Z"
   },
   {
    "duration": 590,
    "start_time": "2022-07-27T09:13:53.487Z"
   },
   {
    "duration": 118581,
    "start_time": "2022-07-27T09:13:54.079Z"
   },
   {
    "duration": 1082,
    "start_time": "2022-07-27T09:15:52.661Z"
   },
   {
    "duration": 5,
    "start_time": "2022-07-27T09:15:53.745Z"
   },
   {
    "duration": 28,
    "start_time": "2022-07-27T09:15:53.752Z"
   },
   {
    "duration": 65,
    "start_time": "2022-07-27T09:15:53.782Z"
   },
   {
    "duration": 1271,
    "start_time": "2022-07-27T09:15:53.850Z"
   },
   {
    "duration": 637,
    "start_time": "2022-07-27T09:15:55.123Z"
   },
   {
    "duration": 1724,
    "start_time": "2022-07-27T11:23:47.331Z"
   },
   {
    "duration": 47,
    "start_time": "2022-07-27T11:23:49.057Z"
   },
   {
    "duration": 11,
    "start_time": "2022-07-27T11:23:49.106Z"
   },
   {
    "duration": 5,
    "start_time": "2022-07-27T11:23:49.119Z"
   },
   {
    "duration": 45,
    "start_time": "2022-07-27T11:23:49.125Z"
   },
   {
    "duration": 3,
    "start_time": "2022-07-27T11:23:49.171Z"
   },
   {
    "duration": 11,
    "start_time": "2022-07-27T11:23:49.198Z"
   },
   {
    "duration": 16,
    "start_time": "2022-07-27T11:23:49.211Z"
   },
   {
    "duration": 6,
    "start_time": "2022-07-27T11:23:49.229Z"
   },
   {
    "duration": 64,
    "start_time": "2022-07-27T11:23:49.237Z"
   },
   {
    "duration": 1142,
    "start_time": "2022-07-27T11:23:49.303Z"
   },
   {
    "duration": 637,
    "start_time": "2022-07-27T11:23:50.446Z"
   },
   {
    "duration": 1406,
    "start_time": "2022-07-27T11:23:51.085Z"
   },
   {
    "duration": 13,
    "start_time": "2022-07-27T11:23:52.492Z"
   },
   {
    "duration": 6,
    "start_time": "2022-07-27T11:23:52.507Z"
   },
   {
    "duration": 8,
    "start_time": "2022-07-27T11:23:52.515Z"
   },
   {
    "duration": 16,
    "start_time": "2022-07-27T11:23:52.524Z"
   },
   {
    "duration": 7,
    "start_time": "2022-07-27T11:23:52.543Z"
   },
   {
    "duration": 12,
    "start_time": "2022-07-27T11:23:52.552Z"
   },
   {
    "duration": 3,
    "start_time": "2022-07-27T11:23:52.566Z"
   },
   {
    "duration": 36,
    "start_time": "2022-07-27T11:23:52.571Z"
   },
   {
    "duration": 91,
    "start_time": "2022-07-27T11:23:52.609Z"
   },
   {
    "duration": 101,
    "start_time": "2022-07-27T11:23:52.702Z"
   },
   {
    "duration": 394,
    "start_time": "2022-07-27T11:23:52.804Z"
   },
   {
    "duration": 7,
    "start_time": "2022-07-27T11:23:53.199Z"
   },
   {
    "duration": 6,
    "start_time": "2022-07-27T11:23:53.207Z"
   },
   {
    "duration": 11,
    "start_time": "2022-07-27T11:23:53.214Z"
   },
   {
    "duration": 499,
    "start_time": "2022-07-27T11:23:53.228Z"
   },
   {
    "duration": 100967,
    "start_time": "2022-07-27T11:23:53.730Z"
   },
   {
    "duration": 999,
    "start_time": "2022-07-27T11:25:34.699Z"
   },
   {
    "duration": 3,
    "start_time": "2022-07-27T11:25:35.700Z"
   },
   {
    "duration": 28,
    "start_time": "2022-07-27T11:25:35.705Z"
   },
   {
    "duration": 40,
    "start_time": "2022-07-27T11:25:35.734Z"
   },
   {
    "duration": 1067,
    "start_time": "2022-07-27T11:25:35.776Z"
   },
   {
    "duration": 586,
    "start_time": "2022-07-27T11:25:36.845Z"
   },
   {
    "duration": 263,
    "start_time": "2022-07-27T11:28:27.641Z"
   },
   {
    "duration": 84,
    "start_time": "2022-07-27T11:29:00.960Z"
   },
   {
    "duration": 598,
    "start_time": "2022-07-27T11:29:06.398Z"
   },
   {
    "duration": 1258,
    "start_time": "2022-07-27T11:29:38.993Z"
   },
   {
    "duration": 1301,
    "start_time": "2022-07-27T11:29:45.472Z"
   }
  ],
  "kernelspec": {
   "display_name": "Python 3 (ipykernel)",
   "language": "python",
   "name": "python3"
  },
  "language_info": {
   "codemirror_mode": {
    "name": "ipython",
    "version": 3
   },
   "file_extension": ".py",
   "mimetype": "text/x-python",
   "name": "python",
   "nbconvert_exporter": "python",
   "pygments_lexer": "ipython3",
   "version": "3.9.12"
  },
  "toc": {
   "base_numbering": 1,
   "nav_menu": {},
   "number_sections": true,
   "sideBar": true,
   "skip_h1_title": true,
   "title_cell": "Table of Contents",
   "title_sidebar": "Contents",
   "toc_cell": false,
   "toc_position": {},
   "toc_section_display": true,
   "toc_window_display": false
  }
 },
 "nbformat": 4,
 "nbformat_minor": 2
}
