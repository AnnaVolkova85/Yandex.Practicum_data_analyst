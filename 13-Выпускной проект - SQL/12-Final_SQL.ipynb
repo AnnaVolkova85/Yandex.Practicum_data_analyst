{
 "cells": [
  {
   "cell_type": "markdown",
   "metadata": {},
   "source": [
    "# Анализ базы данных сервиса для чтения книг\n",
    "\n",
    "Коронавирус застал мир врасплох, изменив привычный порядок вещей. В свободное время жители городов больше не выходят на улицу, не посещают кафе и торговые центры. Зато стало больше времени для книг. Это заметили стартаперы — и бросились создавать приложения для тех, кто любит читать.\n",
    "Ваша компания решила быть на волне и купила крупный сервис для чтения книг по подписке.\n",
    "\n",
    "**Цель:**\n",
    "\n",
    "Помочь бизнесу сформулировать ценностное предложение для нового продукта.\n",
    "\n",
    "**Задача:**\n",
    "\n",
    "Проанализировать базу данных."
   ]
  },
  {
   "cell_type": "markdown",
   "metadata": {},
   "source": [
    "***Описание данных***\n",
    "\n",
    "**Таблица books**\n",
    "\n",
    "Содержит данные о книгах:\n",
    "\n",
    "`book_id` — идентификатор книги;\n",
    "\n",
    "`author_id` — идентификатор автора;\n",
    "\n",
    "`title` — название книги;\n",
    "\n",
    "`num_pages` — количество страниц;\n",
    "\n",
    "`publication_date` — дата публикации книги;\n",
    "\n",
    "`publisher_id` — идентификатор издателя.\n",
    "\n",
    "**Таблица authors**\n",
    "\n",
    "Содержит данные об авторах:\n",
    "\n",
    "`author_id` — идентификатор автора;\n",
    "\n",
    "`author` — имя автора.\n",
    "\n",
    "**Таблица publishers**\n",
    "\n",
    "Содержит данные об издательствах:\n",
    "\n",
    "`publisher_id` — идентификатор издательства;\n",
    "\n",
    "`publisher` — название издательства;\n",
    "\n",
    "**Таблица ratings**\n",
    "\n",
    "Содержит данные о пользовательских оценках книг:\n",
    "\n",
    "`rating_id` — идентификатор оценки;\n",
    "\n",
    "`book_id` — идентификатор книги;\n",
    "\n",
    "`username` — имя пользователя, оставившего оценку;\n",
    "\n",
    "`rating` — оценка книги.\n",
    "\n",
    "**Таблица reviews**\n",
    "\n",
    "Содержит данные о пользовательских обзорах:\n",
    "\n",
    "`review_id` — идентификатор обзора;\n",
    "\n",
    "`book_id` — идентификатор книги;\n",
    "\n",
    "`username` — имя автора обзора;\n",
    "\n",
    "`text` — текст обзора."
   ]
  },
  {
   "cell_type": "code",
   "execution_count": 1,
   "metadata": {},
   "outputs": [],
   "source": [
    "import pandas as pd\n",
    "from sqlalchemy import create_engine\n",
    "# устанавливаем параметры\n",
    "db_config = {'user': 'praktikum_student', # имя пользователя\n",
    "'pwd': 'Sdf4$2;d-d30pp', # пароль\n",
    "'host': 'rc1b-wcoijxj3yxfsf3fs.mdb.yandexcloud.net',\n",
    "'port': 6432, # порт подключения\n",
    "'db': 'data-analyst-final-project-db'} # название базы данных\n",
    "connection_string = 'postgresql://{}:{}@{}:{}/{}'.format(db_config['user'],\n",
    " db_config['pwd'],\n",
    " db_config['host'],\n",
    " db_config['port'],\n",
    " db_config['db'])\n",
    "# сохраняем коннектор\n",
    "engine = create_engine(connection_string, connect_args={'sslmode':'require'}) "
   ]
  },
  {
   "cell_type": "markdown",
   "metadata": {},
   "source": [
    "## Предварительный просмотр таблиц\n",
    "\n",
    "Сначала исследуем таблицы - выведем их первые строки."
   ]
  },
  {
   "cell_type": "code",
   "execution_count": 2,
   "metadata": {},
   "outputs": [],
   "source": [
    "#таблица books\n",
    "sql= '''\n",
    "SELECT *\n",
    "FROM books\n",
    "LIMIT 1\n",
    "'''"
   ]
  },
  {
   "cell_type": "code",
   "execution_count": 3,
   "metadata": {
    "scrolled": true
   },
   "outputs": [
    {
     "data": {
      "text/html": [
       "<div>\n",
       "<style scoped>\n",
       "    .dataframe tbody tr th:only-of-type {\n",
       "        vertical-align: middle;\n",
       "    }\n",
       "\n",
       "    .dataframe tbody tr th {\n",
       "        vertical-align: top;\n",
       "    }\n",
       "\n",
       "    .dataframe thead th {\n",
       "        text-align: right;\n",
       "    }\n",
       "</style>\n",
       "<table border=\"1\" class=\"dataframe\">\n",
       "  <thead>\n",
       "    <tr style=\"text-align: right;\">\n",
       "      <th></th>\n",
       "      <th>book_id</th>\n",
       "      <th>author_id</th>\n",
       "      <th>title</th>\n",
       "      <th>num_pages</th>\n",
       "      <th>publication_date</th>\n",
       "      <th>publisher_id</th>\n",
       "    </tr>\n",
       "  </thead>\n",
       "  <tbody>\n",
       "    <tr>\n",
       "      <th>0</th>\n",
       "      <td>1</td>\n",
       "      <td>546</td>\n",
       "      <td>'Salem's Lot</td>\n",
       "      <td>594</td>\n",
       "      <td>2005-11-01</td>\n",
       "      <td>93</td>\n",
       "    </tr>\n",
       "  </tbody>\n",
       "</table>\n",
       "</div>"
      ],
      "text/plain": [
       "   book_id  author_id         title  num_pages publication_date  publisher_id\n",
       "0        1        546  'Salem's Lot        594       2005-11-01            93"
      ]
     },
     "execution_count": 3,
     "metadata": {},
     "output_type": "execute_result"
    }
   ],
   "source": [
    "pd.io.sql.read_sql(sql, con = engine) "
   ]
  },
  {
   "cell_type": "code",
   "execution_count": 4,
   "metadata": {},
   "outputs": [],
   "source": [
    "#дополнительно посмотрим, сколько всего книг имеется в базе.\n",
    "sql= '''\n",
    "SELECT count(b.book_id) AS count\n",
    "FROM books b\n",
    "'''"
   ]
  },
  {
   "cell_type": "code",
   "execution_count": 5,
   "metadata": {},
   "outputs": [
    {
     "data": {
      "text/html": [
       "<div>\n",
       "<style scoped>\n",
       "    .dataframe tbody tr th:only-of-type {\n",
       "        vertical-align: middle;\n",
       "    }\n",
       "\n",
       "    .dataframe tbody tr th {\n",
       "        vertical-align: top;\n",
       "    }\n",
       "\n",
       "    .dataframe thead th {\n",
       "        text-align: right;\n",
       "    }\n",
       "</style>\n",
       "<table border=\"1\" class=\"dataframe\">\n",
       "  <thead>\n",
       "    <tr style=\"text-align: right;\">\n",
       "      <th></th>\n",
       "      <th>count</th>\n",
       "    </tr>\n",
       "  </thead>\n",
       "  <tbody>\n",
       "    <tr>\n",
       "      <th>0</th>\n",
       "      <td>1000</td>\n",
       "    </tr>\n",
       "  </tbody>\n",
       "</table>\n",
       "</div>"
      ],
      "text/plain": [
       "   count\n",
       "0   1000"
      ]
     },
     "execution_count": 5,
     "metadata": {},
     "output_type": "execute_result"
    }
   ],
   "source": [
    "pd.io.sql.read_sql(sql, con = engine) "
   ]
  },
  {
   "cell_type": "code",
   "execution_count": 6,
   "metadata": {},
   "outputs": [],
   "source": [
    "#таблица authors\n",
    "sql= '''\n",
    "SELECT *\n",
    "FROM authors\n",
    "LIMIT 1\n",
    "'''"
   ]
  },
  {
   "cell_type": "code",
   "execution_count": 7,
   "metadata": {},
   "outputs": [
    {
     "data": {
      "text/html": [
       "<div>\n",
       "<style scoped>\n",
       "    .dataframe tbody tr th:only-of-type {\n",
       "        vertical-align: middle;\n",
       "    }\n",
       "\n",
       "    .dataframe tbody tr th {\n",
       "        vertical-align: top;\n",
       "    }\n",
       "\n",
       "    .dataframe thead th {\n",
       "        text-align: right;\n",
       "    }\n",
       "</style>\n",
       "<table border=\"1\" class=\"dataframe\">\n",
       "  <thead>\n",
       "    <tr style=\"text-align: right;\">\n",
       "      <th></th>\n",
       "      <th>author_id</th>\n",
       "      <th>author</th>\n",
       "    </tr>\n",
       "  </thead>\n",
       "  <tbody>\n",
       "    <tr>\n",
       "      <th>0</th>\n",
       "      <td>1</td>\n",
       "      <td>A.S. Byatt</td>\n",
       "    </tr>\n",
       "  </tbody>\n",
       "</table>\n",
       "</div>"
      ],
      "text/plain": [
       "   author_id      author\n",
       "0          1  A.S. Byatt"
      ]
     },
     "execution_count": 7,
     "metadata": {},
     "output_type": "execute_result"
    }
   ],
   "source": [
    "pd.io.sql.read_sql(sql, con = engine) "
   ]
  },
  {
   "cell_type": "code",
   "execution_count": 8,
   "metadata": {},
   "outputs": [],
   "source": [
    "#таблица publishers\n",
    "sql= '''\n",
    "SELECT *\n",
    "FROM publishers\n",
    "LIMIT 1\n",
    "'''"
   ]
  },
  {
   "cell_type": "code",
   "execution_count": 9,
   "metadata": {},
   "outputs": [
    {
     "data": {
      "text/html": [
       "<div>\n",
       "<style scoped>\n",
       "    .dataframe tbody tr th:only-of-type {\n",
       "        vertical-align: middle;\n",
       "    }\n",
       "\n",
       "    .dataframe tbody tr th {\n",
       "        vertical-align: top;\n",
       "    }\n",
       "\n",
       "    .dataframe thead th {\n",
       "        text-align: right;\n",
       "    }\n",
       "</style>\n",
       "<table border=\"1\" class=\"dataframe\">\n",
       "  <thead>\n",
       "    <tr style=\"text-align: right;\">\n",
       "      <th></th>\n",
       "      <th>publisher_id</th>\n",
       "      <th>publisher</th>\n",
       "    </tr>\n",
       "  </thead>\n",
       "  <tbody>\n",
       "    <tr>\n",
       "      <th>0</th>\n",
       "      <td>1</td>\n",
       "      <td>Ace</td>\n",
       "    </tr>\n",
       "  </tbody>\n",
       "</table>\n",
       "</div>"
      ],
      "text/plain": [
       "   publisher_id publisher\n",
       "0             1       Ace"
      ]
     },
     "execution_count": 9,
     "metadata": {},
     "output_type": "execute_result"
    }
   ],
   "source": [
    "pd.io.sql.read_sql(sql, con = engine) "
   ]
  },
  {
   "cell_type": "code",
   "execution_count": 10,
   "metadata": {},
   "outputs": [],
   "source": [
    "#таблица ratings\n",
    "sql= '''\n",
    "SELECT *\n",
    "FROM ratings\n",
    "LIMIT 1\n",
    "'''"
   ]
  },
  {
   "cell_type": "code",
   "execution_count": 11,
   "metadata": {},
   "outputs": [
    {
     "data": {
      "text/html": [
       "<div>\n",
       "<style scoped>\n",
       "    .dataframe tbody tr th:only-of-type {\n",
       "        vertical-align: middle;\n",
       "    }\n",
       "\n",
       "    .dataframe tbody tr th {\n",
       "        vertical-align: top;\n",
       "    }\n",
       "\n",
       "    .dataframe thead th {\n",
       "        text-align: right;\n",
       "    }\n",
       "</style>\n",
       "<table border=\"1\" class=\"dataframe\">\n",
       "  <thead>\n",
       "    <tr style=\"text-align: right;\">\n",
       "      <th></th>\n",
       "      <th>rating_id</th>\n",
       "      <th>book_id</th>\n",
       "      <th>username</th>\n",
       "      <th>rating</th>\n",
       "    </tr>\n",
       "  </thead>\n",
       "  <tbody>\n",
       "    <tr>\n",
       "      <th>0</th>\n",
       "      <td>1</td>\n",
       "      <td>1</td>\n",
       "      <td>ryanfranco</td>\n",
       "      <td>4</td>\n",
       "    </tr>\n",
       "  </tbody>\n",
       "</table>\n",
       "</div>"
      ],
      "text/plain": [
       "   rating_id  book_id    username  rating\n",
       "0          1        1  ryanfranco       4"
      ]
     },
     "execution_count": 11,
     "metadata": {},
     "output_type": "execute_result"
    }
   ],
   "source": [
    "pd.io.sql.read_sql(sql, con = engine) "
   ]
  },
  {
   "cell_type": "code",
   "execution_count": 12,
   "metadata": {},
   "outputs": [],
   "source": [
    "#таблица reviews\n",
    "sql= '''\n",
    "SELECT *\n",
    "FROM reviews\n",
    "LIMIT 1\n",
    "'''"
   ]
  },
  {
   "cell_type": "code",
   "execution_count": 13,
   "metadata": {
    "scrolled": false
   },
   "outputs": [
    {
     "data": {
      "text/html": [
       "<div>\n",
       "<style scoped>\n",
       "    .dataframe tbody tr th:only-of-type {\n",
       "        vertical-align: middle;\n",
       "    }\n",
       "\n",
       "    .dataframe tbody tr th {\n",
       "        vertical-align: top;\n",
       "    }\n",
       "\n",
       "    .dataframe thead th {\n",
       "        text-align: right;\n",
       "    }\n",
       "</style>\n",
       "<table border=\"1\" class=\"dataframe\">\n",
       "  <thead>\n",
       "    <tr style=\"text-align: right;\">\n",
       "      <th></th>\n",
       "      <th>review_id</th>\n",
       "      <th>book_id</th>\n",
       "      <th>username</th>\n",
       "      <th>text</th>\n",
       "    </tr>\n",
       "  </thead>\n",
       "  <tbody>\n",
       "    <tr>\n",
       "      <th>0</th>\n",
       "      <td>1</td>\n",
       "      <td>1</td>\n",
       "      <td>brandtandrea</td>\n",
       "      <td>Mention society tell send professor analysis. ...</td>\n",
       "    </tr>\n",
       "  </tbody>\n",
       "</table>\n",
       "</div>"
      ],
      "text/plain": [
       "   review_id  book_id      username  \\\n",
       "0          1        1  brandtandrea   \n",
       "\n",
       "                                                text  \n",
       "0  Mention society tell send professor analysis. ...  "
      ]
     },
     "execution_count": 13,
     "metadata": {},
     "output_type": "execute_result"
    }
   ],
   "source": [
    "pd.io.sql.read_sql(sql, con = engine) "
   ]
  },
  {
   "cell_type": "markdown",
   "metadata": {},
   "source": [
    "**Вывод:**\n",
    "\n",
    "Посмотрели на первые строки таблиц, чтобы иметь представление, в каком виде информация в таблицах."
   ]
  },
  {
   "cell_type": "markdown",
   "metadata": {},
   "source": [
    "## Исследовательский анализ\n",
    "\n",
    "Ответим на некоторые вопросы, которые могут помочь бизнесу в решении задачи."
   ]
  },
  {
   "cell_type": "markdown",
   "metadata": {},
   "source": [
    "### Сколько книг вышло после 1 января 2000 года?"
   ]
  },
  {
   "cell_type": "code",
   "execution_count": 14,
   "metadata": {},
   "outputs": [],
   "source": [
    "sql = '''\n",
    "SELECT COUNT(*) AS count_book\n",
    "FROM books\n",
    "WHERE publication_date > '2000-01-01'\n",
    "'''"
   ]
  },
  {
   "cell_type": "code",
   "execution_count": 15,
   "metadata": {},
   "outputs": [
    {
     "data": {
      "text/html": [
       "<div>\n",
       "<style scoped>\n",
       "    .dataframe tbody tr th:only-of-type {\n",
       "        vertical-align: middle;\n",
       "    }\n",
       "\n",
       "    .dataframe tbody tr th {\n",
       "        vertical-align: top;\n",
       "    }\n",
       "\n",
       "    .dataframe thead th {\n",
       "        text-align: right;\n",
       "    }\n",
       "</style>\n",
       "<table border=\"1\" class=\"dataframe\">\n",
       "  <thead>\n",
       "    <tr style=\"text-align: right;\">\n",
       "      <th></th>\n",
       "      <th>count_book</th>\n",
       "    </tr>\n",
       "  </thead>\n",
       "  <tbody>\n",
       "    <tr>\n",
       "      <th>0</th>\n",
       "      <td>819</td>\n",
       "    </tr>\n",
       "  </tbody>\n",
       "</table>\n",
       "</div>"
      ],
      "text/plain": [
       "   count_book\n",
       "0         819"
      ]
     },
     "execution_count": 15,
     "metadata": {},
     "output_type": "execute_result"
    }
   ],
   "source": [
    "pd.io.sql.read_sql(sql, con = engine) "
   ]
  },
  {
   "cell_type": "markdown",
   "metadata": {},
   "source": [
    "**Вывод:**\n",
    "\n",
    "После 1 января 2000 года вышло 819 книг."
   ]
  },
  {
   "cell_type": "markdown",
   "metadata": {},
   "source": [
    "### Для каждой книги посчитаем количество обзоров и среднюю оценку"
   ]
  },
  {
   "cell_type": "code",
   "execution_count": 16,
   "metadata": {},
   "outputs": [],
   "source": [
    "sql= '''\n",
    "WITH avg_rating AS\n",
    "  (SELECT b.book_id,\n",
    "          title,\n",
    "          avg(r.rating) AS avg_rating\n",
    "   FROM books b\n",
    "   LEFT JOIN ratings r ON r.book_id = b.book_id\n",
    "   GROUP BY b.book_id),\n",
    "     reviews_count AS\n",
    "  (SELECT b.book_id,\n",
    "          title,\n",
    "          count(rev.review_id) AS reviews_count\n",
    "   FROM books b\n",
    "   LEFT JOIN reviews rev ON rev.book_id = b.book_id\n",
    "   GROUP BY b.book_id)\n",
    "SELECT a.title, \n",
    "       c.reviews_count,\n",
    "       a.avg_rating\n",
    "FROM avg_rating a\n",
    "JOIN reviews_count c ON a.book_id = c.book_id\n",
    "ORDER BY a.avg_rating DESC\n",
    "LIMIT 10\n",
    "'''"
   ]
  },
  {
   "cell_type": "code",
   "execution_count": 17,
   "metadata": {},
   "outputs": [
    {
     "data": {
      "text/html": [
       "<div>\n",
       "<style scoped>\n",
       "    .dataframe tbody tr th:only-of-type {\n",
       "        vertical-align: middle;\n",
       "    }\n",
       "\n",
       "    .dataframe tbody tr th {\n",
       "        vertical-align: top;\n",
       "    }\n",
       "\n",
       "    .dataframe thead th {\n",
       "        text-align: right;\n",
       "    }\n",
       "</style>\n",
       "<table border=\"1\" class=\"dataframe\">\n",
       "  <thead>\n",
       "    <tr style=\"text-align: right;\">\n",
       "      <th></th>\n",
       "      <th>title</th>\n",
       "      <th>reviews_count</th>\n",
       "      <th>avg_rating</th>\n",
       "    </tr>\n",
       "  </thead>\n",
       "  <tbody>\n",
       "    <tr>\n",
       "      <th>0</th>\n",
       "      <td>Arrows of the Queen (Heralds of Valdemar  #1)</td>\n",
       "      <td>2</td>\n",
       "      <td>5.0</td>\n",
       "    </tr>\n",
       "    <tr>\n",
       "      <th>1</th>\n",
       "      <td>Crucial Conversations: Tools for Talking When ...</td>\n",
       "      <td>2</td>\n",
       "      <td>5.0</td>\n",
       "    </tr>\n",
       "    <tr>\n",
       "      <th>2</th>\n",
       "      <td>Alas  Babylon</td>\n",
       "      <td>2</td>\n",
       "      <td>5.0</td>\n",
       "    </tr>\n",
       "    <tr>\n",
       "      <th>3</th>\n",
       "      <td>Act of Treason (Mitch Rapp  #9)</td>\n",
       "      <td>2</td>\n",
       "      <td>5.0</td>\n",
       "    </tr>\n",
       "    <tr>\n",
       "      <th>4</th>\n",
       "      <td>Angels Fall</td>\n",
       "      <td>2</td>\n",
       "      <td>5.0</td>\n",
       "    </tr>\n",
       "    <tr>\n",
       "      <th>5</th>\n",
       "      <td>Captivating: Unveiling the Mystery of a Woman'...</td>\n",
       "      <td>2</td>\n",
       "      <td>5.0</td>\n",
       "    </tr>\n",
       "    <tr>\n",
       "      <th>6</th>\n",
       "      <td>A Woman of Substance (Emma Harte Saga #1)</td>\n",
       "      <td>2</td>\n",
       "      <td>5.0</td>\n",
       "    </tr>\n",
       "    <tr>\n",
       "      <th>7</th>\n",
       "      <td>A Fistful of Charms (The Hollows  #4)</td>\n",
       "      <td>2</td>\n",
       "      <td>5.0</td>\n",
       "    </tr>\n",
       "    <tr>\n",
       "      <th>8</th>\n",
       "      <td>A Dirty Job (Grim Reaper  #1)</td>\n",
       "      <td>4</td>\n",
       "      <td>5.0</td>\n",
       "    </tr>\n",
       "    <tr>\n",
       "      <th>9</th>\n",
       "      <td>Dead Souls</td>\n",
       "      <td>2</td>\n",
       "      <td>5.0</td>\n",
       "    </tr>\n",
       "  </tbody>\n",
       "</table>\n",
       "</div>"
      ],
      "text/plain": [
       "                                               title  reviews_count  \\\n",
       "0      Arrows of the Queen (Heralds of Valdemar  #1)              2   \n",
       "1  Crucial Conversations: Tools for Talking When ...              2   \n",
       "2                                      Alas  Babylon              2   \n",
       "3                    Act of Treason (Mitch Rapp  #9)              2   \n",
       "4                                        Angels Fall              2   \n",
       "5  Captivating: Unveiling the Mystery of a Woman'...              2   \n",
       "6          A Woman of Substance (Emma Harte Saga #1)              2   \n",
       "7              A Fistful of Charms (The Hollows  #4)              2   \n",
       "8                      A Dirty Job (Grim Reaper  #1)              4   \n",
       "9                                         Dead Souls              2   \n",
       "\n",
       "   avg_rating  \n",
       "0         5.0  \n",
       "1         5.0  \n",
       "2         5.0  \n",
       "3         5.0  \n",
       "4         5.0  \n",
       "5         5.0  \n",
       "6         5.0  \n",
       "7         5.0  \n",
       "8         5.0  \n",
       "9         5.0  "
      ]
     },
     "execution_count": 17,
     "metadata": {},
     "output_type": "execute_result"
    }
   ],
   "source": [
    "pd.io.sql.read_sql(sql, con = engine) "
   ]
  },
  {
   "cell_type": "code",
   "execution_count": 18,
   "metadata": {},
   "outputs": [],
   "source": [
    "sql= '''\n",
    "WITH avg_rating AS\n",
    "  (SELECT b.book_id,\n",
    "          title,\n",
    "          avg(r.rating) AS avg_rating\n",
    "   FROM books b\n",
    "   LEFT JOIN ratings r ON r.book_id = b.book_id\n",
    "   GROUP BY b.book_id),\n",
    "     reviews_count AS\n",
    "  (SELECT b.book_id,\n",
    "          title,\n",
    "          count(rev.review_id) AS reviews_count\n",
    "   FROM books b\n",
    "   LEFT JOIN reviews rev ON rev.book_id = b.book_id\n",
    "   GROUP BY b.book_id)\n",
    "SELECT a.title, \n",
    "       c.reviews_count,\n",
    "       a.avg_rating\n",
    "FROM avg_rating a\n",
    "JOIN reviews_count c ON a.book_id = c.book_id\n",
    "ORDER BY a.avg_rating\n",
    "LIMIT 10\n",
    "'''"
   ]
  },
  {
   "cell_type": "code",
   "execution_count": 19,
   "metadata": {
    "scrolled": true
   },
   "outputs": [
    {
     "data": {
      "text/html": [
       "<div>\n",
       "<style scoped>\n",
       "    .dataframe tbody tr th:only-of-type {\n",
       "        vertical-align: middle;\n",
       "    }\n",
       "\n",
       "    .dataframe tbody tr th {\n",
       "        vertical-align: top;\n",
       "    }\n",
       "\n",
       "    .dataframe thead th {\n",
       "        text-align: right;\n",
       "    }\n",
       "</style>\n",
       "<table border=\"1\" class=\"dataframe\">\n",
       "  <thead>\n",
       "    <tr style=\"text-align: right;\">\n",
       "      <th></th>\n",
       "      <th>title</th>\n",
       "      <th>reviews_count</th>\n",
       "      <th>avg_rating</th>\n",
       "    </tr>\n",
       "  </thead>\n",
       "  <tbody>\n",
       "    <tr>\n",
       "      <th>0</th>\n",
       "      <td>Harvesting the Heart</td>\n",
       "      <td>2</td>\n",
       "      <td>1.500000</td>\n",
       "    </tr>\n",
       "    <tr>\n",
       "      <th>1</th>\n",
       "      <td>Junky</td>\n",
       "      <td>2</td>\n",
       "      <td>2.000000</td>\n",
       "    </tr>\n",
       "    <tr>\n",
       "      <th>2</th>\n",
       "      <td>Drowning Ruth</td>\n",
       "      <td>3</td>\n",
       "      <td>2.000000</td>\n",
       "    </tr>\n",
       "    <tr>\n",
       "      <th>3</th>\n",
       "      <td>His Excellency: George Washington</td>\n",
       "      <td>2</td>\n",
       "      <td>2.000000</td>\n",
       "    </tr>\n",
       "    <tr>\n",
       "      <th>4</th>\n",
       "      <td>The World Is Flat: A Brief History of the Twen...</td>\n",
       "      <td>3</td>\n",
       "      <td>2.250000</td>\n",
       "    </tr>\n",
       "    <tr>\n",
       "      <th>5</th>\n",
       "      <td>The Mermaid Chair</td>\n",
       "      <td>3</td>\n",
       "      <td>2.333333</td>\n",
       "    </tr>\n",
       "    <tr>\n",
       "      <th>6</th>\n",
       "      <td>The Kitchen God's Wife</td>\n",
       "      <td>3</td>\n",
       "      <td>2.333333</td>\n",
       "    </tr>\n",
       "    <tr>\n",
       "      <th>7</th>\n",
       "      <td>Heretics of Dune (Dune Chronicles #5)</td>\n",
       "      <td>2</td>\n",
       "      <td>2.500000</td>\n",
       "    </tr>\n",
       "    <tr>\n",
       "      <th>8</th>\n",
       "      <td>Amsterdam</td>\n",
       "      <td>2</td>\n",
       "      <td>2.500000</td>\n",
       "    </tr>\n",
       "    <tr>\n",
       "      <th>9</th>\n",
       "      <td>Dr. Faustus</td>\n",
       "      <td>2</td>\n",
       "      <td>2.500000</td>\n",
       "    </tr>\n",
       "  </tbody>\n",
       "</table>\n",
       "</div>"
      ],
      "text/plain": [
       "                                               title  reviews_count  \\\n",
       "0                               Harvesting the Heart              2   \n",
       "1                                              Junky              2   \n",
       "2                                      Drowning Ruth              3   \n",
       "3                  His Excellency: George Washington              2   \n",
       "4  The World Is Flat: A Brief History of the Twen...              3   \n",
       "5                                  The Mermaid Chair              3   \n",
       "6                             The Kitchen God's Wife              3   \n",
       "7              Heretics of Dune (Dune Chronicles #5)              2   \n",
       "8                                          Amsterdam              2   \n",
       "9                                        Dr. Faustus              2   \n",
       "\n",
       "   avg_rating  \n",
       "0    1.500000  \n",
       "1    2.000000  \n",
       "2    2.000000  \n",
       "3    2.000000  \n",
       "4    2.250000  \n",
       "5    2.333333  \n",
       "6    2.333333  \n",
       "7    2.500000  \n",
       "8    2.500000  \n",
       "9    2.500000  "
      ]
     },
     "execution_count": 19,
     "metadata": {},
     "output_type": "execute_result"
    }
   ],
   "source": [
    "pd.io.sql.read_sql(sql, con = engine) "
   ]
  },
  {
   "cell_type": "code",
   "execution_count": 30,
   "metadata": {},
   "outputs": [],
   "source": [
    "sql= '''\n",
    "WITH avg_rating AS\n",
    "  (SELECT b.book_id,\n",
    "          title,\n",
    "          avg(r.rating) AS avg_rating\n",
    "   FROM books b\n",
    "   LEFT JOIN ratings r ON r.book_id = b.book_id\n",
    "   GROUP BY b.book_id),\n",
    "     reviews_count AS\n",
    "  (SELECT b.book_id,\n",
    "          title,\n",
    "          count(rev.review_id) AS reviews_count\n",
    "   FROM books b\n",
    "   LEFT JOIN reviews rev ON rev.book_id = b.book_id\n",
    "   GROUP BY b.book_id)\n",
    "SELECT a.title, \n",
    "       c.reviews_count,\n",
    "       a.avg_rating\n",
    "FROM avg_rating a\n",
    "JOIN reviews_count c ON a.book_id = c.book_id\n",
    "ORDER BY reviews_count DESC\n",
    "LIMIT 10\n",
    "'''"
   ]
  },
  {
   "cell_type": "code",
   "execution_count": 29,
   "metadata": {},
   "outputs": [
    {
     "data": {
      "text/html": [
       "<div>\n",
       "<style scoped>\n",
       "    .dataframe tbody tr th:only-of-type {\n",
       "        vertical-align: middle;\n",
       "    }\n",
       "\n",
       "    .dataframe tbody tr th {\n",
       "        vertical-align: top;\n",
       "    }\n",
       "\n",
       "    .dataframe thead th {\n",
       "        text-align: right;\n",
       "    }\n",
       "</style>\n",
       "<table border=\"1\" class=\"dataframe\">\n",
       "  <thead>\n",
       "    <tr style=\"text-align: right;\">\n",
       "      <th></th>\n",
       "      <th>title</th>\n",
       "      <th>reviews_count</th>\n",
       "      <th>avg_rating</th>\n",
       "    </tr>\n",
       "  </thead>\n",
       "  <tbody>\n",
       "    <tr>\n",
       "      <th>0</th>\n",
       "      <td>Twilight (Twilight  #1)</td>\n",
       "      <td>7</td>\n",
       "      <td>3.662500</td>\n",
       "    </tr>\n",
       "    <tr>\n",
       "      <th>1</th>\n",
       "      <td>Water for Elephants</td>\n",
       "      <td>6</td>\n",
       "      <td>3.977273</td>\n",
       "    </tr>\n",
       "    <tr>\n",
       "      <th>2</th>\n",
       "      <td>The Glass Castle</td>\n",
       "      <td>6</td>\n",
       "      <td>4.206897</td>\n",
       "    </tr>\n",
       "    <tr>\n",
       "      <th>3</th>\n",
       "      <td>Harry Potter and the Prisoner of Azkaban (Harr...</td>\n",
       "      <td>6</td>\n",
       "      <td>4.414634</td>\n",
       "    </tr>\n",
       "    <tr>\n",
       "      <th>4</th>\n",
       "      <td>The Curious Incident of the Dog in the Night-Time</td>\n",
       "      <td>6</td>\n",
       "      <td>4.081081</td>\n",
       "    </tr>\n",
       "    <tr>\n",
       "      <th>...</th>\n",
       "      <td>...</td>\n",
       "      <td>...</td>\n",
       "      <td>...</td>\n",
       "    </tr>\n",
       "    <tr>\n",
       "      <th>995</th>\n",
       "      <td>Anne Rice's The Vampire Lestat: A Graphic Novel</td>\n",
       "      <td>0</td>\n",
       "      <td>3.666667</td>\n",
       "    </tr>\n",
       "    <tr>\n",
       "      <th>996</th>\n",
       "      <td>The Natural Way to Draw</td>\n",
       "      <td>0</td>\n",
       "      <td>3.000000</td>\n",
       "    </tr>\n",
       "    <tr>\n",
       "      <th>997</th>\n",
       "      <td>The Cat in the Hat and Other Dr. Seuss Favorites</td>\n",
       "      <td>0</td>\n",
       "      <td>5.000000</td>\n",
       "    </tr>\n",
       "    <tr>\n",
       "      <th>998</th>\n",
       "      <td>Essential Tales and Poems</td>\n",
       "      <td>0</td>\n",
       "      <td>4.000000</td>\n",
       "    </tr>\n",
       "    <tr>\n",
       "      <th>999</th>\n",
       "      <td>Disney's Beauty and the Beast (A Little Golden...</td>\n",
       "      <td>0</td>\n",
       "      <td>4.000000</td>\n",
       "    </tr>\n",
       "  </tbody>\n",
       "</table>\n",
       "<p>1000 rows × 3 columns</p>\n",
       "</div>"
      ],
      "text/plain": [
       "                                                 title  reviews_count  \\\n",
       "0                              Twilight (Twilight  #1)              7   \n",
       "1                                  Water for Elephants              6   \n",
       "2                                     The Glass Castle              6   \n",
       "3    Harry Potter and the Prisoner of Azkaban (Harr...              6   \n",
       "4    The Curious Incident of the Dog in the Night-Time              6   \n",
       "..                                                 ...            ...   \n",
       "995    Anne Rice's The Vampire Lestat: A Graphic Novel              0   \n",
       "996                            The Natural Way to Draw              0   \n",
       "997   The Cat in the Hat and Other Dr. Seuss Favorites              0   \n",
       "998                          Essential Tales and Poems              0   \n",
       "999  Disney's Beauty and the Beast (A Little Golden...              0   \n",
       "\n",
       "     avg_rating  \n",
       "0      3.662500  \n",
       "1      3.977273  \n",
       "2      4.206897  \n",
       "3      4.414634  \n",
       "4      4.081081  \n",
       "..          ...  \n",
       "995    3.666667  \n",
       "996    3.000000  \n",
       "997    5.000000  \n",
       "998    4.000000  \n",
       "999    4.000000  \n",
       "\n",
       "[1000 rows x 3 columns]"
      ]
     },
     "execution_count": 29,
     "metadata": {},
     "output_type": "execute_result"
    }
   ],
   "source": [
    "pd.io.sql.read_sql(sql, con = engine) "
   ]
  },
  {
   "cell_type": "markdown",
   "metadata": {},
   "source": [
    "**Вывод:**\n",
    "\n",
    "Отсортировав одну и ту же таблицу по убыванию и возрастанию, мы выяснили, что средний рейтинг может быть от 1,5 до 5,0. \n",
    "Максимальное количество обзоров - 7."
   ]
  },
  {
   "cell_type": "markdown",
   "metadata": {},
   "source": [
    "### Определим издательство, которое выпустило наибольшее число книг толще 50 страниц"
   ]
  },
  {
   "cell_type": "code",
   "execution_count": 22,
   "metadata": {},
   "outputs": [],
   "source": [
    "sql = '''\n",
    "SELECT\n",
    "    p.publisher,\n",
    "    COUNT(book_id) AS books_count\n",
    "FROM books b\n",
    "    LEFT JOIN publishers p ON p.publisher_id = b.publisher_id\n",
    "WHERE num_pages > 50\n",
    "GROUP BY p.publisher\n",
    "ORDER BY books_count DESC\n",
    "LIMIT 5\n",
    "'''"
   ]
  },
  {
   "cell_type": "code",
   "execution_count": 23,
   "metadata": {},
   "outputs": [
    {
     "data": {
      "text/html": [
       "<div>\n",
       "<style scoped>\n",
       "    .dataframe tbody tr th:only-of-type {\n",
       "        vertical-align: middle;\n",
       "    }\n",
       "\n",
       "    .dataframe tbody tr th {\n",
       "        vertical-align: top;\n",
       "    }\n",
       "\n",
       "    .dataframe thead th {\n",
       "        text-align: right;\n",
       "    }\n",
       "</style>\n",
       "<table border=\"1\" class=\"dataframe\">\n",
       "  <thead>\n",
       "    <tr style=\"text-align: right;\">\n",
       "      <th></th>\n",
       "      <th>publisher</th>\n",
       "      <th>books_count</th>\n",
       "    </tr>\n",
       "  </thead>\n",
       "  <tbody>\n",
       "    <tr>\n",
       "      <th>0</th>\n",
       "      <td>Penguin Books</td>\n",
       "      <td>42</td>\n",
       "    </tr>\n",
       "    <tr>\n",
       "      <th>1</th>\n",
       "      <td>Vintage</td>\n",
       "      <td>31</td>\n",
       "    </tr>\n",
       "    <tr>\n",
       "      <th>2</th>\n",
       "      <td>Grand Central Publishing</td>\n",
       "      <td>25</td>\n",
       "    </tr>\n",
       "    <tr>\n",
       "      <th>3</th>\n",
       "      <td>Penguin Classics</td>\n",
       "      <td>24</td>\n",
       "    </tr>\n",
       "    <tr>\n",
       "      <th>4</th>\n",
       "      <td>Bantam</td>\n",
       "      <td>19</td>\n",
       "    </tr>\n",
       "  </tbody>\n",
       "</table>\n",
       "</div>"
      ],
      "text/plain": [
       "                  publisher  books_count\n",
       "0             Penguin Books           42\n",
       "1                   Vintage           31\n",
       "2  Grand Central Publishing           25\n",
       "3          Penguin Classics           24\n",
       "4                    Bantam           19"
      ]
     },
     "execution_count": 23,
     "metadata": {},
     "output_type": "execute_result"
    }
   ],
   "source": [
    "pd.io.sql.read_sql(sql, con = engine) "
   ]
  },
  {
   "cell_type": "markdown",
   "metadata": {},
   "source": [
    "**Вывод:**\n",
    "\n",
    "Издательство, которое выпустило наибольшее количество книг толще 50 страниц - Penguin Books"
   ]
  },
  {
   "cell_type": "markdown",
   "metadata": {},
   "source": [
    "### Определим автора с самой высокой средней оценкой книг — учитывайте только книги с 50 и более оценками"
   ]
  },
  {
   "cell_type": "code",
   "execution_count": 33,
   "metadata": {},
   "outputs": [],
   "source": [
    "sql = '''\n",
    "SELECT \n",
    "    a.author,\n",
    "    AVG(r.rating) AS avg_rating\n",
    "FROM \n",
    "    books b\n",
    "LEFT JOIN ratings r on b.book_id = r.book_id\n",
    "LEFT JOIN authors a on b.author_id = a.author_id\n",
    "WHERE\n",
    "    b.book_id IN (\n",
    "        SELECT r.book_id\n",
    "        FROM ratings r\n",
    "        GROUP BY r.book_id\n",
    "        HAVING COUNT(r.rating) > 50)\n",
    "GROUP BY a.author\n",
    "ORDER BY avg_rating DESC\n",
    "LIMIT 5\n",
    "'''"
   ]
  },
  {
   "cell_type": "code",
   "execution_count": 34,
   "metadata": {},
   "outputs": [
    {
     "data": {
      "text/html": [
       "<div>\n",
       "<style scoped>\n",
       "    .dataframe tbody tr th:only-of-type {\n",
       "        vertical-align: middle;\n",
       "    }\n",
       "\n",
       "    .dataframe tbody tr th {\n",
       "        vertical-align: top;\n",
       "    }\n",
       "\n",
       "    .dataframe thead th {\n",
       "        text-align: right;\n",
       "    }\n",
       "</style>\n",
       "<table border=\"1\" class=\"dataframe\">\n",
       "  <thead>\n",
       "    <tr style=\"text-align: right;\">\n",
       "      <th></th>\n",
       "      <th>author</th>\n",
       "      <th>avg_rating</th>\n",
       "    </tr>\n",
       "  </thead>\n",
       "  <tbody>\n",
       "    <tr>\n",
       "      <th>0</th>\n",
       "      <td>J.K. Rowling/Mary GrandPré</td>\n",
       "      <td>4.287097</td>\n",
       "    </tr>\n",
       "    <tr>\n",
       "      <th>1</th>\n",
       "      <td>Markus Zusak/Cao Xuân Việt Khương</td>\n",
       "      <td>4.264151</td>\n",
       "    </tr>\n",
       "    <tr>\n",
       "      <th>2</th>\n",
       "      <td>J.R.R. Tolkien</td>\n",
       "      <td>4.246914</td>\n",
       "    </tr>\n",
       "    <tr>\n",
       "      <th>3</th>\n",
       "      <td>Louisa May Alcott</td>\n",
       "      <td>4.192308</td>\n",
       "    </tr>\n",
       "    <tr>\n",
       "      <th>4</th>\n",
       "      <td>Rick Riordan</td>\n",
       "      <td>4.080645</td>\n",
       "    </tr>\n",
       "  </tbody>\n",
       "</table>\n",
       "</div>"
      ],
      "text/plain": [
       "                              author  avg_rating\n",
       "0         J.K. Rowling/Mary GrandPré    4.287097\n",
       "1  Markus Zusak/Cao Xuân Việt Khương    4.264151\n",
       "2                     J.R.R. Tolkien    4.246914\n",
       "3                  Louisa May Alcott    4.192308\n",
       "4                       Rick Riordan    4.080645"
      ]
     },
     "execution_count": 34,
     "metadata": {},
     "output_type": "execute_result"
    }
   ],
   "source": [
    "pd.io.sql.read_sql(sql, con = engine) "
   ]
  },
  {
   "cell_type": "markdown",
   "metadata": {},
   "source": [
    "**Вывод:**\n",
    "\n",
    "Среди книг с более, чем 50 оценками, лидирует J.K. Rowling/Mary GrandPré. "
   ]
  },
  {
   "cell_type": "markdown",
   "metadata": {},
   "source": [
    "### Посчитаем среднее количество обзоров от пользователей, которые поставили больше 50 оценок"
   ]
  },
  {
   "cell_type": "code",
   "execution_count": 26,
   "metadata": {},
   "outputs": [],
   "source": [
    "sql = '''\n",
    "WITH\n",
    "    ratings_q AS (\n",
    "        SELECT\n",
    "            r.username,\n",
    "            COUNT(rating_id) AS ratings_count\n",
    "        FROM ratings r\n",
    "        GROUP BY r.username\n",
    "        HAVING\n",
    "            COUNT(rating_id) > 50\n",
    "        ),\n",
    "    reviews_q AS (\n",
    "        SELECT\n",
    "            rev.username,\n",
    "            COUNT(review_id) AS reviews_count\n",
    "        FROM reviews rev\n",
    "        GROUP BY rev.username\n",
    "    )\n",
    "SELECT\n",
    "    AVG(reviews_count) as avg_reviews_count\n",
    "FROM ratings_q\n",
    "    LEFT JOIN reviews_q ON reviews_q.username = ratings_q.username\n",
    "'''"
   ]
  },
  {
   "cell_type": "code",
   "execution_count": 27,
   "metadata": {},
   "outputs": [
    {
     "data": {
      "text/html": [
       "<div>\n",
       "<style scoped>\n",
       "    .dataframe tbody tr th:only-of-type {\n",
       "        vertical-align: middle;\n",
       "    }\n",
       "\n",
       "    .dataframe tbody tr th {\n",
       "        vertical-align: top;\n",
       "    }\n",
       "\n",
       "    .dataframe thead th {\n",
       "        text-align: right;\n",
       "    }\n",
       "</style>\n",
       "<table border=\"1\" class=\"dataframe\">\n",
       "  <thead>\n",
       "    <tr style=\"text-align: right;\">\n",
       "      <th></th>\n",
       "      <th>avg_reviews_count</th>\n",
       "    </tr>\n",
       "  </thead>\n",
       "  <tbody>\n",
       "    <tr>\n",
       "      <th>0</th>\n",
       "      <td>24.333333</td>\n",
       "    </tr>\n",
       "  </tbody>\n",
       "</table>\n",
       "</div>"
      ],
      "text/plain": [
       "   avg_reviews_count\n",
       "0          24.333333"
      ]
     },
     "execution_count": 27,
     "metadata": {},
     "output_type": "execute_result"
    }
   ],
   "source": [
    "pd.io.sql.read_sql(sql, con = engine)"
   ]
  },
  {
   "cell_type": "markdown",
   "metadata": {},
   "source": [
    "**Вывод:**\n",
    "\n",
    "В среднем количество обзоров от пользователей, которые поставили более 50 оценок - 24,33 обзора."
   ]
  },
  {
   "cell_type": "markdown",
   "metadata": {},
   "source": [
    "## Общий вывод\n",
    "\n",
    "В данных представлена информация о 1000 книг, 819 из которых были выпущены после 1 января 2000 года.\n",
    "\n",
    "Средний рейтинг может быть от 1,5 до 5,0. Максимальное количество обзоров - 7.\n",
    "\n",
    "Издательство, которое выпустило наибольшее количество книг толще 50 страниц - Penguin Books.\n",
    "\n",
    "Среди книг с более, чем 50 оценками, лидирует J.K. Rowling/Mary GrandPré.\n",
    "\n",
    "В среднем количество обзоров от пользователей, которые поставили более 50 оценок - 24,33 обзора."
   ]
  },
  {
   "cell_type": "code",
   "execution_count": null,
   "metadata": {},
   "outputs": [],
   "source": []
  }
 ],
 "metadata": {
  "ExecuteTimeLog": [
   {
    "duration": 10981,
    "start_time": "2022-08-14T10:41:08.018Z"
   },
   {
    "duration": 83,
    "start_time": "2022-08-14T10:41:32.585Z"
   },
   {
    "duration": 4,
    "start_time": "2022-08-14T10:42:25.216Z"
   },
   {
    "duration": 412,
    "start_time": "2022-08-14T10:42:26.202Z"
   },
   {
    "duration": 7,
    "start_time": "2022-08-14T11:14:19.824Z"
   },
   {
    "duration": 4,
    "start_time": "2022-08-14T11:19:42.754Z"
   },
   {
    "duration": 336,
    "start_time": "2022-08-14T11:19:44.124Z"
   },
   {
    "duration": 124,
    "start_time": "2022-08-14T11:20:13.588Z"
   },
   {
    "duration": 5,
    "start_time": "2022-08-14T11:20:16.087Z"
   },
   {
    "duration": 97,
    "start_time": "2022-08-14T11:20:16.509Z"
   },
   {
    "duration": 3,
    "start_time": "2022-08-14T11:24:06.722Z"
   },
   {
    "duration": 85,
    "start_time": "2022-08-14T11:24:13.187Z"
   },
   {
    "duration": 4,
    "start_time": "2022-08-14T11:24:49.178Z"
   },
   {
    "duration": 98,
    "start_time": "2022-08-14T11:24:49.615Z"
   },
   {
    "duration": 5,
    "start_time": "2022-08-14T11:25:14.074Z"
   },
   {
    "duration": 101,
    "start_time": "2022-08-14T11:25:14.558Z"
   },
   {
    "duration": 2,
    "start_time": "2022-08-14T11:26:28.229Z"
   },
   {
    "duration": 103,
    "start_time": "2022-08-14T11:26:29.535Z"
   },
   {
    "duration": 9,
    "start_time": "2022-08-14T11:31:40.183Z"
   },
   {
    "duration": 2,
    "start_time": "2022-08-14T11:32:14.021Z"
   },
   {
    "duration": 123,
    "start_time": "2022-08-14T11:32:15.247Z"
   },
   {
    "duration": 6,
    "start_time": "2022-08-14T11:32:24.756Z"
   },
   {
    "duration": 91,
    "start_time": "2022-08-14T11:32:25.708Z"
   },
   {
    "duration": 2,
    "start_time": "2022-08-14T11:47:46.247Z"
   },
   {
    "duration": 98,
    "start_time": "2022-08-14T11:47:53.886Z"
   },
   {
    "duration": 5,
    "start_time": "2022-08-14T11:48:06.157Z"
   },
   {
    "duration": 109,
    "start_time": "2022-08-14T11:48:06.611Z"
   },
   {
    "duration": 3,
    "start_time": "2022-08-14T11:50:11.730Z"
   },
   {
    "duration": 258,
    "start_time": "2022-08-14T11:50:12.213Z"
   },
   {
    "duration": 3,
    "start_time": "2022-08-14T11:51:10.393Z"
   },
   {
    "duration": 94,
    "start_time": "2022-08-14T11:51:10.927Z"
   },
   {
    "duration": 3,
    "start_time": "2022-08-14T12:04:07.831Z"
   },
   {
    "duration": 105,
    "start_time": "2022-08-14T12:04:08.188Z"
   },
   {
    "duration": 4,
    "start_time": "2022-08-14T12:04:17.386Z"
   },
   {
    "duration": 109,
    "start_time": "2022-08-14T12:04:17.886Z"
   },
   {
    "duration": 3,
    "start_time": "2022-08-14T12:04:18.584Z"
   },
   {
    "duration": 3,
    "start_time": "2022-08-14T12:06:18.634Z"
   },
   {
    "duration": 158,
    "start_time": "2022-08-14T12:06:25.313Z"
   },
   {
    "duration": 2,
    "start_time": "2022-08-14T12:06:31.110Z"
   },
   {
    "duration": 156,
    "start_time": "2022-08-14T12:06:31.780Z"
   },
   {
    "duration": 3,
    "start_time": "2022-08-14T12:06:38.609Z"
   },
   {
    "duration": 100,
    "start_time": "2022-08-14T12:06:39.186Z"
   },
   {
    "duration": 3,
    "start_time": "2022-08-14T12:06:48.815Z"
   },
   {
    "duration": 109,
    "start_time": "2022-08-14T12:06:49.274Z"
   },
   {
    "duration": 3,
    "start_time": "2022-08-14T12:12:29.884Z"
   },
   {
    "duration": 99,
    "start_time": "2022-08-14T12:12:30.740Z"
   },
   {
    "duration": 3,
    "start_time": "2022-08-14T12:12:36.623Z"
   },
   {
    "duration": 7,
    "start_time": "2022-08-14T12:12:58.355Z"
   },
   {
    "duration": 78,
    "start_time": "2022-08-14T12:12:58.670Z"
   },
   {
    "duration": 3,
    "start_time": "2022-08-14T12:15:58.684Z"
   },
   {
    "duration": 125,
    "start_time": "2022-08-14T12:15:59.148Z"
   },
   {
    "duration": 4,
    "start_time": "2022-08-14T12:16:17.085Z"
   },
   {
    "duration": 101,
    "start_time": "2022-08-14T12:16:18.501Z"
   },
   {
    "duration": 3,
    "start_time": "2022-08-14T12:17:22.604Z"
   },
   {
    "duration": 187,
    "start_time": "2022-08-14T12:17:23.114Z"
   },
   {
    "duration": 3,
    "start_time": "2022-08-14T12:17:37.429Z"
   },
   {
    "duration": 89,
    "start_time": "2022-08-14T12:17:38.108Z"
   },
   {
    "duration": 3,
    "start_time": "2022-08-14T12:21:34.053Z"
   },
   {
    "duration": 90,
    "start_time": "2022-08-14T12:21:34.615Z"
   },
   {
    "duration": 3,
    "start_time": "2022-08-14T12:23:19.350Z"
   },
   {
    "duration": 278,
    "start_time": "2022-08-14T12:23:19.925Z"
   },
   {
    "duration": 2,
    "start_time": "2022-08-14T12:23:30.908Z"
   },
   {
    "duration": 85,
    "start_time": "2022-08-14T12:23:31.430Z"
   },
   {
    "duration": 4,
    "start_time": "2022-08-14T12:24:08.158Z"
   },
   {
    "duration": 80,
    "start_time": "2022-08-14T12:24:08.608Z"
   },
   {
    "duration": 3,
    "start_time": "2022-08-14T12:24:52.782Z"
   },
   {
    "duration": 153,
    "start_time": "2022-08-14T12:24:53.284Z"
   },
   {
    "duration": 3,
    "start_time": "2022-08-14T12:25:15.493Z"
   },
   {
    "duration": 105,
    "start_time": "2022-08-14T12:25:16.023Z"
   },
   {
    "duration": 3,
    "start_time": "2022-08-14T12:31:43.644Z"
   },
   {
    "duration": 97,
    "start_time": "2022-08-14T12:31:45.641Z"
   },
   {
    "duration": 2,
    "start_time": "2022-08-14T12:38:07.221Z"
   },
   {
    "duration": 81,
    "start_time": "2022-08-14T12:38:07.868Z"
   },
   {
    "duration": 9000,
    "start_time": "2022-08-14T12:44:42.831Z"
   },
   {
    "duration": 3,
    "start_time": "2022-08-14T12:44:51.833Z"
   },
   {
    "duration": 414,
    "start_time": "2022-08-14T12:44:51.838Z"
   },
   {
    "duration": 3,
    "start_time": "2022-08-14T12:44:52.254Z"
   },
   {
    "duration": 120,
    "start_time": "2022-08-14T12:44:52.259Z"
   },
   {
    "duration": 4,
    "start_time": "2022-08-14T12:44:52.384Z"
   },
   {
    "duration": 92,
    "start_time": "2022-08-14T12:44:52.390Z"
   },
   {
    "duration": 4,
    "start_time": "2022-08-14T12:44:52.484Z"
   },
   {
    "duration": 111,
    "start_time": "2022-08-14T12:44:52.490Z"
   },
   {
    "duration": 2,
    "start_time": "2022-08-14T12:44:52.604Z"
   },
   {
    "duration": 108,
    "start_time": "2022-08-14T12:44:52.608Z"
   },
   {
    "duration": 2,
    "start_time": "2022-08-14T12:44:52.718Z"
   },
   {
    "duration": 96,
    "start_time": "2022-08-14T12:44:52.722Z"
   },
   {
    "duration": 2,
    "start_time": "2022-08-14T12:44:52.820Z"
   },
   {
    "duration": 101,
    "start_time": "2022-08-14T12:44:52.823Z"
   },
   {
    "duration": 2,
    "start_time": "2022-08-14T12:44:52.926Z"
   },
   {
    "duration": 118,
    "start_time": "2022-08-14T12:44:52.930Z"
   },
   {
    "duration": 2,
    "start_time": "2022-08-14T12:44:53.050Z"
   },
   {
    "duration": 144,
    "start_time": "2022-08-14T12:44:53.054Z"
   },
   {
    "duration": 2,
    "start_time": "2022-08-14T12:44:53.200Z"
   },
   {
    "duration": 104,
    "start_time": "2022-08-14T12:44:53.203Z"
   },
   {
    "duration": 3,
    "start_time": "2022-08-14T12:44:53.309Z"
   },
   {
    "duration": 114,
    "start_time": "2022-08-14T12:44:53.313Z"
   },
   {
    "duration": 2,
    "start_time": "2022-08-14T12:44:53.429Z"
   },
   {
    "duration": 119,
    "start_time": "2022-08-14T12:44:53.433Z"
   },
   {
    "duration": 7,
    "start_time": "2022-08-14T12:44:53.554Z"
   },
   {
    "duration": 137,
    "start_time": "2022-08-14T12:44:53.563Z"
   },
   {
    "duration": 7,
    "start_time": "2022-08-14T12:45:33.976Z"
   },
   {
    "duration": 108,
    "start_time": "2022-08-14T12:45:34.310Z"
   },
   {
    "duration": 2,
    "start_time": "2022-08-14T12:47:58.611Z"
   },
   {
    "duration": 87,
    "start_time": "2022-08-14T12:47:58.963Z"
   },
   {
    "duration": 3,
    "start_time": "2022-08-14T12:48:11.411Z"
   },
   {
    "duration": 6,
    "start_time": "2022-08-14T12:48:29.980Z"
   },
   {
    "duration": 91,
    "start_time": "2022-08-14T12:48:30.425Z"
   },
   {
    "duration": 2,
    "start_time": "2022-08-14T12:48:59.547Z"
   },
   {
    "duration": 90,
    "start_time": "2022-08-14T12:49:00.087Z"
   },
   {
    "duration": 3,
    "start_time": "2022-08-14T12:49:09.715Z"
   },
   {
    "duration": 12873,
    "start_time": "2022-08-14T13:31:43.765Z"
   },
   {
    "duration": 3,
    "start_time": "2022-08-14T13:31:56.641Z"
   },
   {
    "duration": 84,
    "start_time": "2022-08-14T13:31:56.646Z"
   },
   {
    "duration": 3,
    "start_time": "2022-08-14T13:31:56.732Z"
   },
   {
    "duration": 14,
    "start_time": "2022-08-14T13:31:56.737Z"
   },
   {
    "duration": 3,
    "start_time": "2022-08-14T13:31:56.753Z"
   },
   {
    "duration": 36,
    "start_time": "2022-08-14T13:31:56.759Z"
   },
   {
    "duration": 4,
    "start_time": "2022-08-14T13:31:56.797Z"
   },
   {
    "duration": 19,
    "start_time": "2022-08-14T13:31:56.802Z"
   },
   {
    "duration": 3,
    "start_time": "2022-08-14T13:31:56.823Z"
   },
   {
    "duration": 15,
    "start_time": "2022-08-14T13:31:56.827Z"
   },
   {
    "duration": 2,
    "start_time": "2022-08-14T13:31:56.844Z"
   },
   {
    "duration": 15,
    "start_time": "2022-08-14T13:31:56.848Z"
   },
   {
    "duration": 2,
    "start_time": "2022-08-14T13:31:56.866Z"
   },
   {
    "duration": 13,
    "start_time": "2022-08-14T13:31:56.870Z"
   },
   {
    "duration": 3,
    "start_time": "2022-08-14T13:31:56.884Z"
   },
   {
    "duration": 24,
    "start_time": "2022-08-14T13:31:56.889Z"
   },
   {
    "duration": 3,
    "start_time": "2022-08-14T13:31:56.916Z"
   },
   {
    "duration": 20,
    "start_time": "2022-08-14T13:31:56.921Z"
   },
   {
    "duration": 4,
    "start_time": "2022-08-14T13:31:56.942Z"
   },
   {
    "duration": 36,
    "start_time": "2022-08-14T13:31:56.948Z"
   },
   {
    "duration": 3,
    "start_time": "2022-08-14T13:31:56.986Z"
   },
   {
    "duration": 18,
    "start_time": "2022-08-14T13:31:56.990Z"
   },
   {
    "duration": 3,
    "start_time": "2022-08-14T13:31:57.010Z"
   },
   {
    "duration": 18,
    "start_time": "2022-08-14T13:31:57.014Z"
   },
   {
    "duration": 2,
    "start_time": "2022-08-14T13:31:57.034Z"
   },
   {
    "duration": 19,
    "start_time": "2022-08-14T13:31:57.038Z"
   },
   {
    "duration": 3,
    "start_time": "2022-08-14T13:32:37.409Z"
   },
   {
    "duration": 24,
    "start_time": "2022-08-14T13:32:39.342Z"
   },
   {
    "duration": 4,
    "start_time": "2022-08-14T13:32:43.564Z"
   },
   {
    "duration": 3,
    "start_time": "2022-08-14T13:33:01.433Z"
   },
   {
    "duration": 1058,
    "start_time": "2022-08-14T13:33:02.768Z"
   },
   {
    "duration": 2,
    "start_time": "2022-08-14T13:33:06.945Z"
   },
   {
    "duration": 15,
    "start_time": "2022-08-14T13:33:08.505Z"
   }
  ],
  "kernelspec": {
   "display_name": "Python 3 (ipykernel)",
   "language": "python",
   "name": "python3"
  },
  "language_info": {
   "codemirror_mode": {
    "name": "ipython",
    "version": 3
   },
   "file_extension": ".py",
   "mimetype": "text/x-python",
   "name": "python",
   "nbconvert_exporter": "python",
   "pygments_lexer": "ipython3",
   "version": "3.9.12"
  },
  "toc": {
   "base_numbering": 1,
   "nav_menu": {},
   "number_sections": false,
   "sideBar": true,
   "skip_h1_title": false,
   "title_cell": "Table of Contents",
   "title_sidebar": "Contents",
   "toc_cell": false,
   "toc_position": {},
   "toc_section_display": true,
   "toc_window_display": true
  }
 },
 "nbformat": 4,
 "nbformat_minor": 2
}
